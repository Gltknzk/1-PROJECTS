{
  "nbformat": 4,
  "nbformat_minor": 0,
  "metadata": {
    "interpreter": {
      "hash": "e4e90950cb561445fc7289d5187c528b28750a487d008a70b474c773afaf79b7"
    },
    "kernelspec": {
      "display_name": "Python 3",
      "language": "python",
      "name": "python3"
    },
    "language_info": {
      "codemirror_mode": {
        "name": "ipython",
        "version": 3
      },
      "file_extension": ".py",
      "mimetype": "text/x-python",
      "name": "python",
      "nbconvert_exporter": "python",
      "pygments_lexer": "ipython3",
      "version": "3.8.11"
    },
    "colab": {
      "name": "Copy of military_power_ass27.5.ipynb",
      "provenance": [],
      "collapsed_sections": [
        "8WuFtB6i8AKP",
        "RjfzLF0P8AKP"
      ],
      "include_colab_link": true
    }
  },
  "cells": [
    {
      "cell_type": "markdown",
      "metadata": {
        "id": "view-in-github",
        "colab_type": "text"
      },
      "source": [
        "<a href=\"https://colab.research.google.com/github/Gltknzk/1-PROJECTS/blob/main/Copy_of_military_power_ass27_5.ipynb\" target=\"_parent\"><img src=\"https://colab.research.google.com/assets/colab-badge.svg\" alt=\"Open In Colab\"/></a>"
      ]
    },
    {
      "cell_type": "markdown",
      "metadata": {
        "id": "0DxNKOyW8AKE"
      },
      "source": [
        "# Military Power Clustering Project\n",
        "-World military power\n",
        "Source : globalfirepower.com on 1st may 2020\n",
        "\n",
        "- https://data.world/vizzup/world-military-power/workspace/file?filename=World+military+power.xlsx\n"
      ]
    },
    {
      "cell_type": "markdown",
      "metadata": {
        "id": "pHcni9Yd8AKI"
      },
      "source": [
        "# Import Libraries"
      ]
    },
    {
      "cell_type": "code",
      "metadata": {
        "id": "t8CFBZr28AKJ"
      },
      "source": [
        "import pandas as pd\n",
        "import numpy as np\n",
        "import matplotlib.pyplot as plt\n",
        "import seaborn as sns\n",
        "from sklearn.preprocessing import StandardScaler\n",
        "plt.rcParams[\"figure.figsize\"] = (10,6)\n",
        "import warnings\n",
        "warnings.filterwarnings('ignore')\n",
        "#pd.set_option('display.max_rows', 500)"
      ],
      "execution_count": 13,
      "outputs": []
    },
    {
      "cell_type": "markdown",
      "metadata": {
        "id": "LnUyXAAC8AKJ"
      },
      "source": [
        "# Ingest Data  "
      ]
    },
    {
      "cell_type": "code",
      "metadata": {
        "id": "enCbGulB8AKK",
        "outputId": "afec84e6-446c-439d-8601-e26356927965",
        "colab": {
          "base_uri": "https://localhost:8080/",
          "height": 369
        }
      },
      "source": [
        "df=pd.read_excel(\"/content/World military power.xlsx\")\n",
        "df.head()"
      ],
      "execution_count": 14,
      "outputs": [
        {
          "output_type": "execute_result",
          "data": {
            "text/plain": [
              "  Military Strength  Military Strength Power Index Aircraft Strength  \\\n",
              "0       Afghanistan                         1.3444       Afghanistan   \n",
              "1           Albania                         2.3137           Albania   \n",
              "2           Algeria                         0.4659           Algeria   \n",
              "3            Angola                         0.8379            Angola   \n",
              "4         Argentina                         0.6521         Argentina   \n",
              "\n",
              "   Aircraft Strength value Fighter/Interceptor Strength  \\\n",
              "0                      260                  Afghanistan   \n",
              "1                       19                      Albania   \n",
              "2                      551                      Algeria   \n",
              "3                      295                       Angola   \n",
              "4                      227                    Argentina   \n",
              "\n",
              "   Fighter/Interceptor Strength value Attack Aircraft Strength  \\\n",
              "0                                   0              Afghanistan   \n",
              "1                                   0                  Albania   \n",
              "2                                 103                  Algeria   \n",
              "3                                  72                   Angola   \n",
              "4                                  24                Argentina   \n",
              "\n",
              "   Attack Aircraft Strength value Transport Aircraft Fleet Strength  \\\n",
              "0                              25                       Afghanistan   \n",
              "1                               0                           Albania   \n",
              "2                              22                           Algeria   \n",
              "3                              18                            Angola   \n",
              "4                               7                         Argentina   \n",
              "\n",
              "   Transport Aircraft Fleet Strength value  ... Total Population  \\\n",
              "0                                       30  ...      Afghanistan   \n",
              "1                                        0  ...          Albania   \n",
              "2                                       59  ...          Algeria   \n",
              "3                                       30  ...           Angola   \n",
              "4                                        9  ...        Argentina   \n",
              "\n",
              "   Total Population value Total Square Land Area  \\\n",
              "0             3,49,40,837            Afghanistan   \n",
              "1               30,57,220                Albania   \n",
              "2             4,16,57,488                Algeria   \n",
              "3             3,03,55,880                 Angola   \n",
              "4             4,46,94,198              Argentina   \n",
              "\n",
              "   Total Square Land Area value Total Coastline Coverage  \\\n",
              "0                      6,52,230              Afghanistan   \n",
              "1                         28748                  Albania   \n",
              "2                     23,81,741                  Algeria   \n",
              "3                     12,46,700                   Angola   \n",
              "4                     27,80,400                Argentina   \n",
              "\n",
              "   Total Coastline Coverage value Total Waterway Coverage  \\\n",
              "0                               0             Afghanistan   \n",
              "1                             362                 Albania   \n",
              "2                             998                 Algeria   \n",
              "3                            1600                  Angola   \n",
              "4                            4989               Argentina   \n",
              "\n",
              "   Total Waterway Coverage value Total Border Coverage  \\\n",
              "0                           1200           Afghanistan   \n",
              "1                             41               Albania   \n",
              "2                              0               Algeria   \n",
              "3                           1300                Angola   \n",
              "4                          11000             Argentina   \n",
              "\n",
              "   Total Border Coverage value  \n",
              "0                       5987.0  \n",
              "1                        691.0  \n",
              "2                       6734.0  \n",
              "3                       5369.0  \n",
              "4                      11968.0  \n",
              "\n",
              "[5 rows x 60 columns]"
            ],
            "text/html": [
              "\n",
              "  <div id=\"df-f398de11-0c2f-4ef3-bccd-fa9c19611877\">\n",
              "    <div class=\"colab-df-container\">\n",
              "      <div>\n",
              "<style scoped>\n",
              "    .dataframe tbody tr th:only-of-type {\n",
              "        vertical-align: middle;\n",
              "    }\n",
              "\n",
              "    .dataframe tbody tr th {\n",
              "        vertical-align: top;\n",
              "    }\n",
              "\n",
              "    .dataframe thead th {\n",
              "        text-align: right;\n",
              "    }\n",
              "</style>\n",
              "<table border=\"1\" class=\"dataframe\">\n",
              "  <thead>\n",
              "    <tr style=\"text-align: right;\">\n",
              "      <th></th>\n",
              "      <th>Military Strength</th>\n",
              "      <th>Military Strength Power Index</th>\n",
              "      <th>Aircraft Strength</th>\n",
              "      <th>Aircraft Strength value</th>\n",
              "      <th>Fighter/Interceptor Strength</th>\n",
              "      <th>Fighter/Interceptor Strength value</th>\n",
              "      <th>Attack Aircraft Strength</th>\n",
              "      <th>Attack Aircraft Strength value</th>\n",
              "      <th>Transport Aircraft Fleet Strength</th>\n",
              "      <th>Transport Aircraft Fleet Strength value</th>\n",
              "      <th>...</th>\n",
              "      <th>Total Population</th>\n",
              "      <th>Total Population value</th>\n",
              "      <th>Total Square Land Area</th>\n",
              "      <th>Total Square Land Area value</th>\n",
              "      <th>Total Coastline Coverage</th>\n",
              "      <th>Total Coastline Coverage value</th>\n",
              "      <th>Total Waterway Coverage</th>\n",
              "      <th>Total Waterway Coverage value</th>\n",
              "      <th>Total Border Coverage</th>\n",
              "      <th>Total Border Coverage value</th>\n",
              "    </tr>\n",
              "  </thead>\n",
              "  <tbody>\n",
              "    <tr>\n",
              "      <th>0</th>\n",
              "      <td>Afghanistan</td>\n",
              "      <td>1.3444</td>\n",
              "      <td>Afghanistan</td>\n",
              "      <td>260</td>\n",
              "      <td>Afghanistan</td>\n",
              "      <td>0</td>\n",
              "      <td>Afghanistan</td>\n",
              "      <td>25</td>\n",
              "      <td>Afghanistan</td>\n",
              "      <td>30</td>\n",
              "      <td>...</td>\n",
              "      <td>Afghanistan</td>\n",
              "      <td>3,49,40,837</td>\n",
              "      <td>Afghanistan</td>\n",
              "      <td>6,52,230</td>\n",
              "      <td>Afghanistan</td>\n",
              "      <td>0</td>\n",
              "      <td>Afghanistan</td>\n",
              "      <td>1200</td>\n",
              "      <td>Afghanistan</td>\n",
              "      <td>5987.0</td>\n",
              "    </tr>\n",
              "    <tr>\n",
              "      <th>1</th>\n",
              "      <td>Albania</td>\n",
              "      <td>2.3137</td>\n",
              "      <td>Albania</td>\n",
              "      <td>19</td>\n",
              "      <td>Albania</td>\n",
              "      <td>0</td>\n",
              "      <td>Albania</td>\n",
              "      <td>0</td>\n",
              "      <td>Albania</td>\n",
              "      <td>0</td>\n",
              "      <td>...</td>\n",
              "      <td>Albania</td>\n",
              "      <td>30,57,220</td>\n",
              "      <td>Albania</td>\n",
              "      <td>28748</td>\n",
              "      <td>Albania</td>\n",
              "      <td>362</td>\n",
              "      <td>Albania</td>\n",
              "      <td>41</td>\n",
              "      <td>Albania</td>\n",
              "      <td>691.0</td>\n",
              "    </tr>\n",
              "    <tr>\n",
              "      <th>2</th>\n",
              "      <td>Algeria</td>\n",
              "      <td>0.4659</td>\n",
              "      <td>Algeria</td>\n",
              "      <td>551</td>\n",
              "      <td>Algeria</td>\n",
              "      <td>103</td>\n",
              "      <td>Algeria</td>\n",
              "      <td>22</td>\n",
              "      <td>Algeria</td>\n",
              "      <td>59</td>\n",
              "      <td>...</td>\n",
              "      <td>Algeria</td>\n",
              "      <td>4,16,57,488</td>\n",
              "      <td>Algeria</td>\n",
              "      <td>23,81,741</td>\n",
              "      <td>Algeria</td>\n",
              "      <td>998</td>\n",
              "      <td>Algeria</td>\n",
              "      <td>0</td>\n",
              "      <td>Algeria</td>\n",
              "      <td>6734.0</td>\n",
              "    </tr>\n",
              "    <tr>\n",
              "      <th>3</th>\n",
              "      <td>Angola</td>\n",
              "      <td>0.8379</td>\n",
              "      <td>Angola</td>\n",
              "      <td>295</td>\n",
              "      <td>Angola</td>\n",
              "      <td>72</td>\n",
              "      <td>Angola</td>\n",
              "      <td>18</td>\n",
              "      <td>Angola</td>\n",
              "      <td>30</td>\n",
              "      <td>...</td>\n",
              "      <td>Angola</td>\n",
              "      <td>3,03,55,880</td>\n",
              "      <td>Angola</td>\n",
              "      <td>12,46,700</td>\n",
              "      <td>Angola</td>\n",
              "      <td>1600</td>\n",
              "      <td>Angola</td>\n",
              "      <td>1300</td>\n",
              "      <td>Angola</td>\n",
              "      <td>5369.0</td>\n",
              "    </tr>\n",
              "    <tr>\n",
              "      <th>4</th>\n",
              "      <td>Argentina</td>\n",
              "      <td>0.6521</td>\n",
              "      <td>Argentina</td>\n",
              "      <td>227</td>\n",
              "      <td>Argentina</td>\n",
              "      <td>24</td>\n",
              "      <td>Argentina</td>\n",
              "      <td>7</td>\n",
              "      <td>Argentina</td>\n",
              "      <td>9</td>\n",
              "      <td>...</td>\n",
              "      <td>Argentina</td>\n",
              "      <td>4,46,94,198</td>\n",
              "      <td>Argentina</td>\n",
              "      <td>27,80,400</td>\n",
              "      <td>Argentina</td>\n",
              "      <td>4989</td>\n",
              "      <td>Argentina</td>\n",
              "      <td>11000</td>\n",
              "      <td>Argentina</td>\n",
              "      <td>11968.0</td>\n",
              "    </tr>\n",
              "  </tbody>\n",
              "</table>\n",
              "<p>5 rows × 60 columns</p>\n",
              "</div>\n",
              "      <button class=\"colab-df-convert\" onclick=\"convertToInteractive('df-f398de11-0c2f-4ef3-bccd-fa9c19611877')\"\n",
              "              title=\"Convert this dataframe to an interactive table.\"\n",
              "              style=\"display:none;\">\n",
              "        \n",
              "  <svg xmlns=\"http://www.w3.org/2000/svg\" height=\"24px\"viewBox=\"0 0 24 24\"\n",
              "       width=\"24px\">\n",
              "    <path d=\"M0 0h24v24H0V0z\" fill=\"none\"/>\n",
              "    <path d=\"M18.56 5.44l.94 2.06.94-2.06 2.06-.94-2.06-.94-.94-2.06-.94 2.06-2.06.94zm-11 1L8.5 8.5l.94-2.06 2.06-.94-2.06-.94L8.5 2.5l-.94 2.06-2.06.94zm10 10l.94 2.06.94-2.06 2.06-.94-2.06-.94-.94-2.06-.94 2.06-2.06.94z\"/><path d=\"M17.41 7.96l-1.37-1.37c-.4-.4-.92-.59-1.43-.59-.52 0-1.04.2-1.43.59L10.3 9.45l-7.72 7.72c-.78.78-.78 2.05 0 2.83L4 21.41c.39.39.9.59 1.41.59.51 0 1.02-.2 1.41-.59l7.78-7.78 2.81-2.81c.8-.78.8-2.07 0-2.86zM5.41 20L4 18.59l7.72-7.72 1.47 1.35L5.41 20z\"/>\n",
              "  </svg>\n",
              "      </button>\n",
              "      \n",
              "  <style>\n",
              "    .colab-df-container {\n",
              "      display:flex;\n",
              "      flex-wrap:wrap;\n",
              "      gap: 12px;\n",
              "    }\n",
              "\n",
              "    .colab-df-convert {\n",
              "      background-color: #E8F0FE;\n",
              "      border: none;\n",
              "      border-radius: 50%;\n",
              "      cursor: pointer;\n",
              "      display: none;\n",
              "      fill: #1967D2;\n",
              "      height: 32px;\n",
              "      padding: 0 0 0 0;\n",
              "      width: 32px;\n",
              "    }\n",
              "\n",
              "    .colab-df-convert:hover {\n",
              "      background-color: #E2EBFA;\n",
              "      box-shadow: 0px 1px 2px rgba(60, 64, 67, 0.3), 0px 1px 3px 1px rgba(60, 64, 67, 0.15);\n",
              "      fill: #174EA6;\n",
              "    }\n",
              "\n",
              "    [theme=dark] .colab-df-convert {\n",
              "      background-color: #3B4455;\n",
              "      fill: #D2E3FC;\n",
              "    }\n",
              "\n",
              "    [theme=dark] .colab-df-convert:hover {\n",
              "      background-color: #434B5C;\n",
              "      box-shadow: 0px 1px 3px 1px rgba(0, 0, 0, 0.15);\n",
              "      filter: drop-shadow(0px 1px 2px rgba(0, 0, 0, 0.3));\n",
              "      fill: #FFFFFF;\n",
              "    }\n",
              "  </style>\n",
              "\n",
              "      <script>\n",
              "        const buttonEl =\n",
              "          document.querySelector('#df-f398de11-0c2f-4ef3-bccd-fa9c19611877 button.colab-df-convert');\n",
              "        buttonEl.style.display =\n",
              "          google.colab.kernel.accessAllowed ? 'block' : 'none';\n",
              "\n",
              "        async function convertToInteractive(key) {\n",
              "          const element = document.querySelector('#df-f398de11-0c2f-4ef3-bccd-fa9c19611877');\n",
              "          const dataTable =\n",
              "            await google.colab.kernel.invokeFunction('convertToInteractive',\n",
              "                                                     [key], {});\n",
              "          if (!dataTable) return;\n",
              "\n",
              "          const docLinkHtml = 'Like what you see? Visit the ' +\n",
              "            '<a target=\"_blank\" href=https://colab.research.google.com/notebooks/data_table.ipynb>data table notebook</a>'\n",
              "            + ' to learn more about interactive tables.';\n",
              "          element.innerHTML = '';\n",
              "          dataTable['output_type'] = 'display_data';\n",
              "          await google.colab.output.renderOutput(dataTable, element);\n",
              "          const docLink = document.createElement('div');\n",
              "          docLink.innerHTML = docLinkHtml;\n",
              "          element.appendChild(docLink);\n",
              "        }\n",
              "      </script>\n",
              "    </div>\n",
              "  </div>\n",
              "  "
            ]
          },
          "metadata": {},
          "execution_count": 14
        }
      ]
    },
    {
      "cell_type": "markdown",
      "metadata": {
        "id": "v7Eqi2K28AKK"
      },
      "source": [
        "# EDA"
      ]
    },
    {
      "cell_type": "code",
      "metadata": {
        "id": "QxAbx-Y98AKK",
        "outputId": "73f91692-ba75-4be3-8caf-d88996f1d5fe",
        "colab": {
          "base_uri": "https://localhost:8080/"
        }
      },
      "source": [
        "df.info()"
      ],
      "execution_count": 15,
      "outputs": [
        {
          "output_type": "stream",
          "name": "stdout",
          "text": [
            "<class 'pandas.core.frame.DataFrame'>\n",
            "RangeIndex: 138 entries, 0 to 137\n",
            "Data columns (total 60 columns):\n",
            " #   Column                                   Non-Null Count  Dtype  \n",
            "---  ------                                   --------------  -----  \n",
            " 0   Military Strength                        138 non-null    object \n",
            " 1   Military Strength Power Index            138 non-null    float64\n",
            " 2   Aircraft Strength                        138 non-null    object \n",
            " 3   Aircraft Strength value                  138 non-null    int64  \n",
            " 4   Fighter/Interceptor Strength             138 non-null    object \n",
            " 5   Fighter/Interceptor Strength value       138 non-null    int64  \n",
            " 6   Attack Aircraft Strength                 138 non-null    object \n",
            " 7   Attack Aircraft Strength value           138 non-null    int64  \n",
            " 8   Transport Aircraft Fleet Strength        138 non-null    object \n",
            " 9   Transport Aircraft Fleet Strength value  138 non-null    int64  \n",
            " 10  Trainer Aircraft Fleet                   138 non-null    object \n",
            " 11  Trainer Aircraft Fleet value             138 non-null    int64  \n",
            " 12  Helicopter Fleet Strength                138 non-null    object \n",
            " 13  Helicopter Fleet Strength value          138 non-null    int64  \n",
            " 14  Attack Helicopter Fleet Strength         138 non-null    object \n",
            " 15  Attack Helicopter Fleet Strength value   138 non-null    int64  \n",
            " 16  Tank Strength                            138 non-null    object \n",
            " 17  Tank Strength value                      138 non-null    int64  \n",
            " 18  AFV/APC Strength                         138 non-null    object \n",
            " 19  AFV/APC Strength value                   138 non-null    int64  \n",
            " 20  Self-Propelled Artillery Strength        138 non-null    object \n",
            " 21  Self-Propelled Artillery Strength value  138 non-null    int64  \n",
            " 22  Towed Artillery Strength                 138 non-null    object \n",
            " 23  Towed Artillery Strength value           138 non-null    int64  \n",
            " 24  Rocket Projector Strength                138 non-null    object \n",
            " 25  Rocket Projector Strength value          138 non-null    int64  \n",
            " 26  Navy Fleet Strengths                     124 non-null    object \n",
            " 27  Navy Fleet Strengths value               124 non-null    float64\n",
            " 28  Aircraft Carrier Fleet Strength          115 non-null    object \n",
            " 29  Aircraft Carrier Fleet Strength value    115 non-null    float64\n",
            " 30  Submarine Fleet Strength                 115 non-null    object \n",
            " 31  Submarine Fleet Strength value           115 non-null    float64\n",
            " 32  Destroyer Fleet Strength                 115 non-null    object \n",
            " 33  Destroyer Fleet Strength value           115 non-null    float64\n",
            " 34  Frigate Fleet Strength                   115 non-null    object \n",
            " 35  Frigate Fleet Strength value             115 non-null    float64\n",
            " 36  defense spending budget                  138 non-null    object \n",
            " 37  defense spending budget value            138 non-null    object \n",
            " 38  External Debt                            138 non-null    object \n",
            " 39  External Debt value                      138 non-null    object \n",
            " 40  Airport Totals                           138 non-null    object \n",
            " 41  Airport Totals value                     138 non-null    int64  \n",
            " 42  Oil Production                           138 non-null    object \n",
            " 43  Oil Production value                     138 non-null    object \n",
            " 44  Oil Consumption                          138 non-null    object \n",
            " 45  Oil Consumption value                    138 non-null    object \n",
            " 46  Proven Oil Reserves                      138 non-null    object \n",
            " 47  Proven Oil Reserves value                138 non-null    object \n",
            " 48  Available Manpower                       138 non-null    object \n",
            " 49  Available Manpower value                 138 non-null    object \n",
            " 50  Total Population                         138 non-null    object \n",
            " 51  Total Population value                   138 non-null    object \n",
            " 52  Total Square Land Area                   138 non-null    object \n",
            " 53  Total Square Land Area value             138 non-null    object \n",
            " 54  Total Coastline Coverage                 109 non-null    object \n",
            " 55  Total Coastline Coverage value           109 non-null    object \n",
            " 56  Total Waterway Coverage                  138 non-null    object \n",
            " 57  Total Waterway Coverage value            138 non-null    object \n",
            " 58  Total Border Coverage                    129 non-null    object \n",
            " 59  Total Border Coverage value              129 non-null    float64\n",
            "dtypes: float64(7), int64(13), object(40)\n",
            "memory usage: 64.8+ KB\n"
          ]
        }
      ]
    },
    {
      "cell_type": "markdown",
      "metadata": {
        "id": "EoAk59FU8AKL"
      },
      "source": [
        "## Implement basic steps to see how is your data looks like"
      ]
    },
    {
      "cell_type": "code",
      "metadata": {
        "id": "PU3d2cKt8AKL",
        "outputId": "5d0540fd-e2d5-4258-96d0-65490aece756",
        "colab": {
          "base_uri": "https://localhost:8080/"
        }
      },
      "source": [
        "df.columns"
      ],
      "execution_count": 16,
      "outputs": [
        {
          "output_type": "execute_result",
          "data": {
            "text/plain": [
              "Index(['Military Strength', 'Military Strength Power Index',\n",
              "       'Aircraft Strength', 'Aircraft Strength value',\n",
              "       'Fighter/Interceptor Strength', 'Fighter/Interceptor Strength value',\n",
              "       'Attack Aircraft Strength', 'Attack Aircraft Strength value',\n",
              "       'Transport Aircraft Fleet Strength',\n",
              "       'Transport Aircraft Fleet Strength value', 'Trainer Aircraft Fleet',\n",
              "       'Trainer Aircraft Fleet value', 'Helicopter Fleet Strength',\n",
              "       'Helicopter Fleet Strength value', 'Attack Helicopter Fleet Strength',\n",
              "       'Attack Helicopter Fleet Strength value', 'Tank Strength',\n",
              "       'Tank Strength value', 'AFV/APC Strength', 'AFV/APC Strength value',\n",
              "       'Self-Propelled Artillery Strength',\n",
              "       'Self-Propelled Artillery Strength value', 'Towed Artillery Strength',\n",
              "       'Towed Artillery Strength value', 'Rocket Projector Strength',\n",
              "       'Rocket Projector Strength value', 'Navy Fleet Strengths',\n",
              "       'Navy Fleet Strengths value', 'Aircraft Carrier Fleet Strength',\n",
              "       'Aircraft Carrier Fleet Strength value', 'Submarine Fleet Strength',\n",
              "       'Submarine Fleet Strength value', 'Destroyer Fleet Strength',\n",
              "       'Destroyer Fleet Strength value', 'Frigate Fleet Strength',\n",
              "       'Frigate Fleet Strength value', 'defense spending budget',\n",
              "       'defense spending budget value', 'External Debt', 'External Debt value',\n",
              "       'Airport Totals', 'Airport Totals value', 'Oil Production',\n",
              "       'Oil Production value', 'Oil Consumption', 'Oil Consumption value',\n",
              "       'Proven Oil Reserves', 'Proven Oil Reserves value',\n",
              "       'Available Manpower', 'Available Manpower value', 'Total Population',\n",
              "       'Total Population value', 'Total Square Land Area',\n",
              "       'Total Square Land Area value', 'Total Coastline Coverage',\n",
              "       'Total Coastline Coverage value', 'Total Waterway Coverage',\n",
              "       'Total Waterway Coverage value', 'Total Border Coverage',\n",
              "       'Total Border Coverage value'],\n",
              "      dtype='object')"
            ]
          },
          "metadata": {},
          "execution_count": 16
        }
      ]
    },
    {
      "cell_type": "code",
      "source": [
        "df[df[\"Total Coastline Coverage value\"]=='2,02,080'][\"Total Coastline Coverage value\"].str.replace(\",\",\"\").astype(float)"
      ],
      "metadata": {
        "id": "wzzfwV4zaAYU",
        "colab": {
          "base_uri": "https://localhost:8080/"
        },
        "outputId": "4651d1b0-7f51-4b3b-fa4b-bff3b7efb682"
      },
      "execution_count": 17,
      "outputs": [
        {
          "output_type": "execute_result",
          "data": {
            "text/plain": [
              "22    202080.0\n",
              "Name: Total Coastline Coverage value, dtype: float64"
            ]
          },
          "metadata": {},
          "execution_count": 17
        }
      ]
    },
    {
      "cell_type": "code",
      "source": [
        "df[\"Total Coastline Coverage value\"].iloc[22]=202080"
      ],
      "metadata": {
        "id": "bfjZ3ExHp4ZS"
      },
      "execution_count": 18,
      "outputs": []
    },
    {
      "cell_type": "code",
      "source": [
        "df[\"Total Coastline Coverage value\"]=df[\"Total Coastline Coverage value\"].astype(float)"
      ],
      "metadata": {
        "id": "oBKbTbcpsQVc"
      },
      "execution_count": 19,
      "outputs": []
    },
    {
      "cell_type": "code",
      "source": [
        "df[\"Oil Production value\"]"
      ],
      "metadata": {
        "id": "uLhBNYxmspNE",
        "outputId": "ffb796e2-c8d2-47e9-b6e9-6ea4897d90d2",
        "colab": {
          "base_uri": "https://localhost:8080/"
        }
      },
      "execution_count": 20,
      "outputs": [
        {
          "output_type": "execute_result",
          "data": {
            "text/plain": [
              "0              0\n",
              "1          16000\n",
              "2      13,06,000\n",
              "3      16,66,000\n",
              "4       4,79,400\n",
              "         ...    \n",
              "133    20,07,000\n",
              "134     2,71,400\n",
              "135        12260\n",
              "136            0\n",
              "137            0\n",
              "Name: Oil Production value, Length: 138, dtype: object"
            ]
          },
          "metadata": {},
          "execution_count": 20
        }
      ]
    },
    {
      "cell_type": "code",
      "source": [
        "df[\"Oil Production value\"]=df[\"Oil Production value\"].str.replace(\",\",\"\").astype(float)"
      ],
      "metadata": {
        "id": "WwFtw0dsscxX"
      },
      "execution_count": 21,
      "outputs": []
    },
    {
      "cell_type": "code",
      "source": [
        "df[\"Oil Production value\"]"
      ],
      "metadata": {
        "colab": {
          "base_uri": "https://localhost:8080/"
        },
        "id": "fo7IV5YZYNup",
        "outputId": "b85b9de7-84db-49a0-c09e-60f3fbc8fefe"
      },
      "execution_count": 22,
      "outputs": [
        {
          "output_type": "execute_result",
          "data": {
            "text/plain": [
              "0            NaN\n",
              "1            NaN\n",
              "2      1306000.0\n",
              "3      1666000.0\n",
              "4       479400.0\n",
              "         ...    \n",
              "133    2007000.0\n",
              "134     271400.0\n",
              "135          NaN\n",
              "136          NaN\n",
              "137          NaN\n",
              "Name: Oil Production value, Length: 138, dtype: float64"
            ]
          },
          "metadata": {},
          "execution_count": 22
        }
      ]
    },
    {
      "cell_type": "code",
      "source": [
        "df[\"defense spending budget value\"]=df[\"defense spending budget value\"].str.replace(\",\",\"\").astype(float)\n",
        "df[\"defense spending budget value\"]"
      ],
      "metadata": {
        "id": "soe_k9zCs7ly",
        "outputId": "a3bcb542-b320-4eca-c3e2-8487490635d6",
        "colab": {
          "base_uri": "https://localhost:8080/"
        }
      },
      "execution_count": 23,
      "outputs": [
        {
          "output_type": "execute_result",
          "data": {
            "text/plain": [
              "0      1.200000e+10\n",
              "1      2.500000e+08\n",
              "2      1.300000e+10\n",
              "3      7.000000e+09\n",
              "4      4.200000e+09\n",
              "           ...     \n",
              "133    7.450000e+08\n",
              "134    5.500000e+09\n",
              "135    1.400000e+09\n",
              "136    4.000000e+07\n",
              "137    1.000000e+08\n",
              "Name: defense spending budget value, Length: 138, dtype: float64"
            ]
          },
          "metadata": {},
          "execution_count": 23
        }
      ]
    },
    {
      "cell_type": "code",
      "source": [
        "df[\"External Debt value\"]=df[\"External Debt value\"].str.replace(\",\",\"\").astype(float)\n"
      ],
      "metadata": {
        "id": "9ayUrBPktOZ1"
      },
      "execution_count": 24,
      "outputs": []
    },
    {
      "cell_type": "code",
      "source": [
        "df[\"External Debt value\"]"
      ],
      "metadata": {
        "colab": {
          "base_uri": "https://localhost:8080/"
        },
        "id": "ZHL-djQJYXc_",
        "outputId": "781f1d12-d712-4d1d-8cc6-9460c1a6eea8"
      },
      "execution_count": 25,
      "outputs": [
        {
          "output_type": "execute_result",
          "data": {
            "text/plain": [
              "0      2.840000e+09\n",
              "1      9.505000e+09\n",
              "2      6.260000e+09\n",
              "3      4.208000e+10\n",
              "4      2.149000e+11\n",
              "           ...     \n",
              "133    1.003000e+11\n",
              "134    9.658000e+10\n",
              "135    7.068000e+09\n",
              "136    1.166000e+10\n",
              "137    9.357000e+09\n",
              "Name: External Debt value, Length: 138, dtype: float64"
            ]
          },
          "metadata": {},
          "execution_count": 25
        }
      ]
    },
    {
      "cell_type": "code",
      "source": [
        "df[\"External Debt value\"]"
      ],
      "metadata": {
        "id": "LbylMR5LuCta",
        "outputId": "35ade95a-8dbe-4035-fa43-db5d48cac31c",
        "colab": {
          "base_uri": "https://localhost:8080/"
        }
      },
      "execution_count": 26,
      "outputs": [
        {
          "output_type": "execute_result",
          "data": {
            "text/plain": [
              "0      2.840000e+09\n",
              "1      9.505000e+09\n",
              "2      6.260000e+09\n",
              "3      4.208000e+10\n",
              "4      2.149000e+11\n",
              "           ...     \n",
              "133    1.003000e+11\n",
              "134    9.658000e+10\n",
              "135    7.068000e+09\n",
              "136    1.166000e+10\n",
              "137    9.357000e+09\n",
              "Name: External Debt value, Length: 138, dtype: float64"
            ]
          },
          "metadata": {},
          "execution_count": 26
        }
      ]
    },
    {
      "cell_type": "code",
      "source": [
        "df[\"Oil Consumption value\"]=df[\"Oil Consumption value\"].str.replace(\",\",\"\").astype(float)"
      ],
      "metadata": {
        "id": "SA_Co1RiuGK8"
      },
      "execution_count": 27,
      "outputs": []
    },
    {
      "cell_type": "code",
      "source": [
        ""
      ],
      "metadata": {
        "id": "2jCoebJNugCo"
      },
      "execution_count": 27,
      "outputs": []
    },
    {
      "cell_type": "code",
      "source": [
        "df[\"Oil Consumption value\"]"
      ],
      "metadata": {
        "id": "6jz2DvGeuccI",
        "outputId": "fd9b354a-8962-4347-bd95-e840dd639959",
        "colab": {
          "base_uri": "https://localhost:8080/"
        }
      },
      "execution_count": 28,
      "outputs": [
        {
          "output_type": "execute_result",
          "data": {
            "text/plain": [
              "0           NaN\n",
              "1           NaN\n",
              "2      325000.0\n",
              "3           NaN\n",
              "4      685000.0\n",
              "         ...   \n",
              "133    575000.0\n",
              "134    525000.0\n",
              "135    145000.0\n",
              "136         NaN\n",
              "137         NaN\n",
              "Name: Oil Consumption value, Length: 138, dtype: float64"
            ]
          },
          "metadata": {},
          "execution_count": 28
        }
      ]
    },
    {
      "cell_type": "code",
      "source": [
        "df[\"Proven Oil Reserves value\"]=df[\"Proven Oil Reserves value\"].str.replace(\",\",\"\").astype(float)"
      ],
      "metadata": {
        "id": "UQtHQqjrugxi"
      },
      "execution_count": 29,
      "outputs": []
    },
    {
      "cell_type": "code",
      "source": [
        "df[\"Proven Oil Reserves value\"]"
      ],
      "metadata": {
        "id": "10MwtGZduh3-",
        "outputId": "68664b2c-7d97-477e-c44c-4e50cea9eb35",
        "colab": {
          "base_uri": "https://localhost:8080/"
        }
      },
      "execution_count": 30,
      "outputs": [
        {
          "output_type": "execute_result",
          "data": {
            "text/plain": [
              "0               NaN\n",
              "1      1.683000e+08\n",
              "2      1.220000e+10\n",
              "3      8.273000e+09\n",
              "4      2.185000e+09\n",
              "           ...     \n",
              "133    3.009000e+11\n",
              "134    4.400000e+09\n",
              "135    3.000000e+09\n",
              "136             NaN\n",
              "137             NaN\n",
              "Name: Proven Oil Reserves value, Length: 138, dtype: float64"
            ]
          },
          "metadata": {},
          "execution_count": 30
        }
      ]
    },
    {
      "cell_type": "code",
      "source": [
        "df[\"Available Manpower value\"]=df[\"Available Manpower value\"].str.replace(\",\",\"\").astype(float)"
      ],
      "metadata": {
        "id": "vtfUMU-LvHNw"
      },
      "execution_count": 31,
      "outputs": []
    },
    {
      "cell_type": "code",
      "source": [
        "df[\"Available Manpower value\"]"
      ],
      "metadata": {
        "id": "XieZx35avPRh",
        "outputId": "a5f520d2-a0ba-43b8-a002-40ee8abbd915",
        "colab": {
          "base_uri": "https://localhost:8080/"
        }
      },
      "execution_count": 32,
      "outputs": [
        {
          "output_type": "execute_result",
          "data": {
            "text/plain": [
              "0      14325743.0\n",
              "1       1519438.0\n",
              "2      20741263.0\n",
              "3       6244205.0\n",
              "4      20179430.0\n",
              "          ...    \n",
              "133    14260129.0\n",
              "134    51043216.0\n",
              "135    11266221.0\n",
              "136     6166905.0\n",
              "137     5584086.0\n",
              "Name: Available Manpower value, Length: 138, dtype: float64"
            ]
          },
          "metadata": {},
          "execution_count": 32
        }
      ]
    },
    {
      "cell_type": "code",
      "source": [
        "df[\"Total Population value\"]=df[\"Total Population value\"].str.replace(\",\",\"\").astype(float)"
      ],
      "metadata": {
        "id": "nf4xJffgv6sE"
      },
      "execution_count": 33,
      "outputs": []
    },
    {
      "cell_type": "code",
      "source": [
        "df[\"Total Population value\"]"
      ],
      "metadata": {
        "colab": {
          "base_uri": "https://localhost:8080/"
        },
        "id": "dgy3JJWeYm3W",
        "outputId": "1cd65aff-5103-43dc-e960-e16f0f82b158"
      },
      "execution_count": 34,
      "outputs": [
        {
          "output_type": "execute_result",
          "data": {
            "text/plain": [
              "0      34940837.0\n",
              "1       3057220.0\n",
              "2      41657488.0\n",
              "3      30355880.0\n",
              "4      44694198.0\n",
              "          ...    \n",
              "133    31689176.0\n",
              "134    97040334.0\n",
              "135    28667230.0\n",
              "136    16445079.0\n",
              "137    14030368.0\n",
              "Name: Total Population value, Length: 138, dtype: float64"
            ]
          },
          "metadata": {},
          "execution_count": 34
        }
      ]
    },
    {
      "cell_type": "code",
      "source": [
        "df[\"Total Square Land Area value\"]=df[\"Total Square Land Area value\"].str.replace(\",\",\"\").astype(float)"
      ],
      "metadata": {
        "id": "7WqI6R69wD9m"
      },
      "execution_count": 35,
      "outputs": []
    },
    {
      "cell_type": "code",
      "source": [
        "df[\"Total Square Land Area value\"]"
      ],
      "metadata": {
        "colab": {
          "base_uri": "https://localhost:8080/"
        },
        "id": "NAJ9wQaFYrxm",
        "outputId": "79d96dd2-574b-4094-c60c-08733c5e00da"
      },
      "execution_count": 36,
      "outputs": [
        {
          "output_type": "execute_result",
          "data": {
            "text/plain": [
              "0       652230.0\n",
              "1            NaN\n",
              "2      2381741.0\n",
              "3      1246700.0\n",
              "4      2780400.0\n",
              "         ...    \n",
              "133     912050.0\n",
              "134     331210.0\n",
              "135     527968.0\n",
              "136     752618.0\n",
              "137     390757.0\n",
              "Name: Total Square Land Area value, Length: 138, dtype: float64"
            ]
          },
          "metadata": {},
          "execution_count": 36
        }
      ]
    },
    {
      "cell_type": "code",
      "source": [
        "#df[\"Total Waterway Coverage value\"]=\n",
        "df[\"Total Waterway Coverage value\"].astype(float)"
      ],
      "metadata": {
        "id": "tiTIaJPFwQEf",
        "colab": {
          "base_uri": "https://localhost:8080/",
          "height": 328
        },
        "outputId": "615f2e65-396c-42e0-f90e-a6b4ef573f34"
      },
      "execution_count": 37,
      "outputs": [
        {
          "output_type": "error",
          "ename": "ValueError",
          "evalue": "ignored",
          "traceback": [
            "\u001b[0;31m---------------------------------------------------------------------------\u001b[0m",
            "\u001b[0;31mValueError\u001b[0m                                Traceback (most recent call last)",
            "\u001b[0;32m<ipython-input-37-deda8a0da9b5>\u001b[0m in \u001b[0;36m<module>\u001b[0;34m()\u001b[0m\n\u001b[1;32m      1\u001b[0m \u001b[0;31m#df[\"Total Waterway Coverage value\"]=\u001b[0m\u001b[0;34m\u001b[0m\u001b[0;34m\u001b[0m\u001b[0;34m\u001b[0m\u001b[0m\n\u001b[0;32m----> 2\u001b[0;31m \u001b[0mdf\u001b[0m\u001b[0;34m[\u001b[0m\u001b[0;34m\"Total Waterway Coverage value\"\u001b[0m\u001b[0;34m]\u001b[0m\u001b[0;34m.\u001b[0m\u001b[0mastype\u001b[0m\u001b[0;34m(\u001b[0m\u001b[0mfloat\u001b[0m\u001b[0;34m)\u001b[0m\u001b[0;34m\u001b[0m\u001b[0;34m\u001b[0m\u001b[0m\n\u001b[0m",
            "\u001b[0;32m/usr/local/lib/python3.7/dist-packages/pandas/core/generic.py\u001b[0m in \u001b[0;36mastype\u001b[0;34m(self, dtype, copy, errors)\u001b[0m\n\u001b[1;32m   5813\u001b[0m         \u001b[0;32melse\u001b[0m\u001b[0;34m:\u001b[0m\u001b[0;34m\u001b[0m\u001b[0;34m\u001b[0m\u001b[0m\n\u001b[1;32m   5814\u001b[0m             \u001b[0;31m# else, only a single dtype is given\u001b[0m\u001b[0;34m\u001b[0m\u001b[0;34m\u001b[0m\u001b[0;34m\u001b[0m\u001b[0m\n\u001b[0;32m-> 5815\u001b[0;31m             \u001b[0mnew_data\u001b[0m \u001b[0;34m=\u001b[0m \u001b[0mself\u001b[0m\u001b[0;34m.\u001b[0m\u001b[0m_mgr\u001b[0m\u001b[0;34m.\u001b[0m\u001b[0mastype\u001b[0m\u001b[0;34m(\u001b[0m\u001b[0mdtype\u001b[0m\u001b[0;34m=\u001b[0m\u001b[0mdtype\u001b[0m\u001b[0;34m,\u001b[0m \u001b[0mcopy\u001b[0m\u001b[0;34m=\u001b[0m\u001b[0mcopy\u001b[0m\u001b[0;34m,\u001b[0m \u001b[0merrors\u001b[0m\u001b[0;34m=\u001b[0m\u001b[0merrors\u001b[0m\u001b[0;34m)\u001b[0m\u001b[0;34m\u001b[0m\u001b[0;34m\u001b[0m\u001b[0m\n\u001b[0m\u001b[1;32m   5816\u001b[0m             \u001b[0;32mreturn\u001b[0m \u001b[0mself\u001b[0m\u001b[0;34m.\u001b[0m\u001b[0m_constructor\u001b[0m\u001b[0;34m(\u001b[0m\u001b[0mnew_data\u001b[0m\u001b[0;34m)\u001b[0m\u001b[0;34m.\u001b[0m\u001b[0m__finalize__\u001b[0m\u001b[0;34m(\u001b[0m\u001b[0mself\u001b[0m\u001b[0;34m,\u001b[0m \u001b[0mmethod\u001b[0m\u001b[0;34m=\u001b[0m\u001b[0;34m\"astype\"\u001b[0m\u001b[0;34m)\u001b[0m\u001b[0;34m\u001b[0m\u001b[0;34m\u001b[0m\u001b[0m\n\u001b[1;32m   5817\u001b[0m \u001b[0;34m\u001b[0m\u001b[0m\n",
            "\u001b[0;32m/usr/local/lib/python3.7/dist-packages/pandas/core/internals/managers.py\u001b[0m in \u001b[0;36mastype\u001b[0;34m(self, dtype, copy, errors)\u001b[0m\n\u001b[1;32m    416\u001b[0m \u001b[0;34m\u001b[0m\u001b[0m\n\u001b[1;32m    417\u001b[0m     \u001b[0;32mdef\u001b[0m \u001b[0mastype\u001b[0m\u001b[0;34m(\u001b[0m\u001b[0mself\u001b[0m\u001b[0;34m:\u001b[0m \u001b[0mT\u001b[0m\u001b[0;34m,\u001b[0m \u001b[0mdtype\u001b[0m\u001b[0;34m,\u001b[0m \u001b[0mcopy\u001b[0m\u001b[0;34m:\u001b[0m \u001b[0mbool\u001b[0m \u001b[0;34m=\u001b[0m \u001b[0;32mFalse\u001b[0m\u001b[0;34m,\u001b[0m \u001b[0merrors\u001b[0m\u001b[0;34m:\u001b[0m \u001b[0mstr\u001b[0m \u001b[0;34m=\u001b[0m \u001b[0;34m\"raise\"\u001b[0m\u001b[0;34m)\u001b[0m \u001b[0;34m->\u001b[0m \u001b[0mT\u001b[0m\u001b[0;34m:\u001b[0m\u001b[0;34m\u001b[0m\u001b[0;34m\u001b[0m\u001b[0m\n\u001b[0;32m--> 418\u001b[0;31m         \u001b[0;32mreturn\u001b[0m \u001b[0mself\u001b[0m\u001b[0;34m.\u001b[0m\u001b[0mapply\u001b[0m\u001b[0;34m(\u001b[0m\u001b[0;34m\"astype\"\u001b[0m\u001b[0;34m,\u001b[0m \u001b[0mdtype\u001b[0m\u001b[0;34m=\u001b[0m\u001b[0mdtype\u001b[0m\u001b[0;34m,\u001b[0m \u001b[0mcopy\u001b[0m\u001b[0;34m=\u001b[0m\u001b[0mcopy\u001b[0m\u001b[0;34m,\u001b[0m \u001b[0merrors\u001b[0m\u001b[0;34m=\u001b[0m\u001b[0merrors\u001b[0m\u001b[0;34m)\u001b[0m\u001b[0;34m\u001b[0m\u001b[0;34m\u001b[0m\u001b[0m\n\u001b[0m\u001b[1;32m    419\u001b[0m \u001b[0;34m\u001b[0m\u001b[0m\n\u001b[1;32m    420\u001b[0m     def convert(\n",
            "\u001b[0;32m/usr/local/lib/python3.7/dist-packages/pandas/core/internals/managers.py\u001b[0m in \u001b[0;36mapply\u001b[0;34m(self, f, align_keys, ignore_failures, **kwargs)\u001b[0m\n\u001b[1;32m    325\u001b[0m                     \u001b[0mapplied\u001b[0m \u001b[0;34m=\u001b[0m \u001b[0mb\u001b[0m\u001b[0;34m.\u001b[0m\u001b[0mapply\u001b[0m\u001b[0;34m(\u001b[0m\u001b[0mf\u001b[0m\u001b[0;34m,\u001b[0m \u001b[0;34m**\u001b[0m\u001b[0mkwargs\u001b[0m\u001b[0;34m)\u001b[0m\u001b[0;34m\u001b[0m\u001b[0;34m\u001b[0m\u001b[0m\n\u001b[1;32m    326\u001b[0m                 \u001b[0;32melse\u001b[0m\u001b[0;34m:\u001b[0m\u001b[0;34m\u001b[0m\u001b[0;34m\u001b[0m\u001b[0m\n\u001b[0;32m--> 327\u001b[0;31m                     \u001b[0mapplied\u001b[0m \u001b[0;34m=\u001b[0m \u001b[0mgetattr\u001b[0m\u001b[0;34m(\u001b[0m\u001b[0mb\u001b[0m\u001b[0;34m,\u001b[0m \u001b[0mf\u001b[0m\u001b[0;34m)\u001b[0m\u001b[0;34m(\u001b[0m\u001b[0;34m**\u001b[0m\u001b[0mkwargs\u001b[0m\u001b[0;34m)\u001b[0m\u001b[0;34m\u001b[0m\u001b[0;34m\u001b[0m\u001b[0m\n\u001b[0m\u001b[1;32m    328\u001b[0m             \u001b[0;32mexcept\u001b[0m \u001b[0;34m(\u001b[0m\u001b[0mTypeError\u001b[0m\u001b[0;34m,\u001b[0m \u001b[0mNotImplementedError\u001b[0m\u001b[0;34m)\u001b[0m\u001b[0;34m:\u001b[0m\u001b[0;34m\u001b[0m\u001b[0;34m\u001b[0m\u001b[0m\n\u001b[1;32m    329\u001b[0m                 \u001b[0;32mif\u001b[0m \u001b[0;32mnot\u001b[0m \u001b[0mignore_failures\u001b[0m\u001b[0;34m:\u001b[0m\u001b[0;34m\u001b[0m\u001b[0;34m\u001b[0m\u001b[0m\n",
            "\u001b[0;32m/usr/local/lib/python3.7/dist-packages/pandas/core/internals/blocks.py\u001b[0m in \u001b[0;36mastype\u001b[0;34m(self, dtype, copy, errors)\u001b[0m\n\u001b[1;32m    589\u001b[0m         \u001b[0mvalues\u001b[0m \u001b[0;34m=\u001b[0m \u001b[0mself\u001b[0m\u001b[0;34m.\u001b[0m\u001b[0mvalues\u001b[0m\u001b[0;34m\u001b[0m\u001b[0;34m\u001b[0m\u001b[0m\n\u001b[1;32m    590\u001b[0m \u001b[0;34m\u001b[0m\u001b[0m\n\u001b[0;32m--> 591\u001b[0;31m         \u001b[0mnew_values\u001b[0m \u001b[0;34m=\u001b[0m \u001b[0mastype_array_safe\u001b[0m\u001b[0;34m(\u001b[0m\u001b[0mvalues\u001b[0m\u001b[0;34m,\u001b[0m \u001b[0mdtype\u001b[0m\u001b[0;34m,\u001b[0m \u001b[0mcopy\u001b[0m\u001b[0;34m=\u001b[0m\u001b[0mcopy\u001b[0m\u001b[0;34m,\u001b[0m \u001b[0merrors\u001b[0m\u001b[0;34m=\u001b[0m\u001b[0merrors\u001b[0m\u001b[0;34m)\u001b[0m\u001b[0;34m\u001b[0m\u001b[0;34m\u001b[0m\u001b[0m\n\u001b[0m\u001b[1;32m    592\u001b[0m \u001b[0;34m\u001b[0m\u001b[0m\n\u001b[1;32m    593\u001b[0m         \u001b[0mnew_values\u001b[0m \u001b[0;34m=\u001b[0m \u001b[0mmaybe_coerce_values\u001b[0m\u001b[0;34m(\u001b[0m\u001b[0mnew_values\u001b[0m\u001b[0;34m)\u001b[0m\u001b[0;34m\u001b[0m\u001b[0;34m\u001b[0m\u001b[0m\n",
            "\u001b[0;32m/usr/local/lib/python3.7/dist-packages/pandas/core/dtypes/cast.py\u001b[0m in \u001b[0;36mastype_array_safe\u001b[0;34m(values, dtype, copy, errors)\u001b[0m\n\u001b[1;32m   1307\u001b[0m \u001b[0;34m\u001b[0m\u001b[0m\n\u001b[1;32m   1308\u001b[0m     \u001b[0;32mtry\u001b[0m\u001b[0;34m:\u001b[0m\u001b[0;34m\u001b[0m\u001b[0;34m\u001b[0m\u001b[0m\n\u001b[0;32m-> 1309\u001b[0;31m         \u001b[0mnew_values\u001b[0m \u001b[0;34m=\u001b[0m \u001b[0mastype_array\u001b[0m\u001b[0;34m(\u001b[0m\u001b[0mvalues\u001b[0m\u001b[0;34m,\u001b[0m \u001b[0mdtype\u001b[0m\u001b[0;34m,\u001b[0m \u001b[0mcopy\u001b[0m\u001b[0;34m=\u001b[0m\u001b[0mcopy\u001b[0m\u001b[0;34m)\u001b[0m\u001b[0;34m\u001b[0m\u001b[0;34m\u001b[0m\u001b[0m\n\u001b[0m\u001b[1;32m   1310\u001b[0m     \u001b[0;32mexcept\u001b[0m \u001b[0;34m(\u001b[0m\u001b[0mValueError\u001b[0m\u001b[0;34m,\u001b[0m \u001b[0mTypeError\u001b[0m\u001b[0;34m)\u001b[0m\u001b[0;34m:\u001b[0m\u001b[0;34m\u001b[0m\u001b[0;34m\u001b[0m\u001b[0m\n\u001b[1;32m   1311\u001b[0m         \u001b[0;31m# e.g. astype_nansafe can fail on object-dtype of strings\u001b[0m\u001b[0;34m\u001b[0m\u001b[0;34m\u001b[0m\u001b[0;34m\u001b[0m\u001b[0m\n",
            "\u001b[0;32m/usr/local/lib/python3.7/dist-packages/pandas/core/dtypes/cast.py\u001b[0m in \u001b[0;36mastype_array\u001b[0;34m(values, dtype, copy)\u001b[0m\n\u001b[1;32m   1255\u001b[0m \u001b[0;34m\u001b[0m\u001b[0m\n\u001b[1;32m   1256\u001b[0m     \u001b[0;32melse\u001b[0m\u001b[0;34m:\u001b[0m\u001b[0;34m\u001b[0m\u001b[0;34m\u001b[0m\u001b[0m\n\u001b[0;32m-> 1257\u001b[0;31m         \u001b[0mvalues\u001b[0m \u001b[0;34m=\u001b[0m \u001b[0mastype_nansafe\u001b[0m\u001b[0;34m(\u001b[0m\u001b[0mvalues\u001b[0m\u001b[0;34m,\u001b[0m \u001b[0mdtype\u001b[0m\u001b[0;34m,\u001b[0m \u001b[0mcopy\u001b[0m\u001b[0;34m=\u001b[0m\u001b[0mcopy\u001b[0m\u001b[0;34m)\u001b[0m\u001b[0;34m\u001b[0m\u001b[0;34m\u001b[0m\u001b[0m\n\u001b[0m\u001b[1;32m   1258\u001b[0m \u001b[0;34m\u001b[0m\u001b[0m\n\u001b[1;32m   1259\u001b[0m     \u001b[0;31m# in pandas we don't store numpy str dtypes, so convert to object\u001b[0m\u001b[0;34m\u001b[0m\u001b[0;34m\u001b[0m\u001b[0;34m\u001b[0m\u001b[0m\n",
            "\u001b[0;32m/usr/local/lib/python3.7/dist-packages/pandas/core/dtypes/cast.py\u001b[0m in \u001b[0;36mastype_nansafe\u001b[0;34m(arr, dtype, copy, skipna)\u001b[0m\n\u001b[1;32m   1199\u001b[0m     \u001b[0;32mif\u001b[0m \u001b[0mcopy\u001b[0m \u001b[0;32mor\u001b[0m \u001b[0mis_object_dtype\u001b[0m\u001b[0;34m(\u001b[0m\u001b[0marr\u001b[0m\u001b[0;34m.\u001b[0m\u001b[0mdtype\u001b[0m\u001b[0;34m)\u001b[0m \u001b[0;32mor\u001b[0m \u001b[0mis_object_dtype\u001b[0m\u001b[0;34m(\u001b[0m\u001b[0mdtype\u001b[0m\u001b[0;34m)\u001b[0m\u001b[0;34m:\u001b[0m\u001b[0;34m\u001b[0m\u001b[0;34m\u001b[0m\u001b[0m\n\u001b[1;32m   1200\u001b[0m         \u001b[0;31m# Explicit copy, or required since NumPy can't view from / to object.\u001b[0m\u001b[0;34m\u001b[0m\u001b[0;34m\u001b[0m\u001b[0;34m\u001b[0m\u001b[0m\n\u001b[0;32m-> 1201\u001b[0;31m         \u001b[0;32mreturn\u001b[0m \u001b[0marr\u001b[0m\u001b[0;34m.\u001b[0m\u001b[0mastype\u001b[0m\u001b[0;34m(\u001b[0m\u001b[0mdtype\u001b[0m\u001b[0;34m,\u001b[0m \u001b[0mcopy\u001b[0m\u001b[0;34m=\u001b[0m\u001b[0;32mTrue\u001b[0m\u001b[0;34m)\u001b[0m\u001b[0;34m\u001b[0m\u001b[0;34m\u001b[0m\u001b[0m\n\u001b[0m\u001b[1;32m   1202\u001b[0m \u001b[0;34m\u001b[0m\u001b[0m\n\u001b[1;32m   1203\u001b[0m     \u001b[0;32mreturn\u001b[0m \u001b[0marr\u001b[0m\u001b[0;34m.\u001b[0m\u001b[0mastype\u001b[0m\u001b[0;34m(\u001b[0m\u001b[0mdtype\u001b[0m\u001b[0;34m,\u001b[0m \u001b[0mcopy\u001b[0m\u001b[0;34m=\u001b[0m\u001b[0mcopy\u001b[0m\u001b[0;34m)\u001b[0m\u001b[0;34m\u001b[0m\u001b[0;34m\u001b[0m\u001b[0m\n",
            "\u001b[0;31mValueError\u001b[0m: could not convert string to float: '1,10,000'"
          ]
        }
      ]
    },
    {
      "cell_type": "code",
      "source": [
        "df[df[\"Total Waterway Coverage value\"]==\"1,10,000\"][\"Total Waterway Coverage value\"].str.replace(\",\",\"\").astype(float)"
      ],
      "metadata": {
        "colab": {
          "base_uri": "https://localhost:8080/"
        },
        "id": "xGxMl5OZZPVP",
        "outputId": "681da28f-bf44-4568-f85c-e57a3ae1ac13"
      },
      "execution_count": 38,
      "outputs": [
        {
          "output_type": "execute_result",
          "data": {
            "text/plain": [
              "26    110000.0\n",
              "Name: Total Waterway Coverage value, dtype: float64"
            ]
          },
          "metadata": {},
          "execution_count": 38
        }
      ]
    },
    {
      "cell_type": "code",
      "source": [
        "df[\"Total Waterway Coverage value\"].iloc[26]=110000"
      ],
      "metadata": {
        "id": "8c2i1bTxZyT_"
      },
      "execution_count": 39,
      "outputs": []
    },
    {
      "cell_type": "code",
      "source": [
        "df[\"Total Waterway Coverage value\"].iloc[38]=104300"
      ],
      "metadata": {
        "id": "-67A94vDaxa7"
      },
      "execution_count": 40,
      "outputs": []
    },
    {
      "cell_type": "code",
      "source": [
        "df[df[\"Total Waterway Coverage value\"]==\"1,04,300\"][\"Total Waterway Coverage value\"].str.replace(\",\",\"\").astype(float)"
      ],
      "metadata": {
        "colab": {
          "base_uri": "https://localhost:8080/"
        },
        "id": "Cfp_BxCyapiV",
        "outputId": "d6224f5b-3e05-4400-932b-f415f75a096e"
      },
      "execution_count": 41,
      "outputs": [
        {
          "output_type": "execute_result",
          "data": {
            "text/plain": [
              "Series([], Name: Total Waterway Coverage value, dtype: float64)"
            ]
          },
          "metadata": {},
          "execution_count": 41
        }
      ]
    },
    {
      "cell_type": "code",
      "source": [
        "df[\"Total Waterway Coverage value\"].iloc[101]=102000"
      ],
      "metadata": {
        "id": "Q4nMMVUscfQ2"
      },
      "execution_count": 42,
      "outputs": []
    },
    {
      "cell_type": "code",
      "source": [
        "df[\"Total Waterway Coverage value\"]=df[\"Total Waterway Coverage value\"].astype(float)"
      ],
      "metadata": {
        "id": "fnsa1d4Lcma6"
      },
      "execution_count": 43,
      "outputs": []
    },
    {
      "cell_type": "code",
      "source": [
        "df[df[\"Total Waterway Coverage value\"]==\"1,02,000\"][\"Total Waterway Coverage value\"].str.replace(\",\",\"\").astype(float)"
      ],
      "metadata": {
        "colab": {
          "base_uri": "https://localhost:8080/",
          "height": 311
        },
        "id": "Al6hDTyJZdtP",
        "outputId": "d8e79517-47de-471e-8a06-57897be0854d"
      },
      "execution_count": 44,
      "outputs": [
        {
          "output_type": "error",
          "ename": "AttributeError",
          "evalue": "ignored",
          "traceback": [
            "\u001b[0;31m---------------------------------------------------------------------------\u001b[0m",
            "\u001b[0;31mAttributeError\u001b[0m                            Traceback (most recent call last)",
            "\u001b[0;32m<ipython-input-44-fb866e652ffd>\u001b[0m in \u001b[0;36m<module>\u001b[0;34m()\u001b[0m\n\u001b[0;32m----> 1\u001b[0;31m \u001b[0mdf\u001b[0m\u001b[0;34m[\u001b[0m\u001b[0mdf\u001b[0m\u001b[0;34m[\u001b[0m\u001b[0;34m\"Total Waterway Coverage value\"\u001b[0m\u001b[0;34m]\u001b[0m\u001b[0;34m==\u001b[0m\u001b[0;34m\"1,02,000\"\u001b[0m\u001b[0;34m]\u001b[0m\u001b[0;34m[\u001b[0m\u001b[0;34m\"Total Waterway Coverage value\"\u001b[0m\u001b[0;34m]\u001b[0m\u001b[0;34m.\u001b[0m\u001b[0mstr\u001b[0m\u001b[0;34m.\u001b[0m\u001b[0mreplace\u001b[0m\u001b[0;34m(\u001b[0m\u001b[0;34m\",\"\u001b[0m\u001b[0;34m,\u001b[0m\u001b[0;34m\"\"\u001b[0m\u001b[0;34m)\u001b[0m\u001b[0;34m.\u001b[0m\u001b[0mastype\u001b[0m\u001b[0;34m(\u001b[0m\u001b[0mfloat\u001b[0m\u001b[0;34m)\u001b[0m\u001b[0;34m\u001b[0m\u001b[0;34m\u001b[0m\u001b[0m\n\u001b[0m",
            "\u001b[0;32m/usr/local/lib/python3.7/dist-packages/pandas/core/generic.py\u001b[0m in \u001b[0;36m__getattr__\u001b[0;34m(self, name)\u001b[0m\n\u001b[1;32m   5485\u001b[0m         ):\n\u001b[1;32m   5486\u001b[0m             \u001b[0;32mreturn\u001b[0m \u001b[0mself\u001b[0m\u001b[0;34m[\u001b[0m\u001b[0mname\u001b[0m\u001b[0;34m]\u001b[0m\u001b[0;34m\u001b[0m\u001b[0;34m\u001b[0m\u001b[0m\n\u001b[0;32m-> 5487\u001b[0;31m         \u001b[0;32mreturn\u001b[0m \u001b[0mobject\u001b[0m\u001b[0;34m.\u001b[0m\u001b[0m__getattribute__\u001b[0m\u001b[0;34m(\u001b[0m\u001b[0mself\u001b[0m\u001b[0;34m,\u001b[0m \u001b[0mname\u001b[0m\u001b[0;34m)\u001b[0m\u001b[0;34m\u001b[0m\u001b[0;34m\u001b[0m\u001b[0m\n\u001b[0m\u001b[1;32m   5488\u001b[0m \u001b[0;34m\u001b[0m\u001b[0m\n\u001b[1;32m   5489\u001b[0m     \u001b[0;32mdef\u001b[0m \u001b[0m__setattr__\u001b[0m\u001b[0;34m(\u001b[0m\u001b[0mself\u001b[0m\u001b[0;34m,\u001b[0m \u001b[0mname\u001b[0m\u001b[0;34m:\u001b[0m \u001b[0mstr\u001b[0m\u001b[0;34m,\u001b[0m \u001b[0mvalue\u001b[0m\u001b[0;34m)\u001b[0m \u001b[0;34m->\u001b[0m \u001b[0;32mNone\u001b[0m\u001b[0;34m:\u001b[0m\u001b[0;34m\u001b[0m\u001b[0;34m\u001b[0m\u001b[0m\n",
            "\u001b[0;32m/usr/local/lib/python3.7/dist-packages/pandas/core/accessor.py\u001b[0m in \u001b[0;36m__get__\u001b[0;34m(self, obj, cls)\u001b[0m\n\u001b[1;32m    179\u001b[0m             \u001b[0;31m# we're accessing the attribute of the class, i.e., Dataset.geo\u001b[0m\u001b[0;34m\u001b[0m\u001b[0;34m\u001b[0m\u001b[0;34m\u001b[0m\u001b[0m\n\u001b[1;32m    180\u001b[0m             \u001b[0;32mreturn\u001b[0m \u001b[0mself\u001b[0m\u001b[0;34m.\u001b[0m\u001b[0m_accessor\u001b[0m\u001b[0;34m\u001b[0m\u001b[0;34m\u001b[0m\u001b[0m\n\u001b[0;32m--> 181\u001b[0;31m         \u001b[0maccessor_obj\u001b[0m \u001b[0;34m=\u001b[0m \u001b[0mself\u001b[0m\u001b[0;34m.\u001b[0m\u001b[0m_accessor\u001b[0m\u001b[0;34m(\u001b[0m\u001b[0mobj\u001b[0m\u001b[0;34m)\u001b[0m\u001b[0;34m\u001b[0m\u001b[0;34m\u001b[0m\u001b[0m\n\u001b[0m\u001b[1;32m    182\u001b[0m         \u001b[0;31m# Replace the property with the accessor object. Inspired by:\u001b[0m\u001b[0;34m\u001b[0m\u001b[0;34m\u001b[0m\u001b[0;34m\u001b[0m\u001b[0m\n\u001b[1;32m    183\u001b[0m         \u001b[0;31m# https://www.pydanny.com/cached-property.html\u001b[0m\u001b[0;34m\u001b[0m\u001b[0;34m\u001b[0m\u001b[0;34m\u001b[0m\u001b[0m\n",
            "\u001b[0;32m/usr/local/lib/python3.7/dist-packages/pandas/core/strings/accessor.py\u001b[0m in \u001b[0;36m__init__\u001b[0;34m(self, data)\u001b[0m\n\u001b[1;32m    166\u001b[0m         \u001b[0;32mfrom\u001b[0m \u001b[0mpandas\u001b[0m\u001b[0;34m.\u001b[0m\u001b[0mcore\u001b[0m\u001b[0;34m.\u001b[0m\u001b[0marrays\u001b[0m\u001b[0;34m.\u001b[0m\u001b[0mstring_\u001b[0m \u001b[0;32mimport\u001b[0m \u001b[0mStringDtype\u001b[0m\u001b[0;34m\u001b[0m\u001b[0;34m\u001b[0m\u001b[0m\n\u001b[1;32m    167\u001b[0m \u001b[0;34m\u001b[0m\u001b[0m\n\u001b[0;32m--> 168\u001b[0;31m         \u001b[0mself\u001b[0m\u001b[0;34m.\u001b[0m\u001b[0m_inferred_dtype\u001b[0m \u001b[0;34m=\u001b[0m \u001b[0mself\u001b[0m\u001b[0;34m.\u001b[0m\u001b[0m_validate\u001b[0m\u001b[0;34m(\u001b[0m\u001b[0mdata\u001b[0m\u001b[0;34m)\u001b[0m\u001b[0;34m\u001b[0m\u001b[0;34m\u001b[0m\u001b[0m\n\u001b[0m\u001b[1;32m    169\u001b[0m         \u001b[0mself\u001b[0m\u001b[0;34m.\u001b[0m\u001b[0m_is_categorical\u001b[0m \u001b[0;34m=\u001b[0m \u001b[0mis_categorical_dtype\u001b[0m\u001b[0;34m(\u001b[0m\u001b[0mdata\u001b[0m\u001b[0;34m.\u001b[0m\u001b[0mdtype\u001b[0m\u001b[0;34m)\u001b[0m\u001b[0;34m\u001b[0m\u001b[0;34m\u001b[0m\u001b[0m\n\u001b[1;32m    170\u001b[0m         \u001b[0mself\u001b[0m\u001b[0;34m.\u001b[0m\u001b[0m_is_string\u001b[0m \u001b[0;34m=\u001b[0m \u001b[0misinstance\u001b[0m\u001b[0;34m(\u001b[0m\u001b[0mdata\u001b[0m\u001b[0;34m.\u001b[0m\u001b[0mdtype\u001b[0m\u001b[0;34m,\u001b[0m \u001b[0mStringDtype\u001b[0m\u001b[0;34m)\u001b[0m\u001b[0;34m\u001b[0m\u001b[0;34m\u001b[0m\u001b[0m\n",
            "\u001b[0;32m/usr/local/lib/python3.7/dist-packages/pandas/core/strings/accessor.py\u001b[0m in \u001b[0;36m_validate\u001b[0;34m(data)\u001b[0m\n\u001b[1;32m    223\u001b[0m \u001b[0;34m\u001b[0m\u001b[0m\n\u001b[1;32m    224\u001b[0m         \u001b[0;32mif\u001b[0m \u001b[0minferred_dtype\u001b[0m \u001b[0;32mnot\u001b[0m \u001b[0;32min\u001b[0m \u001b[0mallowed_types\u001b[0m\u001b[0;34m:\u001b[0m\u001b[0;34m\u001b[0m\u001b[0;34m\u001b[0m\u001b[0m\n\u001b[0;32m--> 225\u001b[0;31m             \u001b[0;32mraise\u001b[0m \u001b[0mAttributeError\u001b[0m\u001b[0;34m(\u001b[0m\u001b[0;34m\"Can only use .str accessor with string values!\"\u001b[0m\u001b[0;34m)\u001b[0m\u001b[0;34m\u001b[0m\u001b[0;34m\u001b[0m\u001b[0m\n\u001b[0m\u001b[1;32m    226\u001b[0m         \u001b[0;32mreturn\u001b[0m \u001b[0minferred_dtype\u001b[0m\u001b[0;34m\u001b[0m\u001b[0;34m\u001b[0m\u001b[0m\n\u001b[1;32m    227\u001b[0m \u001b[0;34m\u001b[0m\u001b[0m\n",
            "\u001b[0;31mAttributeError\u001b[0m: Can only use .str accessor with string values!"
          ]
        }
      ]
    },
    {
      "cell_type": "code",
      "source": [
        "df[\"Total Border Coverage value\"] "
      ],
      "metadata": {
        "colab": {
          "base_uri": "https://localhost:8080/"
        },
        "id": "T8GHkIgSc6Lm",
        "outputId": "2ba66025-1d13-4d31-a07b-64c69bf69aa2"
      },
      "execution_count": 45,
      "outputs": [
        {
          "output_type": "execute_result",
          "data": {
            "text/plain": [
              "0       5987.0\n",
              "1        691.0\n",
              "2       6734.0\n",
              "3       5369.0\n",
              "4      11968.0\n",
              "        ...   \n",
              "133     5267.0\n",
              "134     4616.0\n",
              "135     1601.0\n",
              "136     6043.0\n",
              "137     3229.0\n",
              "Name: Total Border Coverage value, Length: 138, dtype: float64"
            ]
          },
          "metadata": {},
          "execution_count": 45
        }
      ]
    },
    {
      "cell_type": "code",
      "source": [
        "df.info()"
      ],
      "metadata": {
        "id": "C1txBC-3sNOv",
        "outputId": "c1029171-9456-4988-889b-0a8f0d2cfdcf",
        "colab": {
          "base_uri": "https://localhost:8080/"
        }
      },
      "execution_count": 46,
      "outputs": [
        {
          "output_type": "stream",
          "name": "stdout",
          "text": [
            "<class 'pandas.core.frame.DataFrame'>\n",
            "RangeIndex: 138 entries, 0 to 137\n",
            "Data columns (total 60 columns):\n",
            " #   Column                                   Non-Null Count  Dtype  \n",
            "---  ------                                   --------------  -----  \n",
            " 0   Military Strength                        138 non-null    object \n",
            " 1   Military Strength Power Index            138 non-null    float64\n",
            " 2   Aircraft Strength                        138 non-null    object \n",
            " 3   Aircraft Strength value                  138 non-null    int64  \n",
            " 4   Fighter/Interceptor Strength             138 non-null    object \n",
            " 5   Fighter/Interceptor Strength value       138 non-null    int64  \n",
            " 6   Attack Aircraft Strength                 138 non-null    object \n",
            " 7   Attack Aircraft Strength value           138 non-null    int64  \n",
            " 8   Transport Aircraft Fleet Strength        138 non-null    object \n",
            " 9   Transport Aircraft Fleet Strength value  138 non-null    int64  \n",
            " 10  Trainer Aircraft Fleet                   138 non-null    object \n",
            " 11  Trainer Aircraft Fleet value             138 non-null    int64  \n",
            " 12  Helicopter Fleet Strength                138 non-null    object \n",
            " 13  Helicopter Fleet Strength value          138 non-null    int64  \n",
            " 14  Attack Helicopter Fleet Strength         138 non-null    object \n",
            " 15  Attack Helicopter Fleet Strength value   138 non-null    int64  \n",
            " 16  Tank Strength                            138 non-null    object \n",
            " 17  Tank Strength value                      138 non-null    int64  \n",
            " 18  AFV/APC Strength                         138 non-null    object \n",
            " 19  AFV/APC Strength value                   138 non-null    int64  \n",
            " 20  Self-Propelled Artillery Strength        138 non-null    object \n",
            " 21  Self-Propelled Artillery Strength value  138 non-null    int64  \n",
            " 22  Towed Artillery Strength                 138 non-null    object \n",
            " 23  Towed Artillery Strength value           138 non-null    int64  \n",
            " 24  Rocket Projector Strength                138 non-null    object \n",
            " 25  Rocket Projector Strength value          138 non-null    int64  \n",
            " 26  Navy Fleet Strengths                     124 non-null    object \n",
            " 27  Navy Fleet Strengths value               124 non-null    float64\n",
            " 28  Aircraft Carrier Fleet Strength          115 non-null    object \n",
            " 29  Aircraft Carrier Fleet Strength value    115 non-null    float64\n",
            " 30  Submarine Fleet Strength                 115 non-null    object \n",
            " 31  Submarine Fleet Strength value           115 non-null    float64\n",
            " 32  Destroyer Fleet Strength                 115 non-null    object \n",
            " 33  Destroyer Fleet Strength value           115 non-null    float64\n",
            " 34  Frigate Fleet Strength                   115 non-null    object \n",
            " 35  Frigate Fleet Strength value             115 non-null    float64\n",
            " 36  defense spending budget                  138 non-null    object \n",
            " 37  defense spending budget value            138 non-null    float64\n",
            " 38  External Debt                            138 non-null    object \n",
            " 39  External Debt value                      138 non-null    float64\n",
            " 40  Airport Totals                           138 non-null    object \n",
            " 41  Airport Totals value                     138 non-null    int64  \n",
            " 42  Oil Production                           138 non-null    object \n",
            " 43  Oil Production value                     41 non-null     float64\n",
            " 44  Oil Consumption                          138 non-null    object \n",
            " 45  Oil Consumption value                    77 non-null     float64\n",
            " 46  Proven Oil Reserves                      138 non-null    object \n",
            " 47  Proven Oil Reserves value                92 non-null     float64\n",
            " 48  Available Manpower                       138 non-null    object \n",
            " 49  Available Manpower value                 138 non-null    float64\n",
            " 50  Total Population                         138 non-null    object \n",
            " 51  Total Population value                   138 non-null    float64\n",
            " 52  Total Square Land Area                   138 non-null    object \n",
            " 53  Total Square Land Area value             99 non-null     float64\n",
            " 54  Total Coastline Coverage                 109 non-null    object \n",
            " 55  Total Coastline Coverage value           109 non-null    float64\n",
            " 56  Total Waterway Coverage                  138 non-null    object \n",
            " 57  Total Waterway Coverage value            138 non-null    float64\n",
            " 58  Total Border Coverage                    129 non-null    object \n",
            " 59  Total Border Coverage value              129 non-null    float64\n",
            "dtypes: float64(17), int64(13), object(30)\n",
            "memory usage: 64.8+ KB\n"
          ]
        }
      ]
    },
    {
      "cell_type": "code",
      "source": [
        "df.isnull().sum()"
      ],
      "metadata": {
        "id": "Id3rbKnlbJsb",
        "outputId": "3f2bbb27-8d4a-4c9b-b055-c72bafd76ad9",
        "colab": {
          "base_uri": "https://localhost:8080/"
        }
      },
      "execution_count": 47,
      "outputs": [
        {
          "output_type": "execute_result",
          "data": {
            "text/plain": [
              "Military Strength                           0\n",
              "Military Strength Power Index               0\n",
              "Aircraft Strength                           0\n",
              "Aircraft Strength value                     0\n",
              "Fighter/Interceptor Strength                0\n",
              "Fighter/Interceptor Strength value          0\n",
              "Attack Aircraft Strength                    0\n",
              "Attack Aircraft Strength value              0\n",
              "Transport Aircraft Fleet Strength           0\n",
              "Transport Aircraft Fleet Strength value     0\n",
              "Trainer Aircraft Fleet                      0\n",
              "Trainer Aircraft Fleet value                0\n",
              "Helicopter Fleet Strength                   0\n",
              "Helicopter Fleet Strength value             0\n",
              "Attack Helicopter Fleet Strength            0\n",
              "Attack Helicopter Fleet Strength value      0\n",
              "Tank Strength                               0\n",
              "Tank Strength value                         0\n",
              "AFV/APC Strength                            0\n",
              "AFV/APC Strength value                      0\n",
              "Self-Propelled Artillery Strength           0\n",
              "Self-Propelled Artillery Strength value     0\n",
              "Towed Artillery Strength                    0\n",
              "Towed Artillery Strength value              0\n",
              "Rocket Projector Strength                   0\n",
              "Rocket Projector Strength value             0\n",
              "Navy Fleet Strengths                       14\n",
              "Navy Fleet Strengths value                 14\n",
              "Aircraft Carrier Fleet Strength            23\n",
              "Aircraft Carrier Fleet Strength value      23\n",
              "Submarine Fleet Strength                   23\n",
              "Submarine Fleet Strength value             23\n",
              "Destroyer Fleet Strength                   23\n",
              "Destroyer Fleet Strength value             23\n",
              "Frigate Fleet Strength                     23\n",
              "Frigate Fleet Strength value               23\n",
              "defense spending budget                     0\n",
              "defense spending budget value               0\n",
              "External Debt                               0\n",
              "External Debt value                         0\n",
              "Airport Totals                              0\n",
              "Airport Totals value                        0\n",
              "Oil Production                              0\n",
              "Oil Production value                       97\n",
              "Oil Consumption                             0\n",
              "Oil Consumption value                      61\n",
              "Proven Oil Reserves                         0\n",
              "Proven Oil Reserves value                  46\n",
              "Available Manpower                          0\n",
              "Available Manpower value                    0\n",
              "Total Population                            0\n",
              "Total Population value                      0\n",
              "Total Square Land Area                      0\n",
              "Total Square Land Area value               39\n",
              "Total Coastline Coverage                   29\n",
              "Total Coastline Coverage value             29\n",
              "Total Waterway Coverage                     0\n",
              "Total Waterway Coverage value               0\n",
              "Total Border Coverage                       9\n",
              "Total Border Coverage value                 9\n",
              "dtype: int64"
            ]
          },
          "metadata": {},
          "execution_count": 47
        }
      ]
    },
    {
      "cell_type": "markdown",
      "metadata": {
        "id": "oSiUeb-I8AKL"
      },
      "source": [
        "## Convert multi index columns to one level"
      ]
    },
    {
      "cell_type": "markdown",
      "source": [
        ""
      ],
      "metadata": {
        "id": "lRfyhyo_BwaF"
      }
    },
    {
      "cell_type": "code",
      "metadata": {
        "id": "aTcr2roB8AKM"
      },
      "source": [
        "df2=df.select_dtypes(\"number\")"
      ],
      "execution_count": 48,
      "outputs": []
    },
    {
      "cell_type": "code",
      "source": [
        "df2.head()"
      ],
      "metadata": {
        "colab": {
          "base_uri": "https://localhost:8080/",
          "height": 369
        },
        "id": "qnRG2OvNB464",
        "outputId": "655413b1-1f6f-40c9-9d3e-78fbbd2d54d7"
      },
      "execution_count": 49,
      "outputs": [
        {
          "output_type": "execute_result",
          "data": {
            "text/plain": [
              "   Military Strength Power Index  Aircraft Strength value  \\\n",
              "0                         1.3444                      260   \n",
              "1                         2.3137                       19   \n",
              "2                         0.4659                      551   \n",
              "3                         0.8379                      295   \n",
              "4                         0.6521                      227   \n",
              "\n",
              "   Fighter/Interceptor Strength value  Attack Aircraft Strength value  \\\n",
              "0                                   0                              25   \n",
              "1                                   0                               0   \n",
              "2                                 103                              22   \n",
              "3                                  72                              18   \n",
              "4                                  24                               7   \n",
              "\n",
              "   Transport Aircraft Fleet Strength value  Trainer Aircraft Fleet value  \\\n",
              "0                                       30                             0   \n",
              "1                                        0                             0   \n",
              "2                                       59                            87   \n",
              "3                                       30                            47   \n",
              "4                                        9                            64   \n",
              "\n",
              "   Helicopter Fleet Strength value  Attack Helicopter Fleet Strength value  \\\n",
              "0                              187                                       0   \n",
              "1                               19                                       0   \n",
              "2                              257                                      45   \n",
              "3                              126                                      15   \n",
              "4                              100                                       0   \n",
              "\n",
              "   Tank Strength value  AFV/APC Strength value  ...  Airport Totals value  \\\n",
              "0                    0                    1062  ...                    43   \n",
              "1                    0                     467  ...                     4   \n",
              "2                  880                    7361  ...                   157   \n",
              "3                  379                     595  ...                   176   \n",
              "4                  370                     739  ...                  1138   \n",
              "\n",
              "   Oil Production value  Oil Consumption value  Proven Oil Reserves value  \\\n",
              "0                   NaN                    NaN                        NaN   \n",
              "1                   NaN                    NaN               1.683000e+08   \n",
              "2             1306000.0               325000.0               1.220000e+10   \n",
              "3             1666000.0                    NaN               8.273000e+09   \n",
              "4              479400.0               685000.0               2.185000e+09   \n",
              "\n",
              "   Available Manpower value  Total Population value  \\\n",
              "0                14325743.0              34940837.0   \n",
              "1                 1519438.0               3057220.0   \n",
              "2                20741263.0              41657488.0   \n",
              "3                 6244205.0              30355880.0   \n",
              "4                20179430.0              44694198.0   \n",
              "\n",
              "   Total Square Land Area value  Total Coastline Coverage value  \\\n",
              "0                      652230.0                             0.0   \n",
              "1                           NaN                           362.0   \n",
              "2                     2381741.0                           998.0   \n",
              "3                     1246700.0                          1600.0   \n",
              "4                     2780400.0                          4989.0   \n",
              "\n",
              "   Total Waterway Coverage value  Total Border Coverage value  \n",
              "0                         1200.0                       5987.0  \n",
              "1                           41.0                        691.0  \n",
              "2                            0.0                       6734.0  \n",
              "3                         1300.0                       5369.0  \n",
              "4                        11000.0                      11968.0  \n",
              "\n",
              "[5 rows x 30 columns]"
            ],
            "text/html": [
              "\n",
              "  <div id=\"df-f0dea13c-1443-4866-b728-bccebcb17c93\">\n",
              "    <div class=\"colab-df-container\">\n",
              "      <div>\n",
              "<style scoped>\n",
              "    .dataframe tbody tr th:only-of-type {\n",
              "        vertical-align: middle;\n",
              "    }\n",
              "\n",
              "    .dataframe tbody tr th {\n",
              "        vertical-align: top;\n",
              "    }\n",
              "\n",
              "    .dataframe thead th {\n",
              "        text-align: right;\n",
              "    }\n",
              "</style>\n",
              "<table border=\"1\" class=\"dataframe\">\n",
              "  <thead>\n",
              "    <tr style=\"text-align: right;\">\n",
              "      <th></th>\n",
              "      <th>Military Strength Power Index</th>\n",
              "      <th>Aircraft Strength value</th>\n",
              "      <th>Fighter/Interceptor Strength value</th>\n",
              "      <th>Attack Aircraft Strength value</th>\n",
              "      <th>Transport Aircraft Fleet Strength value</th>\n",
              "      <th>Trainer Aircraft Fleet value</th>\n",
              "      <th>Helicopter Fleet Strength value</th>\n",
              "      <th>Attack Helicopter Fleet Strength value</th>\n",
              "      <th>Tank Strength value</th>\n",
              "      <th>AFV/APC Strength value</th>\n",
              "      <th>...</th>\n",
              "      <th>Airport Totals value</th>\n",
              "      <th>Oil Production value</th>\n",
              "      <th>Oil Consumption value</th>\n",
              "      <th>Proven Oil Reserves value</th>\n",
              "      <th>Available Manpower value</th>\n",
              "      <th>Total Population value</th>\n",
              "      <th>Total Square Land Area value</th>\n",
              "      <th>Total Coastline Coverage value</th>\n",
              "      <th>Total Waterway Coverage value</th>\n",
              "      <th>Total Border Coverage value</th>\n",
              "    </tr>\n",
              "  </thead>\n",
              "  <tbody>\n",
              "    <tr>\n",
              "      <th>0</th>\n",
              "      <td>1.3444</td>\n",
              "      <td>260</td>\n",
              "      <td>0</td>\n",
              "      <td>25</td>\n",
              "      <td>30</td>\n",
              "      <td>0</td>\n",
              "      <td>187</td>\n",
              "      <td>0</td>\n",
              "      <td>0</td>\n",
              "      <td>1062</td>\n",
              "      <td>...</td>\n",
              "      <td>43</td>\n",
              "      <td>NaN</td>\n",
              "      <td>NaN</td>\n",
              "      <td>NaN</td>\n",
              "      <td>14325743.0</td>\n",
              "      <td>34940837.0</td>\n",
              "      <td>652230.0</td>\n",
              "      <td>0.0</td>\n",
              "      <td>1200.0</td>\n",
              "      <td>5987.0</td>\n",
              "    </tr>\n",
              "    <tr>\n",
              "      <th>1</th>\n",
              "      <td>2.3137</td>\n",
              "      <td>19</td>\n",
              "      <td>0</td>\n",
              "      <td>0</td>\n",
              "      <td>0</td>\n",
              "      <td>0</td>\n",
              "      <td>19</td>\n",
              "      <td>0</td>\n",
              "      <td>0</td>\n",
              "      <td>467</td>\n",
              "      <td>...</td>\n",
              "      <td>4</td>\n",
              "      <td>NaN</td>\n",
              "      <td>NaN</td>\n",
              "      <td>1.683000e+08</td>\n",
              "      <td>1519438.0</td>\n",
              "      <td>3057220.0</td>\n",
              "      <td>NaN</td>\n",
              "      <td>362.0</td>\n",
              "      <td>41.0</td>\n",
              "      <td>691.0</td>\n",
              "    </tr>\n",
              "    <tr>\n",
              "      <th>2</th>\n",
              "      <td>0.4659</td>\n",
              "      <td>551</td>\n",
              "      <td>103</td>\n",
              "      <td>22</td>\n",
              "      <td>59</td>\n",
              "      <td>87</td>\n",
              "      <td>257</td>\n",
              "      <td>45</td>\n",
              "      <td>880</td>\n",
              "      <td>7361</td>\n",
              "      <td>...</td>\n",
              "      <td>157</td>\n",
              "      <td>1306000.0</td>\n",
              "      <td>325000.0</td>\n",
              "      <td>1.220000e+10</td>\n",
              "      <td>20741263.0</td>\n",
              "      <td>41657488.0</td>\n",
              "      <td>2381741.0</td>\n",
              "      <td>998.0</td>\n",
              "      <td>0.0</td>\n",
              "      <td>6734.0</td>\n",
              "    </tr>\n",
              "    <tr>\n",
              "      <th>3</th>\n",
              "      <td>0.8379</td>\n",
              "      <td>295</td>\n",
              "      <td>72</td>\n",
              "      <td>18</td>\n",
              "      <td>30</td>\n",
              "      <td>47</td>\n",
              "      <td>126</td>\n",
              "      <td>15</td>\n",
              "      <td>379</td>\n",
              "      <td>595</td>\n",
              "      <td>...</td>\n",
              "      <td>176</td>\n",
              "      <td>1666000.0</td>\n",
              "      <td>NaN</td>\n",
              "      <td>8.273000e+09</td>\n",
              "      <td>6244205.0</td>\n",
              "      <td>30355880.0</td>\n",
              "      <td>1246700.0</td>\n",
              "      <td>1600.0</td>\n",
              "      <td>1300.0</td>\n",
              "      <td>5369.0</td>\n",
              "    </tr>\n",
              "    <tr>\n",
              "      <th>4</th>\n",
              "      <td>0.6521</td>\n",
              "      <td>227</td>\n",
              "      <td>24</td>\n",
              "      <td>7</td>\n",
              "      <td>9</td>\n",
              "      <td>64</td>\n",
              "      <td>100</td>\n",
              "      <td>0</td>\n",
              "      <td>370</td>\n",
              "      <td>739</td>\n",
              "      <td>...</td>\n",
              "      <td>1138</td>\n",
              "      <td>479400.0</td>\n",
              "      <td>685000.0</td>\n",
              "      <td>2.185000e+09</td>\n",
              "      <td>20179430.0</td>\n",
              "      <td>44694198.0</td>\n",
              "      <td>2780400.0</td>\n",
              "      <td>4989.0</td>\n",
              "      <td>11000.0</td>\n",
              "      <td>11968.0</td>\n",
              "    </tr>\n",
              "  </tbody>\n",
              "</table>\n",
              "<p>5 rows × 30 columns</p>\n",
              "</div>\n",
              "      <button class=\"colab-df-convert\" onclick=\"convertToInteractive('df-f0dea13c-1443-4866-b728-bccebcb17c93')\"\n",
              "              title=\"Convert this dataframe to an interactive table.\"\n",
              "              style=\"display:none;\">\n",
              "        \n",
              "  <svg xmlns=\"http://www.w3.org/2000/svg\" height=\"24px\"viewBox=\"0 0 24 24\"\n",
              "       width=\"24px\">\n",
              "    <path d=\"M0 0h24v24H0V0z\" fill=\"none\"/>\n",
              "    <path d=\"M18.56 5.44l.94 2.06.94-2.06 2.06-.94-2.06-.94-.94-2.06-.94 2.06-2.06.94zm-11 1L8.5 8.5l.94-2.06 2.06-.94-2.06-.94L8.5 2.5l-.94 2.06-2.06.94zm10 10l.94 2.06.94-2.06 2.06-.94-2.06-.94-.94-2.06-.94 2.06-2.06.94z\"/><path d=\"M17.41 7.96l-1.37-1.37c-.4-.4-.92-.59-1.43-.59-.52 0-1.04.2-1.43.59L10.3 9.45l-7.72 7.72c-.78.78-.78 2.05 0 2.83L4 21.41c.39.39.9.59 1.41.59.51 0 1.02-.2 1.41-.59l7.78-7.78 2.81-2.81c.8-.78.8-2.07 0-2.86zM5.41 20L4 18.59l7.72-7.72 1.47 1.35L5.41 20z\"/>\n",
              "  </svg>\n",
              "      </button>\n",
              "      \n",
              "  <style>\n",
              "    .colab-df-container {\n",
              "      display:flex;\n",
              "      flex-wrap:wrap;\n",
              "      gap: 12px;\n",
              "    }\n",
              "\n",
              "    .colab-df-convert {\n",
              "      background-color: #E8F0FE;\n",
              "      border: none;\n",
              "      border-radius: 50%;\n",
              "      cursor: pointer;\n",
              "      display: none;\n",
              "      fill: #1967D2;\n",
              "      height: 32px;\n",
              "      padding: 0 0 0 0;\n",
              "      width: 32px;\n",
              "    }\n",
              "\n",
              "    .colab-df-convert:hover {\n",
              "      background-color: #E2EBFA;\n",
              "      box-shadow: 0px 1px 2px rgba(60, 64, 67, 0.3), 0px 1px 3px 1px rgba(60, 64, 67, 0.15);\n",
              "      fill: #174EA6;\n",
              "    }\n",
              "\n",
              "    [theme=dark] .colab-df-convert {\n",
              "      background-color: #3B4455;\n",
              "      fill: #D2E3FC;\n",
              "    }\n",
              "\n",
              "    [theme=dark] .colab-df-convert:hover {\n",
              "      background-color: #434B5C;\n",
              "      box-shadow: 0px 1px 3px 1px rgba(0, 0, 0, 0.15);\n",
              "      filter: drop-shadow(0px 1px 2px rgba(0, 0, 0, 0.3));\n",
              "      fill: #FFFFFF;\n",
              "    }\n",
              "  </style>\n",
              "\n",
              "      <script>\n",
              "        const buttonEl =\n",
              "          document.querySelector('#df-f0dea13c-1443-4866-b728-bccebcb17c93 button.colab-df-convert');\n",
              "        buttonEl.style.display =\n",
              "          google.colab.kernel.accessAllowed ? 'block' : 'none';\n",
              "\n",
              "        async function convertToInteractive(key) {\n",
              "          const element = document.querySelector('#df-f0dea13c-1443-4866-b728-bccebcb17c93');\n",
              "          const dataTable =\n",
              "            await google.colab.kernel.invokeFunction('convertToInteractive',\n",
              "                                                     [key], {});\n",
              "          if (!dataTable) return;\n",
              "\n",
              "          const docLinkHtml = 'Like what you see? Visit the ' +\n",
              "            '<a target=\"_blank\" href=https://colab.research.google.com/notebooks/data_table.ipynb>data table notebook</a>'\n",
              "            + ' to learn more about interactive tables.';\n",
              "          element.innerHTML = '';\n",
              "          dataTable['output_type'] = 'display_data';\n",
              "          await google.colab.output.renderOutput(dataTable, element);\n",
              "          const docLink = document.createElement('div');\n",
              "          docLink.innerHTML = docLinkHtml;\n",
              "          element.appendChild(docLink);\n",
              "        }\n",
              "      </script>\n",
              "    </div>\n",
              "  </div>\n",
              "  "
            ]
          },
          "metadata": {},
          "execution_count": 49
        }
      ]
    },
    {
      "cell_type": "code",
      "source": [
        ""
      ],
      "metadata": {
        "id": "p_BfqwQUCLbR"
      },
      "execution_count": null,
      "outputs": []
    },
    {
      "cell_type": "code",
      "source": [
        "#I HAVE DELETD FİRST ROW BEFORE IMPORTING DATA"
      ],
      "metadata": {
        "id": "1SSP8ci5BiB6"
      },
      "execution_count": null,
      "outputs": []
    },
    {
      "cell_type": "markdown",
      "metadata": {
        "id": "9AHJyubO8AKM"
      },
      "source": [
        "## Detect and drop duplicated columns"
      ]
    },
    {
      "cell_type": "code",
      "metadata": {
        "id": "zb_hDNB08AKM",
        "colab": {
          "base_uri": "https://localhost:8080/"
        },
        "outputId": "6577b39d-308e-4eed-a0dc-9a9d85336d63"
      },
      "source": [
        "df2.duplicated().sum()"
      ],
      "execution_count": 50,
      "outputs": [
        {
          "output_type": "execute_result",
          "data": {
            "text/plain": [
              "0"
            ]
          },
          "metadata": {},
          "execution_count": 50
        }
      ]
    },
    {
      "cell_type": "code",
      "source": [
        "new_cols = [i[0] for i in df.columns.str.findall(\".*value\") if i !=[]]\n",
        "\n",
        "new_cols"
      ],
      "metadata": {
        "colab": {
          "base_uri": "https://localhost:8080/"
        },
        "id": "SDS2MM9_CNJY",
        "outputId": "91585e58-7eb8-44f6-e325-c5c5d0fbe171"
      },
      "execution_count": 7,
      "outputs": [
        {
          "output_type": "execute_result",
          "data": {
            "text/plain": [
              "['Aircraft Strength value',\n",
              " 'Fighter/Interceptor Strength value',\n",
              " 'Attack Aircraft Strength value',\n",
              " 'Transport Aircraft Fleet Strength value',\n",
              " 'Trainer Aircraft Fleet value',\n",
              " 'Helicopter Fleet Strength value',\n",
              " 'Attack Helicopter Fleet Strength value',\n",
              " 'Tank Strength value',\n",
              " 'AFV/APC Strength value',\n",
              " 'Self-Propelled Artillery Strength value',\n",
              " 'Towed Artillery Strength value',\n",
              " 'Rocket Projector Strength value',\n",
              " 'Navy Fleet Strengths value',\n",
              " 'Aircraft Carrier Fleet Strength value',\n",
              " 'Submarine Fleet Strength value',\n",
              " 'Destroyer Fleet Strength value',\n",
              " 'Frigate Fleet Strength value',\n",
              " 'defense spending budget value',\n",
              " 'External Debt value',\n",
              " 'Airport Totals value',\n",
              " 'Oil Production value',\n",
              " 'Oil Consumption value',\n",
              " 'Proven Oil Reserves value',\n",
              " 'Available Manpower value',\n",
              " 'Total Population value',\n",
              " 'Total Square Land Area value',\n",
              " 'Total Coastline Coverage value',\n",
              " 'Total Waterway Coverage value',\n",
              " 'Total Border Coverage value']"
            ]
          },
          "metadata": {},
          "execution_count": 7
        }
      ]
    },
    {
      "cell_type": "code",
      "source": [
        "new_df = df[new_cols].copy()\n",
        "new_df.insert(0, \"country\",df[\"Military Strength\"])\n",
        "new_df.head() "
      ],
      "metadata": {
        "colab": {
          "base_uri": "https://localhost:8080/",
          "height": 369
        },
        "id": "cD2iZKFaCe0v",
        "outputId": "29160b58-0ccd-48fb-cb60-24e7b830df27"
      },
      "execution_count": 51,
      "outputs": [
        {
          "output_type": "execute_result",
          "data": {
            "text/plain": [
              "       country  Aircraft Strength value  Fighter/Interceptor Strength value  \\\n",
              "0  Afghanistan                      260                                   0   \n",
              "1      Albania                       19                                   0   \n",
              "2      Algeria                      551                                 103   \n",
              "3       Angola                      295                                  72   \n",
              "4    Argentina                      227                                  24   \n",
              "\n",
              "   Attack Aircraft Strength value  Transport Aircraft Fleet Strength value  \\\n",
              "0                              25                                       30   \n",
              "1                               0                                        0   \n",
              "2                              22                                       59   \n",
              "3                              18                                       30   \n",
              "4                               7                                        9   \n",
              "\n",
              "   Trainer Aircraft Fleet value  Helicopter Fleet Strength value  \\\n",
              "0                             0                              187   \n",
              "1                             0                               19   \n",
              "2                            87                              257   \n",
              "3                            47                              126   \n",
              "4                            64                              100   \n",
              "\n",
              "   Attack Helicopter Fleet Strength value  Tank Strength value  \\\n",
              "0                                       0                    0   \n",
              "1                                       0                    0   \n",
              "2                                      45                  880   \n",
              "3                                      15                  379   \n",
              "4                                       0                  370   \n",
              "\n",
              "   AFV/APC Strength value  ...  Airport Totals value  Oil Production value  \\\n",
              "0                    1062  ...                    43                   NaN   \n",
              "1                     467  ...                     4                   NaN   \n",
              "2                    7361  ...                   157             1306000.0   \n",
              "3                     595  ...                   176             1666000.0   \n",
              "4                     739  ...                  1138              479400.0   \n",
              "\n",
              "   Oil Consumption value  Proven Oil Reserves value  Available Manpower value  \\\n",
              "0                    NaN                        NaN                14325743.0   \n",
              "1                    NaN               1.683000e+08                 1519438.0   \n",
              "2               325000.0               1.220000e+10                20741263.0   \n",
              "3                    NaN               8.273000e+09                 6244205.0   \n",
              "4               685000.0               2.185000e+09                20179430.0   \n",
              "\n",
              "   Total Population value  Total Square Land Area value  \\\n",
              "0              34940837.0                      652230.0   \n",
              "1               3057220.0                           NaN   \n",
              "2              41657488.0                     2381741.0   \n",
              "3              30355880.0                     1246700.0   \n",
              "4              44694198.0                     2780400.0   \n",
              "\n",
              "   Total Coastline Coverage value  Total Waterway Coverage value  \\\n",
              "0                             0.0                         1200.0   \n",
              "1                           362.0                           41.0   \n",
              "2                           998.0                            0.0   \n",
              "3                          1600.0                         1300.0   \n",
              "4                          4989.0                        11000.0   \n",
              "\n",
              "   Total Border Coverage value  \n",
              "0                       5987.0  \n",
              "1                        691.0  \n",
              "2                       6734.0  \n",
              "3                       5369.0  \n",
              "4                      11968.0  \n",
              "\n",
              "[5 rows x 30 columns]"
            ],
            "text/html": [
              "\n",
              "  <div id=\"df-705388f0-125d-4c23-abe3-746032ceb0ae\">\n",
              "    <div class=\"colab-df-container\">\n",
              "      <div>\n",
              "<style scoped>\n",
              "    .dataframe tbody tr th:only-of-type {\n",
              "        vertical-align: middle;\n",
              "    }\n",
              "\n",
              "    .dataframe tbody tr th {\n",
              "        vertical-align: top;\n",
              "    }\n",
              "\n",
              "    .dataframe thead th {\n",
              "        text-align: right;\n",
              "    }\n",
              "</style>\n",
              "<table border=\"1\" class=\"dataframe\">\n",
              "  <thead>\n",
              "    <tr style=\"text-align: right;\">\n",
              "      <th></th>\n",
              "      <th>country</th>\n",
              "      <th>Aircraft Strength value</th>\n",
              "      <th>Fighter/Interceptor Strength value</th>\n",
              "      <th>Attack Aircraft Strength value</th>\n",
              "      <th>Transport Aircraft Fleet Strength value</th>\n",
              "      <th>Trainer Aircraft Fleet value</th>\n",
              "      <th>Helicopter Fleet Strength value</th>\n",
              "      <th>Attack Helicopter Fleet Strength value</th>\n",
              "      <th>Tank Strength value</th>\n",
              "      <th>AFV/APC Strength value</th>\n",
              "      <th>...</th>\n",
              "      <th>Airport Totals value</th>\n",
              "      <th>Oil Production value</th>\n",
              "      <th>Oil Consumption value</th>\n",
              "      <th>Proven Oil Reserves value</th>\n",
              "      <th>Available Manpower value</th>\n",
              "      <th>Total Population value</th>\n",
              "      <th>Total Square Land Area value</th>\n",
              "      <th>Total Coastline Coverage value</th>\n",
              "      <th>Total Waterway Coverage value</th>\n",
              "      <th>Total Border Coverage value</th>\n",
              "    </tr>\n",
              "  </thead>\n",
              "  <tbody>\n",
              "    <tr>\n",
              "      <th>0</th>\n",
              "      <td>Afghanistan</td>\n",
              "      <td>260</td>\n",
              "      <td>0</td>\n",
              "      <td>25</td>\n",
              "      <td>30</td>\n",
              "      <td>0</td>\n",
              "      <td>187</td>\n",
              "      <td>0</td>\n",
              "      <td>0</td>\n",
              "      <td>1062</td>\n",
              "      <td>...</td>\n",
              "      <td>43</td>\n",
              "      <td>NaN</td>\n",
              "      <td>NaN</td>\n",
              "      <td>NaN</td>\n",
              "      <td>14325743.0</td>\n",
              "      <td>34940837.0</td>\n",
              "      <td>652230.0</td>\n",
              "      <td>0.0</td>\n",
              "      <td>1200.0</td>\n",
              "      <td>5987.0</td>\n",
              "    </tr>\n",
              "    <tr>\n",
              "      <th>1</th>\n",
              "      <td>Albania</td>\n",
              "      <td>19</td>\n",
              "      <td>0</td>\n",
              "      <td>0</td>\n",
              "      <td>0</td>\n",
              "      <td>0</td>\n",
              "      <td>19</td>\n",
              "      <td>0</td>\n",
              "      <td>0</td>\n",
              "      <td>467</td>\n",
              "      <td>...</td>\n",
              "      <td>4</td>\n",
              "      <td>NaN</td>\n",
              "      <td>NaN</td>\n",
              "      <td>1.683000e+08</td>\n",
              "      <td>1519438.0</td>\n",
              "      <td>3057220.0</td>\n",
              "      <td>NaN</td>\n",
              "      <td>362.0</td>\n",
              "      <td>41.0</td>\n",
              "      <td>691.0</td>\n",
              "    </tr>\n",
              "    <tr>\n",
              "      <th>2</th>\n",
              "      <td>Algeria</td>\n",
              "      <td>551</td>\n",
              "      <td>103</td>\n",
              "      <td>22</td>\n",
              "      <td>59</td>\n",
              "      <td>87</td>\n",
              "      <td>257</td>\n",
              "      <td>45</td>\n",
              "      <td>880</td>\n",
              "      <td>7361</td>\n",
              "      <td>...</td>\n",
              "      <td>157</td>\n",
              "      <td>1306000.0</td>\n",
              "      <td>325000.0</td>\n",
              "      <td>1.220000e+10</td>\n",
              "      <td>20741263.0</td>\n",
              "      <td>41657488.0</td>\n",
              "      <td>2381741.0</td>\n",
              "      <td>998.0</td>\n",
              "      <td>0.0</td>\n",
              "      <td>6734.0</td>\n",
              "    </tr>\n",
              "    <tr>\n",
              "      <th>3</th>\n",
              "      <td>Angola</td>\n",
              "      <td>295</td>\n",
              "      <td>72</td>\n",
              "      <td>18</td>\n",
              "      <td>30</td>\n",
              "      <td>47</td>\n",
              "      <td>126</td>\n",
              "      <td>15</td>\n",
              "      <td>379</td>\n",
              "      <td>595</td>\n",
              "      <td>...</td>\n",
              "      <td>176</td>\n",
              "      <td>1666000.0</td>\n",
              "      <td>NaN</td>\n",
              "      <td>8.273000e+09</td>\n",
              "      <td>6244205.0</td>\n",
              "      <td>30355880.0</td>\n",
              "      <td>1246700.0</td>\n",
              "      <td>1600.0</td>\n",
              "      <td>1300.0</td>\n",
              "      <td>5369.0</td>\n",
              "    </tr>\n",
              "    <tr>\n",
              "      <th>4</th>\n",
              "      <td>Argentina</td>\n",
              "      <td>227</td>\n",
              "      <td>24</td>\n",
              "      <td>7</td>\n",
              "      <td>9</td>\n",
              "      <td>64</td>\n",
              "      <td>100</td>\n",
              "      <td>0</td>\n",
              "      <td>370</td>\n",
              "      <td>739</td>\n",
              "      <td>...</td>\n",
              "      <td>1138</td>\n",
              "      <td>479400.0</td>\n",
              "      <td>685000.0</td>\n",
              "      <td>2.185000e+09</td>\n",
              "      <td>20179430.0</td>\n",
              "      <td>44694198.0</td>\n",
              "      <td>2780400.0</td>\n",
              "      <td>4989.0</td>\n",
              "      <td>11000.0</td>\n",
              "      <td>11968.0</td>\n",
              "    </tr>\n",
              "  </tbody>\n",
              "</table>\n",
              "<p>5 rows × 30 columns</p>\n",
              "</div>\n",
              "      <button class=\"colab-df-convert\" onclick=\"convertToInteractive('df-705388f0-125d-4c23-abe3-746032ceb0ae')\"\n",
              "              title=\"Convert this dataframe to an interactive table.\"\n",
              "              style=\"display:none;\">\n",
              "        \n",
              "  <svg xmlns=\"http://www.w3.org/2000/svg\" height=\"24px\"viewBox=\"0 0 24 24\"\n",
              "       width=\"24px\">\n",
              "    <path d=\"M0 0h24v24H0V0z\" fill=\"none\"/>\n",
              "    <path d=\"M18.56 5.44l.94 2.06.94-2.06 2.06-.94-2.06-.94-.94-2.06-.94 2.06-2.06.94zm-11 1L8.5 8.5l.94-2.06 2.06-.94-2.06-.94L8.5 2.5l-.94 2.06-2.06.94zm10 10l.94 2.06.94-2.06 2.06-.94-2.06-.94-.94-2.06-.94 2.06-2.06.94z\"/><path d=\"M17.41 7.96l-1.37-1.37c-.4-.4-.92-.59-1.43-.59-.52 0-1.04.2-1.43.59L10.3 9.45l-7.72 7.72c-.78.78-.78 2.05 0 2.83L4 21.41c.39.39.9.59 1.41.59.51 0 1.02-.2 1.41-.59l7.78-7.78 2.81-2.81c.8-.78.8-2.07 0-2.86zM5.41 20L4 18.59l7.72-7.72 1.47 1.35L5.41 20z\"/>\n",
              "  </svg>\n",
              "      </button>\n",
              "      \n",
              "  <style>\n",
              "    .colab-df-container {\n",
              "      display:flex;\n",
              "      flex-wrap:wrap;\n",
              "      gap: 12px;\n",
              "    }\n",
              "\n",
              "    .colab-df-convert {\n",
              "      background-color: #E8F0FE;\n",
              "      border: none;\n",
              "      border-radius: 50%;\n",
              "      cursor: pointer;\n",
              "      display: none;\n",
              "      fill: #1967D2;\n",
              "      height: 32px;\n",
              "      padding: 0 0 0 0;\n",
              "      width: 32px;\n",
              "    }\n",
              "\n",
              "    .colab-df-convert:hover {\n",
              "      background-color: #E2EBFA;\n",
              "      box-shadow: 0px 1px 2px rgba(60, 64, 67, 0.3), 0px 1px 3px 1px rgba(60, 64, 67, 0.15);\n",
              "      fill: #174EA6;\n",
              "    }\n",
              "\n",
              "    [theme=dark] .colab-df-convert {\n",
              "      background-color: #3B4455;\n",
              "      fill: #D2E3FC;\n",
              "    }\n",
              "\n",
              "    [theme=dark] .colab-df-convert:hover {\n",
              "      background-color: #434B5C;\n",
              "      box-shadow: 0px 1px 3px 1px rgba(0, 0, 0, 0.15);\n",
              "      filter: drop-shadow(0px 1px 2px rgba(0, 0, 0, 0.3));\n",
              "      fill: #FFFFFF;\n",
              "    }\n",
              "  </style>\n",
              "\n",
              "      <script>\n",
              "        const buttonEl =\n",
              "          document.querySelector('#df-705388f0-125d-4c23-abe3-746032ceb0ae button.colab-df-convert');\n",
              "        buttonEl.style.display =\n",
              "          google.colab.kernel.accessAllowed ? 'block' : 'none';\n",
              "\n",
              "        async function convertToInteractive(key) {\n",
              "          const element = document.querySelector('#df-705388f0-125d-4c23-abe3-746032ceb0ae');\n",
              "          const dataTable =\n",
              "            await google.colab.kernel.invokeFunction('convertToInteractive',\n",
              "                                                     [key], {});\n",
              "          if (!dataTable) return;\n",
              "\n",
              "          const docLinkHtml = 'Like what you see? Visit the ' +\n",
              "            '<a target=\"_blank\" href=https://colab.research.google.com/notebooks/data_table.ipynb>data table notebook</a>'\n",
              "            + ' to learn more about interactive tables.';\n",
              "          element.innerHTML = '';\n",
              "          dataTable['output_type'] = 'display_data';\n",
              "          await google.colab.output.renderOutput(dataTable, element);\n",
              "          const docLink = document.createElement('div');\n",
              "          docLink.innerHTML = docLinkHtml;\n",
              "          element.appendChild(docLink);\n",
              "        }\n",
              "      </script>\n",
              "    </div>\n",
              "  </div>\n",
              "  "
            ]
          },
          "metadata": {},
          "execution_count": 51
        }
      ]
    },
    {
      "cell_type": "markdown",
      "metadata": {
        "id": "D-WNWchf8AKM"
      },
      "source": [
        "## Check for missing values "
      ]
    },
    {
      "cell_type": "code",
      "metadata": {
        "id": "Hp9q9ILT8AKN",
        "colab": {
          "base_uri": "https://localhost:8080/"
        },
        "outputId": "45545874-238d-426c-eea9-d55b3f82581b"
      },
      "source": [
        "new_df.isnull().sum()"
      ],
      "execution_count": 52,
      "outputs": [
        {
          "output_type": "execute_result",
          "data": {
            "text/plain": [
              "country                                     0\n",
              "Aircraft Strength value                     0\n",
              "Fighter/Interceptor Strength value          0\n",
              "Attack Aircraft Strength value              0\n",
              "Transport Aircraft Fleet Strength value     0\n",
              "Trainer Aircraft Fleet value                0\n",
              "Helicopter Fleet Strength value             0\n",
              "Attack Helicopter Fleet Strength value      0\n",
              "Tank Strength value                         0\n",
              "AFV/APC Strength value                      0\n",
              "Self-Propelled Artillery Strength value     0\n",
              "Towed Artillery Strength value              0\n",
              "Rocket Projector Strength value             0\n",
              "Navy Fleet Strengths value                 14\n",
              "Aircraft Carrier Fleet Strength value      23\n",
              "Submarine Fleet Strength value             23\n",
              "Destroyer Fleet Strength value             23\n",
              "Frigate Fleet Strength value               23\n",
              "defense spending budget value               0\n",
              "External Debt value                         0\n",
              "Airport Totals value                        0\n",
              "Oil Production value                       97\n",
              "Oil Consumption value                      61\n",
              "Proven Oil Reserves value                  46\n",
              "Available Manpower value                    0\n",
              "Total Population value                      0\n",
              "Total Square Land Area value               39\n",
              "Total Coastline Coverage value             29\n",
              "Total Waterway Coverage value               0\n",
              "Total Border Coverage value                 9\n",
              "dtype: int64"
            ]
          },
          "metadata": {},
          "execution_count": 52
        }
      ]
    },
    {
      "cell_type": "code",
      "source": [
        "new_df[\"Navy Fleet Strengths value\"].fillna(df2[\"Navy Fleet Strengths value\"].mean(), inplace=True)"
      ],
      "metadata": {
        "id": "Fh7nH0_fgg_b"
      },
      "execution_count": 53,
      "outputs": []
    },
    {
      "cell_type": "code",
      "source": [
        "new_df[\"Aircraft Carrier Fleet Strength value\"].fillna(df2[\"Aircraft Carrier Fleet Strength value\"].mean(), inplace=True)"
      ],
      "metadata": {
        "id": "Re8GDylGgr0I"
      },
      "execution_count": 54,
      "outputs": []
    },
    {
      "cell_type": "code",
      "source": [
        "new_df[\"Submarine Fleet Strength value\"].fillna(df2[\"Submarine Fleet Strength value\"].mean(), inplace=True)"
      ],
      "metadata": {
        "id": "N1NbcXplgwH3"
      },
      "execution_count": 55,
      "outputs": []
    },
    {
      "cell_type": "code",
      "source": [
        "new_df[\"Destroyer Fleet Strength value\"].fillna(df2[\"Destroyer Fleet Strength value\"].mean(), inplace=True)"
      ],
      "metadata": {
        "id": "s_qrG6hdg6wn"
      },
      "execution_count": 56,
      "outputs": []
    },
    {
      "cell_type": "code",
      "source": [
        "new_df[\"Frigate Fleet Strength value\"].fillna(df2[\"Frigate Fleet Strength value\"].mean(), inplace=True)"
      ],
      "metadata": {
        "id": "1eIdnAcpg63z"
      },
      "execution_count": 57,
      "outputs": []
    },
    {
      "cell_type": "code",
      "source": [
        "new_df[\"Oil Production value\"].fillna(df2[\"Oil Production value\"].mean(), inplace=True)"
      ],
      "metadata": {
        "id": "tg6nLQCng6-v"
      },
      "execution_count": 58,
      "outputs": []
    },
    {
      "cell_type": "code",
      "source": [
        "new_df[\"Oil Consumption value\"].fillna(df2[\"Oil Consumption value\"].mean(), inplace=True)"
      ],
      "metadata": {
        "id": "4mwtMQPhg7Lx"
      },
      "execution_count": 59,
      "outputs": []
    },
    {
      "cell_type": "code",
      "source": [
        "new_df[\"Proven Oil Reserves value\"].fillna(df2[\"Proven Oil Reserves value\"].mean(), inplace=True)"
      ],
      "metadata": {
        "id": "XA2VEzRchT1m"
      },
      "execution_count": 60,
      "outputs": []
    },
    {
      "cell_type": "code",
      "source": [
        "new_df[\"Total Square Land Area value\"].fillna(df2[\"Total Square Land Area value\"].mean(), inplace=True)"
      ],
      "metadata": {
        "id": "TYP6lYmnhabH"
      },
      "execution_count": 61,
      "outputs": []
    },
    {
      "cell_type": "code",
      "source": [
        "new_df[\"Total Coastline Coverage value\"].fillna(df2[\"Total Coastline Coverage value\"].mean(), inplace=True)"
      ],
      "metadata": {
        "id": "MfzQksRohbYv"
      },
      "execution_count": 62,
      "outputs": []
    },
    {
      "cell_type": "code",
      "source": [
        "new_df[\"Total Border Coverage value\"].fillna(df2[\"Total Border Coverage value\"].mean(), inplace=True)"
      ],
      "metadata": {
        "id": "8apQhPdLh0C0"
      },
      "execution_count": 63,
      "outputs": []
    },
    {
      "cell_type": "markdown",
      "metadata": {
        "id": "T-aAEYmI8AKN"
      },
      "source": [
        "## Deal with missing values \n",
        "* Hint-1, use wikipedia to fill in missing values ​​comparing with similar countries\n",
        "* Hint-2, Georeferences of countries can help you"
      ]
    },
    {
      "cell_type": "code",
      "metadata": {
        "id": "wtUZNcXq8AKN",
        "colab": {
          "base_uri": "https://localhost:8080/"
        },
        "outputId": "3ecfa680-d555-4f83-a64e-399a3a9e1337"
      },
      "source": [
        "new_df.isnull().sum()"
      ],
      "execution_count": 64,
      "outputs": [
        {
          "output_type": "execute_result",
          "data": {
            "text/plain": [
              "country                                    0\n",
              "Aircraft Strength value                    0\n",
              "Fighter/Interceptor Strength value         0\n",
              "Attack Aircraft Strength value             0\n",
              "Transport Aircraft Fleet Strength value    0\n",
              "Trainer Aircraft Fleet value               0\n",
              "Helicopter Fleet Strength value            0\n",
              "Attack Helicopter Fleet Strength value     0\n",
              "Tank Strength value                        0\n",
              "AFV/APC Strength value                     0\n",
              "Self-Propelled Artillery Strength value    0\n",
              "Towed Artillery Strength value             0\n",
              "Rocket Projector Strength value            0\n",
              "Navy Fleet Strengths value                 0\n",
              "Aircraft Carrier Fleet Strength value      0\n",
              "Submarine Fleet Strength value             0\n",
              "Destroyer Fleet Strength value             0\n",
              "Frigate Fleet Strength value               0\n",
              "defense spending budget value              0\n",
              "External Debt value                        0\n",
              "Airport Totals value                       0\n",
              "Oil Production value                       0\n",
              "Oil Consumption value                      0\n",
              "Proven Oil Reserves value                  0\n",
              "Available Manpower value                   0\n",
              "Total Population value                     0\n",
              "Total Square Land Area value               0\n",
              "Total Coastline Coverage value             0\n",
              "Total Waterway Coverage value              0\n",
              "Total Border Coverage value                0\n",
              "dtype: int64"
            ]
          },
          "metadata": {},
          "execution_count": 64
        }
      ]
    },
    {
      "cell_type": "markdown",
      "metadata": {
        "id": "OpG3lbXj8AKN"
      },
      "source": [
        "## Fix the dtypes"
      ]
    },
    {
      "cell_type": "code",
      "metadata": {
        "id": "uTPH08uK8AKO"
      },
      "source": [
        ""
      ],
      "execution_count": null,
      "outputs": []
    },
    {
      "cell_type": "markdown",
      "metadata": {
        "id": "hGGYZWU58AKO"
      },
      "source": [
        "## Drop the features that not affect military power\n",
        "* Hint-1,  Georeferences not proper features"
      ]
    },
    {
      "cell_type": "code",
      "metadata": {
        "id": "B09VrwdB8AKO"
      },
      "source": [
        ""
      ],
      "execution_count": null,
      "outputs": []
    },
    {
      "cell_type": "code",
      "execution_count": 65,
      "metadata": {
        "id": "VLK-9Q8h_mNi"
      },
      "outputs": [],
      "source": [
        "new_df.drop(['Total Square Land Area value',\n",
        "               'Total Coastline Coverage value',\n",
        "               'Total Waterway Coverage value',\n",
        "               'Total Border Coverage value'],axis=1,inplace=True)\n"
      ]
    },
    {
      "cell_type": "code",
      "source": [
        "new_df"
      ],
      "metadata": {
        "colab": {
          "base_uri": "https://localhost:8080/",
          "height": 557
        },
        "id": "fIFidNSsFCjG",
        "outputId": "8f54cad0-e90d-4de3-cbf4-91519b3cc8ad"
      },
      "execution_count": 66,
      "outputs": [
        {
          "output_type": "execute_result",
          "data": {
            "text/plain": [
              "         country  Aircraft Strength value  Fighter/Interceptor Strength value  \\\n",
              "0    Afghanistan                      260                                   0   \n",
              "1        Albania                       19                                   0   \n",
              "2        Algeria                      551                                 103   \n",
              "3         Angola                      295                                  72   \n",
              "4      Argentina                      227                                  24   \n",
              "..           ...                      ...                                 ...   \n",
              "133    Venezuela                      260                                  38   \n",
              "134      Vietnam                      293                                  77   \n",
              "135        Yemen                      169                                  77   \n",
              "136       Zambia                      108                                  18   \n",
              "137     Zimbabwe                       90                                  10   \n",
              "\n",
              "     Attack Aircraft Strength value  Transport Aircraft Fleet Strength value  \\\n",
              "0                                25                                       30   \n",
              "1                                 0                                        0   \n",
              "2                                22                                       59   \n",
              "3                                18                                       30   \n",
              "4                                 7                                        9   \n",
              "..                              ...                                      ...   \n",
              "133                               0                                       52   \n",
              "134                               0                                       38   \n",
              "135                               0                                        8   \n",
              "136                               0                                       11   \n",
              "137                               0                                       14   \n",
              "\n",
              "     Trainer Aircraft Fleet value  Helicopter Fleet Strength value  \\\n",
              "0                               0                              187   \n",
              "1                               0                               19   \n",
              "2                              87                              257   \n",
              "3                              47                              126   \n",
              "4                              64                              100   \n",
              "..                            ...                              ...   \n",
              "133                            82                               86   \n",
              "134                            36                              138   \n",
              "135                            21                               61   \n",
              "136                            52                               27   \n",
              "137                            38                               28   \n",
              "\n",
              "     Attack Helicopter Fleet Strength value  Tank Strength value  \\\n",
              "0                                         0                    0   \n",
              "1                                         0                    0   \n",
              "2                                        45                  880   \n",
              "3                                        15                  379   \n",
              "4                                         0                  370   \n",
              "..                                      ...                  ...   \n",
              "133                                      10                  390   \n",
              "134                                      25                 2615   \n",
              "135                                      14                  620   \n",
              "136                                       0                   75   \n",
              "137                                       6                   42   \n",
              "\n",
              "     AFV/APC Strength value  ...  Destroyer Fleet Strength value  \\\n",
              "0                      1062  ...                             0.0   \n",
              "1                       467  ...                             0.0   \n",
              "2                      7361  ...                             0.0   \n",
              "3                       595  ...                             0.0   \n",
              "4                       739  ...                             4.0   \n",
              "..                      ...  ...                             ...   \n",
              "133                     600  ...                             0.0   \n",
              "134                    2530  ...                             0.0   \n",
              "135                     615  ...                             0.0   \n",
              "136                     184  ...                             0.0   \n",
              "137                     300  ...                             0.0   \n",
              "\n",
              "     Frigate Fleet Strength value  defense spending budget value  \\\n",
              "0                             0.0                   1.200000e+10   \n",
              "1                             0.0                   2.500000e+08   \n",
              "2                             5.0                   1.300000e+10   \n",
              "3                             0.0                   7.000000e+09   \n",
              "4                             0.0                   4.200000e+09   \n",
              "..                            ...                            ...   \n",
              "133                           4.0                   7.450000e+08   \n",
              "134                           9.0                   5.500000e+09   \n",
              "135                           0.0                   1.400000e+09   \n",
              "136                           0.0                   4.000000e+07   \n",
              "137                           0.0                   1.000000e+08   \n",
              "\n",
              "     External Debt value  Airport Totals value  Oil Production value  \\\n",
              "0           2.840000e+09                    43          1.944295e+06   \n",
              "1           9.505000e+09                     4          1.944295e+06   \n",
              "2           6.260000e+09                   157          1.306000e+06   \n",
              "3           4.208000e+10                   176          1.666000e+06   \n",
              "4           2.149000e+11                  1138          4.794000e+05   \n",
              "..                   ...                   ...                   ...   \n",
              "133         1.003000e+11                   444          2.007000e+06   \n",
              "134         9.658000e+10                    45          2.714000e+05   \n",
              "135         7.068000e+09                    57          1.944295e+06   \n",
              "136         1.166000e+10                    88          1.944295e+06   \n",
              "137         9.357000e+09                   196          1.944295e+06   \n",
              "\n",
              "     Oil Consumption value  Proven Oil Reserves value  \\\n",
              "0             1.229558e+06               1.791618e+10   \n",
              "1             1.229558e+06               1.683000e+08   \n",
              "2             3.250000e+05               1.220000e+10   \n",
              "3             1.229558e+06               8.273000e+09   \n",
              "4             6.850000e+05               2.185000e+09   \n",
              "..                     ...                        ...   \n",
              "133           5.750000e+05               3.009000e+11   \n",
              "134           5.250000e+05               4.400000e+09   \n",
              "135           1.450000e+05               3.000000e+09   \n",
              "136           1.229558e+06               1.791618e+10   \n",
              "137           1.229558e+06               1.791618e+10   \n",
              "\n",
              "     Available Manpower value  Total Population value  \n",
              "0                  14325743.0              34940837.0  \n",
              "1                   1519438.0               3057220.0  \n",
              "2                  20741263.0              41657488.0  \n",
              "3                   6244205.0              30355880.0  \n",
              "4                  20179430.0              44694198.0  \n",
              "..                        ...                     ...  \n",
              "133                14260129.0              31689176.0  \n",
              "134                51043216.0              97040334.0  \n",
              "135                11266221.0              28667230.0  \n",
              "136                 6166905.0              16445079.0  \n",
              "137                 5584086.0              14030368.0  \n",
              "\n",
              "[138 rows x 26 columns]"
            ],
            "text/html": [
              "\n",
              "  <div id=\"df-dbfab5d8-b2b9-4f4d-864d-dfbafec74a1d\">\n",
              "    <div class=\"colab-df-container\">\n",
              "      <div>\n",
              "<style scoped>\n",
              "    .dataframe tbody tr th:only-of-type {\n",
              "        vertical-align: middle;\n",
              "    }\n",
              "\n",
              "    .dataframe tbody tr th {\n",
              "        vertical-align: top;\n",
              "    }\n",
              "\n",
              "    .dataframe thead th {\n",
              "        text-align: right;\n",
              "    }\n",
              "</style>\n",
              "<table border=\"1\" class=\"dataframe\">\n",
              "  <thead>\n",
              "    <tr style=\"text-align: right;\">\n",
              "      <th></th>\n",
              "      <th>country</th>\n",
              "      <th>Aircraft Strength value</th>\n",
              "      <th>Fighter/Interceptor Strength value</th>\n",
              "      <th>Attack Aircraft Strength value</th>\n",
              "      <th>Transport Aircraft Fleet Strength value</th>\n",
              "      <th>Trainer Aircraft Fleet value</th>\n",
              "      <th>Helicopter Fleet Strength value</th>\n",
              "      <th>Attack Helicopter Fleet Strength value</th>\n",
              "      <th>Tank Strength value</th>\n",
              "      <th>AFV/APC Strength value</th>\n",
              "      <th>...</th>\n",
              "      <th>Destroyer Fleet Strength value</th>\n",
              "      <th>Frigate Fleet Strength value</th>\n",
              "      <th>defense spending budget value</th>\n",
              "      <th>External Debt value</th>\n",
              "      <th>Airport Totals value</th>\n",
              "      <th>Oil Production value</th>\n",
              "      <th>Oil Consumption value</th>\n",
              "      <th>Proven Oil Reserves value</th>\n",
              "      <th>Available Manpower value</th>\n",
              "      <th>Total Population value</th>\n",
              "    </tr>\n",
              "  </thead>\n",
              "  <tbody>\n",
              "    <tr>\n",
              "      <th>0</th>\n",
              "      <td>Afghanistan</td>\n",
              "      <td>260</td>\n",
              "      <td>0</td>\n",
              "      <td>25</td>\n",
              "      <td>30</td>\n",
              "      <td>0</td>\n",
              "      <td>187</td>\n",
              "      <td>0</td>\n",
              "      <td>0</td>\n",
              "      <td>1062</td>\n",
              "      <td>...</td>\n",
              "      <td>0.0</td>\n",
              "      <td>0.0</td>\n",
              "      <td>1.200000e+10</td>\n",
              "      <td>2.840000e+09</td>\n",
              "      <td>43</td>\n",
              "      <td>1.944295e+06</td>\n",
              "      <td>1.229558e+06</td>\n",
              "      <td>1.791618e+10</td>\n",
              "      <td>14325743.0</td>\n",
              "      <td>34940837.0</td>\n",
              "    </tr>\n",
              "    <tr>\n",
              "      <th>1</th>\n",
              "      <td>Albania</td>\n",
              "      <td>19</td>\n",
              "      <td>0</td>\n",
              "      <td>0</td>\n",
              "      <td>0</td>\n",
              "      <td>0</td>\n",
              "      <td>19</td>\n",
              "      <td>0</td>\n",
              "      <td>0</td>\n",
              "      <td>467</td>\n",
              "      <td>...</td>\n",
              "      <td>0.0</td>\n",
              "      <td>0.0</td>\n",
              "      <td>2.500000e+08</td>\n",
              "      <td>9.505000e+09</td>\n",
              "      <td>4</td>\n",
              "      <td>1.944295e+06</td>\n",
              "      <td>1.229558e+06</td>\n",
              "      <td>1.683000e+08</td>\n",
              "      <td>1519438.0</td>\n",
              "      <td>3057220.0</td>\n",
              "    </tr>\n",
              "    <tr>\n",
              "      <th>2</th>\n",
              "      <td>Algeria</td>\n",
              "      <td>551</td>\n",
              "      <td>103</td>\n",
              "      <td>22</td>\n",
              "      <td>59</td>\n",
              "      <td>87</td>\n",
              "      <td>257</td>\n",
              "      <td>45</td>\n",
              "      <td>880</td>\n",
              "      <td>7361</td>\n",
              "      <td>...</td>\n",
              "      <td>0.0</td>\n",
              "      <td>5.0</td>\n",
              "      <td>1.300000e+10</td>\n",
              "      <td>6.260000e+09</td>\n",
              "      <td>157</td>\n",
              "      <td>1.306000e+06</td>\n",
              "      <td>3.250000e+05</td>\n",
              "      <td>1.220000e+10</td>\n",
              "      <td>20741263.0</td>\n",
              "      <td>41657488.0</td>\n",
              "    </tr>\n",
              "    <tr>\n",
              "      <th>3</th>\n",
              "      <td>Angola</td>\n",
              "      <td>295</td>\n",
              "      <td>72</td>\n",
              "      <td>18</td>\n",
              "      <td>30</td>\n",
              "      <td>47</td>\n",
              "      <td>126</td>\n",
              "      <td>15</td>\n",
              "      <td>379</td>\n",
              "      <td>595</td>\n",
              "      <td>...</td>\n",
              "      <td>0.0</td>\n",
              "      <td>0.0</td>\n",
              "      <td>7.000000e+09</td>\n",
              "      <td>4.208000e+10</td>\n",
              "      <td>176</td>\n",
              "      <td>1.666000e+06</td>\n",
              "      <td>1.229558e+06</td>\n",
              "      <td>8.273000e+09</td>\n",
              "      <td>6244205.0</td>\n",
              "      <td>30355880.0</td>\n",
              "    </tr>\n",
              "    <tr>\n",
              "      <th>4</th>\n",
              "      <td>Argentina</td>\n",
              "      <td>227</td>\n",
              "      <td>24</td>\n",
              "      <td>7</td>\n",
              "      <td>9</td>\n",
              "      <td>64</td>\n",
              "      <td>100</td>\n",
              "      <td>0</td>\n",
              "      <td>370</td>\n",
              "      <td>739</td>\n",
              "      <td>...</td>\n",
              "      <td>4.0</td>\n",
              "      <td>0.0</td>\n",
              "      <td>4.200000e+09</td>\n",
              "      <td>2.149000e+11</td>\n",
              "      <td>1138</td>\n",
              "      <td>4.794000e+05</td>\n",
              "      <td>6.850000e+05</td>\n",
              "      <td>2.185000e+09</td>\n",
              "      <td>20179430.0</td>\n",
              "      <td>44694198.0</td>\n",
              "    </tr>\n",
              "    <tr>\n",
              "      <th>...</th>\n",
              "      <td>...</td>\n",
              "      <td>...</td>\n",
              "      <td>...</td>\n",
              "      <td>...</td>\n",
              "      <td>...</td>\n",
              "      <td>...</td>\n",
              "      <td>...</td>\n",
              "      <td>...</td>\n",
              "      <td>...</td>\n",
              "      <td>...</td>\n",
              "      <td>...</td>\n",
              "      <td>...</td>\n",
              "      <td>...</td>\n",
              "      <td>...</td>\n",
              "      <td>...</td>\n",
              "      <td>...</td>\n",
              "      <td>...</td>\n",
              "      <td>...</td>\n",
              "      <td>...</td>\n",
              "      <td>...</td>\n",
              "      <td>...</td>\n",
              "    </tr>\n",
              "    <tr>\n",
              "      <th>133</th>\n",
              "      <td>Venezuela</td>\n",
              "      <td>260</td>\n",
              "      <td>38</td>\n",
              "      <td>0</td>\n",
              "      <td>52</td>\n",
              "      <td>82</td>\n",
              "      <td>86</td>\n",
              "      <td>10</td>\n",
              "      <td>390</td>\n",
              "      <td>600</td>\n",
              "      <td>...</td>\n",
              "      <td>0.0</td>\n",
              "      <td>4.0</td>\n",
              "      <td>7.450000e+08</td>\n",
              "      <td>1.003000e+11</td>\n",
              "      <td>444</td>\n",
              "      <td>2.007000e+06</td>\n",
              "      <td>5.750000e+05</td>\n",
              "      <td>3.009000e+11</td>\n",
              "      <td>14260129.0</td>\n",
              "      <td>31689176.0</td>\n",
              "    </tr>\n",
              "    <tr>\n",
              "      <th>134</th>\n",
              "      <td>Vietnam</td>\n",
              "      <td>293</td>\n",
              "      <td>77</td>\n",
              "      <td>0</td>\n",
              "      <td>38</td>\n",
              "      <td>36</td>\n",
              "      <td>138</td>\n",
              "      <td>25</td>\n",
              "      <td>2615</td>\n",
              "      <td>2530</td>\n",
              "      <td>...</td>\n",
              "      <td>0.0</td>\n",
              "      <td>9.0</td>\n",
              "      <td>5.500000e+09</td>\n",
              "      <td>9.658000e+10</td>\n",
              "      <td>45</td>\n",
              "      <td>2.714000e+05</td>\n",
              "      <td>5.250000e+05</td>\n",
              "      <td>4.400000e+09</td>\n",
              "      <td>51043216.0</td>\n",
              "      <td>97040334.0</td>\n",
              "    </tr>\n",
              "    <tr>\n",
              "      <th>135</th>\n",
              "      <td>Yemen</td>\n",
              "      <td>169</td>\n",
              "      <td>77</td>\n",
              "      <td>0</td>\n",
              "      <td>8</td>\n",
              "      <td>21</td>\n",
              "      <td>61</td>\n",
              "      <td>14</td>\n",
              "      <td>620</td>\n",
              "      <td>615</td>\n",
              "      <td>...</td>\n",
              "      <td>0.0</td>\n",
              "      <td>0.0</td>\n",
              "      <td>1.400000e+09</td>\n",
              "      <td>7.068000e+09</td>\n",
              "      <td>57</td>\n",
              "      <td>1.944295e+06</td>\n",
              "      <td>1.450000e+05</td>\n",
              "      <td>3.000000e+09</td>\n",
              "      <td>11266221.0</td>\n",
              "      <td>28667230.0</td>\n",
              "    </tr>\n",
              "    <tr>\n",
              "      <th>136</th>\n",
              "      <td>Zambia</td>\n",
              "      <td>108</td>\n",
              "      <td>18</td>\n",
              "      <td>0</td>\n",
              "      <td>11</td>\n",
              "      <td>52</td>\n",
              "      <td>27</td>\n",
              "      <td>0</td>\n",
              "      <td>75</td>\n",
              "      <td>184</td>\n",
              "      <td>...</td>\n",
              "      <td>0.0</td>\n",
              "      <td>0.0</td>\n",
              "      <td>4.000000e+07</td>\n",
              "      <td>1.166000e+10</td>\n",
              "      <td>88</td>\n",
              "      <td>1.944295e+06</td>\n",
              "      <td>1.229558e+06</td>\n",
              "      <td>1.791618e+10</td>\n",
              "      <td>6166905.0</td>\n",
              "      <td>16445079.0</td>\n",
              "    </tr>\n",
              "    <tr>\n",
              "      <th>137</th>\n",
              "      <td>Zimbabwe</td>\n",
              "      <td>90</td>\n",
              "      <td>10</td>\n",
              "      <td>0</td>\n",
              "      <td>14</td>\n",
              "      <td>38</td>\n",
              "      <td>28</td>\n",
              "      <td>6</td>\n",
              "      <td>42</td>\n",
              "      <td>300</td>\n",
              "      <td>...</td>\n",
              "      <td>0.0</td>\n",
              "      <td>0.0</td>\n",
              "      <td>1.000000e+08</td>\n",
              "      <td>9.357000e+09</td>\n",
              "      <td>196</td>\n",
              "      <td>1.944295e+06</td>\n",
              "      <td>1.229558e+06</td>\n",
              "      <td>1.791618e+10</td>\n",
              "      <td>5584086.0</td>\n",
              "      <td>14030368.0</td>\n",
              "    </tr>\n",
              "  </tbody>\n",
              "</table>\n",
              "<p>138 rows × 26 columns</p>\n",
              "</div>\n",
              "      <button class=\"colab-df-convert\" onclick=\"convertToInteractive('df-dbfab5d8-b2b9-4f4d-864d-dfbafec74a1d')\"\n",
              "              title=\"Convert this dataframe to an interactive table.\"\n",
              "              style=\"display:none;\">\n",
              "        \n",
              "  <svg xmlns=\"http://www.w3.org/2000/svg\" height=\"24px\"viewBox=\"0 0 24 24\"\n",
              "       width=\"24px\">\n",
              "    <path d=\"M0 0h24v24H0V0z\" fill=\"none\"/>\n",
              "    <path d=\"M18.56 5.44l.94 2.06.94-2.06 2.06-.94-2.06-.94-.94-2.06-.94 2.06-2.06.94zm-11 1L8.5 8.5l.94-2.06 2.06-.94-2.06-.94L8.5 2.5l-.94 2.06-2.06.94zm10 10l.94 2.06.94-2.06 2.06-.94-2.06-.94-.94-2.06-.94 2.06-2.06.94z\"/><path d=\"M17.41 7.96l-1.37-1.37c-.4-.4-.92-.59-1.43-.59-.52 0-1.04.2-1.43.59L10.3 9.45l-7.72 7.72c-.78.78-.78 2.05 0 2.83L4 21.41c.39.39.9.59 1.41.59.51 0 1.02-.2 1.41-.59l7.78-7.78 2.81-2.81c.8-.78.8-2.07 0-2.86zM5.41 20L4 18.59l7.72-7.72 1.47 1.35L5.41 20z\"/>\n",
              "  </svg>\n",
              "      </button>\n",
              "      \n",
              "  <style>\n",
              "    .colab-df-container {\n",
              "      display:flex;\n",
              "      flex-wrap:wrap;\n",
              "      gap: 12px;\n",
              "    }\n",
              "\n",
              "    .colab-df-convert {\n",
              "      background-color: #E8F0FE;\n",
              "      border: none;\n",
              "      border-radius: 50%;\n",
              "      cursor: pointer;\n",
              "      display: none;\n",
              "      fill: #1967D2;\n",
              "      height: 32px;\n",
              "      padding: 0 0 0 0;\n",
              "      width: 32px;\n",
              "    }\n",
              "\n",
              "    .colab-df-convert:hover {\n",
              "      background-color: #E2EBFA;\n",
              "      box-shadow: 0px 1px 2px rgba(60, 64, 67, 0.3), 0px 1px 3px 1px rgba(60, 64, 67, 0.15);\n",
              "      fill: #174EA6;\n",
              "    }\n",
              "\n",
              "    [theme=dark] .colab-df-convert {\n",
              "      background-color: #3B4455;\n",
              "      fill: #D2E3FC;\n",
              "    }\n",
              "\n",
              "    [theme=dark] .colab-df-convert:hover {\n",
              "      background-color: #434B5C;\n",
              "      box-shadow: 0px 1px 3px 1px rgba(0, 0, 0, 0.15);\n",
              "      filter: drop-shadow(0px 1px 2px rgba(0, 0, 0, 0.3));\n",
              "      fill: #FFFFFF;\n",
              "    }\n",
              "  </style>\n",
              "\n",
              "      <script>\n",
              "        const buttonEl =\n",
              "          document.querySelector('#df-dbfab5d8-b2b9-4f4d-864d-dfbafec74a1d button.colab-df-convert');\n",
              "        buttonEl.style.display =\n",
              "          google.colab.kernel.accessAllowed ? 'block' : 'none';\n",
              "\n",
              "        async function convertToInteractive(key) {\n",
              "          const element = document.querySelector('#df-dbfab5d8-b2b9-4f4d-864d-dfbafec74a1d');\n",
              "          const dataTable =\n",
              "            await google.colab.kernel.invokeFunction('convertToInteractive',\n",
              "                                                     [key], {});\n",
              "          if (!dataTable) return;\n",
              "\n",
              "          const docLinkHtml = 'Like what you see? Visit the ' +\n",
              "            '<a target=\"_blank\" href=https://colab.research.google.com/notebooks/data_table.ipynb>data table notebook</a>'\n",
              "            + ' to learn more about interactive tables.';\n",
              "          element.innerHTML = '';\n",
              "          dataTable['output_type'] = 'display_data';\n",
              "          await google.colab.output.renderOutput(dataTable, element);\n",
              "          const docLink = document.createElement('div');\n",
              "          docLink.innerHTML = docLinkHtml;\n",
              "          element.appendChild(docLink);\n",
              "        }\n",
              "      </script>\n",
              "    </div>\n",
              "  </div>\n",
              "  "
            ]
          },
          "metadata": {},
          "execution_count": 66
        }
      ]
    },
    {
      "cell_type": "markdown",
      "metadata": {
        "id": "_Q9a0ODT8AKO"
      },
      "source": [
        "## Visualy inspect the some features"
      ]
    },
    {
      "cell_type": "code",
      "metadata": {
        "id": "6xQ6MEDy8AKO",
        "colab": {
          "base_uri": "https://localhost:8080/"
        },
        "outputId": "60d148bb-e75f-471d-cc4e-fd70999b2614"
      },
      "source": [
        "new_df.info()"
      ],
      "execution_count": 67,
      "outputs": [
        {
          "output_type": "stream",
          "name": "stdout",
          "text": [
            "<class 'pandas.core.frame.DataFrame'>\n",
            "RangeIndex: 138 entries, 0 to 137\n",
            "Data columns (total 26 columns):\n",
            " #   Column                                   Non-Null Count  Dtype  \n",
            "---  ------                                   --------------  -----  \n",
            " 0   country                                  138 non-null    object \n",
            " 1   Aircraft Strength value                  138 non-null    int64  \n",
            " 2   Fighter/Interceptor Strength value       138 non-null    int64  \n",
            " 3   Attack Aircraft Strength value           138 non-null    int64  \n",
            " 4   Transport Aircraft Fleet Strength value  138 non-null    int64  \n",
            " 5   Trainer Aircraft Fleet value             138 non-null    int64  \n",
            " 6   Helicopter Fleet Strength value          138 non-null    int64  \n",
            " 7   Attack Helicopter Fleet Strength value   138 non-null    int64  \n",
            " 8   Tank Strength value                      138 non-null    int64  \n",
            " 9   AFV/APC Strength value                   138 non-null    int64  \n",
            " 10  Self-Propelled Artillery Strength value  138 non-null    int64  \n",
            " 11  Towed Artillery Strength value           138 non-null    int64  \n",
            " 12  Rocket Projector Strength value          138 non-null    int64  \n",
            " 13  Navy Fleet Strengths value               138 non-null    float64\n",
            " 14  Aircraft Carrier Fleet Strength value    138 non-null    float64\n",
            " 15  Submarine Fleet Strength value           138 non-null    float64\n",
            " 16  Destroyer Fleet Strength value           138 non-null    float64\n",
            " 17  Frigate Fleet Strength value             138 non-null    float64\n",
            " 18  defense spending budget value            138 non-null    float64\n",
            " 19  External Debt value                      138 non-null    float64\n",
            " 20  Airport Totals value                     138 non-null    int64  \n",
            " 21  Oil Production value                     138 non-null    float64\n",
            " 22  Oil Consumption value                    138 non-null    float64\n",
            " 23  Proven Oil Reserves value                138 non-null    float64\n",
            " 24  Available Manpower value                 138 non-null    float64\n",
            " 25  Total Population value                   138 non-null    float64\n",
            "dtypes: float64(12), int64(13), object(1)\n",
            "memory usage: 28.2+ KB\n"
          ]
        }
      ]
    },
    {
      "cell_type": "code",
      "source": [
        ""
      ],
      "metadata": {
        "id": "k-ASOUmpuPy4"
      },
      "execution_count": null,
      "outputs": []
    },
    {
      "cell_type": "code",
      "execution_count": 68,
      "metadata": {
        "id": "3Hh9pDEU_mNj"
      },
      "outputs": [],
      "source": [
        "import plotly.express as px "
      ]
    },
    {
      "cell_type": "code",
      "source": [
        "fig = px.bar(new_df,x= \"country\" , y = new_df[\"Aircraft Strength value\"])\n",
        "fig.show()"
      ],
      "metadata": {
        "colab": {
          "base_uri": "https://localhost:8080/",
          "height": 542
        },
        "id": "AODGujUBuY1m",
        "outputId": "880ebb36-924a-4b36-c5cf-62ec6bc00ee7"
      },
      "execution_count": 72,
      "outputs": [
        {
          "output_type": "display_data",
          "data": {
            "text/html": [
              "<html>\n",
              "<head><meta charset=\"utf-8\" /></head>\n",
              "<body>\n",
              "    <div>            <script src=\"https://cdnjs.cloudflare.com/ajax/libs/mathjax/2.7.5/MathJax.js?config=TeX-AMS-MML_SVG\"></script><script type=\"text/javascript\">if (window.MathJax) {MathJax.Hub.Config({SVG: {font: \"STIX-Web\"}});}</script>                <script type=\"text/javascript\">window.PlotlyConfig = {MathJaxConfig: 'local'};</script>\n",
              "        <script src=\"https://cdn.plot.ly/plotly-2.8.3.min.js\"></script>                <div id=\"77cb7cfe-1566-43c1-b24f-5d9c113b9153\" class=\"plotly-graph-div\" style=\"height:525px; width:100%;\"></div>            <script type=\"text/javascript\">                                    window.PLOTLYENV=window.PLOTLYENV || {};                                    if (document.getElementById(\"77cb7cfe-1566-43c1-b24f-5d9c113b9153\")) {                    Plotly.newPlot(                        \"77cb7cfe-1566-43c1-b24f-5d9c113b9153\",                        [{\"alignmentgroup\":\"True\",\"hovertemplate\":\"country=%{x}<br>Aircraft Strength value=%{y}<extra></extra>\",\"legendgroup\":\"\",\"marker\":{\"color\":\"#636efa\",\"pattern\":{\"shape\":\"\"}},\"name\":\"\",\"offsetgroup\":\"\",\"orientation\":\"v\",\"showlegend\":false,\"textposition\":\"auto\",\"x\":[\"Afghanistan\",\"Albania\",\"Algeria\",\"Angola\",\"Argentina\",\"Armenia\",\"Australia\",\"Austria\",\"Azerbaijan\",\"Bahrain\",\"Bangladesh\",\"Belarus\",\"Belgium\",\"Bhutan\",\"Bolivia\",\"Bosnia and Herzegovina\",\"Botswana\",\"Brazil\",\"Bulgaria\",\"Burkina Faso\",\"Cambodia\",\"Cameroon\",\"Canada\",\"Central African Republic\",\"Chad\",\"Chile\",\"China\",\"Colombia\",\"Croatia\",\"Cuba\",\"Czechia\",\"Democratic Republic of the Congo\",\"Denmark\",\"Dominican Republic\",\"Ecuador\",\"Egypt\",\"El Salvador\",\"Estonia\",\"Ethiopia\",\"Finland\",\"France\",\"Gabon\",\"Georgia\",\"Germany\",\"Ghana\",\"Greece\",\"Guatemala\",\"Honduras\",\"Hungary\",\"India\",\"Indonesia\",\"Iran\",\"Iraq\",\"Ireland\",\"Israel\",\"Italy\",\"Ivory Coast\",\"Japan\",\"Jordan\",\"Kazakhstan\",\"Kenya\",\"Kuwait\",\"Kyrgyzstan\",\"Laos\",\"Latvia\",\"Lebanon\",\"Liberia\",\"Libya\",\"Lithuania\",\"Madagascar\",\"Malaysia\",\"Mali\",\"Mauritania\",\"Mexico\",\"Moldova\",\"Mongolia\",\"Montenegro\",\"Morocco\",\"Mozambique\",\"Myanmar\",\"Namibia\",\"Nepal\",\"Netherlands\",\"New Zealand\",\"Nicaragua\",\"Niger\",\"Nigeria\",\"North Korea\",\"North Macedonia\",\"Norway\",\"Oman\",\"Pakistan\",\"Panama\",\"Paraguay\",\"Peru\",\"Philippines\",\"Poland\",\"Portugal\",\"Qatar\",\"Republic of the Congo\",\"Romania\",\"Russia\",\"Saudi Arabia\",\"Serbia\",\"Sierra Leone\",\"Singapore\",\"Slovakia\",\"Slovenia\",\"Somalia\",\"South Africa\",\"South Korea\",\"South Sudan\",\"Spain\",\"Sri Lanka\",\"Sudan\",\"Suriname\",\"Sweden\",\"Switzerland\",\"Syria\",\"Taiwan\",\"Tajikistan\",\"Tanzania\",\"Thailand\",\"Tunisia\",\"Turkey\",\"Turkmenistan\",\"Uganda\",\"Ukraine\",\"United Arab Emirates\",\"United Kingdom\",\"United States\",\"Uruguay\",\"Uzbekistan\",\"Venezuela\",\"Vietnam\",\"Yemen\",\"Zambia\",\"Zimbabwe\"],\"xaxis\":\"x\",\"y\":[260,19,551,295,227,64,464,120,147,109,177,202,148,2,69,19,45,715,63,16,22,29,385,3,35,282,3210,469,78,80,95,53,113,49,108,1054,51,7,86,194,1229,23,66,712,24,566,33,46,47,2123,462,509,348,19,589,860,8,1561,278,222,150,85,5,33,5,70,0,114,10,6,170,29,28,484,3,9,9,214,16,276,30,16,168,48,19,16,129,949,20,150,131,1372,39,33,273,171,457,90,123,13,143,4163,879,109,5,235,47,38,0,226,1649,19,512,77,190,3,204,169,456,744,25,34,570,147,1055,72,48,297,538,733,13264,50,185,260,293,169,108,90],\"yaxis\":\"y\",\"type\":\"bar\"}],                        {\"template\":{\"data\":{\"bar\":[{\"error_x\":{\"color\":\"#2a3f5f\"},\"error_y\":{\"color\":\"#2a3f5f\"},\"marker\":{\"line\":{\"color\":\"#E5ECF6\",\"width\":0.5},\"pattern\":{\"fillmode\":\"overlay\",\"size\":10,\"solidity\":0.2}},\"type\":\"bar\"}],\"barpolar\":[{\"marker\":{\"line\":{\"color\":\"#E5ECF6\",\"width\":0.5},\"pattern\":{\"fillmode\":\"overlay\",\"size\":10,\"solidity\":0.2}},\"type\":\"barpolar\"}],\"carpet\":[{\"aaxis\":{\"endlinecolor\":\"#2a3f5f\",\"gridcolor\":\"white\",\"linecolor\":\"white\",\"minorgridcolor\":\"white\",\"startlinecolor\":\"#2a3f5f\"},\"baxis\":{\"endlinecolor\":\"#2a3f5f\",\"gridcolor\":\"white\",\"linecolor\":\"white\",\"minorgridcolor\":\"white\",\"startlinecolor\":\"#2a3f5f\"},\"type\":\"carpet\"}],\"choropleth\":[{\"colorbar\":{\"outlinewidth\":0,\"ticks\":\"\"},\"type\":\"choropleth\"}],\"contour\":[{\"colorbar\":{\"outlinewidth\":0,\"ticks\":\"\"},\"colorscale\":[[0.0,\"#0d0887\"],[0.1111111111111111,\"#46039f\"],[0.2222222222222222,\"#7201a8\"],[0.3333333333333333,\"#9c179e\"],[0.4444444444444444,\"#bd3786\"],[0.5555555555555556,\"#d8576b\"],[0.6666666666666666,\"#ed7953\"],[0.7777777777777778,\"#fb9f3a\"],[0.8888888888888888,\"#fdca26\"],[1.0,\"#f0f921\"]],\"type\":\"contour\"}],\"contourcarpet\":[{\"colorbar\":{\"outlinewidth\":0,\"ticks\":\"\"},\"type\":\"contourcarpet\"}],\"heatmap\":[{\"colorbar\":{\"outlinewidth\":0,\"ticks\":\"\"},\"colorscale\":[[0.0,\"#0d0887\"],[0.1111111111111111,\"#46039f\"],[0.2222222222222222,\"#7201a8\"],[0.3333333333333333,\"#9c179e\"],[0.4444444444444444,\"#bd3786\"],[0.5555555555555556,\"#d8576b\"],[0.6666666666666666,\"#ed7953\"],[0.7777777777777778,\"#fb9f3a\"],[0.8888888888888888,\"#fdca26\"],[1.0,\"#f0f921\"]],\"type\":\"heatmap\"}],\"heatmapgl\":[{\"colorbar\":{\"outlinewidth\":0,\"ticks\":\"\"},\"colorscale\":[[0.0,\"#0d0887\"],[0.1111111111111111,\"#46039f\"],[0.2222222222222222,\"#7201a8\"],[0.3333333333333333,\"#9c179e\"],[0.4444444444444444,\"#bd3786\"],[0.5555555555555556,\"#d8576b\"],[0.6666666666666666,\"#ed7953\"],[0.7777777777777778,\"#fb9f3a\"],[0.8888888888888888,\"#fdca26\"],[1.0,\"#f0f921\"]],\"type\":\"heatmapgl\"}],\"histogram\":[{\"marker\":{\"pattern\":{\"fillmode\":\"overlay\",\"size\":10,\"solidity\":0.2}},\"type\":\"histogram\"}],\"histogram2d\":[{\"colorbar\":{\"outlinewidth\":0,\"ticks\":\"\"},\"colorscale\":[[0.0,\"#0d0887\"],[0.1111111111111111,\"#46039f\"],[0.2222222222222222,\"#7201a8\"],[0.3333333333333333,\"#9c179e\"],[0.4444444444444444,\"#bd3786\"],[0.5555555555555556,\"#d8576b\"],[0.6666666666666666,\"#ed7953\"],[0.7777777777777778,\"#fb9f3a\"],[0.8888888888888888,\"#fdca26\"],[1.0,\"#f0f921\"]],\"type\":\"histogram2d\"}],\"histogram2dcontour\":[{\"colorbar\":{\"outlinewidth\":0,\"ticks\":\"\"},\"colorscale\":[[0.0,\"#0d0887\"],[0.1111111111111111,\"#46039f\"],[0.2222222222222222,\"#7201a8\"],[0.3333333333333333,\"#9c179e\"],[0.4444444444444444,\"#bd3786\"],[0.5555555555555556,\"#d8576b\"],[0.6666666666666666,\"#ed7953\"],[0.7777777777777778,\"#fb9f3a\"],[0.8888888888888888,\"#fdca26\"],[1.0,\"#f0f921\"]],\"type\":\"histogram2dcontour\"}],\"mesh3d\":[{\"colorbar\":{\"outlinewidth\":0,\"ticks\":\"\"},\"type\":\"mesh3d\"}],\"parcoords\":[{\"line\":{\"colorbar\":{\"outlinewidth\":0,\"ticks\":\"\"}},\"type\":\"parcoords\"}],\"pie\":[{\"automargin\":true,\"type\":\"pie\"}],\"scatter\":[{\"marker\":{\"colorbar\":{\"outlinewidth\":0,\"ticks\":\"\"}},\"type\":\"scatter\"}],\"scatter3d\":[{\"line\":{\"colorbar\":{\"outlinewidth\":0,\"ticks\":\"\"}},\"marker\":{\"colorbar\":{\"outlinewidth\":0,\"ticks\":\"\"}},\"type\":\"scatter3d\"}],\"scattercarpet\":[{\"marker\":{\"colorbar\":{\"outlinewidth\":0,\"ticks\":\"\"}},\"type\":\"scattercarpet\"}],\"scattergeo\":[{\"marker\":{\"colorbar\":{\"outlinewidth\":0,\"ticks\":\"\"}},\"type\":\"scattergeo\"}],\"scattergl\":[{\"marker\":{\"colorbar\":{\"outlinewidth\":0,\"ticks\":\"\"}},\"type\":\"scattergl\"}],\"scattermapbox\":[{\"marker\":{\"colorbar\":{\"outlinewidth\":0,\"ticks\":\"\"}},\"type\":\"scattermapbox\"}],\"scatterpolar\":[{\"marker\":{\"colorbar\":{\"outlinewidth\":0,\"ticks\":\"\"}},\"type\":\"scatterpolar\"}],\"scatterpolargl\":[{\"marker\":{\"colorbar\":{\"outlinewidth\":0,\"ticks\":\"\"}},\"type\":\"scatterpolargl\"}],\"scatterternary\":[{\"marker\":{\"colorbar\":{\"outlinewidth\":0,\"ticks\":\"\"}},\"type\":\"scatterternary\"}],\"surface\":[{\"colorbar\":{\"outlinewidth\":0,\"ticks\":\"\"},\"colorscale\":[[0.0,\"#0d0887\"],[0.1111111111111111,\"#46039f\"],[0.2222222222222222,\"#7201a8\"],[0.3333333333333333,\"#9c179e\"],[0.4444444444444444,\"#bd3786\"],[0.5555555555555556,\"#d8576b\"],[0.6666666666666666,\"#ed7953\"],[0.7777777777777778,\"#fb9f3a\"],[0.8888888888888888,\"#fdca26\"],[1.0,\"#f0f921\"]],\"type\":\"surface\"}],\"table\":[{\"cells\":{\"fill\":{\"color\":\"#EBF0F8\"},\"line\":{\"color\":\"white\"}},\"header\":{\"fill\":{\"color\":\"#C8D4E3\"},\"line\":{\"color\":\"white\"}},\"type\":\"table\"}]},\"layout\":{\"annotationdefaults\":{\"arrowcolor\":\"#2a3f5f\",\"arrowhead\":0,\"arrowwidth\":1},\"autotypenumbers\":\"strict\",\"coloraxis\":{\"colorbar\":{\"outlinewidth\":0,\"ticks\":\"\"}},\"colorscale\":{\"diverging\":[[0,\"#8e0152\"],[0.1,\"#c51b7d\"],[0.2,\"#de77ae\"],[0.3,\"#f1b6da\"],[0.4,\"#fde0ef\"],[0.5,\"#f7f7f7\"],[0.6,\"#e6f5d0\"],[0.7,\"#b8e186\"],[0.8,\"#7fbc41\"],[0.9,\"#4d9221\"],[1,\"#276419\"]],\"sequential\":[[0.0,\"#0d0887\"],[0.1111111111111111,\"#46039f\"],[0.2222222222222222,\"#7201a8\"],[0.3333333333333333,\"#9c179e\"],[0.4444444444444444,\"#bd3786\"],[0.5555555555555556,\"#d8576b\"],[0.6666666666666666,\"#ed7953\"],[0.7777777777777778,\"#fb9f3a\"],[0.8888888888888888,\"#fdca26\"],[1.0,\"#f0f921\"]],\"sequentialminus\":[[0.0,\"#0d0887\"],[0.1111111111111111,\"#46039f\"],[0.2222222222222222,\"#7201a8\"],[0.3333333333333333,\"#9c179e\"],[0.4444444444444444,\"#bd3786\"],[0.5555555555555556,\"#d8576b\"],[0.6666666666666666,\"#ed7953\"],[0.7777777777777778,\"#fb9f3a\"],[0.8888888888888888,\"#fdca26\"],[1.0,\"#f0f921\"]]},\"colorway\":[\"#636efa\",\"#EF553B\",\"#00cc96\",\"#ab63fa\",\"#FFA15A\",\"#19d3f3\",\"#FF6692\",\"#B6E880\",\"#FF97FF\",\"#FECB52\"],\"font\":{\"color\":\"#2a3f5f\"},\"geo\":{\"bgcolor\":\"white\",\"lakecolor\":\"white\",\"landcolor\":\"#E5ECF6\",\"showlakes\":true,\"showland\":true,\"subunitcolor\":\"white\"},\"hoverlabel\":{\"align\":\"left\"},\"hovermode\":\"closest\",\"mapbox\":{\"style\":\"light\"},\"paper_bgcolor\":\"white\",\"plot_bgcolor\":\"#E5ECF6\",\"polar\":{\"angularaxis\":{\"gridcolor\":\"white\",\"linecolor\":\"white\",\"ticks\":\"\"},\"bgcolor\":\"#E5ECF6\",\"radialaxis\":{\"gridcolor\":\"white\",\"linecolor\":\"white\",\"ticks\":\"\"}},\"scene\":{\"xaxis\":{\"backgroundcolor\":\"#E5ECF6\",\"gridcolor\":\"white\",\"gridwidth\":2,\"linecolor\":\"white\",\"showbackground\":true,\"ticks\":\"\",\"zerolinecolor\":\"white\"},\"yaxis\":{\"backgroundcolor\":\"#E5ECF6\",\"gridcolor\":\"white\",\"gridwidth\":2,\"linecolor\":\"white\",\"showbackground\":true,\"ticks\":\"\",\"zerolinecolor\":\"white\"},\"zaxis\":{\"backgroundcolor\":\"#E5ECF6\",\"gridcolor\":\"white\",\"gridwidth\":2,\"linecolor\":\"white\",\"showbackground\":true,\"ticks\":\"\",\"zerolinecolor\":\"white\"}},\"shapedefaults\":{\"line\":{\"color\":\"#2a3f5f\"}},\"ternary\":{\"aaxis\":{\"gridcolor\":\"white\",\"linecolor\":\"white\",\"ticks\":\"\"},\"baxis\":{\"gridcolor\":\"white\",\"linecolor\":\"white\",\"ticks\":\"\"},\"bgcolor\":\"#E5ECF6\",\"caxis\":{\"gridcolor\":\"white\",\"linecolor\":\"white\",\"ticks\":\"\"}},\"title\":{\"x\":0.05},\"xaxis\":{\"automargin\":true,\"gridcolor\":\"white\",\"linecolor\":\"white\",\"ticks\":\"\",\"title\":{\"standoff\":15},\"zerolinecolor\":\"white\",\"zerolinewidth\":2},\"yaxis\":{\"automargin\":true,\"gridcolor\":\"white\",\"linecolor\":\"white\",\"ticks\":\"\",\"title\":{\"standoff\":15},\"zerolinecolor\":\"white\",\"zerolinewidth\":2}}},\"xaxis\":{\"anchor\":\"y\",\"domain\":[0.0,1.0],\"title\":{\"text\":\"country\"}},\"yaxis\":{\"anchor\":\"x\",\"domain\":[0.0,1.0],\"title\":{\"text\":\"Aircraft Strength value\"}},\"legend\":{\"tracegroupgap\":0},\"margin\":{\"t\":60},\"barmode\":\"relative\"},                        {\"responsive\": true}                    ).then(function(){\n",
              "                            \n",
              "var gd = document.getElementById('77cb7cfe-1566-43c1-b24f-5d9c113b9153');\n",
              "var x = new MutationObserver(function (mutations, observer) {{\n",
              "        var display = window.getComputedStyle(gd).display;\n",
              "        if (!display || display === 'none') {{\n",
              "            console.log([gd, 'removed!']);\n",
              "            Plotly.purge(gd);\n",
              "            observer.disconnect();\n",
              "        }}\n",
              "}});\n",
              "\n",
              "// Listen for the removal of the full notebook cells\n",
              "var notebookContainer = gd.closest('#notebook-container');\n",
              "if (notebookContainer) {{\n",
              "    x.observe(notebookContainer, {childList: true});\n",
              "}}\n",
              "\n",
              "// Listen for the clearing of the current output cell\n",
              "var outputEl = gd.closest('.output');\n",
              "if (outputEl) {{\n",
              "    x.observe(outputEl, {childList: true});\n",
              "}}\n",
              "\n",
              "                        })                };                            </script>        </div>\n",
              "</body>\n",
              "</html>"
            ]
          },
          "metadata": {}
        }
      ]
    },
    {
      "cell_type": "markdown",
      "metadata": {
        "id": "J4kKwd4y8AKP"
      },
      "source": [
        "## Decriptive statistics"
      ]
    },
    {
      "cell_type": "markdown",
      "metadata": {
        "id": "8WuFtB6i8AKP"
      },
      "source": [
        "# Data Preprocessing"
      ]
    },
    {
      "cell_type": "code",
      "metadata": {
        "id": "8PjRKofq8AKP",
        "colab": {
          "base_uri": "https://localhost:8080/",
          "height": 833
        },
        "outputId": "7490fe31-1fda-44bd-957c-b48e4675b010"
      },
      "source": [
        "new_df.describe().T"
      ],
      "execution_count": 73,
      "outputs": [
        {
          "output_type": "execute_result",
          "data": {
            "text/plain": [
              "                                         count          mean           std  \\\n",
              "Aircraft Strength value                  138.0  3.884710e+02  1.231982e+03   \n",
              "Fighter/Interceptor Strength value       138.0  8.156522e+01  2.303248e+02   \n",
              "Attack Aircraft Strength value           138.0  2.576087e+01  9.452822e+01   \n",
              "Transport Aircraft Fleet Strength value  138.0  3.023188e+01  9.233044e+01   \n",
              "Trainer Aircraft Fleet value             138.0  8.283333e+01  2.408037e+02   \n",
              "Helicopter Fleet Strength value          138.0  1.540652e+02  5.201836e+02   \n",
              "Attack Helicopter Fleet Strength value   138.0  2.562319e+01  9.732609e+01   \n",
              "Tank Strength value                      138.0  6.465652e+02  1.515464e+03   \n",
              "AFV/APC Strength value                   138.0  2.485696e+03  5.410546e+03   \n",
              "Self-Propelled Artillery Strength value  138.0  2.121594e+02  6.880290e+02   \n",
              "Towed Artillery Strength value           138.0  3.939783e+02  8.057817e+02   \n",
              "Rocket Projector Strength value          138.0  1.569348e+02  4.843810e+02   \n",
              "Navy Fleet Strengths value               138.0  8.498387e+01  1.384473e+02   \n",
              "Aircraft Carrier Fleet Strength value    138.0  3.826087e-01  1.798550e+00   \n",
              "Submarine Fleet Strength value           138.0  4.800000e+00  1.250355e+01   \n",
              "Destroyer Fleet Strength value           138.0  2.052174e+00  9.122718e+00   \n",
              "Frigate Fleet Strength value             138.0  3.521739e+00  5.912189e+00   \n",
              "defense spending budget value            138.0  1.399363e+10  6.731189e+10   \n",
              "External Debt value                      138.0  5.194983e+11  1.847252e+12   \n",
              "Airport Totals value                     138.0  2.900435e+02  1.212967e+03   \n",
              "Oil Production value                     138.0  1.944295e+06  1.411745e+06   \n",
              "Oil Consumption value                    138.0  1.229558e+06  2.085559e+06   \n",
              "Proven Oil Reserves value                138.0  1.791618e+10  4.190213e+10   \n",
              "Available Manpower value                 138.0  2.544297e+07  8.450698e+07   \n",
              "Total Population value                   138.0  5.318058e+07  1.651090e+08   \n",
              "\n",
              "                                                 min           25%  \\\n",
              "Aircraft Strength value                          0.0  3.300000e+01   \n",
              "Fighter/Interceptor Strength value               0.0  0.000000e+00   \n",
              "Attack Aircraft Strength value                   0.0  0.000000e+00   \n",
              "Transport Aircraft Fleet Strength value          0.0  3.000000e+00   \n",
              "Trainer Aircraft Fleet value                     0.0  4.250000e+00   \n",
              "Helicopter Fleet Strength value                  0.0  1.525000e+01   \n",
              "Attack Helicopter Fleet Strength value           0.0  0.000000e+00   \n",
              "Tank Strength value                              0.0  1.925000e+01   \n",
              "AFV/APC Strength value                           0.0  2.502500e+02   \n",
              "Self-Propelled Artillery Strength value          0.0  0.000000e+00   \n",
              "Towed Artillery Strength value                   0.0  2.425000e+01   \n",
              "Rocket Projector Strength value                  0.0  0.000000e+00   \n",
              "Navy Fleet Strengths value                       0.0  1.275000e+01   \n",
              "Aircraft Carrier Fleet Strength value            0.0  0.000000e+00   \n",
              "Submarine Fleet Strength value                   0.0  0.000000e+00   \n",
              "Destroyer Fleet Strength value                   0.0  0.000000e+00   \n",
              "Frigate Fleet Strength value                     0.0  0.000000e+00   \n",
              "defense spending budget value             13000000.0  3.255000e+08   \n",
              "External Debt value                      539400000.0  9.361500e+09   \n",
              "Airport Totals value                             2.0  3.350000e+01   \n",
              "Oil Production value                        102300.0  1.944295e+06   \n",
              "Oil Consumption value                       100000.0  3.037500e+05   \n",
              "Proven Oil Reserves value                   428000.0  1.500000e+08   \n",
              "Available Manpower value                    132740.0  2.618384e+06   \n",
              "Total Population value                      597927.0  5.819450e+06   \n",
              "\n",
              "                                                  50%           75%  \\\n",
              "Aircraft Strength value                  1.110000e+02  2.902500e+02   \n",
              "Fighter/Interceptor Strength value       1.700000e+01  6.050000e+01   \n",
              "Attack Aircraft Strength value           0.000000e+00  1.575000e+01   \n",
              "Transport Aircraft Fleet Strength value  9.000000e+00  2.600000e+01   \n",
              "Trainer Aircraft Fleet value             2.600000e+01  7.925000e+01   \n",
              "Helicopter Fleet Strength value          4.400000e+01  1.267500e+02   \n",
              "Attack Helicopter Fleet Strength value   2.000000e+00  1.775000e+01   \n",
              "Tank Strength value                      1.530000e+02  4.362500e+02   \n",
              "AFV/APC Strength value                   7.345000e+02  2.000000e+03   \n",
              "Self-Propelled Artillery Strength value  2.300000e+01  9.725000e+01   \n",
              "Towed Artillery Strength value           1.080000e+02  2.965000e+02   \n",
              "Rocket Projector Strength value          2.400000e+01  9.975000e+01   \n",
              "Navy Fleet Strengths value               4.800000e+01  8.498387e+01   \n",
              "Aircraft Carrier Fleet Strength value    0.000000e+00  3.826087e-01   \n",
              "Submarine Fleet Strength value           0.000000e+00  4.800000e+00   \n",
              "Destroyer Fleet Strength value           0.000000e+00  1.500000e+00   \n",
              "Frigate Fleet Strength value             2.000000e+00  4.000000e+00   \n",
              "defense spending budget value            2.100909e+09  6.957750e+09   \n",
              "External Debt value                      3.997000e+10  1.830250e+11   \n",
              "Airport Totals value                     6.800000e+01  1.507500e+02   \n",
              "Oil Production value                     1.944295e+06  1.944295e+06   \n",
              "Oil Consumption value                    1.229558e+06  1.229558e+06   \n",
              "Proven Oil Reserves value                4.810500e+09  1.791618e+10   \n",
              "Available Manpower value                 5.986089e+06  1.756708e+07   \n",
              "Total Population value                   1.613910e+07  4.068887e+07   \n",
              "\n",
              "                                                  max  \n",
              "Aircraft Strength value                  1.326400e+04  \n",
              "Fighter/Interceptor Strength value       2.085000e+03  \n",
              "Attack Aircraft Strength value           7.420000e+02  \n",
              "Transport Aircraft Fleet Strength value  9.450000e+02  \n",
              "Trainer Aircraft Fleet value             2.643000e+03  \n",
              "Helicopter Fleet Strength value          5.768000e+03  \n",
              "Attack Helicopter Fleet Strength value   9.670000e+02  \n",
              "Tank Strength value                      1.295000e+04  \n",
              "AFV/APC Strength value                   3.925300e+04  \n",
              "Self-Propelled Artillery Strength value  6.083000e+03  \n",
              "Towed Artillery Strength value           4.465000e+03  \n",
              "Rocket Projector Strength value          3.860000e+03  \n",
              "Navy Fleet Strengths value               9.840000e+02  \n",
              "Aircraft Carrier Fleet Strength value    2.000000e+01  \n",
              "Submarine Fleet Strength value           8.300000e+01  \n",
              "Destroyer Fleet Strength value           9.100000e+01  \n",
              "Frigate Fleet Strength value             5.200000e+01  \n",
              "defense spending budget value            7.500000e+11  \n",
              "External Debt value                      1.791000e+13  \n",
              "Airport Totals value                     1.351300e+04  \n",
              "Oil Production value                     1.058000e+07  \n",
              "Oil Consumption value                    2.000000e+07  \n",
              "Proven Oil Reserves value                3.009000e+11  \n",
              "Available Manpower value                 7.528554e+08  \n",
              "Total Population value                   1.384689e+09  "
            ],
            "text/html": [
              "\n",
              "  <div id=\"df-50f90c3b-2339-49be-a136-7d633e84bcbf\">\n",
              "    <div class=\"colab-df-container\">\n",
              "      <div>\n",
              "<style scoped>\n",
              "    .dataframe tbody tr th:only-of-type {\n",
              "        vertical-align: middle;\n",
              "    }\n",
              "\n",
              "    .dataframe tbody tr th {\n",
              "        vertical-align: top;\n",
              "    }\n",
              "\n",
              "    .dataframe thead th {\n",
              "        text-align: right;\n",
              "    }\n",
              "</style>\n",
              "<table border=\"1\" class=\"dataframe\">\n",
              "  <thead>\n",
              "    <tr style=\"text-align: right;\">\n",
              "      <th></th>\n",
              "      <th>count</th>\n",
              "      <th>mean</th>\n",
              "      <th>std</th>\n",
              "      <th>min</th>\n",
              "      <th>25%</th>\n",
              "      <th>50%</th>\n",
              "      <th>75%</th>\n",
              "      <th>max</th>\n",
              "    </tr>\n",
              "  </thead>\n",
              "  <tbody>\n",
              "    <tr>\n",
              "      <th>Aircraft Strength value</th>\n",
              "      <td>138.0</td>\n",
              "      <td>3.884710e+02</td>\n",
              "      <td>1.231982e+03</td>\n",
              "      <td>0.0</td>\n",
              "      <td>3.300000e+01</td>\n",
              "      <td>1.110000e+02</td>\n",
              "      <td>2.902500e+02</td>\n",
              "      <td>1.326400e+04</td>\n",
              "    </tr>\n",
              "    <tr>\n",
              "      <th>Fighter/Interceptor Strength value</th>\n",
              "      <td>138.0</td>\n",
              "      <td>8.156522e+01</td>\n",
              "      <td>2.303248e+02</td>\n",
              "      <td>0.0</td>\n",
              "      <td>0.000000e+00</td>\n",
              "      <td>1.700000e+01</td>\n",
              "      <td>6.050000e+01</td>\n",
              "      <td>2.085000e+03</td>\n",
              "    </tr>\n",
              "    <tr>\n",
              "      <th>Attack Aircraft Strength value</th>\n",
              "      <td>138.0</td>\n",
              "      <td>2.576087e+01</td>\n",
              "      <td>9.452822e+01</td>\n",
              "      <td>0.0</td>\n",
              "      <td>0.000000e+00</td>\n",
              "      <td>0.000000e+00</td>\n",
              "      <td>1.575000e+01</td>\n",
              "      <td>7.420000e+02</td>\n",
              "    </tr>\n",
              "    <tr>\n",
              "      <th>Transport Aircraft Fleet Strength value</th>\n",
              "      <td>138.0</td>\n",
              "      <td>3.023188e+01</td>\n",
              "      <td>9.233044e+01</td>\n",
              "      <td>0.0</td>\n",
              "      <td>3.000000e+00</td>\n",
              "      <td>9.000000e+00</td>\n",
              "      <td>2.600000e+01</td>\n",
              "      <td>9.450000e+02</td>\n",
              "    </tr>\n",
              "    <tr>\n",
              "      <th>Trainer Aircraft Fleet value</th>\n",
              "      <td>138.0</td>\n",
              "      <td>8.283333e+01</td>\n",
              "      <td>2.408037e+02</td>\n",
              "      <td>0.0</td>\n",
              "      <td>4.250000e+00</td>\n",
              "      <td>2.600000e+01</td>\n",
              "      <td>7.925000e+01</td>\n",
              "      <td>2.643000e+03</td>\n",
              "    </tr>\n",
              "    <tr>\n",
              "      <th>Helicopter Fleet Strength value</th>\n",
              "      <td>138.0</td>\n",
              "      <td>1.540652e+02</td>\n",
              "      <td>5.201836e+02</td>\n",
              "      <td>0.0</td>\n",
              "      <td>1.525000e+01</td>\n",
              "      <td>4.400000e+01</td>\n",
              "      <td>1.267500e+02</td>\n",
              "      <td>5.768000e+03</td>\n",
              "    </tr>\n",
              "    <tr>\n",
              "      <th>Attack Helicopter Fleet Strength value</th>\n",
              "      <td>138.0</td>\n",
              "      <td>2.562319e+01</td>\n",
              "      <td>9.732609e+01</td>\n",
              "      <td>0.0</td>\n",
              "      <td>0.000000e+00</td>\n",
              "      <td>2.000000e+00</td>\n",
              "      <td>1.775000e+01</td>\n",
              "      <td>9.670000e+02</td>\n",
              "    </tr>\n",
              "    <tr>\n",
              "      <th>Tank Strength value</th>\n",
              "      <td>138.0</td>\n",
              "      <td>6.465652e+02</td>\n",
              "      <td>1.515464e+03</td>\n",
              "      <td>0.0</td>\n",
              "      <td>1.925000e+01</td>\n",
              "      <td>1.530000e+02</td>\n",
              "      <td>4.362500e+02</td>\n",
              "      <td>1.295000e+04</td>\n",
              "    </tr>\n",
              "    <tr>\n",
              "      <th>AFV/APC Strength value</th>\n",
              "      <td>138.0</td>\n",
              "      <td>2.485696e+03</td>\n",
              "      <td>5.410546e+03</td>\n",
              "      <td>0.0</td>\n",
              "      <td>2.502500e+02</td>\n",
              "      <td>7.345000e+02</td>\n",
              "      <td>2.000000e+03</td>\n",
              "      <td>3.925300e+04</td>\n",
              "    </tr>\n",
              "    <tr>\n",
              "      <th>Self-Propelled Artillery Strength value</th>\n",
              "      <td>138.0</td>\n",
              "      <td>2.121594e+02</td>\n",
              "      <td>6.880290e+02</td>\n",
              "      <td>0.0</td>\n",
              "      <td>0.000000e+00</td>\n",
              "      <td>2.300000e+01</td>\n",
              "      <td>9.725000e+01</td>\n",
              "      <td>6.083000e+03</td>\n",
              "    </tr>\n",
              "    <tr>\n",
              "      <th>Towed Artillery Strength value</th>\n",
              "      <td>138.0</td>\n",
              "      <td>3.939783e+02</td>\n",
              "      <td>8.057817e+02</td>\n",
              "      <td>0.0</td>\n",
              "      <td>2.425000e+01</td>\n",
              "      <td>1.080000e+02</td>\n",
              "      <td>2.965000e+02</td>\n",
              "      <td>4.465000e+03</td>\n",
              "    </tr>\n",
              "    <tr>\n",
              "      <th>Rocket Projector Strength value</th>\n",
              "      <td>138.0</td>\n",
              "      <td>1.569348e+02</td>\n",
              "      <td>4.843810e+02</td>\n",
              "      <td>0.0</td>\n",
              "      <td>0.000000e+00</td>\n",
              "      <td>2.400000e+01</td>\n",
              "      <td>9.975000e+01</td>\n",
              "      <td>3.860000e+03</td>\n",
              "    </tr>\n",
              "    <tr>\n",
              "      <th>Navy Fleet Strengths value</th>\n",
              "      <td>138.0</td>\n",
              "      <td>8.498387e+01</td>\n",
              "      <td>1.384473e+02</td>\n",
              "      <td>0.0</td>\n",
              "      <td>1.275000e+01</td>\n",
              "      <td>4.800000e+01</td>\n",
              "      <td>8.498387e+01</td>\n",
              "      <td>9.840000e+02</td>\n",
              "    </tr>\n",
              "    <tr>\n",
              "      <th>Aircraft Carrier Fleet Strength value</th>\n",
              "      <td>138.0</td>\n",
              "      <td>3.826087e-01</td>\n",
              "      <td>1.798550e+00</td>\n",
              "      <td>0.0</td>\n",
              "      <td>0.000000e+00</td>\n",
              "      <td>0.000000e+00</td>\n",
              "      <td>3.826087e-01</td>\n",
              "      <td>2.000000e+01</td>\n",
              "    </tr>\n",
              "    <tr>\n",
              "      <th>Submarine Fleet Strength value</th>\n",
              "      <td>138.0</td>\n",
              "      <td>4.800000e+00</td>\n",
              "      <td>1.250355e+01</td>\n",
              "      <td>0.0</td>\n",
              "      <td>0.000000e+00</td>\n",
              "      <td>0.000000e+00</td>\n",
              "      <td>4.800000e+00</td>\n",
              "      <td>8.300000e+01</td>\n",
              "    </tr>\n",
              "    <tr>\n",
              "      <th>Destroyer Fleet Strength value</th>\n",
              "      <td>138.0</td>\n",
              "      <td>2.052174e+00</td>\n",
              "      <td>9.122718e+00</td>\n",
              "      <td>0.0</td>\n",
              "      <td>0.000000e+00</td>\n",
              "      <td>0.000000e+00</td>\n",
              "      <td>1.500000e+00</td>\n",
              "      <td>9.100000e+01</td>\n",
              "    </tr>\n",
              "    <tr>\n",
              "      <th>Frigate Fleet Strength value</th>\n",
              "      <td>138.0</td>\n",
              "      <td>3.521739e+00</td>\n",
              "      <td>5.912189e+00</td>\n",
              "      <td>0.0</td>\n",
              "      <td>0.000000e+00</td>\n",
              "      <td>2.000000e+00</td>\n",
              "      <td>4.000000e+00</td>\n",
              "      <td>5.200000e+01</td>\n",
              "    </tr>\n",
              "    <tr>\n",
              "      <th>defense spending budget value</th>\n",
              "      <td>138.0</td>\n",
              "      <td>1.399363e+10</td>\n",
              "      <td>6.731189e+10</td>\n",
              "      <td>13000000.0</td>\n",
              "      <td>3.255000e+08</td>\n",
              "      <td>2.100909e+09</td>\n",
              "      <td>6.957750e+09</td>\n",
              "      <td>7.500000e+11</td>\n",
              "    </tr>\n",
              "    <tr>\n",
              "      <th>External Debt value</th>\n",
              "      <td>138.0</td>\n",
              "      <td>5.194983e+11</td>\n",
              "      <td>1.847252e+12</td>\n",
              "      <td>539400000.0</td>\n",
              "      <td>9.361500e+09</td>\n",
              "      <td>3.997000e+10</td>\n",
              "      <td>1.830250e+11</td>\n",
              "      <td>1.791000e+13</td>\n",
              "    </tr>\n",
              "    <tr>\n",
              "      <th>Airport Totals value</th>\n",
              "      <td>138.0</td>\n",
              "      <td>2.900435e+02</td>\n",
              "      <td>1.212967e+03</td>\n",
              "      <td>2.0</td>\n",
              "      <td>3.350000e+01</td>\n",
              "      <td>6.800000e+01</td>\n",
              "      <td>1.507500e+02</td>\n",
              "      <td>1.351300e+04</td>\n",
              "    </tr>\n",
              "    <tr>\n",
              "      <th>Oil Production value</th>\n",
              "      <td>138.0</td>\n",
              "      <td>1.944295e+06</td>\n",
              "      <td>1.411745e+06</td>\n",
              "      <td>102300.0</td>\n",
              "      <td>1.944295e+06</td>\n",
              "      <td>1.944295e+06</td>\n",
              "      <td>1.944295e+06</td>\n",
              "      <td>1.058000e+07</td>\n",
              "    </tr>\n",
              "    <tr>\n",
              "      <th>Oil Consumption value</th>\n",
              "      <td>138.0</td>\n",
              "      <td>1.229558e+06</td>\n",
              "      <td>2.085559e+06</td>\n",
              "      <td>100000.0</td>\n",
              "      <td>3.037500e+05</td>\n",
              "      <td>1.229558e+06</td>\n",
              "      <td>1.229558e+06</td>\n",
              "      <td>2.000000e+07</td>\n",
              "    </tr>\n",
              "    <tr>\n",
              "      <th>Proven Oil Reserves value</th>\n",
              "      <td>138.0</td>\n",
              "      <td>1.791618e+10</td>\n",
              "      <td>4.190213e+10</td>\n",
              "      <td>428000.0</td>\n",
              "      <td>1.500000e+08</td>\n",
              "      <td>4.810500e+09</td>\n",
              "      <td>1.791618e+10</td>\n",
              "      <td>3.009000e+11</td>\n",
              "    </tr>\n",
              "    <tr>\n",
              "      <th>Available Manpower value</th>\n",
              "      <td>138.0</td>\n",
              "      <td>2.544297e+07</td>\n",
              "      <td>8.450698e+07</td>\n",
              "      <td>132740.0</td>\n",
              "      <td>2.618384e+06</td>\n",
              "      <td>5.986089e+06</td>\n",
              "      <td>1.756708e+07</td>\n",
              "      <td>7.528554e+08</td>\n",
              "    </tr>\n",
              "    <tr>\n",
              "      <th>Total Population value</th>\n",
              "      <td>138.0</td>\n",
              "      <td>5.318058e+07</td>\n",
              "      <td>1.651090e+08</td>\n",
              "      <td>597927.0</td>\n",
              "      <td>5.819450e+06</td>\n",
              "      <td>1.613910e+07</td>\n",
              "      <td>4.068887e+07</td>\n",
              "      <td>1.384689e+09</td>\n",
              "    </tr>\n",
              "  </tbody>\n",
              "</table>\n",
              "</div>\n",
              "      <button class=\"colab-df-convert\" onclick=\"convertToInteractive('df-50f90c3b-2339-49be-a136-7d633e84bcbf')\"\n",
              "              title=\"Convert this dataframe to an interactive table.\"\n",
              "              style=\"display:none;\">\n",
              "        \n",
              "  <svg xmlns=\"http://www.w3.org/2000/svg\" height=\"24px\"viewBox=\"0 0 24 24\"\n",
              "       width=\"24px\">\n",
              "    <path d=\"M0 0h24v24H0V0z\" fill=\"none\"/>\n",
              "    <path d=\"M18.56 5.44l.94 2.06.94-2.06 2.06-.94-2.06-.94-.94-2.06-.94 2.06-2.06.94zm-11 1L8.5 8.5l.94-2.06 2.06-.94-2.06-.94L8.5 2.5l-.94 2.06-2.06.94zm10 10l.94 2.06.94-2.06 2.06-.94-2.06-.94-.94-2.06-.94 2.06-2.06.94z\"/><path d=\"M17.41 7.96l-1.37-1.37c-.4-.4-.92-.59-1.43-.59-.52 0-1.04.2-1.43.59L10.3 9.45l-7.72 7.72c-.78.78-.78 2.05 0 2.83L4 21.41c.39.39.9.59 1.41.59.51 0 1.02-.2 1.41-.59l7.78-7.78 2.81-2.81c.8-.78.8-2.07 0-2.86zM5.41 20L4 18.59l7.72-7.72 1.47 1.35L5.41 20z\"/>\n",
              "  </svg>\n",
              "      </button>\n",
              "      \n",
              "  <style>\n",
              "    .colab-df-container {\n",
              "      display:flex;\n",
              "      flex-wrap:wrap;\n",
              "      gap: 12px;\n",
              "    }\n",
              "\n",
              "    .colab-df-convert {\n",
              "      background-color: #E8F0FE;\n",
              "      border: none;\n",
              "      border-radius: 50%;\n",
              "      cursor: pointer;\n",
              "      display: none;\n",
              "      fill: #1967D2;\n",
              "      height: 32px;\n",
              "      padding: 0 0 0 0;\n",
              "      width: 32px;\n",
              "    }\n",
              "\n",
              "    .colab-df-convert:hover {\n",
              "      background-color: #E2EBFA;\n",
              "      box-shadow: 0px 1px 2px rgba(60, 64, 67, 0.3), 0px 1px 3px 1px rgba(60, 64, 67, 0.15);\n",
              "      fill: #174EA6;\n",
              "    }\n",
              "\n",
              "    [theme=dark] .colab-df-convert {\n",
              "      background-color: #3B4455;\n",
              "      fill: #D2E3FC;\n",
              "    }\n",
              "\n",
              "    [theme=dark] .colab-df-convert:hover {\n",
              "      background-color: #434B5C;\n",
              "      box-shadow: 0px 1px 3px 1px rgba(0, 0, 0, 0.15);\n",
              "      filter: drop-shadow(0px 1px 2px rgba(0, 0, 0, 0.3));\n",
              "      fill: #FFFFFF;\n",
              "    }\n",
              "  </style>\n",
              "\n",
              "      <script>\n",
              "        const buttonEl =\n",
              "          document.querySelector('#df-50f90c3b-2339-49be-a136-7d633e84bcbf button.colab-df-convert');\n",
              "        buttonEl.style.display =\n",
              "          google.colab.kernel.accessAllowed ? 'block' : 'none';\n",
              "\n",
              "        async function convertToInteractive(key) {\n",
              "          const element = document.querySelector('#df-50f90c3b-2339-49be-a136-7d633e84bcbf');\n",
              "          const dataTable =\n",
              "            await google.colab.kernel.invokeFunction('convertToInteractive',\n",
              "                                                     [key], {});\n",
              "          if (!dataTable) return;\n",
              "\n",
              "          const docLinkHtml = 'Like what you see? Visit the ' +\n",
              "            '<a target=\"_blank\" href=https://colab.research.google.com/notebooks/data_table.ipynb>data table notebook</a>'\n",
              "            + ' to learn more about interactive tables.';\n",
              "          element.innerHTML = '';\n",
              "          dataTable['output_type'] = 'display_data';\n",
              "          await google.colab.output.renderOutput(dataTable, element);\n",
              "          const docLink = document.createElement('div');\n",
              "          docLink.innerHTML = docLinkHtml;\n",
              "          element.appendChild(docLink);\n",
              "        }\n",
              "      </script>\n",
              "    </div>\n",
              "  </div>\n",
              "  "
            ]
          },
          "metadata": {},
          "execution_count": 73
        }
      ]
    },
    {
      "cell_type": "markdown",
      "metadata": {
        "id": "RjfzLF0P8AKP"
      },
      "source": [
        "# Modelling"
      ]
    },
    {
      "cell_type": "code",
      "source": [
        "X = new_df.drop([\"country\"], axis=1) "
      ],
      "metadata": {
        "id": "T9d_PoUJvBmx"
      },
      "execution_count": 77,
      "outputs": []
    },
    {
      "cell_type": "code",
      "metadata": {
        "id": "Jnan1N358AKP"
      },
      "source": [
        "from sklearn.preprocessing import StandardScaler, RobustScaler,MinMaxScaler\n",
        "import warnings\n",
        "warnings.filterwarnings('ignore')\n",
        "warnings.filterwarnings(\"ignore\", category=DeprecationWarning)\n",
        "warnings.filterwarnings(\"ignore\", category=FutureWarning)\n",
        "from sklearn.cluster import KMeans"
      ],
      "execution_count": 78,
      "outputs": []
    },
    {
      "cell_type": "markdown",
      "metadata": {
        "id": "hupFwh2N8AKQ"
      },
      "source": [
        "## Clustering with K-means"
      ]
    },
    {
      "cell_type": "code",
      "source": [
        "scaler = StandardScaler()\n",
        "X = scaler.fit_transform(X) "
      ],
      "metadata": {
        "id": "5ZFeCKeVvwq5"
      },
      "execution_count": 79,
      "outputs": []
    },
    {
      "cell_type": "code",
      "source": [
        "ssd = []\n",
        "\n",
        "K = range(2,10)\n",
        "\n",
        "for k in K:\n",
        "    model = KMeans(n_clusters=k)\n",
        "    model.fit(X)\n",
        "    ssd.append(model.inertia_)"
      ],
      "metadata": {
        "id": "eWyR8tgov9zs"
      },
      "execution_count": 83,
      "outputs": []
    },
    {
      "cell_type": "code",
      "source": [
        "ssd"
      ],
      "metadata": {
        "colab": {
          "base_uri": "https://localhost:8080/"
        },
        "id": "33FjdjsQwXiU",
        "outputId": "6d1e3ead-dc65-4104-de2c-d0871aa2a37c"
      },
      "execution_count": 84,
      "outputs": [
        {
          "output_type": "execute_result",
          "data": {
            "text/plain": [
              "[1784.7504082700275,\n",
              " 1173.7194159810624,\n",
              " 939.6564741772888,\n",
              " 774.4633431260625,\n",
              " 657.3070330593227,\n",
              " 544.1393137891046,\n",
              " 439.06381335909015,\n",
              " 374.6835645551415]"
            ]
          },
          "metadata": {},
          "execution_count": 84
        }
      ]
    },
    {
      "cell_type": "markdown",
      "metadata": {
        "id": "BRWQmu6H8AKQ"
      },
      "source": [
        "### Elbow Method \n",
        "### We use this method to find optimal k value by looking up to break point of graph. "
      ]
    },
    {
      "cell_type": "code",
      "source": [
        "sns.lineplot(x=K, y = ssd,markers=\"x\")"
      ],
      "metadata": {
        "colab": {
          "base_uri": "https://localhost:8080/",
          "height": 391
        },
        "id": "42SlB-yawbvz",
        "outputId": "da5978bf-c2c6-48e1-d78a-628fca60a30e"
      },
      "execution_count": 85,
      "outputs": [
        {
          "output_type": "execute_result",
          "data": {
            "text/plain": [
              "<matplotlib.axes._subplots.AxesSubplot at 0x7f6334fc7690>"
            ]
          },
          "metadata": {},
          "execution_count": 85
        },
        {
          "output_type": "display_data",
          "data": {
            "text/plain": [
              "<Figure size 720x432 with 1 Axes>"
            ],
            "image/png": "[encoded data removed]"
          },
          "metadata": {
            "needs_background": "light"
          }
        }
      ]
    },
    {
      "cell_type": "code",
      "source": [
        "from yellowbrick.cluster import KElbowVisualizer"
      ],
      "metadata": {
        "id": "eO_cBVu9whiC"
      },
      "execution_count": 86,
      "outputs": []
    },
    {
      "cell_type": "code",
      "source": [
        "kmeans = KMeans()\n",
        "visu = KElbowVisualizer(kmeans, k = (2,10))\n",
        "visu.fit(X)\n",
        "visu.poof()  "
      ],
      "metadata": {
        "colab": {
          "base_uri": "https://localhost:8080/",
          "height": 393
        },
        "id": "qRKuyyJrwlKh",
        "outputId": "78244a2e-3d0d-49b1-a1c0-2ff2519b6641"
      },
      "execution_count": 87,
      "outputs": [
        {
          "output_type": "display_data",
          "data": {
            "text/plain": [
              "<Figure size 576x396 with 2 Axes>"
            ],
            "image/png": "[encoded data removed]"
          },
          "metadata": {}
        },
        {
          "output_type": "execute_result",
          "data": {
            "text/plain": [
              "<matplotlib.axes._subplots.AxesSubplot at 0x7f63331ceb90>"
            ]
          },
          "metadata": {},
          "execution_count": 87
        }
      ]
    },
    {
      "cell_type": "code",
      "source": [
        "pip install pyclustertend"
      ],
      "metadata": {
        "colab": {
          "base_uri": "https://localhost:8080/"
        },
        "id": "DdeMTJzSmlRn",
        "outputId": "2be59673-cbef-4edc-aaac-e09ce9375a64"
      },
      "execution_count": 88,
      "outputs": [
        {
          "output_type": "stream",
          "name": "stdout",
          "text": [
            "Looking in indexes: https://pypi.org/simple, https://us-python.pkg.dev/colab-wheels/public/simple/\n",
            "Collecting pyclustertend\n",
            "  Downloading pyclustertend-1.4.9-py3-none-any.whl (9.8 kB)\n",
            "Installing collected packages: pyclustertend\n",
            "Successfully installed pyclustertend-1.4.9\n"
          ]
        }
      ]
    },
    {
      "cell_type": "code",
      "source": [
        "from pyclustertend import hopkins"
      ],
      "metadata": {
        "id": "3foJpPawmo8-"
      },
      "execution_count": 89,
      "outputs": []
    },
    {
      "cell_type": "code",
      "source": [
        "X.shape"
      ],
      "metadata": {
        "colab": {
          "base_uri": "https://localhost:8080/"
        },
        "id": "Pc8qhEw1mroS",
        "outputId": "01487258-018f-4c83-d5b3-3f908a65be5b"
      },
      "execution_count": 90,
      "outputs": [
        {
          "output_type": "execute_result",
          "data": {
            "text/plain": [
              "(138, 25)"
            ]
          },
          "metadata": {},
          "execution_count": 90
        }
      ]
    },
    {
      "cell_type": "code",
      "source": [
        "hopkins(X, X.shape[0])"
      ],
      "metadata": {
        "colab": {
          "base_uri": "https://localhost:8080/"
        },
        "id": "ldBHyZ89muog",
        "outputId": "c2146f37-62bc-41df-b69c-997f5b461c27"
      },
      "execution_count": 91,
      "outputs": [
        {
          "output_type": "execute_result",
          "data": {
            "text/plain": [
              "0.0760668059743326"
            ]
          },
          "metadata": {},
          "execution_count": 91
        }
      ]
    },
    {
      "cell_type": "markdown",
      "metadata": {
        "id": "MwuhI45E8AKQ"
      },
      "source": [
        ""
      ]
    },
    {
      "cell_type": "code",
      "metadata": {
        "id": "Xg4jD_8o8AKQ"
      },
      "source": [
        ""
      ],
      "execution_count": null,
      "outputs": []
    },
    {
      "cell_type": "code",
      "metadata": {
        "id": "bJsKrZaA8AKQ"
      },
      "source": [
        "ssd = [] #sum squared distance\n",
        "\n",
        "K = range(2,10)\n",
        "\n",
        "for k in K:\n",
        "    model = KMeans(n_clusters =k, random_state=42)\n",
        "    model.fit(df2)\n",
        "    ssd.append(model.inertia_) "
      ],
      "execution_count": null,
      "outputs": []
    },
    {
      "cell_type": "code",
      "source": [
        "plt.plot(K, ssd, \"bo-\")\n",
        "plt.xlabel(\"Different k values\")\n",
        "plt.ylabel(\"inertia-error\") \n",
        "plt.title(\"elbow method\") "
      ],
      "metadata": {
        "colab": {
          "base_uri": "https://localhost:8080/",
          "height": 421
        },
        "id": "iszQzAFonO2G",
        "outputId": "061c6413-df36-4255-e121-7041014c880c"
      },
      "execution_count": null,
      "outputs": [
        {
          "output_type": "execute_result",
          "data": {
            "text/plain": [
              "Text(0.5, 1.0, 'elbow method')"
            ]
          },
          "metadata": {},
          "execution_count": 187
        },
        {
          "output_type": "display_data",
          "data": {
            "text/plain": [
              "<Figure size 720x432 with 1 Axes>"
            ],
            "image/png": "[encoded data removed]"
          },
          "metadata": {
            "needs_background": "light"
          }
        }
      ]
    },
    {
      "cell_type": "code",
      "source": [
        "ssd"
      ],
      "metadata": {
        "colab": {
          "base_uri": "https://localhost:8080/"
        },
        "id": "dSE_pkBona4t",
        "outputId": "a5e105b7-bd1d-4b3d-c96d-679c6426b078"
      },
      "execution_count": null,
      "outputs": [
        {
          "output_type": "execute_result",
          "data": {
            "text/plain": [
              "[1.5916083338737998e+26,\n",
              " 4.207646555307283e+25,\n",
              " 1.567286318737964e+25,\n",
              " 7.946074619598564e+24,\n",
              " 4.97433067706766e+24,\n",
              " 2.603569113449086e+24,\n",
              " 1.5052217243194396e+24,\n",
              " 1.1658881301447093e+24]"
            ]
          },
          "metadata": {},
          "execution_count": 188
        }
      ]
    },
    {
      "cell_type": "markdown",
      "metadata": {
        "id": "mFJFx-Fg8AKR"
      },
      "source": [
        "### Model Building and label visualisation"
      ]
    },
    {
      "cell_type": "code",
      "source": [
        "model = KMeans(n_clusters=4)\n",
        "model.fit(X)"
      ],
      "metadata": {
        "colab": {
          "base_uri": "https://localhost:8080/"
        },
        "id": "7DWPYgKKxXpA",
        "outputId": "c2fc4931-1ae1-423d-a68f-4d6e63c767f8"
      },
      "execution_count": 96,
      "outputs": [
        {
          "output_type": "execute_result",
          "data": {
            "text/plain": [
              "KMeans(n_clusters=4)"
            ]
          },
          "metadata": {},
          "execution_count": 96
        }
      ]
    },
    {
      "cell_type": "code",
      "source": [
        "model.inertia_"
      ],
      "metadata": {
        "colab": {
          "base_uri": "https://localhost:8080/"
        },
        "id": "7SgoGKFhxb6Y",
        "outputId": "8736386d-325d-4516-fc74-5bfa30ce7f0e"
      },
      "execution_count": 97,
      "outputs": [
        {
          "output_type": "execute_result",
          "data": {
            "text/plain": [
              "939.4496578633648"
            ]
          },
          "metadata": {},
          "execution_count": 97
        }
      ]
    },
    {
      "cell_type": "code",
      "source": [
        "model.labels_"
      ],
      "metadata": {
        "colab": {
          "base_uri": "https://localhost:8080/"
        },
        "id": "HBMmaFlKxf8A",
        "outputId": "7b50959f-378f-4e16-cfeb-05282a89e2b4"
      },
      "execution_count": 99,
      "outputs": [
        {
          "output_type": "execute_result",
          "data": {
            "text/plain": [
              "array([0, 0, 0, 0, 0, 0, 0, 0, 0, 0, 0, 0, 0, 0, 0, 0, 0, 0, 0, 0, 0, 0,\n",
              "       0, 0, 0, 0, 1, 0, 0, 0, 0, 0, 0, 0, 0, 3, 0, 0, 0, 0, 0, 0, 0, 0,\n",
              "       0, 0, 0, 0, 0, 3, 0, 3, 0, 0, 0, 0, 0, 0, 0, 0, 0, 0, 0, 0, 0, 0,\n",
              "       0, 0, 0, 0, 0, 0, 0, 0, 0, 0, 0, 0, 0, 0, 0, 0, 0, 0, 0, 0, 0, 3,\n",
              "       0, 0, 0, 3, 0, 0, 0, 0, 0, 0, 0, 0, 0, 1, 3, 0, 0, 0, 0, 0, 0, 0,\n",
              "       3, 0, 0, 0, 0, 0, 0, 0, 3, 0, 0, 0, 0, 0, 3, 0, 0, 0, 0, 0, 2, 0,\n",
              "       0, 0, 0, 0, 0, 0], dtype=int32)"
            ]
          },
          "metadata": {},
          "execution_count": 99
        }
      ]
    },
    {
      "cell_type": "markdown",
      "metadata": {
        "id": "bj8H_Fmr8AKR"
      },
      "source": [
        "### Evaluate "
      ]
    },
    {
      "cell_type": "code",
      "metadata": {
        "id": "h_oGrBIS8AKR"
      },
      "source": [
        "from sklearn.metrics import silhouette_score"
      ],
      "execution_count": 100,
      "outputs": []
    },
    {
      "cell_type": "code",
      "source": [
        "new_df[\"cluster\"] = model.labels_"
      ],
      "metadata": {
        "id": "x_bKNY3WxLAA"
      },
      "execution_count": 101,
      "outputs": []
    },
    {
      "cell_type": "code",
      "source": [
        "range_n_clusters = range(2,9)\n",
        "for num_clusters in range_n_clusters:\n",
        "    # intialise kmeans\n",
        "    kmeans = KMeans(n_clusters=num_clusters, random_state=42)\n",
        "    kmeans.fit(X)\n",
        "    cluster_labels = kmeans.labels_\n",
        "    # silhouette score\n",
        "    silhouette_avg = silhouette_score(X, cluster_labels)\n",
        "    print(f\"For n_clusters={num_clusters}, the silhouette score is {silhouette_avg}\")"
      ],
      "metadata": {
        "colab": {
          "base_uri": "https://localhost:8080/"
        },
        "id": "lF_qqi3mojOw",
        "outputId": "931a1f7f-f18e-48a4-d354-4a1b043800e8"
      },
      "execution_count": 105,
      "outputs": [
        {
          "output_type": "stream",
          "name": "stdout",
          "text": [
            "For n_clusters=2, the silhouette score is 0.8732245690954031\n",
            "For n_clusters=3, the silhouette score is 0.8314905742029727\n",
            "For n_clusters=4, the silhouette score is 0.6178041134103108\n",
            "For n_clusters=5, the silhouette score is 0.588044181986142\n",
            "For n_clusters=6, the silhouette score is 0.6301817899860189\n",
            "For n_clusters=7, the silhouette score is 0.5074586888205388\n",
            "For n_clusters=8, the silhouette score is 0.49553522502950137\n"
          ]
        }
      ]
    },
    {
      "cell_type": "code",
      "source": [
        "from sklearn.cluster import KMeans\n",
        "\n",
        "from yellowbrick.cluster import SilhouetteVisualizer\n",
        "\n",
        "model3 = KMeans(n_clusters=4, random_state=42)\n",
        "visualizer = SilhouetteVisualizer(model3)\n",
        "\n",
        "visualizer.fit(X)    # Fit the data to the visualizer\n",
        "visualizer.poof();"
      ],
      "metadata": {
        "colab": {
          "base_uri": "https://localhost:8080/",
          "height": 376
        },
        "id": "3BMtI0pXo-2d",
        "outputId": "c0d90f62-4676-4d26-b77c-895b5dd19fb1"
      },
      "execution_count": 106,
      "outputs": [
        {
          "output_type": "display_data",
          "data": {
            "text/plain": [
              "<Figure size 576x396 with 1 Axes>"
            ],
            "image/png": "[encoded data removed]"
          },
          "metadata": {}
        }
      ]
    },
    {
      "cell_type": "code",
      "source": [
        "new_df[new_df[\"cluster\"] == 3]"
      ],
      "metadata": {
        "id": "uSQX7bWOpiOv",
        "colab": {
          "base_uri": "https://localhost:8080/",
          "height": 546
        },
        "outputId": "350176cc-885d-4a24-b6b4-92d5f8dadb58"
      },
      "execution_count": 108,
      "outputs": [
        {
          "output_type": "execute_result",
          "data": {
            "text/plain": [
              "          country  Aircraft Strength value  \\\n",
              "35          Egypt                     1054   \n",
              "49          India                     2123   \n",
              "51           Iran                      509   \n",
              "87    North Korea                      949   \n",
              "91       Pakistan                     1372   \n",
              "102  Saudi Arabia                      879   \n",
              "110   South Korea                     1649   \n",
              "118         Syria                      456   \n",
              "124        Turkey                     1055   \n",
              "\n",
              "     Fighter/Interceptor Strength value  Attack Aircraft Strength value  \\\n",
              "35                                  215                              88   \n",
              "49                                  538                             172   \n",
              "51                                  155                              23   \n",
              "87                                  458                             114   \n",
              "91                                  356                              90   \n",
              "102                                 270                              81   \n",
              "110                                 414                              71   \n",
              "118                                 199                              20   \n",
              "124                                 206                               0   \n",
              "\n",
              "     Transport Aircraft Fleet Strength value  Trainer Aircraft Fleet value  \\\n",
              "35                                        59                           387   \n",
              "49                                       250                           359   \n",
              "51                                        62                            94   \n",
              "87                                         4                           169   \n",
              "91                                        49                           513   \n",
              "102                                       49                           208   \n",
              "110                                       41                           298   \n",
              "118                                        5                            67   \n",
              "124                                       80                           276   \n",
              "\n",
              "     Helicopter Fleet Strength value  Attack Helicopter Fleet Strength value  \\\n",
              "35                               294                                      81   \n",
              "49                               722                                      23   \n",
              "51                               100                                      12   \n",
              "87                               204                                      20   \n",
              "91                               346                                      56   \n",
              "102                              283                                      34   \n",
              "110                              803                                     112   \n",
              "118                              165                                      27   \n",
              "124                              497                                     100   \n",
              "\n",
              "     Tank Strength value  AFV/APC Strength value  ...  \\\n",
              "35                  4295                   11700  ...   \n",
              "49                  4292                    8686  ...   \n",
              "51                  2056                    4300  ...   \n",
              "87                  6045                   10000  ...   \n",
              "91                  2200                    7330  ...   \n",
              "102                 1062                   12825  ...   \n",
              "110                 2614                   14000  ...   \n",
              "118                 4135                    5370  ...   \n",
              "124                 2622                    8777  ...   \n",
              "\n",
              "     Frigate Fleet Strength value  defense spending budget value  \\\n",
              "35                       7.000000                   1.120000e+10   \n",
              "49                      13.000000                   6.100000e+10   \n",
              "51                       7.000000                   1.960000e+10   \n",
              "87                      11.000000                   1.600000e+09   \n",
              "91                       9.000000                   1.140000e+10   \n",
              "102                      3.000000                   6.760000e+10   \n",
              "110                      3.521739                   4.400000e+10   \n",
              "118                      2.000000                   1.800000e+09   \n",
              "124                     16.000000                   1.900000e+10   \n",
              "\n",
              "     External Debt value  Airport Totals value  Oil Production value  \\\n",
              "35          7.747000e+10                    83          5.894000e+05   \n",
              "49          5.016000e+11                   346          7.339000e+05   \n",
              "51          7.995000e+09                   319          4.469000e+06   \n",
              "87          5.000000e+09                    82          1.944295e+06   \n",
              "91          8.219000e+10                   151          1.944295e+06   \n",
              "102         2.051000e+11                   214          1.013000e+07   \n",
              "110         3.846000e+11                   111          1.944295e+06   \n",
              "118         4.989000e+09                    90          1.944295e+06   \n",
              "124         4.524000e+11                    98          2.450000e+05   \n",
              "\n",
              "     Oil Consumption value  Proven Oil Reserves value  \\\n",
              "35            8.320000e+05               4.400000e+09   \n",
              "49            5.000000e+06               4.621000e+09   \n",
              "51            2.000000e+06               1.584000e+11   \n",
              "87            1.229558e+06               1.791618e+10   \n",
              "91            5.750000e+05               3.506000e+08   \n",
              "102           4.000000e+06               2.665000e+11   \n",
              "110           2.800000e+06               1.791618e+10   \n",
              "118           2.600000e+05               2.500000e+09   \n",
              "124           8.450000e+05               3.885000e+08   \n",
              "\n",
              "     Available Manpower value  Total Population value  cluster  \n",
              "35                 42946553.0            9.941332e+07        3  \n",
              "49                622480340.0            1.296834e+09        3  \n",
              "51                 47324105.0            8.302474e+07        3  \n",
              "87                 13045878.0            2.538108e+07        3  \n",
              "91                 96344277.0            2.078625e+08        3  \n",
              "102                17703745.0            3.309111e+07        3  \n",
              "110                25709049.0            5.141810e+07        3  \n",
              "118                12450728.0            1.945426e+07        3  \n",
              "124                41847478.0            8.125724e+07        3  \n",
              "\n",
              "[9 rows x 27 columns]"
            ],
            "text/html": [
              "\n",
              "  <div id=\"df-90bae14a-15b5-4f4b-b539-921fb8b0adaa\">\n",
              "    <div class=\"colab-df-container\">\n",
              "      <div>\n",
              "<style scoped>\n",
              "    .dataframe tbody tr th:only-of-type {\n",
              "        vertical-align: middle;\n",
              "    }\n",
              "\n",
              "    .dataframe tbody tr th {\n",
              "        vertical-align: top;\n",
              "    }\n",
              "\n",
              "    .dataframe thead th {\n",
              "        text-align: right;\n",
              "    }\n",
              "</style>\n",
              "<table border=\"1\" class=\"dataframe\">\n",
              "  <thead>\n",
              "    <tr style=\"text-align: right;\">\n",
              "      <th></th>\n",
              "      <th>country</th>\n",
              "      <th>Aircraft Strength value</th>\n",
              "      <th>Fighter/Interceptor Strength value</th>\n",
              "      <th>Attack Aircraft Strength value</th>\n",
              "      <th>Transport Aircraft Fleet Strength value</th>\n",
              "      <th>Trainer Aircraft Fleet value</th>\n",
              "      <th>Helicopter Fleet Strength value</th>\n",
              "      <th>Attack Helicopter Fleet Strength value</th>\n",
              "      <th>Tank Strength value</th>\n",
              "      <th>AFV/APC Strength value</th>\n",
              "      <th>...</th>\n",
              "      <th>Frigate Fleet Strength value</th>\n",
              "      <th>defense spending budget value</th>\n",
              "      <th>External Debt value</th>\n",
              "      <th>Airport Totals value</th>\n",
              "      <th>Oil Production value</th>\n",
              "      <th>Oil Consumption value</th>\n",
              "      <th>Proven Oil Reserves value</th>\n",
              "      <th>Available Manpower value</th>\n",
              "      <th>Total Population value</th>\n",
              "      <th>cluster</th>\n",
              "    </tr>\n",
              "  </thead>\n",
              "  <tbody>\n",
              "    <tr>\n",
              "      <th>35</th>\n",
              "      <td>Egypt</td>\n",
              "      <td>1054</td>\n",
              "      <td>215</td>\n",
              "      <td>88</td>\n",
              "      <td>59</td>\n",
              "      <td>387</td>\n",
              "      <td>294</td>\n",
              "      <td>81</td>\n",
              "      <td>4295</td>\n",
              "      <td>11700</td>\n",
              "      <td>...</td>\n",
              "      <td>7.000000</td>\n",
              "      <td>1.120000e+10</td>\n",
              "      <td>7.747000e+10</td>\n",
              "      <td>83</td>\n",
              "      <td>5.894000e+05</td>\n",
              "      <td>8.320000e+05</td>\n",
              "      <td>4.400000e+09</td>\n",
              "      <td>42946553.0</td>\n",
              "      <td>9.941332e+07</td>\n",
              "      <td>3</td>\n",
              "    </tr>\n",
              "    <tr>\n",
              "      <th>49</th>\n",
              "      <td>India</td>\n",
              "      <td>2123</td>\n",
              "      <td>538</td>\n",
              "      <td>172</td>\n",
              "      <td>250</td>\n",
              "      <td>359</td>\n",
              "      <td>722</td>\n",
              "      <td>23</td>\n",
              "      <td>4292</td>\n",
              "      <td>8686</td>\n",
              "      <td>...</td>\n",
              "      <td>13.000000</td>\n",
              "      <td>6.100000e+10</td>\n",
              "      <td>5.016000e+11</td>\n",
              "      <td>346</td>\n",
              "      <td>7.339000e+05</td>\n",
              "      <td>5.000000e+06</td>\n",
              "      <td>4.621000e+09</td>\n",
              "      <td>622480340.0</td>\n",
              "      <td>1.296834e+09</td>\n",
              "      <td>3</td>\n",
              "    </tr>\n",
              "    <tr>\n",
              "      <th>51</th>\n",
              "      <td>Iran</td>\n",
              "      <td>509</td>\n",
              "      <td>155</td>\n",
              "      <td>23</td>\n",
              "      <td>62</td>\n",
              "      <td>94</td>\n",
              "      <td>100</td>\n",
              "      <td>12</td>\n",
              "      <td>2056</td>\n",
              "      <td>4300</td>\n",
              "      <td>...</td>\n",
              "      <td>7.000000</td>\n",
              "      <td>1.960000e+10</td>\n",
              "      <td>7.995000e+09</td>\n",
              "      <td>319</td>\n",
              "      <td>4.469000e+06</td>\n",
              "      <td>2.000000e+06</td>\n",
              "      <td>1.584000e+11</td>\n",
              "      <td>47324105.0</td>\n",
              "      <td>8.302474e+07</td>\n",
              "      <td>3</td>\n",
              "    </tr>\n",
              "    <tr>\n",
              "      <th>87</th>\n",
              "      <td>North Korea</td>\n",
              "      <td>949</td>\n",
              "      <td>458</td>\n",
              "      <td>114</td>\n",
              "      <td>4</td>\n",
              "      <td>169</td>\n",
              "      <td>204</td>\n",
              "      <td>20</td>\n",
              "      <td>6045</td>\n",
              "      <td>10000</td>\n",
              "      <td>...</td>\n",
              "      <td>11.000000</td>\n",
              "      <td>1.600000e+09</td>\n",
              "      <td>5.000000e+09</td>\n",
              "      <td>82</td>\n",
              "      <td>1.944295e+06</td>\n",
              "      <td>1.229558e+06</td>\n",
              "      <td>1.791618e+10</td>\n",
              "      <td>13045878.0</td>\n",
              "      <td>2.538108e+07</td>\n",
              "      <td>3</td>\n",
              "    </tr>\n",
              "    <tr>\n",
              "      <th>91</th>\n",
              "      <td>Pakistan</td>\n",
              "      <td>1372</td>\n",
              "      <td>356</td>\n",
              "      <td>90</td>\n",
              "      <td>49</td>\n",
              "      <td>513</td>\n",
              "      <td>346</td>\n",
              "      <td>56</td>\n",
              "      <td>2200</td>\n",
              "      <td>7330</td>\n",
              "      <td>...</td>\n",
              "      <td>9.000000</td>\n",
              "      <td>1.140000e+10</td>\n",
              "      <td>8.219000e+10</td>\n",
              "      <td>151</td>\n",
              "      <td>1.944295e+06</td>\n",
              "      <td>5.750000e+05</td>\n",
              "      <td>3.506000e+08</td>\n",
              "      <td>96344277.0</td>\n",
              "      <td>2.078625e+08</td>\n",
              "      <td>3</td>\n",
              "    </tr>\n",
              "    <tr>\n",
              "      <th>102</th>\n",
              "      <td>Saudi Arabia</td>\n",
              "      <td>879</td>\n",
              "      <td>270</td>\n",
              "      <td>81</td>\n",
              "      <td>49</td>\n",
              "      <td>208</td>\n",
              "      <td>283</td>\n",
              "      <td>34</td>\n",
              "      <td>1062</td>\n",
              "      <td>12825</td>\n",
              "      <td>...</td>\n",
              "      <td>3.000000</td>\n",
              "      <td>6.760000e+10</td>\n",
              "      <td>2.051000e+11</td>\n",
              "      <td>214</td>\n",
              "      <td>1.013000e+07</td>\n",
              "      <td>4.000000e+06</td>\n",
              "      <td>2.665000e+11</td>\n",
              "      <td>17703745.0</td>\n",
              "      <td>3.309111e+07</td>\n",
              "      <td>3</td>\n",
              "    </tr>\n",
              "    <tr>\n",
              "      <th>110</th>\n",
              "      <td>South Korea</td>\n",
              "      <td>1649</td>\n",
              "      <td>414</td>\n",
              "      <td>71</td>\n",
              "      <td>41</td>\n",
              "      <td>298</td>\n",
              "      <td>803</td>\n",
              "      <td>112</td>\n",
              "      <td>2614</td>\n",
              "      <td>14000</td>\n",
              "      <td>...</td>\n",
              "      <td>3.521739</td>\n",
              "      <td>4.400000e+10</td>\n",
              "      <td>3.846000e+11</td>\n",
              "      <td>111</td>\n",
              "      <td>1.944295e+06</td>\n",
              "      <td>2.800000e+06</td>\n",
              "      <td>1.791618e+10</td>\n",
              "      <td>25709049.0</td>\n",
              "      <td>5.141810e+07</td>\n",
              "      <td>3</td>\n",
              "    </tr>\n",
              "    <tr>\n",
              "      <th>118</th>\n",
              "      <td>Syria</td>\n",
              "      <td>456</td>\n",
              "      <td>199</td>\n",
              "      <td>20</td>\n",
              "      <td>5</td>\n",
              "      <td>67</td>\n",
              "      <td>165</td>\n",
              "      <td>27</td>\n",
              "      <td>4135</td>\n",
              "      <td>5370</td>\n",
              "      <td>...</td>\n",
              "      <td>2.000000</td>\n",
              "      <td>1.800000e+09</td>\n",
              "      <td>4.989000e+09</td>\n",
              "      <td>90</td>\n",
              "      <td>1.944295e+06</td>\n",
              "      <td>2.600000e+05</td>\n",
              "      <td>2.500000e+09</td>\n",
              "      <td>12450728.0</td>\n",
              "      <td>1.945426e+07</td>\n",
              "      <td>3</td>\n",
              "    </tr>\n",
              "    <tr>\n",
              "      <th>124</th>\n",
              "      <td>Turkey</td>\n",
              "      <td>1055</td>\n",
              "      <td>206</td>\n",
              "      <td>0</td>\n",
              "      <td>80</td>\n",
              "      <td>276</td>\n",
              "      <td>497</td>\n",
              "      <td>100</td>\n",
              "      <td>2622</td>\n",
              "      <td>8777</td>\n",
              "      <td>...</td>\n",
              "      <td>16.000000</td>\n",
              "      <td>1.900000e+10</td>\n",
              "      <td>4.524000e+11</td>\n",
              "      <td>98</td>\n",
              "      <td>2.450000e+05</td>\n",
              "      <td>8.450000e+05</td>\n",
              "      <td>3.885000e+08</td>\n",
              "      <td>41847478.0</td>\n",
              "      <td>8.125724e+07</td>\n",
              "      <td>3</td>\n",
              "    </tr>\n",
              "  </tbody>\n",
              "</table>\n",
              "<p>9 rows × 27 columns</p>\n",
              "</div>\n",
              "      <button class=\"colab-df-convert\" onclick=\"convertToInteractive('df-90bae14a-15b5-4f4b-b539-921fb8b0adaa')\"\n",
              "              title=\"Convert this dataframe to an interactive table.\"\n",
              "              style=\"display:none;\">\n",
              "        \n",
              "  <svg xmlns=\"http://www.w3.org/2000/svg\" height=\"24px\"viewBox=\"0 0 24 24\"\n",
              "       width=\"24px\">\n",
              "    <path d=\"M0 0h24v24H0V0z\" fill=\"none\"/>\n",
              "    <path d=\"M18.56 5.44l.94 2.06.94-2.06 2.06-.94-2.06-.94-.94-2.06-.94 2.06-2.06.94zm-11 1L8.5 8.5l.94-2.06 2.06-.94-2.06-.94L8.5 2.5l-.94 2.06-2.06.94zm10 10l.94 2.06.94-2.06 2.06-.94-2.06-.94-.94-2.06-.94 2.06-2.06.94z\"/><path d=\"M17.41 7.96l-1.37-1.37c-.4-.4-.92-.59-1.43-.59-.52 0-1.04.2-1.43.59L10.3 9.45l-7.72 7.72c-.78.78-.78 2.05 0 2.83L4 21.41c.39.39.9.59 1.41.59.51 0 1.02-.2 1.41-.59l7.78-7.78 2.81-2.81c.8-.78.8-2.07 0-2.86zM5.41 20L4 18.59l7.72-7.72 1.47 1.35L5.41 20z\"/>\n",
              "  </svg>\n",
              "      </button>\n",
              "      \n",
              "  <style>\n",
              "    .colab-df-container {\n",
              "      display:flex;\n",
              "      flex-wrap:wrap;\n",
              "      gap: 12px;\n",
              "    }\n",
              "\n",
              "    .colab-df-convert {\n",
              "      background-color: #E8F0FE;\n",
              "      border: none;\n",
              "      border-radius: 50%;\n",
              "      cursor: pointer;\n",
              "      display: none;\n",
              "      fill: #1967D2;\n",
              "      height: 32px;\n",
              "      padding: 0 0 0 0;\n",
              "      width: 32px;\n",
              "    }\n",
              "\n",
              "    .colab-df-convert:hover {\n",
              "      background-color: #E2EBFA;\n",
              "      box-shadow: 0px 1px 2px rgba(60, 64, 67, 0.3), 0px 1px 3px 1px rgba(60, 64, 67, 0.15);\n",
              "      fill: #174EA6;\n",
              "    }\n",
              "\n",
              "    [theme=dark] .colab-df-convert {\n",
              "      background-color: #3B4455;\n",
              "      fill: #D2E3FC;\n",
              "    }\n",
              "\n",
              "    [theme=dark] .colab-df-convert:hover {\n",
              "      background-color: #434B5C;\n",
              "      box-shadow: 0px 1px 3px 1px rgba(0, 0, 0, 0.15);\n",
              "      filter: drop-shadow(0px 1px 2px rgba(0, 0, 0, 0.3));\n",
              "      fill: #FFFFFF;\n",
              "    }\n",
              "  </style>\n",
              "\n",
              "      <script>\n",
              "        const buttonEl =\n",
              "          document.querySelector('#df-90bae14a-15b5-4f4b-b539-921fb8b0adaa button.colab-df-convert');\n",
              "        buttonEl.style.display =\n",
              "          google.colab.kernel.accessAllowed ? 'block' : 'none';\n",
              "\n",
              "        async function convertToInteractive(key) {\n",
              "          const element = document.querySelector('#df-90bae14a-15b5-4f4b-b539-921fb8b0adaa');\n",
              "          const dataTable =\n",
              "            await google.colab.kernel.invokeFunction('convertToInteractive',\n",
              "                                                     [key], {});\n",
              "          if (!dataTable) return;\n",
              "\n",
              "          const docLinkHtml = 'Like what you see? Visit the ' +\n",
              "            '<a target=\"_blank\" href=https://colab.research.google.com/notebooks/data_table.ipynb>data table notebook</a>'\n",
              "            + ' to learn more about interactive tables.';\n",
              "          element.innerHTML = '';\n",
              "          dataTable['output_type'] = 'display_data';\n",
              "          await google.colab.output.renderOutput(dataTable, element);\n",
              "          const docLink = document.createElement('div');\n",
              "          docLink.innerHTML = docLinkHtml;\n",
              "          element.appendChild(docLink);\n",
              "        }\n",
              "      </script>\n",
              "    </div>\n",
              "  </div>\n",
              "  "
            ]
          },
          "metadata": {},
          "execution_count": 108
        }
      ]
    }
  ]
}