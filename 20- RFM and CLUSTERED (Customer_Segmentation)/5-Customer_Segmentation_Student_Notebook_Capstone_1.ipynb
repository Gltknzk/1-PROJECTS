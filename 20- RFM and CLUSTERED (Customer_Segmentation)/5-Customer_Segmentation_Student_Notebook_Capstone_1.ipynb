{
 "cells": [
  {
   "cell_type": "markdown",
   "metadata": {
    "id": "yG6Ti6UOiqav"
   },
   "source": [
    "___\n",
    "\n",
    "<p style=\"text-align: center;\"><img src=\"https://docs.google.com/uc?id=1lY0Uj5R04yMY3-ZppPWxqCr5pvBLYPnV\" class=\"img-fluid\" alt=\"CLRSWY\"></p>\n",
    "\n",
    "___"
   ]
  },
  {
   "cell_type": "markdown",
   "metadata": {
    "id": "M2v-2JDuiqa0"
   },
   "source": [
    "# WELCOME!"
   ]
  },
  {
   "cell_type": "markdown",
   "metadata": {
    "id": "oLS5y2Jqiqa1"
   },
   "source": [
    "Welcome to \"RFM Customer Segmentation & Cohort Analysis Project\". This is the first project of the Capstone Project Series, which consists of 4 different project that contain different scenarios.\n",
    "\n",
    "This is a project which you will learn what is RFM? And how to apply RFM Analysis and Customer Segmentation using K-Means Clustering. Also you will improve your Data Cleaning, Data Visualization and Exploratory Data Analysis capabilities. On the other hand you will create Cohort and Conduct Cohort Analysis. \n",
    "\n",
    "Before diving into the project, please take a look at the determines and project structure.\n",
    "\n",
    "- **NOTE:** This tutorial assumes that you already know the basics of coding in Python and are familiar with the theory behind K-Means Clustering.\n",
    "\n"
   ]
  },
  {
   "cell_type": "markdown",
   "metadata": {
    "id": "1SCOFEfqiqa1"
   },
   "source": [
    "# #Determines\n",
    "\n",
    "Using the [Online Retail dataset](https://archive.ics.uci.edu/ml/datasets/Online+Retail) from the UCI Machine Learning Repository for exploratory data analysis, ***Customer Segmentation***, ***RFM Analysis***, ***K-Means Clustering*** and ***Cohort Analysis***.\n",
    "\n",
    "This is a transnational data set which contains all the transactions occurring between 01/12/2010 and 09/12/2011 for a UK-based and registered non-store online retail. The company mainly sells unique all-occasion gifts. Many customers of the company are wholesalers.\n",
    "\n",
    "Feature Information:\n",
    "\n",
    "**InvoiceNo**: Invoice number. *Nominal*, a 6-digit integral number uniquely assigned to each transaction. If this code starts with letter 'c', it indicates a cancellation. \n",
    "<br>\n",
    "**StockCode**: Product (item) code. *Nominal*, a 5-digit integral number uniquely assigned to each distinct product.\n",
    "<br>\n",
    "**Description**: Product (item) name. *Nominal*. \n",
    "<br>\n",
    "**Quantity**: The quantities of each product (item) per transaction. *Numeric*.\n",
    "<br>\n",
    "**InvoiceDate**: Invoice Date and time. *Numeric*, the day and time when each transaction was generated.\n",
    "<br>\n",
    "**UnitPrice**: Unit price. *Numeric*, Product price per unit in sterling.\n",
    "<br>\n",
    "**CustomerID**: Customer number. *Nominal*, a 5-digit integral number uniquely assigned to each customer.\n",
    "<br>\n",
    "**Country**: Country name. *Nominal*, the name of the country where each customer resides.\n",
    "\n",
    "\n",
    "---\n",
    "\n",
    "\n",
    "First of all, to observe the structure of the data and missing values, you can use exploratory data analysis and data visualization techniques.\n",
    "\n",
    "You must do descriptive analysis. Because you must understand the relationship of the features to each other and clear the noise and missing values in the data. After that, the data set will be ready for RFM analysis.\n",
    "\n",
    "Before starting the RFM Analysis, you will be asked to do some analysis regarding the distribution of *Orders*, *Customers* and *Countries*. These analyzes will help the company develop its sales policies and contribute to the correct use of resources.\n",
    "\n",
    "You will notice that the UK not only has the most sales revenue, but also the most customers. So you will continue to analyze only UK transactions in the next RFM Analysis, Customer Segmentation and K-Means Clustering topics.\n",
    "\n",
    "Next, you will begin RFM Analysis, a customer segmentation technique based on customers' past purchasing behavior. \n",
    "\n",
    "By using RFM Analysis, you can enable companies to develop different approaches to different customer segments so that they can get to know their customers better, observe trends better, and increase customer retention and sales revenues.\n",
    "\n",
    "You will calculate the Recency, Frequency and Monetary values of the customers in the RFM Analysis you will make using the data consisting of UK transactions. Ultimately, you have to create an RFM table containing these values.\n",
    "\n",
    "In the Customer Segmentation section, you will create an RFM Segmentation Table where you segment your customers by using the RFM table. For example, you can label the best customer as \"Big Spenders\" and the lost customer as \"Lost Customer\".\n",
    "\n",
    "We will segment the customers ourselves based on their recency, frequency, and monetary values. But can an **unsupervised learning** model do this better for us? You will use the K-Means algorithm to find the answer to this question. Then you will compare the classification made by the algorithm with the classification you have made yourself.\n",
    "\n",
    "Before applying K-Means Clustering, you should do data pre-processing. In this context, it will be useful to examine feature correlations and distributions. In addition, the data you apply for K-Means should be normalized.\n",
    "\n",
    "On the other hand, you should inform the K-means algorithm about the number of clusters it will predict. You will also try the *** Elbow method *** and *** Silhouette Analysis *** to find the optimum number of clusters.\n",
    "\n",
    "After the above operations, you will have made cluster estimation with K-Means. You should visualize the cluster distribution by using a scatter plot. You can observe the properties of the resulting clusters with the help of the boxplot. Thus you will be able to tag clusters and interpret results.\n",
    "\n",
    "Finally, you will do Cohort Analysis with the data you used at the beginning, regardless of the analysis you have done before. Cohort analysis is a subset of behavioral analytics that takes the user data and breaks them into related groups for analysis. This analysis can further be used to do customer segmentation and track metrics like retention, churn, and lifetime value.\n"
   ]
  },
  {
   "cell_type": "markdown",
   "metadata": {
    "id": "KQ62QseViqa2"
   },
   "source": [
    "# #Project Structures\n",
    "\n",
    "- Data Cleaning & Exploratory Data Analysis\n",
    "- RFM Analysis\n",
    "- Customer Segmentation\n",
    "- Applying K-Means Clustering\n",
    "- Create Cohort and Conduct Cohort Analysis"
   ]
  },
  {
   "cell_type": "markdown",
   "metadata": {
    "id": "wsPQ1tUwiqa2"
   },
   "source": [
    "# #Tasks\n",
    "\n",
    "#### 1. Data Cleaning & Exploratory Data Analysis\n",
    "\n",
    "- Import Modules, Load Data & Data Review\n",
    "- Follow the Steps Below\n",
    "\n",
    "    *i. Take a look at relationships between InvoiceNo, Quantity and UnitPrice columns.*\n",
    "    \n",
    "    *ii. What does the letter \"C\" in the invoiceno column mean?*\n",
    "    \n",
    "    *iii. Handling Missing Values*\n",
    "    \n",
    "    *iv. Clean the Data from the Noise and Missing Values*\n",
    "    \n",
    "    *v. Explore the Orders*\n",
    "    \n",
    "    *vi. Explore Customers by Country*\n",
    "    \n",
    "    *vii. Explore the UK Market*\n",
    "    \n",
    "#### 2. RFM Analysis\n",
    "\n",
    "- Follow the steps below\n",
    "\n",
    "   *i. Import Libraries*\n",
    "   \n",
    "   *ii. Review \"df_uk\" DataFrame (the df_uk what you create at the end of the Task 1)*\n",
    "   \n",
    "   *iii. Calculate Recency*\n",
    "   \n",
    "   *iv. Calculate Frequency*\n",
    "   \n",
    "   *v. Calculate Monetary Values*\n",
    "   \n",
    "   *vi. Create RFM Table*\n",
    "\n",
    "#### 3. Customer Segmentation with RFM Scores\n",
    "- Calculate RFM Scoring\n",
    "\n",
    "    *i. Creating the RFM Segmentation Table*\n",
    " \n",
    "- Plot RFM Segments\n",
    "\n",
    "#### 4. Applying K-Means Clustering\n",
    "- Data Pre-Processing and Exploring\n",
    "\n",
    "    *i. Define and Plot Feature Correlations*\n",
    " \n",
    "    *ii. Visualize Feature Distributions*\n",
    " \n",
    "    *iii. Data Normalization*\n",
    "\n",
    "- K-Means Implementation\n",
    "\n",
    "    *i. Define Optimal Cluster Number (K) by using \"Elbow Method\" and \"Silhouette Analysis\"*\n",
    " \n",
    "    *ii. Visualize the Clusters*\n",
    " \n",
    "    *iii. Assign the label*\n",
    " \n",
    "    *iv. Conclusion*\n",
    " \n",
    "#### 5. Create Cohort and Conduct Cohort Analysis\n",
    "- Future Engineering\n",
    "\n",
    "    *i. Extract the Month of the Purchase*\n",
    " \n",
    "    *ii. Calculating time offset in Months i.e. Cohort Index*\n",
    " \n",
    "- Create 1st Cohort: User Number & Retention Rate \n",
    "\n",
    "    *i. Pivot Cohort and Cohort Retention*\n",
    " \n",
    "    *ii. Visualize analysis of cohort 1 using seaborn and matplotlib*\n",
    "\n",
    "- Create 2nd Cohort: Average Quantity Sold \n",
    "\n",
    "    *i. Pivot Cohort and Cohort Retention*\n",
    " \n",
    "    *ii. Visualize analysis of cohort 2 using seaborn and matplotlib*\n",
    "\n",
    "- Create 3rd Cohort: Average Sales\n",
    "\n",
    "    *i. Pivot Cohort and Cohort Retention*\n",
    " \n",
    "    *ii. Visualize analysis of cohort 3 using seaborn and matplotlib*\n",
    "    \n",
    "- **Note: There may be sub-tasks associated with each task, you will see them in order during the course of the work.**\n"
   ]
  },
  {
   "cell_type": "markdown",
   "metadata": {
    "id": "k-NlVU1UQGVA"
   },
   "source": [
    "# 1. Data Cleaning & Exploratory Data Analysis"
   ]
  },
  {
   "cell_type": "markdown",
   "metadata": {
    "id": "L63G_-Dqiqa3"
   },
   "source": [
    "## Import Modules, Load Data & Data Review"
   ]
  },
  {
   "cell_type": "code",
   "execution_count": 122,
   "metadata": {
    "id": "J-Zb5JfOiqa3"
   },
   "outputs": [
    {
     "name": "stdout",
     "output_type": "stream",
     "text": [
      "Requirement already satisfied: optuna in c:\\users\\pc\\appdata\\roaming\\python\\python39\\site-packages (2.10.0)\n",
      "Requirement already satisfied: PyYAML in c:\\programdata\\anaconda3\\lib\\site-packages (from optuna) (6.0)\n",
      "Requirement already satisfied: sqlalchemy>=1.1.0 in c:\\programdata\\anaconda3\\lib\\site-packages (from optuna) (1.4.22)\n",
      "Requirement already satisfied: scipy!=1.4.0 in c:\\programdata\\anaconda3\\lib\\site-packages (from optuna) (1.7.1)\n",
      "Requirement already satisfied: tqdm in c:\\programdata\\anaconda3\\lib\\site-packages (from optuna) (4.62.3)\n",
      "Requirement already satisfied: cliff in c:\\users\\pc\\appdata\\roaming\\python\\python39\\site-packages (from optuna) (3.10.0)\n",
      "Requirement already satisfied: packaging>=20.0 in c:\\programdata\\anaconda3\\lib\\site-packages (from optuna) (21.0)\n",
      "Requirement already satisfied: numpy in c:\\programdata\\anaconda3\\lib\\site-packages (from optuna) (1.20.3)\n",
      "Requirement already satisfied: colorlog in c:\\users\\pc\\appdata\\roaming\\python\\python39\\site-packages (from optuna) (6.6.0)\n",
      "Requirement already satisfied: alembic in c:\\users\\pc\\appdata\\roaming\\python\\python39\\site-packages (from optuna) (1.7.5)\n",
      "Requirement already satisfied: cmaes>=0.8.2 in c:\\users\\pc\\appdata\\roaming\\python\\python39\\site-packages (from optuna) (0.8.2)\n",
      "Requirement already satisfied: pyparsing>=2.0.2 in c:\\programdata\\anaconda3\\lib\\site-packages (from packaging>=20.0->optuna) (3.0.4)\n",
      "Requirement already satisfied: greenlet!=0.4.17 in c:\\programdata\\anaconda3\\lib\\site-packages (from sqlalchemy>=1.1.0->optuna) (1.1.1)\n",
      "Requirement already satisfied: Mako in c:\\users\\pc\\appdata\\roaming\\python\\python39\\site-packages (from alembic->optuna) (1.1.6)\n",
      "Requirement already satisfied: autopage>=0.4.0 in c:\\users\\pc\\appdata\\roaming\\python\\python39\\site-packages (from cliff->optuna) (0.4.0)\n",
      "Requirement already satisfied: stevedore>=2.0.1 in c:\\users\\pc\\appdata\\roaming\\python\\python39\\site-packages (from cliff->optuna) (3.5.0)\n",
      "Requirement already satisfied: cmd2>=1.0.0 in c:\\users\\pc\\appdata\\roaming\\python\\python39\\site-packages (from cliff->optuna) (2.3.3)\n",
      "Requirement already satisfied: pbr!=2.1.0,>=2.0.0 in c:\\users\\pc\\appdata\\roaming\\python\\python39\\site-packages (from cliff->optuna) (5.8.0)\n",
      "Requirement already satisfied: PrettyTable>=0.7.2 in c:\\users\\pc\\appdata\\roaming\\python\\python39\\site-packages (from cliff->optuna) (2.4.0)\n",
      "Requirement already satisfied: wcwidth>=0.1.7 in c:\\programdata\\anaconda3\\lib\\site-packages (from cmd2>=1.0.0->cliff->optuna) (0.2.5)\n",
      "Requirement already satisfied: attrs>=16.3.0 in c:\\programdata\\anaconda3\\lib\\site-packages (from cmd2>=1.0.0->cliff->optuna) (21.2.0)\n",
      "Requirement already satisfied: pyperclip>=1.6 in c:\\users\\pc\\appdata\\roaming\\python\\python39\\site-packages (from cmd2>=1.0.0->cliff->optuna) (1.8.2)\n",
      "Requirement already satisfied: pyreadline3 in c:\\users\\pc\\appdata\\roaming\\python\\python39\\site-packages (from cmd2>=1.0.0->cliff->optuna) (3.3)\n",
      "Requirement already satisfied: colorama in c:\\programdata\\anaconda3\\lib\\site-packages (from colorlog->optuna) (0.4.4)\n",
      "Requirement already satisfied: MarkupSafe>=0.9.2 in c:\\programdata\\anaconda3\\lib\\site-packages (from Mako->alembic->optuna) (1.1.1)\n",
      "Requirement already satisfied: lightgbm in c:\\programdata\\anaconda3\\lib\\site-packages (3.3.1)\n",
      "Requirement already satisfied: scipy in c:\\programdata\\anaconda3\\lib\\site-packages (from lightgbm) (1.7.1)\n",
      "Requirement already satisfied: wheel in c:\\programdata\\anaconda3\\lib\\site-packages (from lightgbm) (0.37.0)\n",
      "Requirement already satisfied: scikit-learn!=0.22.0 in c:\\programdata\\anaconda3\\lib\\site-packages (from lightgbm) (0.24.2)\n",
      "Requirement already satisfied: numpy in c:\\programdata\\anaconda3\\lib\\site-packages (from lightgbm) (1.20.3)\n",
      "Requirement already satisfied: joblib>=0.11 in c:\\programdata\\anaconda3\\lib\\site-packages (from scikit-learn!=0.22.0->lightgbm) (1.1.0)\n",
      "Requirement already satisfied: threadpoolctl>=2.0.0 in c:\\programdata\\anaconda3\\lib\\site-packages (from scikit-learn!=0.22.0->lightgbm) (2.2.0)\n",
      "Requirement already satisfied: catboost in c:\\programdata\\anaconda3\\lib\\site-packages (1.0.3)\n",
      "Requirement already satisfied: matplotlib in c:\\programdata\\anaconda3\\lib\\site-packages (from catboost) (3.4.3)\n",
      "Requirement already satisfied: numpy>=1.16.0 in c:\\programdata\\anaconda3\\lib\\site-packages (from catboost) (1.20.3)\n",
      "Requirement already satisfied: scipy in c:\\programdata\\anaconda3\\lib\\site-packages (from catboost) (1.7.1)\n",
      "Requirement already satisfied: graphviz in c:\\programdata\\anaconda3\\lib\\site-packages (from catboost) (0.19)\n",
      "Requirement already satisfied: pandas>=0.24.0 in c:\\programdata\\anaconda3\\lib\\site-packages (from catboost) (1.3.4)\n",
      "Requirement already satisfied: plotly in c:\\programdata\\anaconda3\\lib\\site-packages (from catboost) (5.4.0)\n",
      "Requirement already satisfied: six in c:\\programdata\\anaconda3\\lib\\site-packages (from catboost) (1.16.0)\n",
      "Requirement already satisfied: python-dateutil>=2.7.3 in c:\\programdata\\anaconda3\\lib\\site-packages (from pandas>=0.24.0->catboost) (2.8.2)\n",
      "Requirement already satisfied: pytz>=2017.3 in c:\\programdata\\anaconda3\\lib\\site-packages (from pandas>=0.24.0->catboost) (2021.3)\n",
      "Requirement already satisfied: cycler>=0.10 in c:\\programdata\\anaconda3\\lib\\site-packages (from matplotlib->catboost) (0.10.0)\n",
      "Requirement already satisfied: pyparsing>=2.2.1 in c:\\programdata\\anaconda3\\lib\\site-packages (from matplotlib->catboost) (3.0.4)\n",
      "Requirement already satisfied: pillow>=6.2.0 in c:\\programdata\\anaconda3\\lib\\site-packages (from matplotlib->catboost) (8.4.0)\n",
      "Requirement already satisfied: kiwisolver>=1.0.1 in c:\\programdata\\anaconda3\\lib\\site-packages (from matplotlib->catboost) (1.3.1)\n",
      "Requirement already satisfied: tenacity>=6.2.0 in c:\\programdata\\anaconda3\\lib\\site-packages (from plotly->catboost) (8.0.1)\n",
      "Requirement already satisfied: cufflinks in c:\\programdata\\anaconda3\\lib\\site-packages (0.17.3)\n",
      "Requirement already satisfied: colorlover>=0.2.1 in c:\\programdata\\anaconda3\\lib\\site-packages (from cufflinks) (0.3.0)\n",
      "Requirement already satisfied: ipywidgets>=7.0.0 in c:\\programdata\\anaconda3\\lib\\site-packages (from cufflinks) (7.6.5)\n",
      "Requirement already satisfied: plotly>=4.1.1 in c:\\programdata\\anaconda3\\lib\\site-packages (from cufflinks) (5.4.0)\n",
      "Requirement already satisfied: ipython>=5.3.0 in c:\\programdata\\anaconda3\\lib\\site-packages (from cufflinks) (7.29.0)\n",
      "Requirement already satisfied: numpy>=1.9.2 in c:\\programdata\\anaconda3\\lib\\site-packages (from cufflinks) (1.20.3)\n",
      "Requirement already satisfied: setuptools>=34.4.1 in c:\\programdata\\anaconda3\\lib\\site-packages (from cufflinks) (58.0.4)\n",
      "Requirement already satisfied: six>=1.9.0 in c:\\programdata\\anaconda3\\lib\\site-packages (from cufflinks) (1.16.0)\n",
      "Requirement already satisfied: pandas>=0.19.2 in c:\\programdata\\anaconda3\\lib\\site-packages (from cufflinks) (1.3.4)\n",
      "Requirement already satisfied: backcall in c:\\programdata\\anaconda3\\lib\\site-packages (from ipython>=5.3.0->cufflinks) (0.2.0)\n",
      "Requirement already satisfied: traitlets>=4.2 in c:\\programdata\\anaconda3\\lib\\site-packages (from ipython>=5.3.0->cufflinks) (5.1.0)\n",
      "Requirement already satisfied: pygments in c:\\programdata\\anaconda3\\lib\\site-packages (from ipython>=5.3.0->cufflinks) (2.10.0)\n",
      "Requirement already satisfied: decorator in c:\\programdata\\anaconda3\\lib\\site-packages (from ipython>=5.3.0->cufflinks) (5.1.0)\n",
      "Requirement already satisfied: matplotlib-inline in c:\\programdata\\anaconda3\\lib\\site-packages (from ipython>=5.3.0->cufflinks) (0.1.2)\n",
      "Requirement already satisfied: jedi>=0.16 in c:\\programdata\\anaconda3\\lib\\site-packages (from ipython>=5.3.0->cufflinks) (0.18.0)\n",
      "Requirement already satisfied: prompt-toolkit!=3.0.0,!=3.0.1,<3.1.0,>=2.0.0 in c:\\programdata\\anaconda3\\lib\\site-packages (from ipython>=5.3.0->cufflinks) (3.0.20)\n",
      "Requirement already satisfied: colorama in c:\\programdata\\anaconda3\\lib\\site-packages (from ipython>=5.3.0->cufflinks) (0.4.4)\n",
      "Requirement already satisfied: pickleshare in c:\\programdata\\anaconda3\\lib\\site-packages (from ipython>=5.3.0->cufflinks) (0.7.5)\n",
      "Requirement already satisfied: ipykernel>=4.5.1 in c:\\programdata\\anaconda3\\lib\\site-packages (from ipywidgets>=7.0.0->cufflinks) (6.4.1)\n",
      "Requirement already satisfied: ipython-genutils~=0.2.0 in c:\\programdata\\anaconda3\\lib\\site-packages (from ipywidgets>=7.0.0->cufflinks) (0.2.0)\n",
      "Requirement already satisfied: jupyterlab-widgets>=1.0.0 in c:\\programdata\\anaconda3\\lib\\site-packages (from ipywidgets>=7.0.0->cufflinks) (1.0.0)\n",
      "Requirement already satisfied: nbformat>=4.2.0 in c:\\programdata\\anaconda3\\lib\\site-packages (from ipywidgets>=7.0.0->cufflinks) (5.1.3)\n",
      "Requirement already satisfied: widgetsnbextension~=3.5.0 in c:\\programdata\\anaconda3\\lib\\site-packages (from ipywidgets>=7.0.0->cufflinks) (3.5.1)\n",
      "Requirement already satisfied: jupyter-client<8.0 in c:\\programdata\\anaconda3\\lib\\site-packages (from ipykernel>=4.5.1->ipywidgets>=7.0.0->cufflinks) (6.1.12)\n",
      "Requirement already satisfied: debugpy<2.0,>=1.0.0 in c:\\programdata\\anaconda3\\lib\\site-packages (from ipykernel>=4.5.1->ipywidgets>=7.0.0->cufflinks) (1.4.1)\n",
      "Requirement already satisfied: tornado<7.0,>=4.2 in c:\\programdata\\anaconda3\\lib\\site-packages (from ipykernel>=4.5.1->ipywidgets>=7.0.0->cufflinks) (6.1)\n",
      "Requirement already satisfied: parso<0.9.0,>=0.8.0 in c:\\programdata\\anaconda3\\lib\\site-packages (from jedi>=0.16->ipython>=5.3.0->cufflinks) (0.8.2)\n",
      "Requirement already satisfied: python-dateutil>=2.1 in c:\\programdata\\anaconda3\\lib\\site-packages (from jupyter-client<8.0->ipykernel>=4.5.1->ipywidgets>=7.0.0->cufflinks) (2.8.2)\n",
      "Requirement already satisfied: jupyter-core>=4.6.0 in c:\\programdata\\anaconda3\\lib\\site-packages (from jupyter-client<8.0->ipykernel>=4.5.1->ipywidgets>=7.0.0->cufflinks) (4.8.1)\n",
      "Requirement already satisfied: pyzmq>=13 in c:\\programdata\\anaconda3\\lib\\site-packages (from jupyter-client<8.0->ipykernel>=4.5.1->ipywidgets>=7.0.0->cufflinks) (22.2.1)\n",
      "Requirement already satisfied: pywin32>=1.0 in c:\\programdata\\anaconda3\\lib\\site-packages (from jupyter-core>=4.6.0->jupyter-client<8.0->ipykernel>=4.5.1->ipywidgets>=7.0.0->cufflinks) (228)\n",
      "Requirement already satisfied: jsonschema!=2.5.0,>=2.4 in c:\\programdata\\anaconda3\\lib\\site-packages (from nbformat>=4.2.0->ipywidgets>=7.0.0->cufflinks) (3.2.0)\n",
      "Requirement already satisfied: pyrsistent>=0.14.0 in c:\\programdata\\anaconda3\\lib\\site-packages (from jsonschema!=2.5.0,>=2.4->nbformat>=4.2.0->ipywidgets>=7.0.0->cufflinks) (0.18.0)\n",
      "Requirement already satisfied: attrs>=17.4.0 in c:\\programdata\\anaconda3\\lib\\site-packages (from jsonschema!=2.5.0,>=2.4->nbformat>=4.2.0->ipywidgets>=7.0.0->cufflinks) (21.2.0)\n",
      "Requirement already satisfied: pytz>=2017.3 in c:\\programdata\\anaconda3\\lib\\site-packages (from pandas>=0.19.2->cufflinks) (2021.3)\n",
      "Requirement already satisfied: tenacity>=6.2.0 in c:\\programdata\\anaconda3\\lib\\site-packages (from plotly>=4.1.1->cufflinks) (8.0.1)\n",
      "Requirement already satisfied: wcwidth in c:\\programdata\\anaconda3\\lib\\site-packages (from prompt-toolkit!=3.0.0,!=3.0.1,<3.1.0,>=2.0.0->ipython>=5.3.0->cufflinks) (0.2.5)\n",
      "Requirement already satisfied: notebook>=4.4.1 in c:\\programdata\\anaconda3\\lib\\site-packages (from widgetsnbextension~=3.5.0->ipywidgets>=7.0.0->cufflinks) (6.4.5)\n",
      "Requirement already satisfied: nbconvert in c:\\programdata\\anaconda3\\lib\\site-packages (from notebook>=4.4.1->widgetsnbextension~=3.5.0->ipywidgets>=7.0.0->cufflinks) (6.1.0)\n",
      "Requirement already satisfied: Send2Trash>=1.5.0 in c:\\programdata\\anaconda3\\lib\\site-packages (from notebook>=4.4.1->widgetsnbextension~=3.5.0->ipywidgets>=7.0.0->cufflinks) (1.8.0)\n",
      "Requirement already satisfied: argon2-cffi in c:\\programdata\\anaconda3\\lib\\site-packages (from notebook>=4.4.1->widgetsnbextension~=3.5.0->ipywidgets>=7.0.0->cufflinks) (20.1.0)\n",
      "Requirement already satisfied: prometheus-client in c:\\programdata\\anaconda3\\lib\\site-packages (from notebook>=4.4.1->widgetsnbextension~=3.5.0->ipywidgets>=7.0.0->cufflinks) (0.11.0)\n",
      "Requirement already satisfied: terminado>=0.8.3 in c:\\programdata\\anaconda3\\lib\\site-packages (from notebook>=4.4.1->widgetsnbextension~=3.5.0->ipywidgets>=7.0.0->cufflinks) (0.9.4)\n",
      "Requirement already satisfied: jinja2 in c:\\programdata\\anaconda3\\lib\\site-packages (from notebook>=4.4.1->widgetsnbextension~=3.5.0->ipywidgets>=7.0.0->cufflinks) (2.11.3)\n",
      "Requirement already satisfied: pywinpty>=0.5 in c:\\programdata\\anaconda3\\lib\\site-packages (from terminado>=0.8.3->notebook>=4.4.1->widgetsnbextension~=3.5.0->ipywidgets>=7.0.0->cufflinks) (0.5.7)\n",
      "Requirement already satisfied: cffi>=1.0.0 in c:\\programdata\\anaconda3\\lib\\site-packages (from argon2-cffi->notebook>=4.4.1->widgetsnbextension~=3.5.0->ipywidgets>=7.0.0->cufflinks) (1.14.6)\n",
      "Requirement already satisfied: pycparser in c:\\programdata\\anaconda3\\lib\\site-packages (from cffi>=1.0.0->argon2-cffi->notebook>=4.4.1->widgetsnbextension~=3.5.0->ipywidgets>=7.0.0->cufflinks) (2.20)\n",
      "Requirement already satisfied: MarkupSafe>=0.23 in c:\\programdata\\anaconda3\\lib\\site-packages (from jinja2->notebook>=4.4.1->widgetsnbextension~=3.5.0->ipywidgets>=7.0.0->cufflinks) (1.1.1)\n",
      "Requirement already satisfied: pandocfilters>=1.4.1 in c:\\programdata\\anaconda3\\lib\\site-packages (from nbconvert->notebook>=4.4.1->widgetsnbextension~=3.5.0->ipywidgets>=7.0.0->cufflinks) (1.4.3)\n",
      "Requirement already satisfied: nbclient<0.6.0,>=0.5.0 in c:\\programdata\\anaconda3\\lib\\site-packages (from nbconvert->notebook>=4.4.1->widgetsnbextension~=3.5.0->ipywidgets>=7.0.0->cufflinks) (0.5.3)\n",
      "Requirement already satisfied: bleach in c:\\programdata\\anaconda3\\lib\\site-packages (from nbconvert->notebook>=4.4.1->widgetsnbextension~=3.5.0->ipywidgets>=7.0.0->cufflinks) (4.0.0)\n",
      "Requirement already satisfied: mistune<2,>=0.8.1 in c:\\programdata\\anaconda3\\lib\\site-packages (from nbconvert->notebook>=4.4.1->widgetsnbextension~=3.5.0->ipywidgets>=7.0.0->cufflinks) (0.8.4)\n",
      "Requirement already satisfied: testpath in c:\\programdata\\anaconda3\\lib\\site-packages (from nbconvert->notebook>=4.4.1->widgetsnbextension~=3.5.0->ipywidgets>=7.0.0->cufflinks) (0.5.0)\n",
      "Requirement already satisfied: jupyterlab-pygments in c:\\programdata\\anaconda3\\lib\\site-packages (from nbconvert->notebook>=4.4.1->widgetsnbextension~=3.5.0->ipywidgets>=7.0.0->cufflinks) (0.1.2)\n",
      "Requirement already satisfied: entrypoints>=0.2.2 in c:\\programdata\\anaconda3\\lib\\site-packages (from nbconvert->notebook>=4.4.1->widgetsnbextension~=3.5.0->ipywidgets>=7.0.0->cufflinks) (0.3)\n",
      "Requirement already satisfied: defusedxml in c:\\programdata\\anaconda3\\lib\\site-packages (from nbconvert->notebook>=4.4.1->widgetsnbextension~=3.5.0->ipywidgets>=7.0.0->cufflinks) (0.7.1)\n",
      "Requirement already satisfied: async-generator in c:\\programdata\\anaconda3\\lib\\site-packages (from nbclient<0.6.0,>=0.5.0->nbconvert->notebook>=4.4.1->widgetsnbextension~=3.5.0->ipywidgets>=7.0.0->cufflinks) (1.10)\n",
      "Requirement already satisfied: nest-asyncio in c:\\programdata\\anaconda3\\lib\\site-packages (from nbclient<0.6.0,>=0.5.0->nbconvert->notebook>=4.4.1->widgetsnbextension~=3.5.0->ipywidgets>=7.0.0->cufflinks) (1.5.1)\n",
      "Requirement already satisfied: packaging in c:\\programdata\\anaconda3\\lib\\site-packages (from bleach->nbconvert->notebook>=4.4.1->widgetsnbextension~=3.5.0->ipywidgets>=7.0.0->cufflinks) (21.0)\n",
      "Requirement already satisfied: webencodings in c:\\programdata\\anaconda3\\lib\\site-packages (from bleach->nbconvert->notebook>=4.4.1->widgetsnbextension~=3.5.0->ipywidgets>=7.0.0->cufflinks) (0.5.1)\n",
      "Requirement already satisfied: pyparsing>=2.0.2 in c:\\programdata\\anaconda3\\lib\\site-packages (from packaging->bleach->nbconvert->notebook>=4.4.1->widgetsnbextension~=3.5.0->ipywidgets>=7.0.0->cufflinks) (3.0.4)\n"
     ]
    },
    {
     "ename": "ModuleNotFoundError",
     "evalue": "No module named 'optuna'",
     "output_type": "error",
     "traceback": [
      "\u001b[1;31m---------------------------------------------------------------------------\u001b[0m",
      "\u001b[1;31mModuleNotFoundError\u001b[0m                       Traceback (most recent call last)",
      "\u001b[1;32m~\\AppData\\Local\\Temp/ipykernel_876/4023420032.py\u001b[0m in \u001b[0;36m<module>\u001b[1;34m\u001b[0m\n\u001b[0;32m     16\u001b[0m \u001b[1;33m\u001b[0m\u001b[0m\n\u001b[0;32m     17\u001b[0m \u001b[1;33m\u001b[0m\u001b[0m\n\u001b[1;32m---> 18\u001b[1;33m \u001b[1;32mimport\u001b[0m \u001b[0moptuna\u001b[0m\u001b[1;33m\u001b[0m\u001b[1;33m\u001b[0m\u001b[0m\n\u001b[0m\u001b[0;32m     19\u001b[0m \u001b[1;32mfrom\u001b[0m \u001b[0mxgboost\u001b[0m \u001b[1;32mimport\u001b[0m \u001b[0mXGBClassifier\u001b[0m\u001b[1;33m\u001b[0m\u001b[1;33m\u001b[0m\u001b[0m\n\u001b[0;32m     20\u001b[0m \u001b[1;32mfrom\u001b[0m \u001b[0mlightgbm\u001b[0m \u001b[1;32mimport\u001b[0m \u001b[0mLGBMClassifier\u001b[0m\u001b[1;33m\u001b[0m\u001b[1;33m\u001b[0m\u001b[0m\n",
      "\u001b[1;31mModuleNotFoundError\u001b[0m: No module named 'optuna'"
     ]
    }
   ],
   "source": [
    "import numpy as np\n",
    "import pandas as pd\n",
    "import matplotlib.pyplot as plt\n",
    "import seaborn as sns\n",
    "\n",
    "!pip install optuna --user\n",
    "\n",
    "!pip install lightgbm\n",
    "!pip install catboost\n",
    "!pip install cufflinks\n",
    "\n",
    "from sklearn.model_selection import cross_val_score,cross_val_predict, train_test_split\n",
    "from sklearn.preprocessing import OneHotEncoder,StandardScaler,PowerTransformer,LabelEncoder\n",
    "\n",
    "from sklearn.metrics import accuracy_score,classification_report, recall_score,confusion_matrix, roc_auc_score, precision_score, f1_score, roc_curve, auc, plot_confusion_matrix,plot_roc_curve\n",
    "\n",
    "\n",
    "import optuna\n",
    "from xgboost import XGBClassifier\n",
    "from lightgbm import LGBMClassifier\n",
    "from catboost import CatBoostClassifier\n",
    "\n",
    "\n",
    "\n",
    "\n",
    "#importing plotly and cufflinks in offline mode\n",
    "import cufflinks as cf\n",
    "import plotly.offline\n",
    "cf.go_offline()\n",
    "cf.set_config_file(offline=False, world_readable=True)\n",
    "\n",
    "\n",
    "import plotly \n",
    "import plotly.express as px\n",
    "import plotly.graph_objs as go\n",
    "import plotly.offline as py\n",
    "from plotly.offline import iplot\n",
    "from plotly.subplots import make_subplots\n",
    "import plotly.figure_factory as ff\n",
    "\n",
    "!pip install shap --user\n",
    "\n",
    "import shap\n",
    "\n",
    "import missingno as msno\n",
    "\n",
    "import warnings\n",
    "warnings.filterwarnings(\"ignore\")\n",
    "from sklearn.cluster import KMeans"
   ]
  },
  {
   "cell_type": "code",
   "execution_count": null,
   "metadata": {},
   "outputs": [],
   "source": [
    "pd.set_option(\"max_columns\",100)\n",
    "pd.set_option(\"max_row\",900)\n",
    "\n",
    "pd.set_option(\"max_colwidth\",200)\n",
    "\n",
    "df=pd.read_excel(\"Online Retail.xlsx\")\n",
    "df.head()"
   ]
  },
  {
   "cell_type": "code",
   "execution_count": null,
   "metadata": {},
   "outputs": [],
   "source": [
    "df.duplicated().sum()"
   ]
  },
  {
   "cell_type": "code",
   "execution_count": 104,
   "metadata": {},
   "outputs": [
    {
     "data": {
      "text/html": [
       "<div>\n",
       "<style scoped>\n",
       "    .dataframe tbody tr th:only-of-type {\n",
       "        vertical-align: middle;\n",
       "    }\n",
       "\n",
       "    .dataframe tbody tr th {\n",
       "        vertical-align: top;\n",
       "    }\n",
       "\n",
       "    .dataframe thead th {\n",
       "        text-align: right;\n",
       "    }\n",
       "</style>\n",
       "<table border=\"1\" class=\"dataframe\">\n",
       "  <thead>\n",
       "    <tr style=\"text-align: right;\">\n",
       "      <th></th>\n",
       "      <th>Missing_Number</th>\n",
       "      <th>Missing_Percent</th>\n",
       "    </tr>\n",
       "  </thead>\n",
       "  <tbody>\n",
       "    <tr>\n",
       "      <th>CustomerID</th>\n",
       "      <td>135080</td>\n",
       "      <td>0.249267</td>\n",
       "    </tr>\n",
       "    <tr>\n",
       "      <th>Description</th>\n",
       "      <td>1454</td>\n",
       "      <td>0.002683</td>\n",
       "    </tr>\n",
       "    <tr>\n",
       "      <th>InvoiceNo</th>\n",
       "      <td>0</td>\n",
       "      <td>0.000000</td>\n",
       "    </tr>\n",
       "    <tr>\n",
       "      <th>StockCode</th>\n",
       "      <td>0</td>\n",
       "      <td>0.000000</td>\n",
       "    </tr>\n",
       "    <tr>\n",
       "      <th>Quantity</th>\n",
       "      <td>0</td>\n",
       "      <td>0.000000</td>\n",
       "    </tr>\n",
       "    <tr>\n",
       "      <th>InvoiceDate</th>\n",
       "      <td>0</td>\n",
       "      <td>0.000000</td>\n",
       "    </tr>\n",
       "    <tr>\n",
       "      <th>UnitPrice</th>\n",
       "      <td>0</td>\n",
       "      <td>0.000000</td>\n",
       "    </tr>\n",
       "    <tr>\n",
       "      <th>Country</th>\n",
       "      <td>0</td>\n",
       "      <td>0.000000</td>\n",
       "    </tr>\n",
       "  </tbody>\n",
       "</table>\n",
       "</div>"
      ],
      "text/plain": [
       "             Missing_Number  Missing_Percent\n",
       "CustomerID           135080         0.249267\n",
       "Description            1454         0.002683\n",
       "InvoiceNo                 0         0.000000\n",
       "StockCode                 0         0.000000\n",
       "Quantity                  0         0.000000\n",
       "InvoiceDate               0         0.000000\n",
       "UnitPrice                 0         0.000000\n",
       "Country                   0         0.000000"
      ]
     },
     "execution_count": 104,
     "metadata": {},
     "output_type": "execute_result"
    }
   ],
   "source": [
    "def missing (df):\n",
    "    missing_number = df.isnull().sum().sort_values(ascending=False)\n",
    "    missing_percent = (df.isnull().sum()/df.isnull().count()).sort_values(ascending=False)\n",
    "    missing_values = pd.concat([missing_number, missing_percent], axis=1, keys=['Missing_Number', 'Missing_Percent'])\n",
    "    return missing_values\n",
    "\n",
    "missing(df)"
   ]
  },
  {
   "cell_type": "code",
   "execution_count": 124,
   "metadata": {},
   "outputs": [
    {
     "name": "stdout",
     "output_type": "stream",
     "text": [
      "<class 'pandas.core.frame.DataFrame'>\n",
      "RangeIndex: 541909 entries, 0 to 541908\n",
      "Data columns (total 8 columns):\n",
      " #   Column       Non-Null Count   Dtype         \n",
      "---  ------       --------------   -----         \n",
      " 0   InvoiceNo    541909 non-null  object        \n",
      " 1   StockCode    541909 non-null  object        \n",
      " 2   Description  540455 non-null  object        \n",
      " 3   Quantity     541909 non-null  float64       \n",
      " 4   InvoiceDate  541909 non-null  datetime64[ns]\n",
      " 5   UnitPrice    541909 non-null  float64       \n",
      " 6   CustomerID   406829 non-null  float64       \n",
      " 7   Country      541909 non-null  object        \n",
      "dtypes: datetime64[ns](1), float64(3), object(4)\n",
      "memory usage: 33.1+ MB\n"
     ]
    }
   ],
   "source": [
    "df.info()"
   ]
  },
  {
   "cell_type": "code",
   "execution_count": null,
   "metadata": {},
   "outputs": [],
   "source": []
  },
  {
   "cell_type": "code",
   "execution_count": 125,
   "metadata": {},
   "outputs": [],
   "source": [
    "df1=df.copy()"
   ]
  },
  {
   "cell_type": "code",
   "execution_count": 126,
   "metadata": {},
   "outputs": [
    {
     "data": {
      "text/plain": [
       "InvoiceNo  StockCode  Description                          Quantity  InvoiceDate          UnitPrice  CustomerID  Country       \n",
       "555524.0   22698.0    PINK REGENCY TEACUP AND SAUCER        1.0      2011-06-05 11:37:00  2.95       16923.0     United Kingdom    0.000049\n",
       "           22697.0    GREEN REGENCY TEACUP AND SAUCER       1.0      2011-06-05 11:37:00  2.95       16923.0     United Kingdom    0.000029\n",
       "572861.0   22775.0    PURPLE DRAWERKNOB ACRYLIC EDWARDIAN   12.0     2011-10-26 12:46:00  1.25       14102.0     United Kingdom    0.000020\n",
       "572344.0   M          Manual                                48.0     2011-10-24 10:43:00  1.50       14607.0     United Kingdom    0.000015\n",
       "578289.0   23395.0    BELLE JARDINIERE CUSHION COVER        1.0      2011-11-23 14:07:00  3.75       17841.0     United Kingdom    0.000015\n",
       "                                                                                                                                     ...   \n",
       "553915.0   21174.0    POTTERING IN THE SHED METAL SIGN      12.0     2011-05-19 19:51:00  2.08       18225.0     United Kingdom    0.000002\n",
       "           21165.0    BEWARE OF THE CAT METAL SIGN          12.0     2011-05-19 19:51:00  1.69       18225.0     United Kingdom    0.000002\n",
       "           21080.0    SET/20 RED RETROSPOT PAPER NAPKINS    12.0     2011-05-19 19:51:00  0.85       18225.0     United Kingdom    0.000002\n",
       "           21078.0    SET/20 STRAWBERRY PAPER NAPKINS       12.0     2011-05-19 19:51:00  0.85       18225.0     United Kingdom    0.000002\n",
       "C581569    84978.0    HANGING HEART JAR T-LIGHT HOLDER     -1.0      2011-12-09 11:58:00  1.25       17315.0     United Kingdom    0.000002\n",
       "Length: 401604, dtype: float64"
      ]
     },
     "execution_count": 126,
     "metadata": {},
     "output_type": "execute_result"
    }
   ],
   "source": [
    "df1.value_counts(normalize=True)"
   ]
  },
  {
   "cell_type": "code",
   "execution_count": 127,
   "metadata": {},
   "outputs": [
    {
     "data": {
      "text/plain": [
       "573585.0    1114\n",
       "581219.0     749\n",
       "581492.0     731\n",
       "580729.0     721\n",
       "558475.0     705\n",
       "579777.0     687\n",
       "581217.0     676\n",
       "537434.0     675\n",
       "580730.0     662\n",
       "538071.0     652\n",
       "580367.0     650\n",
       "580115.0     645\n",
       "581439.0     635\n",
       "580983.0     629\n",
       "578344.0     622\n",
       "538349.0     620\n",
       "578347.0     606\n",
       "537638.0     601\n",
       "537237.0     597\n",
       "536876.0     593\n",
       "576617.0     593\n",
       "536592.0     592\n",
       "537823.0     591\n",
       "576837.0     585\n",
       "579508.0     578\n",
       "577078.0     572\n",
       "537240.0     568\n",
       "577358.0     561\n",
       "576618.0     552\n",
       "576840.0     544\n",
       "576339.0     542\n",
       "579187.0     541\n",
       "537666.0     536\n",
       "538177.0     534\n",
       "579196.0     533\n",
       "580727.0     529\n",
       "536544.0     527\n",
       "578844.0     527\n",
       "575930.0     526\n",
       "577768.0     526\n",
       "578827.0     520\n",
       "576329.0     518\n",
       "575176.0     518\n",
       "539437.0     518\n",
       "575477.0     515\n",
       "539958.0     512\n",
       "579512.0     503\n",
       "575875.0     503\n",
       "540551.0     502\n",
       "578065.0     494\n",
       "Name: InvoiceNo, dtype: int64"
      ]
     },
     "execution_count": 127,
     "metadata": {},
     "output_type": "execute_result"
    }
   ],
   "source": [
    "df1.InvoiceNo.value_counts().head(50)"
   ]
  },
  {
   "cell_type": "code",
   "execution_count": 128,
   "metadata": {},
   "outputs": [
    {
     "data": {
      "text/plain": [
       "WHITE HANGING HEART T-LIGHT HOLDER     2369\n",
       "REGENCY CAKESTAND 3 TIER               2200\n",
       "JUMBO BAG RED RETROSPOT                2159\n",
       "PARTY BUNTING                          1727\n",
       "LUNCH BAG RED RETROSPOT                1638\n",
       "                                       ... \n",
       "Missing                                   1\n",
       "historic computer difference?....se       1\n",
       "DUSTY PINK CHRISTMAS TREE 30CM            1\n",
       "WRAP BLUE RUSSIAN FOLKART                 1\n",
       "PINK BERTIE MOBILE PHONE CHARM            1\n",
       "Name: Description, Length: 4223, dtype: int64"
      ]
     },
     "execution_count": 128,
     "metadata": {},
     "output_type": "execute_result"
    }
   ],
   "source": [
    "df1.Description.value_counts()"
   ]
  },
  {
   "cell_type": "code",
   "execution_count": 129,
   "metadata": {},
   "outputs": [
    {
     "data": {
      "text/plain": [
       " 1.0        148227\n",
       " 2.0         81829\n",
       " 12.0        61063\n",
       " 6.0         40868\n",
       " 4.0         38484\n",
       " 3.0         37121\n",
       " 24.0        24021\n",
       " 10.0        22288\n",
       " 8.0         13129\n",
       " 5.0         11757\n",
       " 48.0         6068\n",
       " 25.0         5124\n",
       " 20.0         5019\n",
       " 16.0         4266\n",
       "-1.0          4184\n",
       " 36.0         3822\n",
       " 7.0          2914\n",
       " 9.0          2037\n",
       " 72.0         1946\n",
       " 100.0        1819\n",
       " 96.0         1813\n",
       " 18.0         1787\n",
       "-2.0          1395\n",
       " 30.0         1185\n",
       " 40.0         1081\n",
       " 32.0         1047\n",
       " 144.0        1021\n",
       " 11.0          956\n",
       " 50.0          916\n",
       " 15.0          802\n",
       " 60.0          675\n",
       "-3.0           620\n",
       " 120.0         605\n",
       " 13.0          585\n",
       " 14.0          569\n",
       "-12.0          564\n",
       "-6.0           518\n",
       "-4.0           502\n",
       " 200.0         419\n",
       " 192.0         342\n",
       " 64.0          283\n",
       " 17.0          270\n",
       " 240.0         263\n",
       "-24.0          261\n",
       " 288.0         248\n",
       "-5.0           235\n",
       " 19.0          223\n",
       " 80.0          211\n",
       "-10.0          197\n",
       " 21.0          177\n",
       " 22.0          169\n",
       "-8.0           169\n",
       " 28.0          169\n",
       " 108.0         142\n",
       " 128.0         133\n",
       " 216.0         117\n",
       " 27.0          112\n",
       " 23.0          110\n",
       " 300.0         107\n",
       "-7.0           107\n",
       " 26.0          104\n",
       "-48.0           97\n",
       " 160.0          92\n",
       "-9.0            87\n",
       " 432.0          82\n",
       " 480.0          76\n",
       " 42.0           72\n",
       " 600.0          71\n",
       "-36.0           69\n",
       " 150.0          67\n",
       "-20.0           64\n",
       " 33.0           64\n",
       " 75.0           64\n",
       " 29.0           62\n",
       "-11.0           62\n",
       " 35.0           60\n",
       "-100.0          60\n",
       " 576.0          59\n",
       " 360.0          58\n",
       "-16.0           58\n",
       " 34.0           56\n",
       "-25.0           55\n",
       " 31.0           54\n",
       " 400.0          51\n",
       "-18.0           49\n",
       "-30.0           49\n",
       " 84.0           48\n",
       " 180.0          47\n",
       " 384.0          45\n",
       " 90.0           44\n",
       " 54.0           42\n",
       "-40.0           42\n",
       " 37.0           41\n",
       "-14.0           41\n",
       " 720.0          41\n",
       " 38.0           39\n",
       " 70.0           36\n",
       " 41.0           35\n",
       "-21.0           34\n",
       "-15.0           34\n",
       " 44.0           33\n",
       "-72.0           33\n",
       " 56.0           33\n",
       " 250.0          32\n",
       "-144.0          32\n",
       " 45.0           31\n",
       "-96.0           31\n",
       "-13.0           29\n",
       "-32.0           28\n",
       " 47.0           27\n",
       " 320.0          27\n",
       " 256.0          27\n",
       " 43.0           26\n",
       " 500.0          26\n",
       "-50.0           25\n",
       " 49.0           25\n",
       " 39.0           24\n",
       " 66.0           23\n",
       "-23.0           23\n",
       "-19.0           22\n",
       "-22.0           22\n",
       "-17.0           21\n",
       "-120.0          21\n",
       " 52.0           20\n",
       " 168.0          20\n",
       " 53.0           19\n",
       "-70.0           19\n",
       " 46.0           19\n",
       "-80.0           18\n",
       " 1200.0         18\n",
       " 57.0           18\n",
       " 125.0          16\n",
       " 78.0           16\n",
       " 71.0           16\n",
       " 51.0           16\n",
       " 504.0          15\n",
       " 408.0          15\n",
       " 324.0          15\n",
       " 112.0          15\n",
       "-38.0           15\n",
       "-200.0          14\n",
       " 65.0           14\n",
       "-35.0           14\n",
       " 960.0          14\n",
       "-60.0           13\n",
       "-33.0           13\n",
       " 1000.0         13\n",
       " 63.0           13\n",
       " 58.0           13\n",
       "-42.0           13\n",
       " 104.0          13\n",
       " 204.0          13\n",
       " 864.0          13\n",
       " 61.0           12\n",
       " 55.0           12\n",
       "-110.0          12\n",
       "-27.0           12\n",
       " 62.0           11\n",
       " 110.0          11\n",
       "-240.0          11\n",
       " 126.0          11\n",
       "-140.0          10\n",
       " 94.0           10\n",
       "-31.0           10\n",
       " 252.0          10\n",
       " 156.0          10\n",
       " 140.0          10\n",
       " 68.0            9\n",
       " 1440.0          9\n",
       "-45.0            9\n",
       "-26.0            9\n",
       " 59.0            9\n",
       " 800.0           9\n",
       "-49.0            9\n",
       "-39.0            9\n",
       "-54.0            9\n",
       " 67.0            9\n",
       " 620.0           8\n",
       "-37.0            8\n",
       "-53.0            8\n",
       "-29.0            8\n",
       " 1296.0          8\n",
       " 88.0            8\n",
       " 74.0            8\n",
       " 83.0            8\n",
       " 89.0            8\n",
       "-46.0            8\n",
       "-108.0           8\n",
       "-288.0           8\n",
       "-84.0            8\n",
       "-28.0            8\n",
       "-41.0            8\n",
       " 81.0            8\n",
       " 280.0           8\n",
       " 1152.0          7\n",
       " 85.0            7\n",
       " 130.0           7\n",
       "-63.0            7\n",
       " 114.0           7\n",
       "-34.0            7\n",
       "-64.0            7\n",
       " 86.0            7\n",
       "-1440.0          7\n",
       " 76.0            7\n",
       " 95.0            7\n",
       " 336.0           7\n",
       "-192.0           7\n",
       "-130.0           7\n",
       " 138.0           6\n",
       "-300.0           6\n",
       "-43.0            6\n",
       "-47.0            6\n",
       " 98.0            6\n",
       "-65.0            6\n",
       "-57.0            6\n",
       "-90.0            6\n",
       "-82.0            6\n",
       " 82.0            6\n",
       " 132.0           6\n",
       "-150.0           6\n",
       "-160.0           6\n",
       "-52.0            6\n",
       " 117.0           5\n",
       " 456.0           5\n",
       " 73.0            5\n",
       " 350.0           5\n",
       "-250.0           5\n",
       " 700.0           5\n",
       "-600.0           5\n",
       " 220.0           5\n",
       " 101.0           5\n",
       " 416.0           5\n",
       " 118.0           5\n",
       " 69.0            5\n",
       "-400.0           5\n",
       " 102.0           5\n",
       "-66.0            5\n",
       "-59.0            5\n",
       "-61.0            5\n",
       " 91.0            5\n",
       " 224.0           5\n",
       "-62.0            5\n",
       " 111.0           5\n",
       " 312.0           5\n",
       "-77.0            5\n",
       " 612.0           4\n",
       " 124.0           4\n",
       " 264.0           4\n",
       "-102.0           4\n",
       " 2400.0          4\n",
       "-220.0           4\n",
       " 232.0           4\n",
       " 92.0            4\n",
       "-51.0            4\n",
       " 186.0           4\n",
       " 129.0           4\n",
       " 228.0           4\n",
       " 171.0           4\n",
       " 270.0           4\n",
       "-360.0           4\n",
       "-720.0           4\n",
       " 420.0           4\n",
       "-432.0           4\n",
       "-44.0            4\n",
       "-180.0           4\n",
       " 121.0           4\n",
       " 115.0           4\n",
       " 158.0           4\n",
       " 1300.0          4\n",
       " 1008.0          4\n",
       " 93.0            4\n",
       "-94.0            4\n",
       " 152.0           4\n",
       "-75.0            4\n",
       " 113.0           4\n",
       " 2000.0          4\n",
       " 105.0           3\n",
       "-86.0            3\n",
       " 222.0           3\n",
       "-56.0            3\n",
       " 696.0           3\n",
       "-210.0           3\n",
       " 236.0           3\n",
       " 840.0           3\n",
       " 153.0           3\n",
       "-124.0           3\n",
       " 624.0           3\n",
       " 170.0           3\n",
       "-1300.0          3\n",
       "-58.0            3\n",
       " 768.0           3\n",
       " 744.0           3\n",
       "-576.0           3\n",
       "-125.0           3\n",
       " 640.0           3\n",
       "-126.0           3\n",
       " 109.0           3\n",
       " 139.0           3\n",
       "-67.0            3\n",
       "-95.0            3\n",
       " 246.0           3\n",
       "-230.0           3\n",
       " 147.0           3\n",
       " 208.0           3\n",
       "-390.0           3\n",
       " 1728.0          3\n",
       " 176.0           3\n",
       " 900.0           3\n",
       " 97.0            3\n",
       " 116.0           3\n",
       " 210.0           3\n",
       "-92.0            3\n",
       " 378.0           3\n",
       " 1500.0          3\n",
       " 79.0            3\n",
       " 272.0           3\n",
       " 468.0           2\n",
       "-111.0           2\n",
       "-184.0           2\n",
       " 198.0           2\n",
       " 1600.0          2\n",
       " 255.0           2\n",
       " 323.0           2\n",
       "-73.0            2\n",
       "-104.0           2\n",
       "-1296.0          2\n",
       "-9600.0          2\n",
       " 276.0           2\n",
       " 888.0           2\n",
       " 143.0           2\n",
       " 135.0           2\n",
       " 330.0           2\n",
       " 151.0           2\n",
       "-93.0            2\n",
       "-68.0            2\n",
       "-201.0           2\n",
       "-170.0           2\n",
       " 215.0           2\n",
       "-97.0            2\n",
       "-168.0           2\n",
       "-101.0           2\n",
       "-71.0            2\n",
       " 184.0           2\n",
       " 756.0           2\n",
       "-74.0            2\n",
       "-840.0           2\n",
       "-177.0           2\n",
       "-145.0           2\n",
       " 248.0           2\n",
       "-188.0           2\n",
       " 1944.0          2\n",
       " 396.0           2\n",
       " 496.0           2\n",
       "-69.0            2\n",
       "-138.0           2\n",
       " 2880.0          2\n",
       "-152.0           2\n",
       "-156.0           2\n",
       " 448.0           2\n",
       " 245.0           2\n",
       "-252.0           2\n",
       "-117.0           2\n",
       "-203.0           2\n",
       " 352.0           2\n",
       "-121.0           2\n",
       " 131.0           2\n",
       "-408.0           2\n",
       "-324.0           2\n",
       "-480.0           2\n",
       "-164.0           2\n",
       "-78.0            2\n",
       " 87.0            2\n",
       " 540.0           2\n",
       "-179.0           2\n",
       "-109.0           2\n",
       " 972.0           2\n",
       "-186.0           2\n",
       "-209.0           2\n",
       " 183.0           2\n",
       " 99.0            2\n",
       "-147.0           2\n",
       "-55.0            2\n",
       " 225.0           2\n",
       " 268.0           2\n",
       "-178.0           2\n",
       "-234.0           2\n",
       " 3114.0          2\n",
       " 167.0           2\n",
       " 123.0           2\n",
       " 392.0           2\n",
       " 164.0           2\n",
       "-76.0            2\n",
       "-1200.0          2\n",
       " 670.0           2\n",
       " 211.0           2\n",
       "-217.0           2\n",
       "-99.0            2\n",
       " 1056.0          2\n",
       " 181.0           2\n",
       " 304.0           2\n",
       " 1930.0          2\n",
       "-207.0           2\n",
       "-87.0            2\n",
       "-162.0           2\n",
       " 244.0           2\n",
       " 149.0           2\n",
       "-197.0           2\n",
       "-114.0           2\n",
       " 3000.0          2\n",
       "-256.0           2\n",
       "-153.0           2\n",
       " 136.0           2\n",
       " 163.0           2\n",
       " 219.0           2\n",
       "-312.0           1\n",
       "-79.0            1\n",
       " 404.0           1\n",
       "-1050.0          1\n",
       " 133.0           1\n",
       "-131.0           1\n",
       " 193.0           1\n",
       " 207.0           1\n",
       "-337.0           1\n",
       "-231.0           1\n",
       "-355.0           1\n",
       "-327.0           1\n",
       "-129.0           1\n",
       "-458.0           1\n",
       "-275.0           1\n",
       "-434.0           1\n",
       "-2880.0          1\n",
       " 1540.0          1\n",
       " 672.0           1\n",
       "-85.0            1\n",
       " 199.0           1\n",
       "-752.0           1\n",
       "-1510.0          1\n",
       "-550.0           1\n",
       " 494.0           1\n",
       " 310.0           1\n",
       " 249.0           1\n",
       "-864.0           1\n",
       " 450.0           1\n",
       "-3667.0          1\n",
       "-635.0           1\n",
       "-756.0           1\n",
       " 698.0           1\n",
       " 344.0           1\n",
       " 80995.0         1\n",
       " 682.0           1\n",
       "-484.0           1\n",
       "-682.0           1\n",
       " 750.0           1\n",
       "-384.0           1\n",
       "-235.0           1\n",
       " 688.0           1\n",
       " 1788.0          1\n",
       "-132.0           1\n",
       " 528.0           1\n",
       " 1412.0          1\n",
       " 852.0           1\n",
       " 1428.0          1\n",
       "-338.0           1\n",
       " 708.0           1\n",
       " 666.0           1\n",
       " 1878.0          1\n",
       " 306.0           1\n",
       " 1130.0          1\n",
       " 326.0           1\n",
       " 205.0           1\n",
       "-244.0           1\n",
       " 654.0           1\n",
       " 281.0           1\n",
       "-380.0           1\n",
       "-276.0           1\n",
       "-2003.0          1\n",
       " 2040.0          1\n",
       "-1131.0          1\n",
       "-135.0           1\n",
       "-1128.0          1\n",
       "-905.0           1\n",
       "-4830.0          1\n",
       "-674.0           1\n",
       " 212.0           1\n",
       "-155.0           1\n",
       "-2618.0          1\n",
       "-1158.0          1\n",
       "-428.0           1\n",
       "-224.0           1\n",
       "-149.0           1\n",
       " 1120.0          1\n",
       "-1671.0          1\n",
       " 832.0           1\n",
       " 257.0           1\n",
       " 992.0           1\n",
       " 630.0           1\n",
       " 12540.0         1\n",
       " 370.0           1\n",
       "-175.0           1\n",
       "-267.0           1\n",
       " 760.0           1\n",
       "-98.0            1\n",
       " 314.0           1\n",
       "-81.0            1\n",
       " 774.0           1\n",
       "-1284.0          1\n",
       "-1560.0          1\n",
       " 162.0           1\n",
       " 2100.0          1\n",
       "-151.0           1\n",
       " 1020.0          1\n",
       " 234.0           1\n",
       " 148.0           1\n",
       "-696.0           1\n",
       " 179.0           1\n",
       " 388.0           1\n",
       "-306.0           1\n",
       "-270.0           1\n",
       "-365.0           1\n",
       " 1820.0          1\n",
       " 478.0           1\n",
       "-313.0           1\n",
       " 335.0           1\n",
       " 253.0           1\n",
       " 484.0           1\n",
       " 242.0           1\n",
       " 375.0           1\n",
       "-430.0           1\n",
       "-800.0           1\n",
       " 1404.0          1\n",
       " 279.0           1\n",
       "-398.0           1\n",
       "-504.0           1\n",
       "-280.0           1\n",
       " 77.0            1\n",
       " 1992.0          1\n",
       " 137.0           1\n",
       " 374.0           1\n",
       " 912.0           1\n",
       " 628.0           1\n",
       "-900.0           1\n",
       "-1000.0          1\n",
       "-112.0           1\n",
       " 4800.0          1\n",
       "-335.0           1\n",
       "-103.0           1\n",
       " 177.0           1\n",
       " 490.0           1\n",
       "-468.0           1\n",
       "-657.0           1\n",
       " 637.0           1\n",
       "-1897.0          1\n",
       "-541.0           1\n",
       "-232.0           1\n",
       "-450.0           1\n",
       "-323.0           1\n",
       " 2160.0          1\n",
       "-259.0           1\n",
       "-5368.0          1\n",
       "-1100.0          1\n",
       "-1277.0          1\n",
       "-1121.0          1\n",
       "-741.0           1\n",
       "-975.0           1\n",
       "-345.0           1\n",
       "-675.0           1\n",
       "-3000.0          1\n",
       "-154.0           1\n",
       "-278.0           1\n",
       "-391.0           1\n",
       "-88.0            1\n",
       "-83.0            1\n",
       "-524.0           1\n",
       "-2472.0          1\n",
       "-105.0           1\n",
       "-3114.0          1\n",
       "-2000.0          1\n",
       "-1930.0          1\n",
       "-670.0           1\n",
       "-1092.0          1\n",
       "-750.0           1\n",
       "-1479.0          1\n",
       "-158.0           1\n",
       "-139.0           1\n",
       "-91.0            1\n",
       "-194.0           1\n",
       "-624.0           1\n",
       "-690.0           1\n",
       " 165.0           1\n",
       " 122.0           1\n",
       " 175.0           1\n",
       " 342.0           1\n",
       " 3906.0          1\n",
       " 141.0           1\n",
       " 492.0           1\n",
       "-723.0           1\n",
       " 197.0           1\n",
       " 172.0           1\n",
       " 752.0           1\n",
       "-500.0           1\n",
       " 213.0           1\n",
       " 460.0           1\n",
       " 267.0           1\n",
       " 106.0           1\n",
       "-223.0           1\n",
       " 407.0           1\n",
       " 1394.0          1\n",
       " 1488.0          1\n",
       " 258.0           1\n",
       " 402.0           1\n",
       "-320.0           1\n",
       " 1400.0          1\n",
       " 1824.0          1\n",
       "-9360.0          1\n",
       "-106.0           1\n",
       "-939.0           1\n",
       "-2600.0          1\n",
       "-990.0           1\n",
       "-173.0           1\n",
       " 1287.0          1\n",
       "-1430.0          1\n",
       " 2592.0          1\n",
       "-206.0           1\n",
       " 2560.0          1\n",
       " 5568.0          1\n",
       "-1400.0          1\n",
       "-74215.0         1\n",
       " 74215.0         1\n",
       " 648.0           1\n",
       "-310.0           1\n",
       " 1284.0          1\n",
       " 1356.0          1\n",
       " 1010.0          1\n",
       " 860.0           1\n",
       "-290.0           1\n",
       " 462.0           1\n",
       "-620.0           1\n",
       "-443.0           1\n",
       "-227.0           1\n",
       " 1900.0          1\n",
       " 348.0           1\n",
       "-342.0           1\n",
       "-1060.0          1\n",
       " 107.0           1\n",
       " 142.0           1\n",
       "-346.0           1\n",
       " 261.0           1\n",
       "-530.0           1\n",
       " 828.0           1\n",
       "-2834.0          1\n",
       " 3186.0          1\n",
       " 291.0           1\n",
       "-169.0           1\n",
       " 3100.0          1\n",
       "-3100.0          1\n",
       "-251.0           1\n",
       " 512.0           1\n",
       " 157.0           1\n",
       "-343.0           1\n",
       "-455.0           1\n",
       " 425.0           1\n",
       "-3167.0          1\n",
       "-967.0           1\n",
       "-242.0           1\n",
       "-115.0           1\n",
       "-113.0           1\n",
       "-318.0           1\n",
       "-334.0           1\n",
       " 145.0           1\n",
       "-553.0           1\n",
       " 230.0           1\n",
       " 410.0           1\n",
       " 196.0           1\n",
       "-701.0           1\n",
       "-828.0           1\n",
       " 824.0           1\n",
       " 684.0           1\n",
       " 968.0           1\n",
       " 560.0           1\n",
       " 701.0           1\n",
       " 273.0           1\n",
       "-664.0           1\n",
       " 4300.0          1\n",
       "-212.0           1\n",
       " 608.0           1\n",
       " 738.0           1\n",
       " 552.0           1\n",
       " 906.0           1\n",
       " 2700.0          1\n",
       " 227.0           1\n",
       "-413.0           1\n",
       " 155.0           1\n",
       "-590.0           1\n",
       "-786.0           1\n",
       "-1350.0          1\n",
       " 428.0           1\n",
       " 1350.0          1\n",
       "-2376.0          1\n",
       "-960.0           1\n",
       "-1512.0          1\n",
       " 146.0           1\n",
       "-116.0           1\n",
       " 4000.0          1\n",
       "-304.0           1\n",
       "-1681.0          1\n",
       " 430.0           1\n",
       "-118.0           1\n",
       " 588.0           1\n",
       " 188.0           1\n",
       "-271.0           1\n",
       "-420.0           1\n",
       " 660.0           1\n",
       "-9058.0          1\n",
       "-1515.0          1\n",
       " 1515.0          1\n",
       "-204.0           1\n",
       "-618.0           1\n",
       "-472.0           1\n",
       "-161.0           1\n",
       "-1206.0          1\n",
       "-272.0           1\n",
       "-80995.0         1\n",
       "Name: Quantity, dtype: int64"
      ]
     },
     "execution_count": 129,
     "metadata": {},
     "output_type": "execute_result"
    }
   ],
   "source": [
    "df1.Quantity.value_counts(sort=True,ascending=False) # negatif degerler var."
   ]
  },
  {
   "cell_type": "code",
   "execution_count": 130,
   "metadata": {},
   "outputs": [
    {
     "data": {
      "text/plain": [
       "1.25      0.093182\n",
       "1.65      0.070456\n",
       "0.85      0.052586\n",
       "2.95      0.051241\n",
       "0.42      0.045271\n",
       "            ...   \n",
       "84.21     0.000002\n",
       "46.86     0.000002\n",
       "28.66     0.000002\n",
       "156.45    0.000002\n",
       "224.69    0.000002\n",
       "Name: UnitPrice, Length: 1630, dtype: float64"
      ]
     },
     "execution_count": 130,
     "metadata": {},
     "output_type": "execute_result"
    }
   ],
   "source": [
    "df1.UnitPrice.value_counts(normalize=True)"
   ]
  },
  {
   "cell_type": "code",
   "execution_count": 131,
   "metadata": {
    "scrolled": true
   },
   "outputs": [
    {
     "data": {
      "text/plain": [
       "United Kingdom          495478\n",
       "Germany                   9495\n",
       "France                    8557\n",
       "EIRE                      8196\n",
       "Spain                     2533\n",
       "Netherlands               2371\n",
       "Belgium                   2069\n",
       "Switzerland               2002\n",
       "Portugal                  1519\n",
       "Australia                 1259\n",
       "Norway                    1086\n",
       "Italy                      803\n",
       "Channel Islands            758\n",
       "Finland                    695\n",
       "Cyprus                     622\n",
       "Sweden                     462\n",
       "Unspecified                446\n",
       "Austria                    401\n",
       "Denmark                    389\n",
       "Japan                      358\n",
       "Poland                     341\n",
       "Israel                     297\n",
       "USA                        291\n",
       "Hong Kong                  288\n",
       "Singapore                  229\n",
       "Iceland                    182\n",
       "Canada                     151\n",
       "Greece                     146\n",
       "Malta                      127\n",
       "United Arab Emirates        68\n",
       "European Community          61\n",
       "RSA                         58\n",
       "Lebanon                     45\n",
       "Lithuania                   35\n",
       "Brazil                      32\n",
       "Czech Republic              30\n",
       "Bahrain                     19\n",
       "Saudi Arabia                10\n",
       "Name: Country, dtype: int64"
      ]
     },
     "execution_count": 131,
     "metadata": {},
     "output_type": "execute_result"
    }
   ],
   "source": [
    "df1.Country.value_counts() # Tr yine yok."
   ]
  },
  {
   "cell_type": "code",
   "execution_count": 132,
   "metadata": {},
   "outputs": [
    {
     "data": {
      "text/html": [
       "<div>\n",
       "<style scoped>\n",
       "    .dataframe tbody tr th:only-of-type {\n",
       "        vertical-align: middle;\n",
       "    }\n",
       "\n",
       "    .dataframe tbody tr th {\n",
       "        vertical-align: top;\n",
       "    }\n",
       "\n",
       "    .dataframe thead th {\n",
       "        text-align: right;\n",
       "    }\n",
       "</style>\n",
       "<table border=\"1\" class=\"dataframe\">\n",
       "  <thead>\n",
       "    <tr style=\"text-align: right;\">\n",
       "      <th></th>\n",
       "      <th>Quantity</th>\n",
       "      <th>UnitPrice</th>\n",
       "      <th>CustomerID</th>\n",
       "    </tr>\n",
       "  </thead>\n",
       "  <tbody>\n",
       "    <tr>\n",
       "      <th>count</th>\n",
       "      <td>541909.000000</td>\n",
       "      <td>541909.000000</td>\n",
       "      <td>406829.000000</td>\n",
       "    </tr>\n",
       "    <tr>\n",
       "      <th>mean</th>\n",
       "      <td>9.552250</td>\n",
       "      <td>4.611114</td>\n",
       "      <td>15287.690570</td>\n",
       "    </tr>\n",
       "    <tr>\n",
       "      <th>std</th>\n",
       "      <td>218.081158</td>\n",
       "      <td>96.759853</td>\n",
       "      <td>1713.600303</td>\n",
       "    </tr>\n",
       "    <tr>\n",
       "      <th>min</th>\n",
       "      <td>-80995.000000</td>\n",
       "      <td>-11062.060000</td>\n",
       "      <td>12346.000000</td>\n",
       "    </tr>\n",
       "    <tr>\n",
       "      <th>25%</th>\n",
       "      <td>1.000000</td>\n",
       "      <td>1.250000</td>\n",
       "      <td>13953.000000</td>\n",
       "    </tr>\n",
       "    <tr>\n",
       "      <th>50%</th>\n",
       "      <td>3.000000</td>\n",
       "      <td>2.080000</td>\n",
       "      <td>15152.000000</td>\n",
       "    </tr>\n",
       "    <tr>\n",
       "      <th>75%</th>\n",
       "      <td>10.000000</td>\n",
       "      <td>4.130000</td>\n",
       "      <td>16791.000000</td>\n",
       "    </tr>\n",
       "    <tr>\n",
       "      <th>max</th>\n",
       "      <td>80995.000000</td>\n",
       "      <td>38970.000000</td>\n",
       "      <td>18287.000000</td>\n",
       "    </tr>\n",
       "  </tbody>\n",
       "</table>\n",
       "</div>"
      ],
      "text/plain": [
       "            Quantity      UnitPrice     CustomerID\n",
       "count  541909.000000  541909.000000  406829.000000\n",
       "mean        9.552250       4.611114   15287.690570\n",
       "std       218.081158      96.759853    1713.600303\n",
       "min    -80995.000000  -11062.060000   12346.000000\n",
       "25%         1.000000       1.250000   13953.000000\n",
       "50%         3.000000       2.080000   15152.000000\n",
       "75%        10.000000       4.130000   16791.000000\n",
       "max     80995.000000   38970.000000   18287.000000"
      ]
     },
     "execution_count": 132,
     "metadata": {},
     "output_type": "execute_result"
    }
   ],
   "source": [
    "df1.describe()"
   ]
  },
  {
   "cell_type": "code",
   "execution_count": 133,
   "metadata": {},
   "outputs": [
    {
     "data": {
      "image/png": "[encoded data removed]",
      "text/plain": [
       "<Figure size 436.25x360 with 6 Axes>"
      ]
     },
     "metadata": {
      "needs_background": "light"
     },
     "output_type": "display_data"
    }
   ],
   "source": [
    "sns.pairplot(df1, hue = \"UnitPrice\")\n",
    "plt.show()"
   ]
  },
  {
   "cell_type": "code",
   "execution_count": 134,
   "metadata": {},
   "outputs": [
    {
     "ename": "ModuleNotFoundError",
     "evalue": "No module named 'missingno'",
     "output_type": "error",
     "traceback": [
      "\u001b[1;31m---------------------------------------------------------------------------\u001b[0m",
      "\u001b[1;31mModuleNotFoundError\u001b[0m                       Traceback (most recent call last)",
      "\u001b[1;32m~\\AppData\\Local\\Temp/ipykernel_876/3181719884.py\u001b[0m in \u001b[0;36m<module>\u001b[1;34m\u001b[0m\n\u001b[1;32m----> 1\u001b[1;33m \u001b[1;32mimport\u001b[0m \u001b[0mmissingno\u001b[0m \u001b[1;32mas\u001b[0m \u001b[0mmsn\u001b[0m\u001b[1;33m\u001b[0m\u001b[1;33m\u001b[0m\u001b[0m\n\u001b[0m",
      "\u001b[1;31mModuleNotFoundError\u001b[0m: No module named 'missingno'"
     ]
    }
   ],
   "source": [
    "import missingno as msn"
   ]
  },
  {
   "cell_type": "code",
   "execution_count": 135,
   "metadata": {},
   "outputs": [
    {
     "ename": "NameError",
     "evalue": "name 'msn' is not defined",
     "output_type": "error",
     "traceback": [
      "\u001b[1;31m---------------------------------------------------------------------------\u001b[0m",
      "\u001b[1;31mNameError\u001b[0m                                 Traceback (most recent call last)",
      "\u001b[1;32m~\\AppData\\Local\\Temp/ipykernel_876/3499097193.py\u001b[0m in \u001b[0;36m<module>\u001b[1;34m\u001b[0m\n\u001b[1;32m----> 1\u001b[1;33m \u001b[0mmsn\u001b[0m\u001b[1;33m.\u001b[0m\u001b[0mbar\u001b[0m\u001b[1;33m(\u001b[0m\u001b[0mdf1\u001b[0m\u001b[1;33m)\u001b[0m\u001b[1;33m;\u001b[0m\u001b[1;33m\u001b[0m\u001b[1;33m\u001b[0m\u001b[0m\n\u001b[0m",
      "\u001b[1;31mNameError\u001b[0m: name 'msn' is not defined"
     ]
    }
   ],
   "source": [
    "msn.bar(df1);"
   ]
  },
  {
   "cell_type": "code",
   "execution_count": 136,
   "metadata": {},
   "outputs": [
    {
     "ename": "NameError",
     "evalue": "name 'msn' is not defined",
     "output_type": "error",
     "traceback": [
      "\u001b[1;31m---------------------------------------------------------------------------\u001b[0m",
      "\u001b[1;31mNameError\u001b[0m                                 Traceback (most recent call last)",
      "\u001b[1;32m~\\AppData\\Local\\Temp/ipykernel_876/47844274.py\u001b[0m in \u001b[0;36m<module>\u001b[1;34m\u001b[0m\n\u001b[1;32m----> 1\u001b[1;33m \u001b[0mmsn\u001b[0m\u001b[1;33m.\u001b[0m\u001b[0mmatrix\u001b[0m\u001b[1;33m(\u001b[0m\u001b[0mdf1\u001b[0m\u001b[1;33m)\u001b[0m\u001b[1;33m\u001b[0m\u001b[1;33m\u001b[0m\u001b[0m\n\u001b[0m",
      "\u001b[1;31mNameError\u001b[0m: name 'msn' is not defined"
     ]
    }
   ],
   "source": [
    "msn.matrix(df1)"
   ]
  },
  {
   "cell_type": "code",
   "execution_count": 137,
   "metadata": {},
   "outputs": [
    {
     "ename": "NameError",
     "evalue": "name 'msn' is not defined",
     "output_type": "error",
     "traceback": [
      "\u001b[1;31m---------------------------------------------------------------------------\u001b[0m",
      "\u001b[1;31mNameError\u001b[0m                                 Traceback (most recent call last)",
      "\u001b[1;32m~\\AppData\\Local\\Temp/ipykernel_876/47844274.py\u001b[0m in \u001b[0;36m<module>\u001b[1;34m\u001b[0m\n\u001b[1;32m----> 1\u001b[1;33m \u001b[0mmsn\u001b[0m\u001b[1;33m.\u001b[0m\u001b[0mmatrix\u001b[0m\u001b[1;33m(\u001b[0m\u001b[0mdf1\u001b[0m\u001b[1;33m)\u001b[0m\u001b[1;33m\u001b[0m\u001b[1;33m\u001b[0m\u001b[0m\n\u001b[0m",
      "\u001b[1;31mNameError\u001b[0m: name 'msn' is not defined"
     ]
    }
   ],
   "source": [
    "msn.matrix(df1)"
   ]
  },
  {
   "cell_type": "code",
   "execution_count": 138,
   "metadata": {},
   "outputs": [
    {
     "data": {
      "text/html": [
       "<div>\n",
       "<style scoped>\n",
       "    .dataframe tbody tr th:only-of-type {\n",
       "        vertical-align: middle;\n",
       "    }\n",
       "\n",
       "    .dataframe tbody tr th {\n",
       "        vertical-align: top;\n",
       "    }\n",
       "\n",
       "    .dataframe thead th {\n",
       "        text-align: right;\n",
       "    }\n",
       "</style>\n",
       "<table border=\"1\" class=\"dataframe\">\n",
       "  <thead>\n",
       "    <tr style=\"text-align: right;\">\n",
       "      <th></th>\n",
       "      <th>Quantity</th>\n",
       "      <th>UnitPrice</th>\n",
       "    </tr>\n",
       "  </thead>\n",
       "  <tbody>\n",
       "    <tr>\n",
       "      <th>Quantity</th>\n",
       "      <td>1.000000</td>\n",
       "      <td>-0.001235</td>\n",
       "    </tr>\n",
       "    <tr>\n",
       "      <th>UnitPrice</th>\n",
       "      <td>-0.001235</td>\n",
       "      <td>1.000000</td>\n",
       "    </tr>\n",
       "  </tbody>\n",
       "</table>\n",
       "</div>"
      ],
      "text/plain": [
       "           Quantity  UnitPrice\n",
       "Quantity   1.000000  -0.001235\n",
       "UnitPrice -0.001235   1.000000"
      ]
     },
     "execution_count": 138,
     "metadata": {},
     "output_type": "execute_result"
    }
   ],
   "source": [
    "df1[[\"InvoiceNo\", \"Quantity\" ,\"UnitPrice\"]].corr()                                                                              "
   ]
  },
  {
   "cell_type": "code",
   "execution_count": 139,
   "metadata": {},
   "outputs": [
    {
     "data": {
      "text/html": [
       "<div>\n",
       "<style scoped>\n",
       "    .dataframe tbody tr th:only-of-type {\n",
       "        vertical-align: middle;\n",
       "    }\n",
       "\n",
       "    .dataframe tbody tr th {\n",
       "        vertical-align: top;\n",
       "    }\n",
       "\n",
       "    .dataframe thead th {\n",
       "        text-align: right;\n",
       "    }\n",
       "</style>\n",
       "<table border=\"1\" class=\"dataframe\">\n",
       "  <thead>\n",
       "    <tr style=\"text-align: right;\">\n",
       "      <th></th>\n",
       "      <th>InvoiceNo</th>\n",
       "      <th>Quantity</th>\n",
       "      <th>UnitPrice</th>\n",
       "    </tr>\n",
       "  </thead>\n",
       "  <tbody>\n",
       "    <tr>\n",
       "      <th>0</th>\n",
       "      <td>536365.0</td>\n",
       "      <td>6.0</td>\n",
       "      <td>2.55</td>\n",
       "    </tr>\n",
       "    <tr>\n",
       "      <th>1</th>\n",
       "      <td>536365.0</td>\n",
       "      <td>6.0</td>\n",
       "      <td>3.39</td>\n",
       "    </tr>\n",
       "    <tr>\n",
       "      <th>2</th>\n",
       "      <td>536365.0</td>\n",
       "      <td>8.0</td>\n",
       "      <td>2.75</td>\n",
       "    </tr>\n",
       "    <tr>\n",
       "      <th>3</th>\n",
       "      <td>536365.0</td>\n",
       "      <td>6.0</td>\n",
       "      <td>3.39</td>\n",
       "    </tr>\n",
       "    <tr>\n",
       "      <th>4</th>\n",
       "      <td>536365.0</td>\n",
       "      <td>6.0</td>\n",
       "      <td>3.39</td>\n",
       "    </tr>\n",
       "    <tr>\n",
       "      <th>5</th>\n",
       "      <td>536365.0</td>\n",
       "      <td>2.0</td>\n",
       "      <td>7.65</td>\n",
       "    </tr>\n",
       "    <tr>\n",
       "      <th>6</th>\n",
       "      <td>536365.0</td>\n",
       "      <td>6.0</td>\n",
       "      <td>4.25</td>\n",
       "    </tr>\n",
       "    <tr>\n",
       "      <th>7</th>\n",
       "      <td>536366.0</td>\n",
       "      <td>6.0</td>\n",
       "      <td>1.85</td>\n",
       "    </tr>\n",
       "    <tr>\n",
       "      <th>8</th>\n",
       "      <td>536366.0</td>\n",
       "      <td>6.0</td>\n",
       "      <td>1.85</td>\n",
       "    </tr>\n",
       "    <tr>\n",
       "      <th>9</th>\n",
       "      <td>536367.0</td>\n",
       "      <td>32.0</td>\n",
       "      <td>1.69</td>\n",
       "    </tr>\n",
       "  </tbody>\n",
       "</table>\n",
       "</div>"
      ],
      "text/plain": [
       "  InvoiceNo  Quantity  UnitPrice\n",
       "0  536365.0       6.0       2.55\n",
       "1  536365.0       6.0       3.39\n",
       "2  536365.0       8.0       2.75\n",
       "3  536365.0       6.0       3.39\n",
       "4  536365.0       6.0       3.39\n",
       "5  536365.0       2.0       7.65\n",
       "6  536365.0       6.0       4.25\n",
       "7  536366.0       6.0       1.85\n",
       "8  536366.0       6.0       1.85\n",
       "9  536367.0      32.0       1.69"
      ]
     },
     "execution_count": 139,
     "metadata": {},
     "output_type": "execute_result"
    }
   ],
   "source": [
    "df1[[\"InvoiceNo\", \"Quantity\" ,\"UnitPrice\"]].head(10)        "
   ]
  },
  {
   "cell_type": "code",
   "execution_count": 140,
   "metadata": {},
   "outputs": [
    {
     "data": {
      "text/html": [
       "<div>\n",
       "<style scoped>\n",
       "    .dataframe tbody tr th:only-of-type {\n",
       "        vertical-align: middle;\n",
       "    }\n",
       "\n",
       "    .dataframe tbody tr th {\n",
       "        vertical-align: top;\n",
       "    }\n",
       "\n",
       "    .dataframe thead th {\n",
       "        text-align: right;\n",
       "    }\n",
       "</style>\n",
       "<table border=\"1\" class=\"dataframe\">\n",
       "  <thead>\n",
       "    <tr style=\"text-align: right;\">\n",
       "      <th></th>\n",
       "      <th>InvoiceNo</th>\n",
       "      <th>Quantity</th>\n",
       "      <th>InvoiceDate</th>\n",
       "      <th>UnitPrice</th>\n",
       "    </tr>\n",
       "  </thead>\n",
       "  <tbody>\n",
       "    <tr>\n",
       "      <th>0</th>\n",
       "      <td>536365.0</td>\n",
       "      <td>6.0</td>\n",
       "      <td>2010-12-01 08:26:00</td>\n",
       "      <td>2.55</td>\n",
       "    </tr>\n",
       "    <tr>\n",
       "      <th>1</th>\n",
       "      <td>536365.0</td>\n",
       "      <td>6.0</td>\n",
       "      <td>2010-12-01 08:26:00</td>\n",
       "      <td>3.39</td>\n",
       "    </tr>\n",
       "    <tr>\n",
       "      <th>2</th>\n",
       "      <td>536365.0</td>\n",
       "      <td>8.0</td>\n",
       "      <td>2010-12-01 08:26:00</td>\n",
       "      <td>2.75</td>\n",
       "    </tr>\n",
       "    <tr>\n",
       "      <th>3</th>\n",
       "      <td>536365.0</td>\n",
       "      <td>6.0</td>\n",
       "      <td>2010-12-01 08:26:00</td>\n",
       "      <td>3.39</td>\n",
       "    </tr>\n",
       "    <tr>\n",
       "      <th>4</th>\n",
       "      <td>536365.0</td>\n",
       "      <td>6.0</td>\n",
       "      <td>2010-12-01 08:26:00</td>\n",
       "      <td>3.39</td>\n",
       "    </tr>\n",
       "    <tr>\n",
       "      <th>5</th>\n",
       "      <td>536365.0</td>\n",
       "      <td>2.0</td>\n",
       "      <td>2010-12-01 08:26:00</td>\n",
       "      <td>7.65</td>\n",
       "    </tr>\n",
       "    <tr>\n",
       "      <th>6</th>\n",
       "      <td>536365.0</td>\n",
       "      <td>6.0</td>\n",
       "      <td>2010-12-01 08:26:00</td>\n",
       "      <td>4.25</td>\n",
       "    </tr>\n",
       "    <tr>\n",
       "      <th>7</th>\n",
       "      <td>536366.0</td>\n",
       "      <td>6.0</td>\n",
       "      <td>2010-12-01 08:28:00</td>\n",
       "      <td>1.85</td>\n",
       "    </tr>\n",
       "    <tr>\n",
       "      <th>8</th>\n",
       "      <td>536366.0</td>\n",
       "      <td>6.0</td>\n",
       "      <td>2010-12-01 08:28:00</td>\n",
       "      <td>1.85</td>\n",
       "    </tr>\n",
       "    <tr>\n",
       "      <th>9</th>\n",
       "      <td>536367.0</td>\n",
       "      <td>32.0</td>\n",
       "      <td>2010-12-01 08:34:00</td>\n",
       "      <td>1.69</td>\n",
       "    </tr>\n",
       "  </tbody>\n",
       "</table>\n",
       "</div>"
      ],
      "text/plain": [
       "  InvoiceNo  Quantity         InvoiceDate  UnitPrice\n",
       "0  536365.0       6.0 2010-12-01 08:26:00       2.55\n",
       "1  536365.0       6.0 2010-12-01 08:26:00       3.39\n",
       "2  536365.0       8.0 2010-12-01 08:26:00       2.75\n",
       "3  536365.0       6.0 2010-12-01 08:26:00       3.39\n",
       "4  536365.0       6.0 2010-12-01 08:26:00       3.39\n",
       "5  536365.0       2.0 2010-12-01 08:26:00       7.65\n",
       "6  536365.0       6.0 2010-12-01 08:26:00       4.25\n",
       "7  536366.0       6.0 2010-12-01 08:28:00       1.85\n",
       "8  536366.0       6.0 2010-12-01 08:28:00       1.85\n",
       "9  536367.0      32.0 2010-12-01 08:34:00       1.69"
      ]
     },
     "execution_count": 140,
     "metadata": {},
     "output_type": "execute_result"
    }
   ],
   "source": [
    "df1[[\"InvoiceNo\", \"Quantity\" ,\"InvoiceDate\",\"UnitPrice\"]].head(10)        "
   ]
  },
  {
   "cell_type": "code",
   "execution_count": 141,
   "metadata": {},
   "outputs": [
    {
     "data": {
      "text/html": [
       "<div>\n",
       "<style scoped>\n",
       "    .dataframe tbody tr th:only-of-type {\n",
       "        vertical-align: middle;\n",
       "    }\n",
       "\n",
       "    .dataframe tbody tr th {\n",
       "        vertical-align: top;\n",
       "    }\n",
       "\n",
       "    .dataframe thead th {\n",
       "        text-align: right;\n",
       "    }\n",
       "</style>\n",
       "<table border=\"1\" class=\"dataframe\">\n",
       "  <thead>\n",
       "    <tr style=\"text-align: right;\">\n",
       "      <th></th>\n",
       "      <th>InvoiceNo</th>\n",
       "      <th>StockCode</th>\n",
       "      <th>Description</th>\n",
       "      <th>Quantity</th>\n",
       "      <th>InvoiceDate</th>\n",
       "      <th>UnitPrice</th>\n",
       "      <th>CustomerID</th>\n",
       "      <th>Country</th>\n",
       "    </tr>\n",
       "  </thead>\n",
       "  <tbody>\n",
       "    <tr>\n",
       "      <th>141</th>\n",
       "      <td>C536379</td>\n",
       "      <td>D</td>\n",
       "      <td>Discount</td>\n",
       "      <td>-1.0</td>\n",
       "      <td>2010-12-01 09:41:00</td>\n",
       "      <td>27.50</td>\n",
       "      <td>14527.0</td>\n",
       "      <td>United Kingdom</td>\n",
       "    </tr>\n",
       "    <tr>\n",
       "      <th>154</th>\n",
       "      <td>C536383</td>\n",
       "      <td>35004C</td>\n",
       "      <td>SET OF 3 COLOURED  FLYING DUCKS</td>\n",
       "      <td>-1.0</td>\n",
       "      <td>2010-12-01 09:49:00</td>\n",
       "      <td>4.65</td>\n",
       "      <td>15311.0</td>\n",
       "      <td>United Kingdom</td>\n",
       "    </tr>\n",
       "    <tr>\n",
       "      <th>235</th>\n",
       "      <td>C536391</td>\n",
       "      <td>22556.0</td>\n",
       "      <td>PLASTERS IN TIN CIRCUS PARADE</td>\n",
       "      <td>-12.0</td>\n",
       "      <td>2010-12-01 10:24:00</td>\n",
       "      <td>1.65</td>\n",
       "      <td>17548.0</td>\n",
       "      <td>United Kingdom</td>\n",
       "    </tr>\n",
       "    <tr>\n",
       "      <th>236</th>\n",
       "      <td>C536391</td>\n",
       "      <td>21984.0</td>\n",
       "      <td>PACK OF 12 PINK PAISLEY TISSUES</td>\n",
       "      <td>-24.0</td>\n",
       "      <td>2010-12-01 10:24:00</td>\n",
       "      <td>0.29</td>\n",
       "      <td>17548.0</td>\n",
       "      <td>United Kingdom</td>\n",
       "    </tr>\n",
       "    <tr>\n",
       "      <th>237</th>\n",
       "      <td>C536391</td>\n",
       "      <td>21983.0</td>\n",
       "      <td>PACK OF 12 BLUE PAISLEY TISSUES</td>\n",
       "      <td>-24.0</td>\n",
       "      <td>2010-12-01 10:24:00</td>\n",
       "      <td>0.29</td>\n",
       "      <td>17548.0</td>\n",
       "      <td>United Kingdom</td>\n",
       "    </tr>\n",
       "    <tr>\n",
       "      <th>...</th>\n",
       "      <td>...</td>\n",
       "      <td>...</td>\n",
       "      <td>...</td>\n",
       "      <td>...</td>\n",
       "      <td>...</td>\n",
       "      <td>...</td>\n",
       "      <td>...</td>\n",
       "      <td>...</td>\n",
       "    </tr>\n",
       "    <tr>\n",
       "      <th>540449</th>\n",
       "      <td>C581490</td>\n",
       "      <td>23144.0</td>\n",
       "      <td>ZINC T-LIGHT HOLDER STARS SMALL</td>\n",
       "      <td>-11.0</td>\n",
       "      <td>2011-12-09 09:57:00</td>\n",
       "      <td>0.83</td>\n",
       "      <td>14397.0</td>\n",
       "      <td>United Kingdom</td>\n",
       "    </tr>\n",
       "    <tr>\n",
       "      <th>541541</th>\n",
       "      <td>C581499</td>\n",
       "      <td>M</td>\n",
       "      <td>Manual</td>\n",
       "      <td>-1.0</td>\n",
       "      <td>2011-12-09 10:28:00</td>\n",
       "      <td>224.69</td>\n",
       "      <td>15498.0</td>\n",
       "      <td>United Kingdom</td>\n",
       "    </tr>\n",
       "    <tr>\n",
       "      <th>541715</th>\n",
       "      <td>C581568</td>\n",
       "      <td>21258.0</td>\n",
       "      <td>VICTORIAN SEWING BOX LARGE</td>\n",
       "      <td>-5.0</td>\n",
       "      <td>2011-12-09 11:57:00</td>\n",
       "      <td>10.95</td>\n",
       "      <td>15311.0</td>\n",
       "      <td>United Kingdom</td>\n",
       "    </tr>\n",
       "    <tr>\n",
       "      <th>541716</th>\n",
       "      <td>C581569</td>\n",
       "      <td>84978.0</td>\n",
       "      <td>HANGING HEART JAR T-LIGHT HOLDER</td>\n",
       "      <td>-1.0</td>\n",
       "      <td>2011-12-09 11:58:00</td>\n",
       "      <td>1.25</td>\n",
       "      <td>17315.0</td>\n",
       "      <td>United Kingdom</td>\n",
       "    </tr>\n",
       "    <tr>\n",
       "      <th>541717</th>\n",
       "      <td>C581569</td>\n",
       "      <td>20979.0</td>\n",
       "      <td>36 PENCILS TUBE RED RETROSPOT</td>\n",
       "      <td>-5.0</td>\n",
       "      <td>2011-12-09 11:58:00</td>\n",
       "      <td>1.25</td>\n",
       "      <td>17315.0</td>\n",
       "      <td>United Kingdom</td>\n",
       "    </tr>\n",
       "  </tbody>\n",
       "</table>\n",
       "<p>10624 rows × 8 columns</p>\n",
       "</div>"
      ],
      "text/plain": [
       "       InvoiceNo StockCode                       Description  Quantity  \\\n",
       "141      C536379         D                          Discount      -1.0   \n",
       "154      C536383    35004C   SET OF 3 COLOURED  FLYING DUCKS      -1.0   \n",
       "235      C536391   22556.0    PLASTERS IN TIN CIRCUS PARADE      -12.0   \n",
       "236      C536391   21984.0  PACK OF 12 PINK PAISLEY TISSUES      -24.0   \n",
       "237      C536391   21983.0  PACK OF 12 BLUE PAISLEY TISSUES      -24.0   \n",
       "...          ...       ...                               ...       ...   \n",
       "540449   C581490   23144.0   ZINC T-LIGHT HOLDER STARS SMALL     -11.0   \n",
       "541541   C581499         M                            Manual      -1.0   \n",
       "541715   C581568   21258.0        VICTORIAN SEWING BOX LARGE      -5.0   \n",
       "541716   C581569   84978.0  HANGING HEART JAR T-LIGHT HOLDER      -1.0   \n",
       "541717   C581569   20979.0     36 PENCILS TUBE RED RETROSPOT      -5.0   \n",
       "\n",
       "               InvoiceDate  UnitPrice  CustomerID         Country  \n",
       "141    2010-12-01 09:41:00      27.50     14527.0  United Kingdom  \n",
       "154    2010-12-01 09:49:00       4.65     15311.0  United Kingdom  \n",
       "235    2010-12-01 10:24:00       1.65     17548.0  United Kingdom  \n",
       "236    2010-12-01 10:24:00       0.29     17548.0  United Kingdom  \n",
       "237    2010-12-01 10:24:00       0.29     17548.0  United Kingdom  \n",
       "...                    ...        ...         ...             ...  \n",
       "540449 2011-12-09 09:57:00       0.83     14397.0  United Kingdom  \n",
       "541541 2011-12-09 10:28:00     224.69     15498.0  United Kingdom  \n",
       "541715 2011-12-09 11:57:00      10.95     15311.0  United Kingdom  \n",
       "541716 2011-12-09 11:58:00       1.25     17315.0  United Kingdom  \n",
       "541717 2011-12-09 11:58:00       1.25     17315.0  United Kingdom  \n",
       "\n",
       "[10624 rows x 8 columns]"
      ]
     },
     "execution_count": 141,
     "metadata": {},
     "output_type": "execute_result"
    }
   ],
   "source": [
    "df1[df1[\"Quantity\"]<0]"
   ]
  },
  {
   "cell_type": "code",
   "execution_count": 142,
   "metadata": {},
   "outputs": [
    {
     "data": {
      "text/html": [
       "<div>\n",
       "<style scoped>\n",
       "    .dataframe tbody tr th:only-of-type {\n",
       "        vertical-align: middle;\n",
       "    }\n",
       "\n",
       "    .dataframe tbody tr th {\n",
       "        vertical-align: top;\n",
       "    }\n",
       "\n",
       "    .dataframe thead th {\n",
       "        text-align: right;\n",
       "    }\n",
       "</style>\n",
       "<table border=\"1\" class=\"dataframe\">\n",
       "  <thead>\n",
       "    <tr style=\"text-align: right;\">\n",
       "      <th></th>\n",
       "      <th>InvoiceNo</th>\n",
       "      <th>StockCode</th>\n",
       "      <th>Description</th>\n",
       "      <th>Quantity</th>\n",
       "      <th>InvoiceDate</th>\n",
       "      <th>UnitPrice</th>\n",
       "      <th>CustomerID</th>\n",
       "      <th>Country</th>\n",
       "    </tr>\n",
       "  </thead>\n",
       "  <tbody>\n",
       "    <tr>\n",
       "      <th>299983</th>\n",
       "      <td>A563186</td>\n",
       "      <td>B</td>\n",
       "      <td>Adjust bad debt</td>\n",
       "      <td>1.0</td>\n",
       "      <td>2011-08-12 14:51:00</td>\n",
       "      <td>-11062.06</td>\n",
       "      <td>NaN</td>\n",
       "      <td>United Kingdom</td>\n",
       "    </tr>\n",
       "    <tr>\n",
       "      <th>299984</th>\n",
       "      <td>A563187</td>\n",
       "      <td>B</td>\n",
       "      <td>Adjust bad debt</td>\n",
       "      <td>1.0</td>\n",
       "      <td>2011-08-12 14:52:00</td>\n",
       "      <td>-11062.06</td>\n",
       "      <td>NaN</td>\n",
       "      <td>United Kingdom</td>\n",
       "    </tr>\n",
       "  </tbody>\n",
       "</table>\n",
       "</div>"
      ],
      "text/plain": [
       "       InvoiceNo StockCode      Description  Quantity         InvoiceDate  \\\n",
       "299983   A563186         B  Adjust bad debt       1.0 2011-08-12 14:51:00   \n",
       "299984   A563187         B  Adjust bad debt       1.0 2011-08-12 14:52:00   \n",
       "\n",
       "        UnitPrice  CustomerID         Country  \n",
       "299983  -11062.06         NaN  United Kingdom  \n",
       "299984  -11062.06         NaN  United Kingdom  "
      ]
     },
     "execution_count": 142,
     "metadata": {},
     "output_type": "execute_result"
    }
   ],
   "source": [
    "df1[df1[\"UnitPrice\"]<0]"
   ]
  },
  {
   "cell_type": "code",
   "execution_count": 143,
   "metadata": {},
   "outputs": [
    {
     "data": {
      "text/html": [
       "<div>\n",
       "<style scoped>\n",
       "    .dataframe tbody tr th:only-of-type {\n",
       "        vertical-align: middle;\n",
       "    }\n",
       "\n",
       "    .dataframe tbody tr th {\n",
       "        vertical-align: top;\n",
       "    }\n",
       "\n",
       "    .dataframe thead th {\n",
       "        text-align: right;\n",
       "    }\n",
       "</style>\n",
       "<table border=\"1\" class=\"dataframe\">\n",
       "  <thead>\n",
       "    <tr style=\"text-align: right;\">\n",
       "      <th></th>\n",
       "      <th>InvoiceNo</th>\n",
       "      <th>StockCode</th>\n",
       "      <th>Description</th>\n",
       "      <th>Quantity</th>\n",
       "      <th>InvoiceDate</th>\n",
       "      <th>UnitPrice</th>\n",
       "      <th>CustomerID</th>\n",
       "      <th>Country</th>\n",
       "    </tr>\n",
       "  </thead>\n",
       "  <tbody>\n",
       "    <tr>\n",
       "      <th>141</th>\n",
       "      <td>C536379</td>\n",
       "      <td>D</td>\n",
       "      <td>Discount</td>\n",
       "      <td>-1.0</td>\n",
       "      <td>2010-12-01 09:41:00</td>\n",
       "      <td>27.50</td>\n",
       "      <td>14527.0</td>\n",
       "      <td>United Kingdom</td>\n",
       "    </tr>\n",
       "    <tr>\n",
       "      <th>154</th>\n",
       "      <td>C536383</td>\n",
       "      <td>35004C</td>\n",
       "      <td>SET OF 3 COLOURED  FLYING DUCKS</td>\n",
       "      <td>-1.0</td>\n",
       "      <td>2010-12-01 09:49:00</td>\n",
       "      <td>4.65</td>\n",
       "      <td>15311.0</td>\n",
       "      <td>United Kingdom</td>\n",
       "    </tr>\n",
       "    <tr>\n",
       "      <th>235</th>\n",
       "      <td>C536391</td>\n",
       "      <td>22556.0</td>\n",
       "      <td>PLASTERS IN TIN CIRCUS PARADE</td>\n",
       "      <td>-12.0</td>\n",
       "      <td>2010-12-01 10:24:00</td>\n",
       "      <td>1.65</td>\n",
       "      <td>17548.0</td>\n",
       "      <td>United Kingdom</td>\n",
       "    </tr>\n",
       "    <tr>\n",
       "      <th>236</th>\n",
       "      <td>C536391</td>\n",
       "      <td>21984.0</td>\n",
       "      <td>PACK OF 12 PINK PAISLEY TISSUES</td>\n",
       "      <td>-24.0</td>\n",
       "      <td>2010-12-01 10:24:00</td>\n",
       "      <td>0.29</td>\n",
       "      <td>17548.0</td>\n",
       "      <td>United Kingdom</td>\n",
       "    </tr>\n",
       "    <tr>\n",
       "      <th>237</th>\n",
       "      <td>C536391</td>\n",
       "      <td>21983.0</td>\n",
       "      <td>PACK OF 12 BLUE PAISLEY TISSUES</td>\n",
       "      <td>-24.0</td>\n",
       "      <td>2010-12-01 10:24:00</td>\n",
       "      <td>0.29</td>\n",
       "      <td>17548.0</td>\n",
       "      <td>United Kingdom</td>\n",
       "    </tr>\n",
       "    <tr>\n",
       "      <th>...</th>\n",
       "      <td>...</td>\n",
       "      <td>...</td>\n",
       "      <td>...</td>\n",
       "      <td>...</td>\n",
       "      <td>...</td>\n",
       "      <td>...</td>\n",
       "      <td>...</td>\n",
       "      <td>...</td>\n",
       "    </tr>\n",
       "    <tr>\n",
       "      <th>540449</th>\n",
       "      <td>C581490</td>\n",
       "      <td>23144.0</td>\n",
       "      <td>ZINC T-LIGHT HOLDER STARS SMALL</td>\n",
       "      <td>-11.0</td>\n",
       "      <td>2011-12-09 09:57:00</td>\n",
       "      <td>0.83</td>\n",
       "      <td>14397.0</td>\n",
       "      <td>United Kingdom</td>\n",
       "    </tr>\n",
       "    <tr>\n",
       "      <th>541541</th>\n",
       "      <td>C581499</td>\n",
       "      <td>M</td>\n",
       "      <td>Manual</td>\n",
       "      <td>-1.0</td>\n",
       "      <td>2011-12-09 10:28:00</td>\n",
       "      <td>224.69</td>\n",
       "      <td>15498.0</td>\n",
       "      <td>United Kingdom</td>\n",
       "    </tr>\n",
       "    <tr>\n",
       "      <th>541715</th>\n",
       "      <td>C581568</td>\n",
       "      <td>21258.0</td>\n",
       "      <td>VICTORIAN SEWING BOX LARGE</td>\n",
       "      <td>-5.0</td>\n",
       "      <td>2011-12-09 11:57:00</td>\n",
       "      <td>10.95</td>\n",
       "      <td>15311.0</td>\n",
       "      <td>United Kingdom</td>\n",
       "    </tr>\n",
       "    <tr>\n",
       "      <th>541716</th>\n",
       "      <td>C581569</td>\n",
       "      <td>84978.0</td>\n",
       "      <td>HANGING HEART JAR T-LIGHT HOLDER</td>\n",
       "      <td>-1.0</td>\n",
       "      <td>2011-12-09 11:58:00</td>\n",
       "      <td>1.25</td>\n",
       "      <td>17315.0</td>\n",
       "      <td>United Kingdom</td>\n",
       "    </tr>\n",
       "    <tr>\n",
       "      <th>541717</th>\n",
       "      <td>C581569</td>\n",
       "      <td>20979.0</td>\n",
       "      <td>36 PENCILS TUBE RED RETROSPOT</td>\n",
       "      <td>-5.0</td>\n",
       "      <td>2011-12-09 11:58:00</td>\n",
       "      <td>1.25</td>\n",
       "      <td>17315.0</td>\n",
       "      <td>United Kingdom</td>\n",
       "    </tr>\n",
       "  </tbody>\n",
       "</table>\n",
       "<p>10624 rows × 8 columns</p>\n",
       "</div>"
      ],
      "text/plain": [
       "       InvoiceNo StockCode                       Description  Quantity  \\\n",
       "141      C536379         D                          Discount      -1.0   \n",
       "154      C536383    35004C   SET OF 3 COLOURED  FLYING DUCKS      -1.0   \n",
       "235      C536391   22556.0    PLASTERS IN TIN CIRCUS PARADE      -12.0   \n",
       "236      C536391   21984.0  PACK OF 12 PINK PAISLEY TISSUES      -24.0   \n",
       "237      C536391   21983.0  PACK OF 12 BLUE PAISLEY TISSUES      -24.0   \n",
       "...          ...       ...                               ...       ...   \n",
       "540449   C581490   23144.0   ZINC T-LIGHT HOLDER STARS SMALL     -11.0   \n",
       "541541   C581499         M                            Manual      -1.0   \n",
       "541715   C581568   21258.0        VICTORIAN SEWING BOX LARGE      -5.0   \n",
       "541716   C581569   84978.0  HANGING HEART JAR T-LIGHT HOLDER      -1.0   \n",
       "541717   C581569   20979.0     36 PENCILS TUBE RED RETROSPOT      -5.0   \n",
       "\n",
       "               InvoiceDate  UnitPrice  CustomerID         Country  \n",
       "141    2010-12-01 09:41:00      27.50     14527.0  United Kingdom  \n",
       "154    2010-12-01 09:49:00       4.65     15311.0  United Kingdom  \n",
       "235    2010-12-01 10:24:00       1.65     17548.0  United Kingdom  \n",
       "236    2010-12-01 10:24:00       0.29     17548.0  United Kingdom  \n",
       "237    2010-12-01 10:24:00       0.29     17548.0  United Kingdom  \n",
       "...                    ...        ...         ...             ...  \n",
       "540449 2011-12-09 09:57:00       0.83     14397.0  United Kingdom  \n",
       "541541 2011-12-09 10:28:00     224.69     15498.0  United Kingdom  \n",
       "541715 2011-12-09 11:57:00      10.95     15311.0  United Kingdom  \n",
       "541716 2011-12-09 11:58:00       1.25     17315.0  United Kingdom  \n",
       "541717 2011-12-09 11:58:00       1.25     17315.0  United Kingdom  \n",
       "\n",
       "[10624 rows x 8 columns]"
      ]
     },
     "execution_count": 143,
     "metadata": {},
     "output_type": "execute_result"
    }
   ],
   "source": [
    "df1[df1[\"Quantity\"]<0]"
   ]
  },
  {
   "cell_type": "code",
   "execution_count": null,
   "metadata": {},
   "outputs": [],
   "source": []
  },
  {
   "cell_type": "code",
   "execution_count": null,
   "metadata": {},
   "outputs": [],
   "source": []
  },
  {
   "cell_type": "code",
   "execution_count": null,
   "metadata": {},
   "outputs": [],
   "source": []
  },
  {
   "cell_type": "code",
   "execution_count": null,
   "metadata": {},
   "outputs": [],
   "source": []
  },
  {
   "cell_type": "code",
   "execution_count": null,
   "metadata": {},
   "outputs": [],
   "source": []
  },
  {
   "cell_type": "markdown",
   "metadata": {
    "id": "YECMxCzUQGV7"
   },
   "source": [
    "### i. Take a look at relationships between InvoiceNo, Quantity and UnitPrice columns."
   ]
  },
  {
   "cell_type": "code",
   "execution_count": null,
   "metadata": {
    "id": "nQ8vAKbbiqa4"
   },
   "outputs": [],
   "source": []
  },
  {
   "cell_type": "markdown",
   "metadata": {
    "id": "KiSW67N_QGV8"
   },
   "source": [
    "We see that there are negative values in the Quantity and UnitPrice columns. These are possibly canceled and returned orders. Let's check it out."
   ]
  },
  {
   "cell_type": "code",
   "execution_count": null,
   "metadata": {
    "id": "ZoHopX7-iqa4"
   },
   "outputs": [],
   "source": []
  },
  {
   "cell_type": "markdown",
   "metadata": {
    "id": "7OoPE-QLiqa4"
   },
   "source": [
    "### ii. What does the letter \"C\" in the InvoiceNo column mean?"
   ]
  },
  {
   "cell_type": "code",
   "execution_count": 144,
   "metadata": {
    "id": "PgN0C80Giqa5"
   },
   "outputs": [
    {
     "data": {
      "text/html": [
       "<div>\n",
       "<style scoped>\n",
       "    .dataframe tbody tr th:only-of-type {\n",
       "        vertical-align: middle;\n",
       "    }\n",
       "\n",
       "    .dataframe tbody tr th {\n",
       "        vertical-align: top;\n",
       "    }\n",
       "\n",
       "    .dataframe thead th {\n",
       "        text-align: right;\n",
       "    }\n",
       "</style>\n",
       "<table border=\"1\" class=\"dataframe\">\n",
       "  <thead>\n",
       "    <tr style=\"text-align: right;\">\n",
       "      <th></th>\n",
       "      <th>InvoiceNo</th>\n",
       "      <th>StockCode</th>\n",
       "      <th>Description</th>\n",
       "      <th>Quantity</th>\n",
       "      <th>InvoiceDate</th>\n",
       "      <th>UnitPrice</th>\n",
       "      <th>CustomerID</th>\n",
       "      <th>Country</th>\n",
       "    </tr>\n",
       "  </thead>\n",
       "  <tbody>\n",
       "    <tr>\n",
       "      <th>141</th>\n",
       "      <td>C536379</td>\n",
       "      <td>D</td>\n",
       "      <td>Discount</td>\n",
       "      <td>-1.0</td>\n",
       "      <td>2010-12-01 09:41:00</td>\n",
       "      <td>27.50</td>\n",
       "      <td>14527.0</td>\n",
       "      <td>United Kingdom</td>\n",
       "    </tr>\n",
       "    <tr>\n",
       "      <th>154</th>\n",
       "      <td>C536383</td>\n",
       "      <td>35004C</td>\n",
       "      <td>SET OF 3 COLOURED  FLYING DUCKS</td>\n",
       "      <td>-1.0</td>\n",
       "      <td>2010-12-01 09:49:00</td>\n",
       "      <td>4.65</td>\n",
       "      <td>15311.0</td>\n",
       "      <td>United Kingdom</td>\n",
       "    </tr>\n",
       "    <tr>\n",
       "      <th>235</th>\n",
       "      <td>C536391</td>\n",
       "      <td>22556.0</td>\n",
       "      <td>PLASTERS IN TIN CIRCUS PARADE</td>\n",
       "      <td>-12.0</td>\n",
       "      <td>2010-12-01 10:24:00</td>\n",
       "      <td>1.65</td>\n",
       "      <td>17548.0</td>\n",
       "      <td>United Kingdom</td>\n",
       "    </tr>\n",
       "    <tr>\n",
       "      <th>236</th>\n",
       "      <td>C536391</td>\n",
       "      <td>21984.0</td>\n",
       "      <td>PACK OF 12 PINK PAISLEY TISSUES</td>\n",
       "      <td>-24.0</td>\n",
       "      <td>2010-12-01 10:24:00</td>\n",
       "      <td>0.29</td>\n",
       "      <td>17548.0</td>\n",
       "      <td>United Kingdom</td>\n",
       "    </tr>\n",
       "    <tr>\n",
       "      <th>237</th>\n",
       "      <td>C536391</td>\n",
       "      <td>21983.0</td>\n",
       "      <td>PACK OF 12 BLUE PAISLEY TISSUES</td>\n",
       "      <td>-24.0</td>\n",
       "      <td>2010-12-01 10:24:00</td>\n",
       "      <td>0.29</td>\n",
       "      <td>17548.0</td>\n",
       "      <td>United Kingdom</td>\n",
       "    </tr>\n",
       "    <tr>\n",
       "      <th>...</th>\n",
       "      <td>...</td>\n",
       "      <td>...</td>\n",
       "      <td>...</td>\n",
       "      <td>...</td>\n",
       "      <td>...</td>\n",
       "      <td>...</td>\n",
       "      <td>...</td>\n",
       "      <td>...</td>\n",
       "    </tr>\n",
       "    <tr>\n",
       "      <th>540449</th>\n",
       "      <td>C581490</td>\n",
       "      <td>23144.0</td>\n",
       "      <td>ZINC T-LIGHT HOLDER STARS SMALL</td>\n",
       "      <td>-11.0</td>\n",
       "      <td>2011-12-09 09:57:00</td>\n",
       "      <td>0.83</td>\n",
       "      <td>14397.0</td>\n",
       "      <td>United Kingdom</td>\n",
       "    </tr>\n",
       "    <tr>\n",
       "      <th>541541</th>\n",
       "      <td>C581499</td>\n",
       "      <td>M</td>\n",
       "      <td>Manual</td>\n",
       "      <td>-1.0</td>\n",
       "      <td>2011-12-09 10:28:00</td>\n",
       "      <td>224.69</td>\n",
       "      <td>15498.0</td>\n",
       "      <td>United Kingdom</td>\n",
       "    </tr>\n",
       "    <tr>\n",
       "      <th>541715</th>\n",
       "      <td>C581568</td>\n",
       "      <td>21258.0</td>\n",
       "      <td>VICTORIAN SEWING BOX LARGE</td>\n",
       "      <td>-5.0</td>\n",
       "      <td>2011-12-09 11:57:00</td>\n",
       "      <td>10.95</td>\n",
       "      <td>15311.0</td>\n",
       "      <td>United Kingdom</td>\n",
       "    </tr>\n",
       "    <tr>\n",
       "      <th>541716</th>\n",
       "      <td>C581569</td>\n",
       "      <td>84978.0</td>\n",
       "      <td>HANGING HEART JAR T-LIGHT HOLDER</td>\n",
       "      <td>-1.0</td>\n",
       "      <td>2011-12-09 11:58:00</td>\n",
       "      <td>1.25</td>\n",
       "      <td>17315.0</td>\n",
       "      <td>United Kingdom</td>\n",
       "    </tr>\n",
       "    <tr>\n",
       "      <th>541717</th>\n",
       "      <td>C581569</td>\n",
       "      <td>20979.0</td>\n",
       "      <td>36 PENCILS TUBE RED RETROSPOT</td>\n",
       "      <td>-5.0</td>\n",
       "      <td>2011-12-09 11:58:00</td>\n",
       "      <td>1.25</td>\n",
       "      <td>17315.0</td>\n",
       "      <td>United Kingdom</td>\n",
       "    </tr>\n",
       "  </tbody>\n",
       "</table>\n",
       "<p>9288 rows × 8 columns</p>\n",
       "</div>"
      ],
      "text/plain": [
       "       InvoiceNo StockCode                       Description  Quantity  \\\n",
       "141      C536379         D                          Discount      -1.0   \n",
       "154      C536383    35004C   SET OF 3 COLOURED  FLYING DUCKS      -1.0   \n",
       "235      C536391   22556.0    PLASTERS IN TIN CIRCUS PARADE      -12.0   \n",
       "236      C536391   21984.0  PACK OF 12 PINK PAISLEY TISSUES      -24.0   \n",
       "237      C536391   21983.0  PACK OF 12 BLUE PAISLEY TISSUES      -24.0   \n",
       "...          ...       ...                               ...       ...   \n",
       "540449   C581490   23144.0   ZINC T-LIGHT HOLDER STARS SMALL     -11.0   \n",
       "541541   C581499         M                            Manual      -1.0   \n",
       "541715   C581568   21258.0        VICTORIAN SEWING BOX LARGE      -5.0   \n",
       "541716   C581569   84978.0  HANGING HEART JAR T-LIGHT HOLDER      -1.0   \n",
       "541717   C581569   20979.0     36 PENCILS TUBE RED RETROSPOT      -5.0   \n",
       "\n",
       "               InvoiceDate  UnitPrice  CustomerID         Country  \n",
       "141    2010-12-01 09:41:00      27.50     14527.0  United Kingdom  \n",
       "154    2010-12-01 09:49:00       4.65     15311.0  United Kingdom  \n",
       "235    2010-12-01 10:24:00       1.65     17548.0  United Kingdom  \n",
       "236    2010-12-01 10:24:00       0.29     17548.0  United Kingdom  \n",
       "237    2010-12-01 10:24:00       0.29     17548.0  United Kingdom  \n",
       "...                    ...        ...         ...             ...  \n",
       "540449 2011-12-09 09:57:00       0.83     14397.0  United Kingdom  \n",
       "541541 2011-12-09 10:28:00     224.69     15498.0  United Kingdom  \n",
       "541715 2011-12-09 11:57:00      10.95     15311.0  United Kingdom  \n",
       "541716 2011-12-09 11:58:00       1.25     17315.0  United Kingdom  \n",
       "541717 2011-12-09 11:58:00       1.25     17315.0  United Kingdom  \n",
       "\n",
       "[9288 rows x 8 columns]"
      ]
     },
     "execution_count": 144,
     "metadata": {},
     "output_type": "execute_result"
    }
   ],
   "source": [
    "df1[df1.InvoiceNo.str.contains(\"C\",na=False)]"
   ]
  },
  {
   "cell_type": "markdown",
   "metadata": {
    "id": "Kt32SZgJQGV8"
   },
   "source": [
    "If the invoice number starts with the letter \"C\", it means the order was cancelled. Or those who abandon their order."
   ]
  },
  {
   "cell_type": "code",
   "execution_count": 145,
   "metadata": {
    "id": "-sdD1F4Xiqa5"
   },
   "outputs": [
    {
     "data": {
      "text/html": [
       "<div>\n",
       "<style scoped>\n",
       "    .dataframe tbody tr th:only-of-type {\n",
       "        vertical-align: middle;\n",
       "    }\n",
       "\n",
       "    .dataframe tbody tr th {\n",
       "        vertical-align: top;\n",
       "    }\n",
       "\n",
       "    .dataframe thead th {\n",
       "        text-align: right;\n",
       "    }\n",
       "</style>\n",
       "<table border=\"1\" class=\"dataframe\">\n",
       "  <thead>\n",
       "    <tr style=\"text-align: right;\">\n",
       "      <th></th>\n",
       "      <th>InvoiceNo</th>\n",
       "      <th>StockCode</th>\n",
       "      <th>Description</th>\n",
       "      <th>Quantity</th>\n",
       "      <th>InvoiceDate</th>\n",
       "      <th>UnitPrice</th>\n",
       "      <th>CustomerID</th>\n",
       "      <th>Country</th>\n",
       "    </tr>\n",
       "  </thead>\n",
       "  <tbody>\n",
       "    <tr>\n",
       "      <th>299982</th>\n",
       "      <td>A563185</td>\n",
       "      <td>B</td>\n",
       "      <td>Adjust bad debt</td>\n",
       "      <td>1.0</td>\n",
       "      <td>2011-08-12 14:50:00</td>\n",
       "      <td>11062.06</td>\n",
       "      <td>NaN</td>\n",
       "      <td>United Kingdom</td>\n",
       "    </tr>\n",
       "    <tr>\n",
       "      <th>299983</th>\n",
       "      <td>A563186</td>\n",
       "      <td>B</td>\n",
       "      <td>Adjust bad debt</td>\n",
       "      <td>1.0</td>\n",
       "      <td>2011-08-12 14:51:00</td>\n",
       "      <td>-11062.06</td>\n",
       "      <td>NaN</td>\n",
       "      <td>United Kingdom</td>\n",
       "    </tr>\n",
       "    <tr>\n",
       "      <th>299984</th>\n",
       "      <td>A563187</td>\n",
       "      <td>B</td>\n",
       "      <td>Adjust bad debt</td>\n",
       "      <td>1.0</td>\n",
       "      <td>2011-08-12 14:52:00</td>\n",
       "      <td>-11062.06</td>\n",
       "      <td>NaN</td>\n",
       "      <td>United Kingdom</td>\n",
       "    </tr>\n",
       "  </tbody>\n",
       "</table>\n",
       "</div>"
      ],
      "text/plain": [
       "       InvoiceNo StockCode      Description  Quantity         InvoiceDate  \\\n",
       "299982   A563185         B  Adjust bad debt       1.0 2011-08-12 14:50:00   \n",
       "299983   A563186         B  Adjust bad debt       1.0 2011-08-12 14:51:00   \n",
       "299984   A563187         B  Adjust bad debt       1.0 2011-08-12 14:52:00   \n",
       "\n",
       "        UnitPrice  CustomerID         Country  \n",
       "299982   11062.06         NaN  United Kingdom  \n",
       "299983  -11062.06         NaN  United Kingdom  \n",
       "299984  -11062.06         NaN  United Kingdom  "
      ]
     },
     "execution_count": 145,
     "metadata": {},
     "output_type": "execute_result"
    }
   ],
   "source": [
    "df1[df1.InvoiceNo.str.contains(\"A\",na=False)]"
   ]
  },
  {
   "cell_type": "markdown",
   "metadata": {
    "id": "YP5RPZq1QGV_"
   },
   "source": [
    "When we filter canceled orders by Quantity> 0 or filter non-canceled orders by Quantity <0 nothing returns, this confirms that negative values mean the order was canceled. So lets find out how many orders were cancelled?"
   ]
  },
  {
   "cell_type": "code",
   "execution_count": 146,
   "metadata": {
    "id": "IxrhRFHhiqa5"
   },
   "outputs": [
    {
     "data": {
      "text/plain": [
       "0"
      ]
     },
     "execution_count": 146,
     "metadata": {},
     "output_type": "execute_result"
    }
   ],
   "source": [
    "(df1[df1.InvoiceNo.str.contains(\"C\",na=False)][\"Quantity\"]>0).sum()"
   ]
  },
  {
   "cell_type": "code",
   "execution_count": 147,
   "metadata": {},
   "outputs": [
    {
     "ename": "SyntaxError",
     "evalue": "closing parenthesis ')' does not match opening parenthesis '[' (Temp/ipykernel_876/3685526948.py, line 1)",
     "output_type": "error",
     "traceback": [
      "\u001b[1;36m  File \u001b[1;32m\"C:\\Users\\PC\\AppData\\Local\\Temp/ipykernel_876/3685526948.py\"\u001b[1;36m, line \u001b[1;32m1\u001b[0m\n\u001b[1;33m    (df1[~df1.InvoiceNo.str.contains(\"C\",na=False)&(df1.Quantity>0)).sum()\u001b[0m\n\u001b[1;37m                                                                   ^\u001b[0m\n\u001b[1;31mSyntaxError\u001b[0m\u001b[1;31m:\u001b[0m closing parenthesis ')' does not match opening parenthesis '['\n"
     ]
    }
   ],
   "source": [
    "(df1[~df1.InvoiceNo.str.contains(\"C\",na=False)&(df1.Quantity>0)).sum()"
   ]
  },
  {
   "cell_type": "markdown",
   "metadata": {
    "id": "nrp8logRQGWA"
   },
   "source": [
    "#### 9288 or about 36% of the orders were cancelled. Looking deeper into why these orders were cancelled may prevent future cancellations. Now let's find out what a negative UnitPrice means.\n"
   ]
  },
  {
   "cell_type": "code",
   "execution_count": null,
   "metadata": {
    "id": "1OI-xuxxiqa5"
   },
   "outputs": [],
   "source": [
    "df1[df1.UnitPrice<0]"
   ]
  },
  {
   "cell_type": "markdown",
   "metadata": {
    "id": "nXVVls6sQGVQ"
   },
   "source": [
    "### iii. Handling Missing Values"
   ]
  },
  {
   "cell_type": "code",
   "execution_count": 148,
   "metadata": {
    "id": "yExVxnQsiqa6"
   },
   "outputs": [
    {
     "data": {
      "text/plain": [
       "InvoiceNo           0\n",
       "StockCode           0\n",
       "Description      1454\n",
       "Quantity            0\n",
       "InvoiceDate         0\n",
       "UnitPrice           0\n",
       "CustomerID     135080\n",
       "Country             0\n",
       "dtype: int64"
      ]
     },
     "execution_count": 148,
     "metadata": {},
     "output_type": "execute_result"
    }
   ],
   "source": [
    "df1.isnull().sum()"
   ]
  },
  {
   "cell_type": "code",
   "execution_count": null,
   "metadata": {},
   "outputs": [],
   "source": []
  },
  {
   "cell_type": "markdown",
   "metadata": {
    "id": "EQtZK5paQGVf"
   },
   "source": [
    "Since the customer ID's are missing, lets assume these orders were not made by the customers already in the data set because those customers already have ID's. \n",
    "\n",
    "We also don't want to assign these orders to those customers because this would alter the insights we draw from the data. \n"
   ]
  },
  {
   "cell_type": "code",
   "execution_count": null,
   "metadata": {
    "id": "WjvtekM3iqa6"
   },
   "outputs": [],
   "source": []
  },
  {
   "cell_type": "markdown",
   "metadata": {
    "id": "llu-bMTAiqa6"
   },
   "source": [
    "### iv. Clean the Data from the Noise and Missing Values"
   ]
  },
  {
   "cell_type": "code",
   "execution_count": 149,
   "metadata": {
    "id": "R-TgtE4Ziqa6"
   },
   "outputs": [
    {
     "data": {
      "text/plain": [
       "(406829, 8)"
      ]
     },
     "execution_count": 149,
     "metadata": {},
     "output_type": "execute_result"
    }
   ],
   "source": [
    "df1=df1.dropna()\n",
    "df1.shape"
   ]
  },
  {
   "cell_type": "markdown",
   "metadata": {
    "id": "25MkNjZqQGWC"
   },
   "source": [
    "### v. Explore the Orders\n"
   ]
  },
  {
   "cell_type": "markdown",
   "metadata": {
    "id": "8OAkPoUjiqa7"
   },
   "source": [
    "1. Find the unique number of InvoiceNo  per customer"
   ]
  },
  {
   "cell_type": "code",
   "execution_count": 150,
   "metadata": {
    "id": "n1A76M7Jiqa7"
   },
   "outputs": [
    {
     "data": {
      "text/plain": [
       "CustomerID\n",
       "15300.0      1\n",
       "13833.0      1\n",
       "16123.0      1\n",
       "13829.0      1\n",
       "13828.0      1\n",
       "          ... \n",
       "13089.0    118\n",
       "14606.0    128\n",
       "17841.0    169\n",
       "12748.0    224\n",
       "14911.0    248\n",
       "Name: InvoiceNo, Length: 4372, dtype: int64"
      ]
     },
     "execution_count": 150,
     "metadata": {},
     "output_type": "execute_result"
    }
   ],
   "source": [
    "df1.groupby(\"CustomerID\")[\"InvoiceNo\"].nunique().sort_values()"
   ]
  },
  {
   "cell_type": "markdown",
   "metadata": {
    "id": "di03OKjzQGWE"
   },
   "source": [
    "2. What's the average number of unqiue items per order or per customer?"
   ]
  },
  {
   "cell_type": "code",
   "execution_count": 153,
   "metadata": {
    "id": "V4LxkeIIiqa7"
   },
   "outputs": [
    {
     "data": {
      "text/plain": [
       "61.21111619396157"
      ]
     },
     "execution_count": 153,
     "metadata": {},
     "output_type": "execute_result"
    }
   ],
   "source": [
    "a=df1.groupby(\"CustomerID\")[\"StockCode\"].nunique().mean()\n",
    "a"
   ]
  },
  {
   "cell_type": "code",
   "execution_count": 154,
   "metadata": {},
   "outputs": [
    {
     "data": {
      "text/plain": [
       "17.87656602073006"
      ]
     },
     "execution_count": 154,
     "metadata": {},
     "output_type": "execute_result"
    }
   ],
   "source": [
    "b=df1.groupby(\"InvoiceNo\")[\"StockCode\"].nunique().mean()\n",
    "b"
   ]
  },
  {
   "cell_type": "markdown",
   "metadata": {
    "id": "HUKzA73dQGWH"
   },
   "source": [
    "3. Let's see how this compares to the number of unique products per customer."
   ]
  },
  {
   "cell_type": "code",
   "execution_count": 155,
   "metadata": {
    "id": "b8uzjYyKiqa7"
   },
   "outputs": [
    {
     "ename": "TypeError",
     "evalue": "'>' not supported between instances of 'method' and 'float'",
     "output_type": "error",
     "traceback": [
      "\u001b[1;31m---------------------------------------------------------------------------\u001b[0m",
      "\u001b[1;31mTypeError\u001b[0m                                 Traceback (most recent call last)",
      "\u001b[1;32m~\\AppData\\Local\\Temp/ipykernel_876/2061704300.py\u001b[0m in \u001b[0;36m<module>\u001b[1;34m\u001b[0m\n\u001b[1;32m----> 1\u001b[1;33m \u001b[0mdf1\u001b[0m\u001b[1;33m.\u001b[0m\u001b[0mgroupby\u001b[0m\u001b[1;33m(\u001b[0m\u001b[1;34m\"CustomerID\"\u001b[0m\u001b[1;33m)\u001b[0m\u001b[1;33m[\u001b[0m\u001b[1;34m\"StockCode\"\u001b[0m\u001b[1;33m]\u001b[0m\u001b[1;33m.\u001b[0m\u001b[0mnunique\u001b[0m\u001b[1;33m>\u001b[0m\u001b[0mb\u001b[0m\u001b[1;33m\u001b[0m\u001b[1;33m\u001b[0m\u001b[0m\n\u001b[0m",
      "\u001b[1;31mTypeError\u001b[0m: '>' not supported between instances of 'method' and 'float'"
     ]
    }
   ],
   "source": [
    "df1.groupby(\"CustomerID\")[\"StockCode\"].nunique>b"
   ]
  },
  {
   "cell_type": "markdown",
   "metadata": {
    "id": "I_Ozp-U5QGWK"
   },
   "source": [
    "### vi. Explore Customers by Country"
   ]
  },
  {
   "cell_type": "markdown",
   "metadata": {
    "id": "SP6M3isLiqa8"
   },
   "source": [
    "1. What's the total revenue per country?"
   ]
  },
  {
   "cell_type": "code",
   "execution_count": 156,
   "metadata": {
    "id": "VISxZ3Ixiqa8"
   },
   "outputs": [],
   "source": [
    "df1[\"total_amount\"]=df1.Quantity*df1.UnitPrice"
   ]
  },
  {
   "cell_type": "code",
   "execution_count": 179,
   "metadata": {},
   "outputs": [
    {
     "data": {
      "text/plain": [
       "Country\n",
       "United Kingdom          6767873.394\n",
       "Netherlands              284661.540\n",
       "EIRE                     250285.220\n",
       "Germany                  221698.210\n",
       "France                   196712.840\n",
       "Australia                137077.270\n",
       "Switzerland               55739.400\n",
       "Spain                     54774.580\n",
       "Belgium                   40910.960\n",
       "Sweden                    36595.910\n",
       "Japan                     35340.620\n",
       "Norway                    35163.460\n",
       "Portugal                  29059.810\n",
       "Finland                   22326.740\n",
       "Channel Islands           20086.290\n",
       "Denmark                   18768.140\n",
       "Italy                     16890.510\n",
       "Cyprus                    12946.290\n",
       "Austria                   10154.320\n",
       "Singapore                  9120.390\n",
       "Poland                     7213.140\n",
       "Israel                     6994.250\n",
       "Greece                     4710.520\n",
       "Iceland                    4310.000\n",
       "Canada                     3666.380\n",
       "Unspecified                2667.070\n",
       "Malta                      2505.470\n",
       "United Arab Emirates       1902.280\n",
       "USA                        1730.920\n",
       "Lebanon                    1693.880\n",
       "Lithuania                  1661.060\n",
       "European Community         1291.750\n",
       "Brazil                     1143.600\n",
       "RSA                        1002.310\n",
       "Czech Republic              707.720\n",
       "Bahrain                     548.400\n",
       "Saudi Arabia                131.170\n",
       "Name: total_amount, dtype: float64"
      ]
     },
     "execution_count": 179,
     "metadata": {},
     "output_type": "execute_result"
    }
   ],
   "source": [
    "total_cost=df1.groupby(\"Country\")[\"total_amount\"].sum().sort_values(ascending=False)\n",
    "total_cost"
   ]
  },
  {
   "cell_type": "markdown",
   "metadata": {
    "id": "qk64qtEliqa8"
   },
   "source": [
    "2. Visualize number of customer per country"
   ]
  },
  {
   "cell_type": "code",
   "execution_count": 181,
   "metadata": {
    "id": "atuYU8W2iqa8",
    "scrolled": true
   },
   "outputs": [
    {
     "data": {
      "text/plain": [
       "<AxesSubplot:ylabel='Country'>"
      ]
     },
     "execution_count": 181,
     "metadata": {},
     "output_type": "execute_result"
    },
    {
     "data": {
      "image/png": "[encoded data removed]",
      "text/plain": [
       "<Figure size 432x288 with 1 Axes>"
      ]
     },
     "metadata": {
      "needs_background": "light"
     },
     "output_type": "display_data"
    }
   ],
   "source": [
    "x= df1.groupby(\"Country\")[\"CustomerID\"].nunique().sort_values().plot(kind=\"barh\")\n",
    "x"
   ]
  },
  {
   "cell_type": "code",
   "execution_count": 182,
   "metadata": {},
   "outputs": [
    {
     "ename": "AttributeError",
     "evalue": "'AxesSubplot' object has no attribute 'index'",
     "output_type": "error",
     "traceback": [
      "\u001b[1;31m---------------------------------------------------------------------------\u001b[0m",
      "\u001b[1;31mAttributeError\u001b[0m                            Traceback (most recent call last)",
      "\u001b[1;32m~\\AppData\\Local\\Temp/ipykernel_876/3991015987.py\u001b[0m in \u001b[0;36m<module>\u001b[1;34m\u001b[0m\n\u001b[1;32m----> 1\u001b[1;33m \u001b[0msns\u001b[0m\u001b[1;33m.\u001b[0m\u001b[0mbarplot\u001b[0m\u001b[1;33m(\u001b[0m\u001b[0mx\u001b[0m\u001b[1;33m.\u001b[0m\u001b[0mindex\u001b[0m\u001b[1;33m,\u001b[0m \u001b[0mx\u001b[0m\u001b[1;33m.\u001b[0m\u001b[0mvalues\u001b[0m\u001b[1;33m)\u001b[0m\u001b[1;33m\u001b[0m\u001b[1;33m\u001b[0m\u001b[0m\n\u001b[0m\u001b[0;32m      2\u001b[0m \u001b[0mplt\u001b[0m\u001b[1;33m.\u001b[0m\u001b[0mxticks\u001b[0m\u001b[1;33m(\u001b[0m\u001b[0mrotation\u001b[0m\u001b[1;33m=\u001b[0m\u001b[1;36m90\u001b[0m\u001b[1;33m)\u001b[0m\u001b[1;33m;\u001b[0m\u001b[1;33m\u001b[0m\u001b[1;33m\u001b[0m\u001b[0m\n",
      "\u001b[1;31mAttributeError\u001b[0m: 'AxesSubplot' object has no attribute 'index'"
     ]
    }
   ],
   "source": [
    "sns.barplot(x.index, x.values)\n",
    "plt.xticks(rotation=90);"
   ]
  },
  {
   "cell_type": "markdown",
   "metadata": {
    "id": "2TD66fT3iqa8"
   },
   "source": [
    "3. Visualize total cost per country"
   ]
  },
  {
   "cell_type": "code",
   "execution_count": 180,
   "metadata": {
    "id": "5i0nVOggiqa8"
   },
   "outputs": [
    {
     "name": "stderr",
     "output_type": "stream",
     "text": [
      "C:\\ProgramData\\Anaconda3\\lib\\site-packages\\seaborn\\_decorators.py:36: FutureWarning: Pass the following variables as keyword args: x, y. From version 0.12, the only valid positional argument will be `data`, and passing other arguments without an explicit keyword will result in an error or misinterpretation.\n",
      "  warnings.warn(\n"
     ]
    },
    {
     "data": {
      "image/png": "[encoded data removed]",
      "text/plain": [
       "<Figure size 432x288 with 1 Axes>"
      ]
     },
     "metadata": {
      "needs_background": "light"
     },
     "output_type": "display_data"
    }
   ],
   "source": [
    "sns.barplot(total_cost.index, total_cost.values)\n",
    "plt.xticks(rotation=90);"
   ]
  },
  {
   "cell_type": "markdown",
   "metadata": {
    "id": "hwfJuBVCQGWR"
   },
   "source": [
    "#### The UK not only has the most sales revenue, but also the most customers. Since the majority of this data set contains orders from the UK, we can explore the UK market further by finding out what products the customers buy together and any other buying behaviors to improve our sales and targeting strategy."
   ]
  },
  {
   "cell_type": "code",
   "execution_count": 183,
   "metadata": {
    "id": "LlyhW9eXiqa9"
   },
   "outputs": [
    {
     "data": {
      "text/html": [
       "<div>\n",
       "<style scoped>\n",
       "    .dataframe tbody tr th:only-of-type {\n",
       "        vertical-align: middle;\n",
       "    }\n",
       "\n",
       "    .dataframe tbody tr th {\n",
       "        vertical-align: top;\n",
       "    }\n",
       "\n",
       "    .dataframe thead th {\n",
       "        text-align: right;\n",
       "    }\n",
       "</style>\n",
       "<table border=\"1\" class=\"dataframe\">\n",
       "  <thead>\n",
       "    <tr style=\"text-align: right;\">\n",
       "      <th></th>\n",
       "      <th>InvoiceNo</th>\n",
       "      <th>StockCode</th>\n",
       "      <th>Description</th>\n",
       "      <th>Quantity</th>\n",
       "      <th>InvoiceDate</th>\n",
       "      <th>UnitPrice</th>\n",
       "      <th>CustomerID</th>\n",
       "      <th>Country</th>\n",
       "      <th>total_amount</th>\n",
       "    </tr>\n",
       "  </thead>\n",
       "  <tbody>\n",
       "    <tr>\n",
       "      <th>0</th>\n",
       "      <td>536365.0</td>\n",
       "      <td>85123A</td>\n",
       "      <td>WHITE HANGING HEART T-LIGHT HOLDER</td>\n",
       "      <td>6.0</td>\n",
       "      <td>2010-12-01 08:26:00</td>\n",
       "      <td>2.55</td>\n",
       "      <td>17850.0</td>\n",
       "      <td>United Kingdom</td>\n",
       "      <td>15.30</td>\n",
       "    </tr>\n",
       "    <tr>\n",
       "      <th>1</th>\n",
       "      <td>536365.0</td>\n",
       "      <td>71053.0</td>\n",
       "      <td>WHITE METAL LANTERN</td>\n",
       "      <td>6.0</td>\n",
       "      <td>2010-12-01 08:26:00</td>\n",
       "      <td>3.39</td>\n",
       "      <td>17850.0</td>\n",
       "      <td>United Kingdom</td>\n",
       "      <td>20.34</td>\n",
       "    </tr>\n",
       "    <tr>\n",
       "      <th>2</th>\n",
       "      <td>536365.0</td>\n",
       "      <td>84406B</td>\n",
       "      <td>CREAM CUPID HEARTS COAT HANGER</td>\n",
       "      <td>8.0</td>\n",
       "      <td>2010-12-01 08:26:00</td>\n",
       "      <td>2.75</td>\n",
       "      <td>17850.0</td>\n",
       "      <td>United Kingdom</td>\n",
       "      <td>22.00</td>\n",
       "    </tr>\n",
       "    <tr>\n",
       "      <th>3</th>\n",
       "      <td>536365.0</td>\n",
       "      <td>84029G</td>\n",
       "      <td>KNITTED UNION FLAG HOT WATER BOTTLE</td>\n",
       "      <td>6.0</td>\n",
       "      <td>2010-12-01 08:26:00</td>\n",
       "      <td>3.39</td>\n",
       "      <td>17850.0</td>\n",
       "      <td>United Kingdom</td>\n",
       "      <td>20.34</td>\n",
       "    </tr>\n",
       "    <tr>\n",
       "      <th>4</th>\n",
       "      <td>536365.0</td>\n",
       "      <td>84029E</td>\n",
       "      <td>RED WOOLLY HOTTIE WHITE HEART.</td>\n",
       "      <td>6.0</td>\n",
       "      <td>2010-12-01 08:26:00</td>\n",
       "      <td>3.39</td>\n",
       "      <td>17850.0</td>\n",
       "      <td>United Kingdom</td>\n",
       "      <td>20.34</td>\n",
       "    </tr>\n",
       "  </tbody>\n",
       "</table>\n",
       "</div>"
      ],
      "text/plain": [
       "  InvoiceNo StockCode                          Description  Quantity  \\\n",
       "0  536365.0    85123A   WHITE HANGING HEART T-LIGHT HOLDER       6.0   \n",
       "1  536365.0   71053.0                  WHITE METAL LANTERN       6.0   \n",
       "2  536365.0    84406B       CREAM CUPID HEARTS COAT HANGER       8.0   \n",
       "3  536365.0    84029G  KNITTED UNION FLAG HOT WATER BOTTLE       6.0   \n",
       "4  536365.0    84029E       RED WOOLLY HOTTIE WHITE HEART.       6.0   \n",
       "\n",
       "          InvoiceDate  UnitPrice  CustomerID         Country  total_amount  \n",
       "0 2010-12-01 08:26:00       2.55     17850.0  United Kingdom         15.30  \n",
       "1 2010-12-01 08:26:00       3.39     17850.0  United Kingdom         20.34  \n",
       "2 2010-12-01 08:26:00       2.75     17850.0  United Kingdom         22.00  \n",
       "3 2010-12-01 08:26:00       3.39     17850.0  United Kingdom         20.34  \n",
       "4 2010-12-01 08:26:00       3.39     17850.0  United Kingdom         20.34  "
      ]
     },
     "execution_count": 183,
     "metadata": {},
     "output_type": "execute_result"
    }
   ],
   "source": [
    "df1.head()"
   ]
  },
  {
   "cell_type": "markdown",
   "metadata": {
    "id": "7A25nnqIQGWR"
   },
   "source": [
    "### vii. Explore the UK Market\n"
   ]
  },
  {
   "cell_type": "markdown",
   "metadata": {
    "id": "wtWchB1Ziqa9"
   },
   "source": [
    "1. Create df_uk DataFrame"
   ]
  },
  {
   "cell_type": "code",
   "execution_count": 189,
   "metadata": {
    "id": "dsdH3cuZiqa9"
   },
   "outputs": [
    {
     "data": {
      "text/html": [
       "<div>\n",
       "<style scoped>\n",
       "    .dataframe tbody tr th:only-of-type {\n",
       "        vertical-align: middle;\n",
       "    }\n",
       "\n",
       "    .dataframe tbody tr th {\n",
       "        vertical-align: top;\n",
       "    }\n",
       "\n",
       "    .dataframe thead th {\n",
       "        text-align: right;\n",
       "    }\n",
       "</style>\n",
       "<table border=\"1\" class=\"dataframe\">\n",
       "  <thead>\n",
       "    <tr style=\"text-align: right;\">\n",
       "      <th></th>\n",
       "      <th>InvoiceNo</th>\n",
       "      <th>StockCode</th>\n",
       "      <th>Description</th>\n",
       "      <th>Quantity</th>\n",
       "      <th>InvoiceDate</th>\n",
       "      <th>UnitPrice</th>\n",
       "      <th>CustomerID</th>\n",
       "      <th>Country</th>\n",
       "      <th>total_amount</th>\n",
       "    </tr>\n",
       "  </thead>\n",
       "  <tbody>\n",
       "    <tr>\n",
       "      <th>0</th>\n",
       "      <td>536365.0</td>\n",
       "      <td>85123A</td>\n",
       "      <td>WHITE HANGING HEART T-LIGHT HOLDER</td>\n",
       "      <td>6.0</td>\n",
       "      <td>2010-12-01 08:26:00</td>\n",
       "      <td>2.55</td>\n",
       "      <td>17850.0</td>\n",
       "      <td>United Kingdom</td>\n",
       "      <td>15.30</td>\n",
       "    </tr>\n",
       "    <tr>\n",
       "      <th>1</th>\n",
       "      <td>536365.0</td>\n",
       "      <td>71053.0</td>\n",
       "      <td>WHITE METAL LANTERN</td>\n",
       "      <td>6.0</td>\n",
       "      <td>2010-12-01 08:26:00</td>\n",
       "      <td>3.39</td>\n",
       "      <td>17850.0</td>\n",
       "      <td>United Kingdom</td>\n",
       "      <td>20.34</td>\n",
       "    </tr>\n",
       "    <tr>\n",
       "      <th>2</th>\n",
       "      <td>536365.0</td>\n",
       "      <td>84406B</td>\n",
       "      <td>CREAM CUPID HEARTS COAT HANGER</td>\n",
       "      <td>8.0</td>\n",
       "      <td>2010-12-01 08:26:00</td>\n",
       "      <td>2.75</td>\n",
       "      <td>17850.0</td>\n",
       "      <td>United Kingdom</td>\n",
       "      <td>22.00</td>\n",
       "    </tr>\n",
       "    <tr>\n",
       "      <th>3</th>\n",
       "      <td>536365.0</td>\n",
       "      <td>84029G</td>\n",
       "      <td>KNITTED UNION FLAG HOT WATER BOTTLE</td>\n",
       "      <td>6.0</td>\n",
       "      <td>2010-12-01 08:26:00</td>\n",
       "      <td>3.39</td>\n",
       "      <td>17850.0</td>\n",
       "      <td>United Kingdom</td>\n",
       "      <td>20.34</td>\n",
       "    </tr>\n",
       "    <tr>\n",
       "      <th>4</th>\n",
       "      <td>536365.0</td>\n",
       "      <td>84029E</td>\n",
       "      <td>RED WOOLLY HOTTIE WHITE HEART.</td>\n",
       "      <td>6.0</td>\n",
       "      <td>2010-12-01 08:26:00</td>\n",
       "      <td>3.39</td>\n",
       "      <td>17850.0</td>\n",
       "      <td>United Kingdom</td>\n",
       "      <td>20.34</td>\n",
       "    </tr>\n",
       "    <tr>\n",
       "      <th>...</th>\n",
       "      <td>...</td>\n",
       "      <td>...</td>\n",
       "      <td>...</td>\n",
       "      <td>...</td>\n",
       "      <td>...</td>\n",
       "      <td>...</td>\n",
       "      <td>...</td>\n",
       "      <td>...</td>\n",
       "      <td>...</td>\n",
       "    </tr>\n",
       "    <tr>\n",
       "      <th>541889</th>\n",
       "      <td>581585.0</td>\n",
       "      <td>22466.0</td>\n",
       "      <td>FAIRY TALE COTTAGE NIGHT LIGHT</td>\n",
       "      <td>12.0</td>\n",
       "      <td>2011-12-09 12:31:00</td>\n",
       "      <td>1.95</td>\n",
       "      <td>15804.0</td>\n",
       "      <td>United Kingdom</td>\n",
       "      <td>23.40</td>\n",
       "    </tr>\n",
       "    <tr>\n",
       "      <th>541890</th>\n",
       "      <td>581586.0</td>\n",
       "      <td>22061.0</td>\n",
       "      <td>LARGE CAKE STAND  HANGING STRAWBERY</td>\n",
       "      <td>8.0</td>\n",
       "      <td>2011-12-09 12:49:00</td>\n",
       "      <td>2.95</td>\n",
       "      <td>13113.0</td>\n",
       "      <td>United Kingdom</td>\n",
       "      <td>23.60</td>\n",
       "    </tr>\n",
       "    <tr>\n",
       "      <th>541891</th>\n",
       "      <td>581586.0</td>\n",
       "      <td>23275.0</td>\n",
       "      <td>SET OF 3 HANGING OWLS OLLIE BEAK</td>\n",
       "      <td>24.0</td>\n",
       "      <td>2011-12-09 12:49:00</td>\n",
       "      <td>1.25</td>\n",
       "      <td>13113.0</td>\n",
       "      <td>United Kingdom</td>\n",
       "      <td>30.00</td>\n",
       "    </tr>\n",
       "    <tr>\n",
       "      <th>541892</th>\n",
       "      <td>581586.0</td>\n",
       "      <td>21217.0</td>\n",
       "      <td>RED RETROSPOT ROUND CAKE TINS</td>\n",
       "      <td>24.0</td>\n",
       "      <td>2011-12-09 12:49:00</td>\n",
       "      <td>8.95</td>\n",
       "      <td>13113.0</td>\n",
       "      <td>United Kingdom</td>\n",
       "      <td>214.80</td>\n",
       "    </tr>\n",
       "    <tr>\n",
       "      <th>541893</th>\n",
       "      <td>581586.0</td>\n",
       "      <td>20685.0</td>\n",
       "      <td>DOORMAT RED RETROSPOT</td>\n",
       "      <td>10.0</td>\n",
       "      <td>2011-12-09 12:49:00</td>\n",
       "      <td>7.08</td>\n",
       "      <td>13113.0</td>\n",
       "      <td>United Kingdom</td>\n",
       "      <td>70.80</td>\n",
       "    </tr>\n",
       "  </tbody>\n",
       "</table>\n",
       "<p>361878 rows × 9 columns</p>\n",
       "</div>"
      ],
      "text/plain": [
       "       InvoiceNo StockCode                          Description  Quantity  \\\n",
       "0       536365.0    85123A   WHITE HANGING HEART T-LIGHT HOLDER       6.0   \n",
       "1       536365.0   71053.0                  WHITE METAL LANTERN       6.0   \n",
       "2       536365.0    84406B       CREAM CUPID HEARTS COAT HANGER       8.0   \n",
       "3       536365.0    84029G  KNITTED UNION FLAG HOT WATER BOTTLE       6.0   \n",
       "4       536365.0    84029E       RED WOOLLY HOTTIE WHITE HEART.       6.0   \n",
       "...          ...       ...                                  ...       ...   \n",
       "541889  581585.0   22466.0       FAIRY TALE COTTAGE NIGHT LIGHT      12.0   \n",
       "541890  581586.0   22061.0  LARGE CAKE STAND  HANGING STRAWBERY       8.0   \n",
       "541891  581586.0   23275.0     SET OF 3 HANGING OWLS OLLIE BEAK      24.0   \n",
       "541892  581586.0   21217.0        RED RETROSPOT ROUND CAKE TINS      24.0   \n",
       "541893  581586.0   20685.0                DOORMAT RED RETROSPOT      10.0   \n",
       "\n",
       "               InvoiceDate  UnitPrice  CustomerID         Country  \\\n",
       "0      2010-12-01 08:26:00       2.55     17850.0  United Kingdom   \n",
       "1      2010-12-01 08:26:00       3.39     17850.0  United Kingdom   \n",
       "2      2010-12-01 08:26:00       2.75     17850.0  United Kingdom   \n",
       "3      2010-12-01 08:26:00       3.39     17850.0  United Kingdom   \n",
       "4      2010-12-01 08:26:00       3.39     17850.0  United Kingdom   \n",
       "...                    ...        ...         ...             ...   \n",
       "541889 2011-12-09 12:31:00       1.95     15804.0  United Kingdom   \n",
       "541890 2011-12-09 12:49:00       2.95     13113.0  United Kingdom   \n",
       "541891 2011-12-09 12:49:00       1.25     13113.0  United Kingdom   \n",
       "541892 2011-12-09 12:49:00       8.95     13113.0  United Kingdom   \n",
       "541893 2011-12-09 12:49:00       7.08     13113.0  United Kingdom   \n",
       "\n",
       "        total_amount  \n",
       "0              15.30  \n",
       "1              20.34  \n",
       "2              22.00  \n",
       "3              20.34  \n",
       "4              20.34  \n",
       "...              ...  \n",
       "541889         23.40  \n",
       "541890         23.60  \n",
       "541891         30.00  \n",
       "541892        214.80  \n",
       "541893         70.80  \n",
       "\n",
       "[361878 rows x 9 columns]"
      ]
     },
     "execution_count": 189,
     "metadata": {},
     "output_type": "execute_result"
    }
   ],
   "source": [
    "df1_uk=df1[df1.Country == \"United Kingdom\"]\n",
    "df1_uk"
   ]
  },
  {
   "cell_type": "markdown",
   "metadata": {
    "id": "is5kus2bQGWT"
   },
   "source": [
    "2. What are the most popular products that are bought in the UK?"
   ]
  },
  {
   "cell_type": "code",
   "execution_count": 187,
   "metadata": {
    "id": "sCN56amLiqa9"
   },
   "outputs": [
    {
     "data": {
      "text/plain": [
       "StockCode  Description                       \n",
       "85123A     WHITE HANGING HEART T-LIGHT HOLDER    1980\n",
       "22423.0    REGENCY CAKESTAND 3 TIER              1574\n",
       "85099B     JUMBO BAG RED RETROSPOT               1505\n",
       "84879.0    ASSORTED COLOUR BIRD ORNAMENT         1343\n",
       "47566.0    PARTY BUNTING                         1327\n",
       "dtype: int64"
      ]
     },
     "execution_count": 187,
     "metadata": {},
     "output_type": "execute_result"
    }
   ],
   "source": [
    "df1_uk[[\"StockCode\",\"Description\"]].value_counts().head()"
   ]
  },
  {
   "cell_type": "markdown",
   "metadata": {
    "id": "LHbqJD7bQGWU"
   },
   "source": [
    "### We will continue analyzing the UK transactions with customer segmentation."
   ]
  },
  {
   "cell_type": "markdown",
   "metadata": {
    "id": "MAtzWvugQGWV"
   },
   "source": [
    "# 2. RFM Analysis"
   ]
  },
  {
   "cell_type": "markdown",
   "metadata": {
    "id": "v5uUAUQpQGWV"
   },
   "source": [
    "In the age of the internet and e-commerce, companies that do not expand their businesses online or utilize digital tools to reach their customers will run into issues like scalability and a lack of digital precsence. An important marketing strategy e-commerce businesses use for analyzing and predicting customer value is customer segmentation. Customer data is used to sort customers into group based on their behaviors and preferences.\n",
    "\n",
    "**[RFM](https://www.putler.com/rfm-analysis/) (Recency, Frequency, Monetary) Analysis** is a customer segmentation technique for analyzing customer value based on past buying behavior. RFM analysis was first used by the direct mail industry more than four decades ago, yet it is still an effective way to optimize your marketing.\n",
    "<br>\n",
    "<br>\n",
    "Our goal in this Notebook is to cluster the customers in our data set to:\n",
    " - Recognize who are our most valuable customers\n",
    " - Increase revenue\n",
    " - Increase customer retention\n",
    " - Learn more about the trends and behaviors of our customers\n",
    " - Define customers that are at risk\n",
    "\n",
    "We will start with **RFM Analysis** and then compliment our findings with predictive analysis using **K-Means Clustering Algorithms.**\n",
    "\n",
    "- RECENCY (R): Time since last purchase\n",
    "- FREQUENCY (F): Total number of purchases\n",
    "- MONETARY VALUE (M): Total monetary value\n",
    "\n",
    "\n",
    "\n",
    "\n",
    "Benefits of RFM Analysis\n",
    "\n",
    "- Increased customer retention\n",
    "- Increased response rate\n",
    "- Increased conversion rate\n",
    "- Increased revenue\n",
    "\n",
    "RFM Analysis answers the following questions:\n",
    " - Who are our best customers?\n",
    " - Who has the potential to be converted into more profitable customers?\n",
    " - Which customers do we need to retain?\n",
    " - Which group of customers is most likely to respond to our marketing campaign?\n",
    " "
   ]
  },
  {
   "cell_type": "markdown",
   "metadata": {
    "id": "zX47_J8OQGWV"
   },
   "source": [
    "### i. Import Libraries"
   ]
  },
  {
   "cell_type": "code",
   "execution_count": null,
   "metadata": {
    "id": "MOD15BxHiqa-"
   },
   "outputs": [],
   "source": []
  },
  {
   "cell_type": "markdown",
   "metadata": {
    "id": "9rYM4MJsQGWW"
   },
   "source": [
    "### ii. Review df_uk DataFrame"
   ]
  },
  {
   "cell_type": "code",
   "execution_count": 190,
   "metadata": {
    "id": "oQHyAJNeiqa-"
   },
   "outputs": [
    {
     "data": {
      "text/html": [
       "<div>\n",
       "<style scoped>\n",
       "    .dataframe tbody tr th:only-of-type {\n",
       "        vertical-align: middle;\n",
       "    }\n",
       "\n",
       "    .dataframe tbody tr th {\n",
       "        vertical-align: top;\n",
       "    }\n",
       "\n",
       "    .dataframe thead th {\n",
       "        text-align: right;\n",
       "    }\n",
       "</style>\n",
       "<table border=\"1\" class=\"dataframe\">\n",
       "  <thead>\n",
       "    <tr style=\"text-align: right;\">\n",
       "      <th></th>\n",
       "      <th>InvoiceNo</th>\n",
       "      <th>StockCode</th>\n",
       "      <th>Description</th>\n",
       "      <th>Quantity</th>\n",
       "      <th>InvoiceDate</th>\n",
       "      <th>UnitPrice</th>\n",
       "      <th>CustomerID</th>\n",
       "      <th>Country</th>\n",
       "      <th>total_amount</th>\n",
       "    </tr>\n",
       "  </thead>\n",
       "  <tbody>\n",
       "    <tr>\n",
       "      <th>0</th>\n",
       "      <td>536365.0</td>\n",
       "      <td>85123A</td>\n",
       "      <td>WHITE HANGING HEART T-LIGHT HOLDER</td>\n",
       "      <td>6.0</td>\n",
       "      <td>2010-12-01 08:26:00</td>\n",
       "      <td>2.55</td>\n",
       "      <td>17850.0</td>\n",
       "      <td>United Kingdom</td>\n",
       "      <td>15.30</td>\n",
       "    </tr>\n",
       "    <tr>\n",
       "      <th>1</th>\n",
       "      <td>536365.0</td>\n",
       "      <td>71053.0</td>\n",
       "      <td>WHITE METAL LANTERN</td>\n",
       "      <td>6.0</td>\n",
       "      <td>2010-12-01 08:26:00</td>\n",
       "      <td>3.39</td>\n",
       "      <td>17850.0</td>\n",
       "      <td>United Kingdom</td>\n",
       "      <td>20.34</td>\n",
       "    </tr>\n",
       "    <tr>\n",
       "      <th>2</th>\n",
       "      <td>536365.0</td>\n",
       "      <td>84406B</td>\n",
       "      <td>CREAM CUPID HEARTS COAT HANGER</td>\n",
       "      <td>8.0</td>\n",
       "      <td>2010-12-01 08:26:00</td>\n",
       "      <td>2.75</td>\n",
       "      <td>17850.0</td>\n",
       "      <td>United Kingdom</td>\n",
       "      <td>22.00</td>\n",
       "    </tr>\n",
       "    <tr>\n",
       "      <th>3</th>\n",
       "      <td>536365.0</td>\n",
       "      <td>84029G</td>\n",
       "      <td>KNITTED UNION FLAG HOT WATER BOTTLE</td>\n",
       "      <td>6.0</td>\n",
       "      <td>2010-12-01 08:26:00</td>\n",
       "      <td>3.39</td>\n",
       "      <td>17850.0</td>\n",
       "      <td>United Kingdom</td>\n",
       "      <td>20.34</td>\n",
       "    </tr>\n",
       "    <tr>\n",
       "      <th>4</th>\n",
       "      <td>536365.0</td>\n",
       "      <td>84029E</td>\n",
       "      <td>RED WOOLLY HOTTIE WHITE HEART.</td>\n",
       "      <td>6.0</td>\n",
       "      <td>2010-12-01 08:26:00</td>\n",
       "      <td>3.39</td>\n",
       "      <td>17850.0</td>\n",
       "      <td>United Kingdom</td>\n",
       "      <td>20.34</td>\n",
       "    </tr>\n",
       "  </tbody>\n",
       "</table>\n",
       "</div>"
      ],
      "text/plain": [
       "  InvoiceNo StockCode                          Description  Quantity  \\\n",
       "0  536365.0    85123A   WHITE HANGING HEART T-LIGHT HOLDER       6.0   \n",
       "1  536365.0   71053.0                  WHITE METAL LANTERN       6.0   \n",
       "2  536365.0    84406B       CREAM CUPID HEARTS COAT HANGER       8.0   \n",
       "3  536365.0    84029G  KNITTED UNION FLAG HOT WATER BOTTLE       6.0   \n",
       "4  536365.0    84029E       RED WOOLLY HOTTIE WHITE HEART.       6.0   \n",
       "\n",
       "          InvoiceDate  UnitPrice  CustomerID         Country  total_amount  \n",
       "0 2010-12-01 08:26:00       2.55     17850.0  United Kingdom         15.30  \n",
       "1 2010-12-01 08:26:00       3.39     17850.0  United Kingdom         20.34  \n",
       "2 2010-12-01 08:26:00       2.75     17850.0  United Kingdom         22.00  \n",
       "3 2010-12-01 08:26:00       3.39     17850.0  United Kingdom         20.34  \n",
       "4 2010-12-01 08:26:00       3.39     17850.0  United Kingdom         20.34  "
      ]
     },
     "execution_count": 190,
     "metadata": {},
     "output_type": "execute_result"
    }
   ],
   "source": [
    "df1_uk.head()"
   ]
  },
  {
   "cell_type": "markdown",
   "metadata": {
    "id": "MvfCcPLgQGWa"
   },
   "source": [
    "### iii. Recency: Days since last purchase\n",
    "To calculate the recency values, follow these steps in order:\n",
    "\n",
    "1. To calculate recency, we need to choose a date as a point of reference to evaluate how many days ago was the customer's last purchase.\n",
    "2. Create a new column called Date which contains the invoice date without the timestamp\n",
    "3. Group by CustomerID and check the last date of purchase\n",
    "4. Calculate the days since last purchase\n",
    "5. Drop Last_Purchase_Date since we don't need it anymore\n",
    "6. Plot RFM distributions"
   ]
  },
  {
   "cell_type": "markdown",
   "metadata": {
    "id": "b7Gzn6r6QGWb"
   },
   "source": [
    "1. Choose a date as a point of reference to evaluate how many days ago was the customer's last purchase."
   ]
  },
  {
   "cell_type": "code",
   "execution_count": null,
   "metadata": {},
   "outputs": [],
   "source": [
    "df1_uk.drop(\"max_date\",axis=1,inplace=True)"
   ]
  },
  {
   "cell_type": "code",
   "execution_count": 216,
   "metadata": {},
   "outputs": [],
   "source": [
    "reference_date=df1_uk.InvoiceDate.dt.date.max()"
   ]
  },
  {
   "cell_type": "code",
   "execution_count": 244,
   "metadata": {},
   "outputs": [
    {
     "name": "stderr",
     "output_type": "stream",
     "text": [
      "C:\\Users\\PC\\AppData\\Local\\Temp/ipykernel_876/492094737.py:1: SettingWithCopyWarning: \n",
      "A value is trying to be set on a copy of a slice from a DataFrame.\n",
      "Try using .loc[row_indexer,col_indexer] = value instead\n",
      "\n",
      "See the caveats in the documentation: https://pandas.pydata.org/pandas-docs/stable/user_guide/indexing.html#returning-a-view-versus-a-copy\n",
      "  df1_uk[\"last_purchased_day_ago\"]=reference_date - df1_uk.InvoiceDate.dt.date\n"
     ]
    },
    {
     "data": {
      "text/plain": [
       "0        373 days\n",
       "1        373 days\n",
       "2        373 days\n",
       "3        373 days\n",
       "4        373 days\n",
       "           ...   \n",
       "541889     0 days\n",
       "541890     0 days\n",
       "541891     0 days\n",
       "541892     0 days\n",
       "541893     0 days\n",
       "Name: last_purchased_day_ago, Length: 361878, dtype: timedelta64[ns]"
      ]
     },
     "execution_count": 244,
     "metadata": {},
     "output_type": "execute_result"
    }
   ],
   "source": [
    "df1_uk[\"last_purchased_day_ago\"]=reference_date - df1_uk.InvoiceDate.dt.date\n",
    "df1_uk[\"last_purchased_day_ago\"]"
   ]
  },
  {
   "cell_type": "code",
   "execution_count": 257,
   "metadata": {},
   "outputs": [
    {
     "ename": "ValueError",
     "evalue": "pattern contains no capture groups",
     "output_type": "error",
     "traceback": [
      "\u001b[1;31m---------------------------------------------------------------------------\u001b[0m",
      "\u001b[1;31mValueError\u001b[0m                                Traceback (most recent call last)",
      "\u001b[1;32m~\\AppData\\Local\\Temp/ipykernel_876/30897958.py\u001b[0m in \u001b[0;36m<module>\u001b[1;34m\u001b[0m\n\u001b[1;32m----> 1\u001b[1;33m \u001b[0mdf1_uk\u001b[0m\u001b[1;33m[\u001b[0m\u001b[1;34m\"last_purchased_day_ago\"\u001b[0m\u001b[1;33m]\u001b[0m \u001b[1;33m=\u001b[0m \u001b[0mdf1_uk\u001b[0m\u001b[1;33m[\u001b[0m\u001b[1;34m\"last_purchased_day_ago\"\u001b[0m\u001b[1;33m]\u001b[0m\u001b[1;33m.\u001b[0m\u001b[0mastype\u001b[0m\u001b[1;33m(\u001b[0m\u001b[0mstr\u001b[0m\u001b[1;33m)\u001b[0m\u001b[1;33m.\u001b[0m\u001b[0mstr\u001b[0m\u001b[1;33m.\u001b[0m\u001b[0mextract\u001b[0m\u001b[1;33m(\u001b[0m\u001b[1;34m\"/d+\"\u001b[0m\u001b[1;33m)\u001b[0m\u001b[1;33m.\u001b[0m\u001b[0mastype\u001b[0m\u001b[1;33m(\u001b[0m\u001b[0mint\u001b[0m\u001b[1;33m)\u001b[0m\u001b[1;33m\u001b[0m\u001b[1;33m\u001b[0m\u001b[0m\n\u001b[0m\u001b[0;32m      2\u001b[0m \u001b[0mdf1_uk\u001b[0m\u001b[1;33m[\u001b[0m\u001b[1;34m\"last_purchased_day_ago\"\u001b[0m\u001b[1;33m]\u001b[0m\u001b[1;33m\u001b[0m\u001b[1;33m\u001b[0m\u001b[0m\n",
      "\u001b[1;32mC:\\ProgramData\\Anaconda3\\lib\\site-packages\\pandas\\core\\strings\\accessor.py\u001b[0m in \u001b[0;36mwrapper\u001b[1;34m(self, *args, **kwargs)\u001b[0m\n\u001b[0;32m    114\u001b[0m                 )\n\u001b[0;32m    115\u001b[0m                 \u001b[1;32mraise\u001b[0m \u001b[0mTypeError\u001b[0m\u001b[1;33m(\u001b[0m\u001b[0mmsg\u001b[0m\u001b[1;33m)\u001b[0m\u001b[1;33m\u001b[0m\u001b[1;33m\u001b[0m\u001b[0m\n\u001b[1;32m--> 116\u001b[1;33m             \u001b[1;32mreturn\u001b[0m \u001b[0mfunc\u001b[0m\u001b[1;33m(\u001b[0m\u001b[0mself\u001b[0m\u001b[1;33m,\u001b[0m \u001b[1;33m*\u001b[0m\u001b[0margs\u001b[0m\u001b[1;33m,\u001b[0m \u001b[1;33m**\u001b[0m\u001b[0mkwargs\u001b[0m\u001b[1;33m)\u001b[0m\u001b[1;33m\u001b[0m\u001b[1;33m\u001b[0m\u001b[0m\n\u001b[0m\u001b[0;32m    117\u001b[0m \u001b[1;33m\u001b[0m\u001b[0m\n\u001b[0;32m    118\u001b[0m         \u001b[0mwrapper\u001b[0m\u001b[1;33m.\u001b[0m\u001b[0m__name__\u001b[0m \u001b[1;33m=\u001b[0m \u001b[0mfunc_name\u001b[0m\u001b[1;33m\u001b[0m\u001b[1;33m\u001b[0m\u001b[0m\n",
      "\u001b[1;32mC:\\ProgramData\\Anaconda3\\lib\\site-packages\\pandas\\core\\strings\\accessor.py\u001b[0m in \u001b[0;36mextract\u001b[1;34m(self, pat, flags, expand)\u001b[0m\n\u001b[0;32m   2403\u001b[0m         \u001b[0mregex\u001b[0m \u001b[1;33m=\u001b[0m \u001b[0mre\u001b[0m\u001b[1;33m.\u001b[0m\u001b[0mcompile\u001b[0m\u001b[1;33m(\u001b[0m\u001b[0mpat\u001b[0m\u001b[1;33m,\u001b[0m \u001b[0mflags\u001b[0m\u001b[1;33m=\u001b[0m\u001b[0mflags\u001b[0m\u001b[1;33m)\u001b[0m\u001b[1;33m\u001b[0m\u001b[1;33m\u001b[0m\u001b[0m\n\u001b[0;32m   2404\u001b[0m         \u001b[1;32mif\u001b[0m \u001b[0mregex\u001b[0m\u001b[1;33m.\u001b[0m\u001b[0mgroups\u001b[0m \u001b[1;33m==\u001b[0m \u001b[1;36m0\u001b[0m\u001b[1;33m:\u001b[0m\u001b[1;33m\u001b[0m\u001b[1;33m\u001b[0m\u001b[0m\n\u001b[1;32m-> 2405\u001b[1;33m             \u001b[1;32mraise\u001b[0m \u001b[0mValueError\u001b[0m\u001b[1;33m(\u001b[0m\u001b[1;34m\"pattern contains no capture groups\"\u001b[0m\u001b[1;33m)\u001b[0m\u001b[1;33m\u001b[0m\u001b[1;33m\u001b[0m\u001b[0m\n\u001b[0m\u001b[0;32m   2406\u001b[0m \u001b[1;33m\u001b[0m\u001b[0m\n\u001b[0;32m   2407\u001b[0m         \u001b[1;32mif\u001b[0m \u001b[1;32mnot\u001b[0m \u001b[0mexpand\u001b[0m \u001b[1;32mand\u001b[0m \u001b[0mregex\u001b[0m\u001b[1;33m.\u001b[0m\u001b[0mgroups\u001b[0m \u001b[1;33m>\u001b[0m \u001b[1;36m1\u001b[0m \u001b[1;32mand\u001b[0m \u001b[0misinstance\u001b[0m\u001b[1;33m(\u001b[0m\u001b[0mself\u001b[0m\u001b[1;33m.\u001b[0m\u001b[0m_data\u001b[0m\u001b[1;33m,\u001b[0m \u001b[0mABCIndex\u001b[0m\u001b[1;33m)\u001b[0m\u001b[1;33m:\u001b[0m\u001b[1;33m\u001b[0m\u001b[1;33m\u001b[0m\u001b[0m\n",
      "\u001b[1;31mValueError\u001b[0m: pattern contains no capture groups"
     ]
    }
   ],
   "source": [
    "df1_uk[\"last_purchased_day_ago\"] = df1_uk[\"last_purchased_day_ago\"].astype(str).str.extract(\"/d+\").astype(int)\n",
    "df1_uk[\"last_purchased_day_ago\"] "
   ]
  },
  {
   "cell_type": "code",
   "execution_count": 214,
   "metadata": {
    "id": "DwWODVSZiqa-"
   },
   "outputs": [
    {
     "data": {
      "text/plain": [
       "541893    2011-12-09\n",
       "541892    2011-12-09\n",
       "541891    2011-12-09\n",
       "541890    2011-12-09\n",
       "541889    2011-12-09\n",
       "             ...    \n",
       "4         2010-12-01\n",
       "3         2010-12-01\n",
       "2         2010-12-01\n",
       "1         2010-12-01\n",
       "0         2010-12-01\n",
       "Name: InvoiceDate, Length: 361878, dtype: object"
      ]
     },
     "execution_count": 214,
     "metadata": {},
     "output_type": "execute_result"
    }
   ],
   "source": [
    "df1_uk.InvoiceDate.dt.date[::-1]"
   ]
  },
  {
   "cell_type": "code",
   "execution_count": 222,
   "metadata": {},
   "outputs": [
    {
     "name": "stderr",
     "output_type": "stream",
     "text": [
      "C:\\Users\\PC\\AppData\\Local\\Temp/ipykernel_876/795120940.py:1: SettingWithCopyWarning: \n",
      "A value is trying to be set on a copy of a slice from a DataFrame.\n",
      "Try using .loc[row_indexer,col_indexer] = value instead\n",
      "\n",
      "See the caveats in the documentation: https://pandas.pydata.org/pandas-docs/stable/user_guide/indexing.html#returning-a-view-versus-a-copy\n",
      "  df1_uk[\"Date\"]=df1_uk.InvoiceDate.dt.date\n"
     ]
    }
   ],
   "source": [
    "df1_uk[\"Date\"]=df1_uk.InvoiceDate.dt.date"
   ]
  },
  {
   "cell_type": "markdown",
   "metadata": {
    "id": "Ge34PCT0iqa-"
   },
   "source": [
    "2. Create a new column called Date which contains the invoice date without the timestamp"
   ]
  },
  {
   "cell_type": "code",
   "execution_count": null,
   "metadata": {
    "id": "xsaFUydXiqa_"
   },
   "outputs": [],
   "source": []
  },
  {
   "cell_type": "markdown",
   "metadata": {
    "id": "1KJzP5Ldiqa_"
   },
   "source": [
    "3. Group by CustomerID and check the last date of purchase"
   ]
  },
  {
   "cell_type": "code",
   "execution_count": 223,
   "metadata": {
    "id": "x8kMt-Uyiqa_"
   },
   "outputs": [
    {
     "data": {
      "text/plain": [
       "CustomerID\n",
       "12346.0    2011-01-18\n",
       "12747.0    2011-12-07\n",
       "12748.0    2011-12-09\n",
       "12749.0    2011-12-06\n",
       "12820.0    2011-12-06\n",
       "              ...    \n",
       "18280.0    2011-03-07\n",
       "18281.0    2011-06-12\n",
       "18282.0    2011-12-02\n",
       "18283.0    2011-12-06\n",
       "18287.0    2011-10-28\n",
       "Name: Date, Length: 3950, dtype: object"
      ]
     },
     "execution_count": 223,
     "metadata": {},
     "output_type": "execute_result"
    }
   ],
   "source": [
    "df1_uk.groupby(\"CustomerID\")[\"Date\"].max()"
   ]
  },
  {
   "cell_type": "markdown",
   "metadata": {
    "id": "1Zxs1mzPiqa_"
   },
   "source": [
    "4. Calculate the days since last purchase"
   ]
  },
  {
   "cell_type": "code",
   "execution_count": 224,
   "metadata": {
    "id": "iTeKws6giqa_"
   },
   "outputs": [],
   "source": [
    "reference_date=df1_uk.InvoiceDate.dt.date.max()"
   ]
  },
  {
   "cell_type": "markdown",
   "metadata": {
    "id": "yAuMSkfsiqa_"
   },
   "source": [
    "5. Drop Last_Purchase_Date since we don't need it anymore"
   ]
  },
  {
   "cell_type": "code",
   "execution_count": 225,
   "metadata": {
    "id": "4bNmKqHNiqa_"
   },
   "outputs": [
    {
     "name": "stderr",
     "output_type": "stream",
     "text": [
      "C:\\Users\\PC\\AppData\\Local\\Temp/ipykernel_876/2286503274.py:1: SettingWithCopyWarning: \n",
      "A value is trying to be set on a copy of a slice from a DataFrame.\n",
      "Try using .loc[row_indexer,col_indexer] = value instead\n",
      "\n",
      "See the caveats in the documentation: https://pandas.pydata.org/pandas-docs/stable/user_guide/indexing.html#returning-a-view-versus-a-copy\n",
      "  df1_uk[\"last_purchased_day_ago\"]=reference_date-df1_uk.InvoiceDate.dt.date\n"
     ]
    }
   ],
   "source": [
    "df1_uk[\"last_purchased_day_ago\"]=reference_date-df1_uk.InvoiceDate.dt.date"
   ]
  },
  {
   "cell_type": "code",
   "execution_count": 227,
   "metadata": {
    "id": "c8e-QiwRiqa_",
    "scrolled": true
   },
   "outputs": [
    {
     "name": "stderr",
     "output_type": "stream",
     "text": [
      "C:\\ProgramData\\Anaconda3\\lib\\site-packages\\pandas\\core\\frame.py:4906: SettingWithCopyWarning: \n",
      "A value is trying to be set on a copy of a slice from a DataFrame\n",
      "\n",
      "See the caveats in the documentation: https://pandas.pydata.org/pandas-docs/stable/user_guide/indexing.html#returning-a-view-versus-a-copy\n",
      "  return super().drop(\n"
     ]
    }
   ],
   "source": [
    "df1_uk.drop(\"last_purchased_day_ago\",axis=1,inplace=True)"
   ]
  },
  {
   "cell_type": "markdown",
   "metadata": {
    "id": "IB9a0AL9iqa_"
   },
   "source": [
    "6. Plot RFM distributions"
   ]
  },
  {
   "cell_type": "code",
   "execution_count": 235,
   "metadata": {
    "scrolled": true
   },
   "outputs": [
    {
     "data": {
      "text/plain": [
       "CustomerID\n",
       "12346.0    2011-01-18\n",
       "12747.0    2011-12-07\n",
       "12748.0    2011-12-09\n",
       "12749.0    2011-12-06\n",
       "12820.0    2011-12-06\n",
       "              ...    \n",
       "18280.0    2011-03-07\n",
       "18281.0    2011-06-12\n",
       "18282.0    2011-12-02\n",
       "18283.0    2011-12-06\n",
       "18287.0    2011-10-28\n",
       "Name: date, Length: 3950, dtype: object"
      ]
     },
     "execution_count": 235,
     "metadata": {},
     "output_type": "execute_result"
    }
   ],
   "source": [
    "df1_uk.groupby(\"CustomerID\")[\"date\"].max()"
   ]
  },
  {
   "cell_type": "code",
   "execution_count": 236,
   "metadata": {},
   "outputs": [
    {
     "ename": "AttributeError",
     "evalue": "Can only use .dt accessor with datetimelike values",
     "output_type": "error",
     "traceback": [
      "\u001b[1;31m---------------------------------------------------------------------------\u001b[0m",
      "\u001b[1;31mAttributeError\u001b[0m                            Traceback (most recent call last)",
      "\u001b[1;32m~\\AppData\\Local\\Temp/ipykernel_876/1450751274.py\u001b[0m in \u001b[0;36m<module>\u001b[1;34m\u001b[0m\n\u001b[1;32m----> 1\u001b[1;33m \u001b[0mr\u001b[0m\u001b[1;33m=\u001b[0m\u001b[0mdf1_uk\u001b[0m\u001b[1;33m.\u001b[0m\u001b[0mgroupby\u001b[0m\u001b[1;33m(\u001b[0m\u001b[1;34m\"CustomerID\"\u001b[0m\u001b[1;33m)\u001b[0m\u001b[1;33m[\u001b[0m\u001b[1;34m\"date\"\u001b[0m\u001b[1;33m]\u001b[0m\u001b[1;33m.\u001b[0m\u001b[0mmax\u001b[0m\u001b[1;33m(\u001b[0m\u001b[1;33m)\u001b[0m\u001b[1;33m.\u001b[0m\u001b[0mdt\u001b[0m\u001b[1;33m.\u001b[0m\u001b[0mdate\u001b[0m\u001b[1;33m\u001b[0m\u001b[1;33m\u001b[0m\u001b[0m\n\u001b[0m",
      "\u001b[1;32mC:\\ProgramData\\Anaconda3\\lib\\site-packages\\pandas\\core\\generic.py\u001b[0m in \u001b[0;36m__getattr__\u001b[1;34m(self, name)\u001b[0m\n\u001b[0;32m   5485\u001b[0m         ):\n\u001b[0;32m   5486\u001b[0m             \u001b[1;32mreturn\u001b[0m \u001b[0mself\u001b[0m\u001b[1;33m[\u001b[0m\u001b[0mname\u001b[0m\u001b[1;33m]\u001b[0m\u001b[1;33m\u001b[0m\u001b[1;33m\u001b[0m\u001b[0m\n\u001b[1;32m-> 5487\u001b[1;33m         \u001b[1;32mreturn\u001b[0m \u001b[0mobject\u001b[0m\u001b[1;33m.\u001b[0m\u001b[0m__getattribute__\u001b[0m\u001b[1;33m(\u001b[0m\u001b[0mself\u001b[0m\u001b[1;33m,\u001b[0m \u001b[0mname\u001b[0m\u001b[1;33m)\u001b[0m\u001b[1;33m\u001b[0m\u001b[1;33m\u001b[0m\u001b[0m\n\u001b[0m\u001b[0;32m   5488\u001b[0m \u001b[1;33m\u001b[0m\u001b[0m\n\u001b[0;32m   5489\u001b[0m     \u001b[1;32mdef\u001b[0m \u001b[0m__setattr__\u001b[0m\u001b[1;33m(\u001b[0m\u001b[0mself\u001b[0m\u001b[1;33m,\u001b[0m \u001b[0mname\u001b[0m\u001b[1;33m:\u001b[0m \u001b[0mstr\u001b[0m\u001b[1;33m,\u001b[0m \u001b[0mvalue\u001b[0m\u001b[1;33m)\u001b[0m \u001b[1;33m->\u001b[0m \u001b[1;32mNone\u001b[0m\u001b[1;33m:\u001b[0m\u001b[1;33m\u001b[0m\u001b[1;33m\u001b[0m\u001b[0m\n",
      "\u001b[1;32mC:\\ProgramData\\Anaconda3\\lib\\site-packages\\pandas\\core\\accessor.py\u001b[0m in \u001b[0;36m__get__\u001b[1;34m(self, obj, cls)\u001b[0m\n\u001b[0;32m    179\u001b[0m             \u001b[1;31m# we're accessing the attribute of the class, i.e., Dataset.geo\u001b[0m\u001b[1;33m\u001b[0m\u001b[1;33m\u001b[0m\u001b[0m\n\u001b[0;32m    180\u001b[0m             \u001b[1;32mreturn\u001b[0m \u001b[0mself\u001b[0m\u001b[1;33m.\u001b[0m\u001b[0m_accessor\u001b[0m\u001b[1;33m\u001b[0m\u001b[1;33m\u001b[0m\u001b[0m\n\u001b[1;32m--> 181\u001b[1;33m         \u001b[0maccessor_obj\u001b[0m \u001b[1;33m=\u001b[0m \u001b[0mself\u001b[0m\u001b[1;33m.\u001b[0m\u001b[0m_accessor\u001b[0m\u001b[1;33m(\u001b[0m\u001b[0mobj\u001b[0m\u001b[1;33m)\u001b[0m\u001b[1;33m\u001b[0m\u001b[1;33m\u001b[0m\u001b[0m\n\u001b[0m\u001b[0;32m    182\u001b[0m         \u001b[1;31m# Replace the property with the accessor object. Inspired by:\u001b[0m\u001b[1;33m\u001b[0m\u001b[1;33m\u001b[0m\u001b[0m\n\u001b[0;32m    183\u001b[0m         \u001b[1;31m# https://www.pydanny.com/cached-property.html\u001b[0m\u001b[1;33m\u001b[0m\u001b[1;33m\u001b[0m\u001b[0m\n",
      "\u001b[1;32mC:\\ProgramData\\Anaconda3\\lib\\site-packages\\pandas\\core\\indexes\\accessors.py\u001b[0m in \u001b[0;36m__new__\u001b[1;34m(cls, data)\u001b[0m\n\u001b[0;32m    504\u001b[0m             \u001b[1;32mreturn\u001b[0m \u001b[0mPeriodProperties\u001b[0m\u001b[1;33m(\u001b[0m\u001b[0mdata\u001b[0m\u001b[1;33m,\u001b[0m \u001b[0morig\u001b[0m\u001b[1;33m)\u001b[0m\u001b[1;33m\u001b[0m\u001b[1;33m\u001b[0m\u001b[0m\n\u001b[0;32m    505\u001b[0m \u001b[1;33m\u001b[0m\u001b[0m\n\u001b[1;32m--> 506\u001b[1;33m         \u001b[1;32mraise\u001b[0m \u001b[0mAttributeError\u001b[0m\u001b[1;33m(\u001b[0m\u001b[1;34m\"Can only use .dt accessor with datetimelike values\"\u001b[0m\u001b[1;33m)\u001b[0m\u001b[1;33m\u001b[0m\u001b[1;33m\u001b[0m\u001b[0m\n\u001b[0m",
      "\u001b[1;31mAttributeError\u001b[0m: Can only use .dt accessor with datetimelike values"
     ]
    }
   ],
   "source": [
    "r=df1_uk.groupby(\"CustomerID\")[\"date\"].max().dt.date"
   ]
  },
  {
   "cell_type": "code",
   "execution_count": 238,
   "metadata": {},
   "outputs": [
    {
     "data": {
      "text/plain": [
       "CustomerID\n",
       "12346.0       2\n",
       "12747.0     103\n",
       "12748.0    4642\n",
       "12749.0     231\n",
       "12820.0      59\n",
       "           ... \n",
       "18280.0      10\n",
       "18281.0       7\n",
       "18282.0      13\n",
       "18283.0     756\n",
       "18287.0      70\n",
       "Name: CustomerID, Length: 3950, dtype: int64"
      ]
     },
     "execution_count": 238,
     "metadata": {},
     "output_type": "execute_result"
    }
   ],
   "source": [
    "f= df1_uk.groupby(\"CustomerID\")[\"CustomerID\"].count()\n",
    "f"
   ]
  },
  {
   "cell_type": "code",
   "execution_count": 256,
   "metadata": {},
   "outputs": [
    {
     "data": {
      "text/html": [
       "<div>\n",
       "<style scoped>\n",
       "    .dataframe tbody tr th:only-of-type {\n",
       "        vertical-align: middle;\n",
       "    }\n",
       "\n",
       "    .dataframe tbody tr th {\n",
       "        vertical-align: top;\n",
       "    }\n",
       "\n",
       "    .dataframe thead th {\n",
       "        text-align: right;\n",
       "    }\n",
       "</style>\n",
       "<table border=\"1\" class=\"dataframe\">\n",
       "  <thead>\n",
       "    <tr style=\"text-align: right;\">\n",
       "      <th></th>\n",
       "      <th>InvoiceNo</th>\n",
       "      <th>StockCode</th>\n",
       "      <th>Description</th>\n",
       "      <th>Quantity</th>\n",
       "      <th>InvoiceDate</th>\n",
       "      <th>UnitPrice</th>\n",
       "      <th>CustomerID</th>\n",
       "      <th>Country</th>\n",
       "      <th>total_amount</th>\n",
       "      <th>date</th>\n",
       "      <th>Date</th>\n",
       "      <th>last_purchased_day_ago</th>\n",
       "    </tr>\n",
       "  </thead>\n",
       "  <tbody>\n",
       "    <tr>\n",
       "      <th>0</th>\n",
       "      <td>536365.0</td>\n",
       "      <td>85123A</td>\n",
       "      <td>WHITE HANGING HEART T-LIGHT HOLDER</td>\n",
       "      <td>6.0</td>\n",
       "      <td>2010-12-01 08:26:00</td>\n",
       "      <td>2.55</td>\n",
       "      <td>17850.0</td>\n",
       "      <td>United Kingdom</td>\n",
       "      <td>15.30</td>\n",
       "      <td>2010-12-01</td>\n",
       "      <td>2010-12-01</td>\n",
       "      <td>373 days</td>\n",
       "    </tr>\n",
       "    <tr>\n",
       "      <th>1</th>\n",
       "      <td>536365.0</td>\n",
       "      <td>71053.0</td>\n",
       "      <td>WHITE METAL LANTERN</td>\n",
       "      <td>6.0</td>\n",
       "      <td>2010-12-01 08:26:00</td>\n",
       "      <td>3.39</td>\n",
       "      <td>17850.0</td>\n",
       "      <td>United Kingdom</td>\n",
       "      <td>20.34</td>\n",
       "      <td>2010-12-01</td>\n",
       "      <td>2010-12-01</td>\n",
       "      <td>373 days</td>\n",
       "    </tr>\n",
       "    <tr>\n",
       "      <th>2</th>\n",
       "      <td>536365.0</td>\n",
       "      <td>84406B</td>\n",
       "      <td>CREAM CUPID HEARTS COAT HANGER</td>\n",
       "      <td>8.0</td>\n",
       "      <td>2010-12-01 08:26:00</td>\n",
       "      <td>2.75</td>\n",
       "      <td>17850.0</td>\n",
       "      <td>United Kingdom</td>\n",
       "      <td>22.00</td>\n",
       "      <td>2010-12-01</td>\n",
       "      <td>2010-12-01</td>\n",
       "      <td>373 days</td>\n",
       "    </tr>\n",
       "    <tr>\n",
       "      <th>3</th>\n",
       "      <td>536365.0</td>\n",
       "      <td>84029G</td>\n",
       "      <td>KNITTED UNION FLAG HOT WATER BOTTLE</td>\n",
       "      <td>6.0</td>\n",
       "      <td>2010-12-01 08:26:00</td>\n",
       "      <td>3.39</td>\n",
       "      <td>17850.0</td>\n",
       "      <td>United Kingdom</td>\n",
       "      <td>20.34</td>\n",
       "      <td>2010-12-01</td>\n",
       "      <td>2010-12-01</td>\n",
       "      <td>373 days</td>\n",
       "    </tr>\n",
       "    <tr>\n",
       "      <th>4</th>\n",
       "      <td>536365.0</td>\n",
       "      <td>84029E</td>\n",
       "      <td>RED WOOLLY HOTTIE WHITE HEART.</td>\n",
       "      <td>6.0</td>\n",
       "      <td>2010-12-01 08:26:00</td>\n",
       "      <td>3.39</td>\n",
       "      <td>17850.0</td>\n",
       "      <td>United Kingdom</td>\n",
       "      <td>20.34</td>\n",
       "      <td>2010-12-01</td>\n",
       "      <td>2010-12-01</td>\n",
       "      <td>373 days</td>\n",
       "    </tr>\n",
       "  </tbody>\n",
       "</table>\n",
       "</div>"
      ],
      "text/plain": [
       "  InvoiceNo StockCode                          Description  Quantity  \\\n",
       "0  536365.0    85123A   WHITE HANGING HEART T-LIGHT HOLDER       6.0   \n",
       "1  536365.0   71053.0                  WHITE METAL LANTERN       6.0   \n",
       "2  536365.0    84406B       CREAM CUPID HEARTS COAT HANGER       8.0   \n",
       "3  536365.0    84029G  KNITTED UNION FLAG HOT WATER BOTTLE       6.0   \n",
       "4  536365.0    84029E       RED WOOLLY HOTTIE WHITE HEART.       6.0   \n",
       "\n",
       "          InvoiceDate  UnitPrice  CustomerID         Country  total_amount  \\\n",
       "0 2010-12-01 08:26:00       2.55     17850.0  United Kingdom         15.30   \n",
       "1 2010-12-01 08:26:00       3.39     17850.0  United Kingdom         20.34   \n",
       "2 2010-12-01 08:26:00       2.75     17850.0  United Kingdom         22.00   \n",
       "3 2010-12-01 08:26:00       3.39     17850.0  United Kingdom         20.34   \n",
       "4 2010-12-01 08:26:00       3.39     17850.0  United Kingdom         20.34   \n",
       "\n",
       "         date        Date last_purchased_day_ago  \n",
       "0  2010-12-01  2010-12-01               373 days  \n",
       "1  2010-12-01  2010-12-01               373 days  \n",
       "2  2010-12-01  2010-12-01               373 days  \n",
       "3  2010-12-01  2010-12-01               373 days  \n",
       "4  2010-12-01  2010-12-01               373 days  "
      ]
     },
     "execution_count": 256,
     "metadata": {},
     "output_type": "execute_result"
    }
   ],
   "source": [
    "df1_uk.head()"
   ]
  },
  {
   "cell_type": "code",
   "execution_count": 255,
   "metadata": {},
   "outputs": [
    {
     "ename": "MemoryError",
     "evalue": "Unable to allocate 229. PiB for an array with shape (32227200000000000,) and data type float64",
     "output_type": "error",
     "traceback": [
      "\u001b[1;31m---------------------------------------------------------------------------\u001b[0m",
      "\u001b[1;31mMemoryError\u001b[0m                               Traceback (most recent call last)",
      "\u001b[1;32m~\\AppData\\Local\\Temp/ipykernel_876/3549953851.py\u001b[0m in \u001b[0;36m<module>\u001b[1;34m\u001b[0m\n\u001b[0;32m      1\u001b[0m \u001b[0mplt\u001b[0m\u001b[1;33m.\u001b[0m\u001b[0mfigure\u001b[0m\u001b[1;33m(\u001b[0m\u001b[0mfigsize\u001b[0m\u001b[1;33m=\u001b[0m\u001b[1;33m(\u001b[0m\u001b[1;36m15\u001b[0m\u001b[1;33m,\u001b[0m\u001b[1;36m10\u001b[0m\u001b[1;33m)\u001b[0m\u001b[1;33m)\u001b[0m\u001b[1;33m\u001b[0m\u001b[1;33m\u001b[0m\u001b[0m\n\u001b[1;32m----> 2\u001b[1;33m \u001b[0msns\u001b[0m\u001b[1;33m.\u001b[0m\u001b[0mhistplot\u001b[0m\u001b[1;33m(\u001b[0m\u001b[0mdf1_uk\u001b[0m\u001b[1;33m,\u001b[0m \u001b[0mx\u001b[0m\u001b[1;33m=\u001b[0m\u001b[1;34m\"last_purchased_day_ago\"\u001b[0m\u001b[1;33m)\u001b[0m\u001b[1;33m;\u001b[0m\u001b[1;33m\u001b[0m\u001b[1;33m\u001b[0m\u001b[0m\n\u001b[0m",
      "\u001b[1;32mC:\\ProgramData\\Anaconda3\\lib\\site-packages\\seaborn\\distributions.py\u001b[0m in \u001b[0;36mhistplot\u001b[1;34m(data, x, y, hue, weights, stat, bins, binwidth, binrange, discrete, cumulative, common_bins, common_norm, multiple, element, fill, shrink, kde, kde_kws, line_kws, thresh, pthresh, pmax, cbar, cbar_ax, cbar_kws, palette, hue_order, hue_norm, color, log_scale, legend, ax, **kwargs)\u001b[0m\n\u001b[0;32m   1460\u001b[0m     \u001b[1;32mif\u001b[0m \u001b[0mp\u001b[0m\u001b[1;33m.\u001b[0m\u001b[0munivariate\u001b[0m\u001b[1;33m:\u001b[0m\u001b[1;33m\u001b[0m\u001b[1;33m\u001b[0m\u001b[0m\n\u001b[0;32m   1461\u001b[0m \u001b[1;33m\u001b[0m\u001b[0m\n\u001b[1;32m-> 1462\u001b[1;33m         p.plot_univariate_histogram(\n\u001b[0m\u001b[0;32m   1463\u001b[0m             \u001b[0mmultiple\u001b[0m\u001b[1;33m=\u001b[0m\u001b[0mmultiple\u001b[0m\u001b[1;33m,\u001b[0m\u001b[1;33m\u001b[0m\u001b[1;33m\u001b[0m\u001b[0m\n\u001b[0;32m   1464\u001b[0m             \u001b[0melement\u001b[0m\u001b[1;33m=\u001b[0m\u001b[0melement\u001b[0m\u001b[1;33m,\u001b[0m\u001b[1;33m\u001b[0m\u001b[1;33m\u001b[0m\u001b[0m\n",
      "\u001b[1;32mC:\\ProgramData\\Anaconda3\\lib\\site-packages\\seaborn\\distributions.py\u001b[0m in \u001b[0;36mplot_univariate_histogram\u001b[1;34m(self, multiple, element, fill, common_norm, common_bins, shrink, kde, kde_kws, color, legend, line_kws, estimate_kws, **plot_kws)\u001b[0m\n\u001b[0;32m    439\u001b[0m \u001b[1;33m\u001b[0m\u001b[0m\n\u001b[0;32m    440\u001b[0m             \u001b[1;31m# Do the histogram computation\u001b[0m\u001b[1;33m\u001b[0m\u001b[1;33m\u001b[0m\u001b[0m\n\u001b[1;32m--> 441\u001b[1;33m             \u001b[0mheights\u001b[0m\u001b[1;33m,\u001b[0m \u001b[0medges\u001b[0m \u001b[1;33m=\u001b[0m \u001b[0mestimator\u001b[0m\u001b[1;33m(\u001b[0m\u001b[0mobservations\u001b[0m\u001b[1;33m,\u001b[0m \u001b[0mweights\u001b[0m\u001b[1;33m=\u001b[0m\u001b[0mweights\u001b[0m\u001b[1;33m)\u001b[0m\u001b[1;33m\u001b[0m\u001b[1;33m\u001b[0m\u001b[0m\n\u001b[0m\u001b[0;32m    442\u001b[0m \u001b[1;33m\u001b[0m\u001b[0m\n\u001b[0;32m    443\u001b[0m             \u001b[1;31m# Rescale the smoothed curve to match the histogram\u001b[0m\u001b[1;33m\u001b[0m\u001b[1;33m\u001b[0m\u001b[0m\n",
      "\u001b[1;32mC:\\ProgramData\\Anaconda3\\lib\\site-packages\\seaborn\\_statistics.py\u001b[0m in \u001b[0;36m__call__\u001b[1;34m(self, x1, x2, weights)\u001b[0m\n\u001b[0;32m    384\u001b[0m         \u001b[1;34m\"\"\"Count the occurrences in each bin, maybe normalize.\"\"\"\u001b[0m\u001b[1;33m\u001b[0m\u001b[1;33m\u001b[0m\u001b[0m\n\u001b[0;32m    385\u001b[0m         \u001b[1;32mif\u001b[0m \u001b[0mx2\u001b[0m \u001b[1;32mis\u001b[0m \u001b[1;32mNone\u001b[0m\u001b[1;33m:\u001b[0m\u001b[1;33m\u001b[0m\u001b[1;33m\u001b[0m\u001b[0m\n\u001b[1;32m--> 386\u001b[1;33m             \u001b[1;32mreturn\u001b[0m \u001b[0mself\u001b[0m\u001b[1;33m.\u001b[0m\u001b[0m_eval_univariate\u001b[0m\u001b[1;33m(\u001b[0m\u001b[0mx1\u001b[0m\u001b[1;33m,\u001b[0m \u001b[0mweights\u001b[0m\u001b[1;33m)\u001b[0m\u001b[1;33m\u001b[0m\u001b[1;33m\u001b[0m\u001b[0m\n\u001b[0m\u001b[0;32m    387\u001b[0m         \u001b[1;32melse\u001b[0m\u001b[1;33m:\u001b[0m\u001b[1;33m\u001b[0m\u001b[1;33m\u001b[0m\u001b[0m\n\u001b[0;32m    388\u001b[0m             \u001b[1;32mreturn\u001b[0m \u001b[0mself\u001b[0m\u001b[1;33m.\u001b[0m\u001b[0m_eval_bivariate\u001b[0m\u001b[1;33m(\u001b[0m\u001b[0mx1\u001b[0m\u001b[1;33m,\u001b[0m \u001b[0mx2\u001b[0m\u001b[1;33m,\u001b[0m \u001b[0mweights\u001b[0m\u001b[1;33m)\u001b[0m\u001b[1;33m\u001b[0m\u001b[1;33m\u001b[0m\u001b[0m\n",
      "\u001b[1;32mC:\\ProgramData\\Anaconda3\\lib\\site-packages\\seaborn\\_statistics.py\u001b[0m in \u001b[0;36m_eval_univariate\u001b[1;34m(self, x, weights)\u001b[0m\n\u001b[0;32m    359\u001b[0m         \u001b[0mbin_kws\u001b[0m \u001b[1;33m=\u001b[0m \u001b[0mself\u001b[0m\u001b[1;33m.\u001b[0m\u001b[0mbin_kws\u001b[0m\u001b[1;33m\u001b[0m\u001b[1;33m\u001b[0m\u001b[0m\n\u001b[0;32m    360\u001b[0m         \u001b[1;32mif\u001b[0m \u001b[0mbin_kws\u001b[0m \u001b[1;32mis\u001b[0m \u001b[1;32mNone\u001b[0m\u001b[1;33m:\u001b[0m\u001b[1;33m\u001b[0m\u001b[1;33m\u001b[0m\u001b[0m\n\u001b[1;32m--> 361\u001b[1;33m             \u001b[0mbin_kws\u001b[0m \u001b[1;33m=\u001b[0m \u001b[0mself\u001b[0m\u001b[1;33m.\u001b[0m\u001b[0mdefine_bin_params\u001b[0m\u001b[1;33m(\u001b[0m\u001b[0mx\u001b[0m\u001b[1;33m,\u001b[0m \u001b[0mweights\u001b[0m\u001b[1;33m=\u001b[0m\u001b[0mweights\u001b[0m\u001b[1;33m,\u001b[0m \u001b[0mcache\u001b[0m\u001b[1;33m=\u001b[0m\u001b[1;32mFalse\u001b[0m\u001b[1;33m)\u001b[0m\u001b[1;33m\u001b[0m\u001b[1;33m\u001b[0m\u001b[0m\n\u001b[0m\u001b[0;32m    362\u001b[0m \u001b[1;33m\u001b[0m\u001b[0m\n\u001b[0;32m    363\u001b[0m         \u001b[0mdensity\u001b[0m \u001b[1;33m=\u001b[0m \u001b[0mself\u001b[0m\u001b[1;33m.\u001b[0m\u001b[0mstat\u001b[0m \u001b[1;33m==\u001b[0m \u001b[1;34m\"density\"\u001b[0m\u001b[1;33m\u001b[0m\u001b[1;33m\u001b[0m\u001b[0m\n",
      "\u001b[1;32mC:\\ProgramData\\Anaconda3\\lib\\site-packages\\seaborn\\_statistics.py\u001b[0m in \u001b[0;36mdefine_bin_params\u001b[1;34m(self, x1, x2, weights, cache)\u001b[0m\n\u001b[0;32m    267\u001b[0m         \u001b[1;32mif\u001b[0m \u001b[0mx2\u001b[0m \u001b[1;32mis\u001b[0m \u001b[1;32mNone\u001b[0m\u001b[1;33m:\u001b[0m\u001b[1;33m\u001b[0m\u001b[1;33m\u001b[0m\u001b[0m\n\u001b[0;32m    268\u001b[0m \u001b[1;33m\u001b[0m\u001b[0m\n\u001b[1;32m--> 269\u001b[1;33m             bin_edges = self._define_bin_edges(\n\u001b[0m\u001b[0;32m    270\u001b[0m                 \u001b[0mx1\u001b[0m\u001b[1;33m,\u001b[0m \u001b[0mweights\u001b[0m\u001b[1;33m,\u001b[0m \u001b[0mself\u001b[0m\u001b[1;33m.\u001b[0m\u001b[0mbins\u001b[0m\u001b[1;33m,\u001b[0m \u001b[0mself\u001b[0m\u001b[1;33m.\u001b[0m\u001b[0mbinwidth\u001b[0m\u001b[1;33m,\u001b[0m \u001b[0mself\u001b[0m\u001b[1;33m.\u001b[0m\u001b[0mbinrange\u001b[0m\u001b[1;33m,\u001b[0m \u001b[0mself\u001b[0m\u001b[1;33m.\u001b[0m\u001b[0mdiscrete\u001b[0m\u001b[1;33m,\u001b[0m\u001b[1;33m\u001b[0m\u001b[1;33m\u001b[0m\u001b[0m\n\u001b[0;32m    271\u001b[0m             )\n",
      "\u001b[1;32mC:\\ProgramData\\Anaconda3\\lib\\site-packages\\seaborn\\_statistics.py\u001b[0m in \u001b[0;36m_define_bin_edges\u001b[1;34m(self, x, weights, bins, binwidth, binrange, discrete)\u001b[0m\n\u001b[0;32m    253\u001b[0m \u001b[1;33m\u001b[0m\u001b[0m\n\u001b[0;32m    254\u001b[0m         \u001b[1;32mif\u001b[0m \u001b[0mdiscrete\u001b[0m\u001b[1;33m:\u001b[0m\u001b[1;33m\u001b[0m\u001b[1;33m\u001b[0m\u001b[0m\n\u001b[1;32m--> 255\u001b[1;33m             \u001b[0mbin_edges\u001b[0m \u001b[1;33m=\u001b[0m \u001b[0mnp\u001b[0m\u001b[1;33m.\u001b[0m\u001b[0marange\u001b[0m\u001b[1;33m(\u001b[0m\u001b[0mstart\u001b[0m \u001b[1;33m-\u001b[0m \u001b[1;36m.5\u001b[0m\u001b[1;33m,\u001b[0m \u001b[0mstop\u001b[0m \u001b[1;33m+\u001b[0m \u001b[1;36m1.5\u001b[0m\u001b[1;33m)\u001b[0m\u001b[1;33m\u001b[0m\u001b[1;33m\u001b[0m\u001b[0m\n\u001b[0m\u001b[0;32m    256\u001b[0m         \u001b[1;32melif\u001b[0m \u001b[0mbinwidth\u001b[0m \u001b[1;32mis\u001b[0m \u001b[1;32mnot\u001b[0m \u001b[1;32mNone\u001b[0m\u001b[1;33m:\u001b[0m\u001b[1;33m\u001b[0m\u001b[1;33m\u001b[0m\u001b[0m\n\u001b[0;32m    257\u001b[0m             \u001b[0mstep\u001b[0m \u001b[1;33m=\u001b[0m \u001b[0mbinwidth\u001b[0m\u001b[1;33m\u001b[0m\u001b[1;33m\u001b[0m\u001b[0m\n",
      "\u001b[1;31mMemoryError\u001b[0m: Unable to allocate 229. PiB for an array with shape (32227200000000000,) and data type float64"
     ]
    },
    {
     "data": {
      "image/png": "[encoded data removed]",
      "text/plain": [
       "<Figure size 1080x720 with 1 Axes>"
      ]
     },
     "metadata": {
      "needs_background": "light"
     },
     "output_type": "display_data"
    }
   ],
   "source": [
    "plt.figure(figsize=(15,10))\n",
    "sns.histplot(df1_uk, x=\"last_purchased_day_ago\");"
   ]
  },
  {
   "cell_type": "markdown",
   "metadata": {
    "id": "MAjKZD0KQGWg"
   },
   "source": [
    "### iv. Frequency: Number of purchases\n",
    "\n",
    "To calculate how many times a customer purchased something, we need to count how many invoices each customer has. To calculate the frequency values, follow these steps in order:"
   ]
  },
  {
   "cell_type": "markdown",
   "metadata": {
    "id": "TDoNslseiqbA"
   },
   "source": [
    "1. Make a copy of df_uk and drop duplicates"
   ]
  },
  {
   "cell_type": "code",
   "execution_count": null,
   "metadata": {
    "id": "6gk2gokFiqbA"
   },
   "outputs": [],
   "source": []
  },
  {
   "cell_type": "markdown",
   "metadata": {
    "id": "7KrnuXrLiqbA"
   },
   "source": [
    "2. Calculate the frequency of purchases"
   ]
  },
  {
   "cell_type": "code",
   "execution_count": null,
   "metadata": {
    "id": "1LTM_cxpiqbA"
   },
   "outputs": [],
   "source": []
  },
  {
   "cell_type": "markdown",
   "metadata": {
    "id": "V9NNBCNgiqbA"
   },
   "source": [
    "3. Plot RFM distributions"
   ]
  },
  {
   "cell_type": "code",
   "execution_count": null,
   "metadata": {
    "id": "yUtZAHu1iqbA"
   },
   "outputs": [],
   "source": []
  },
  {
   "cell_type": "markdown",
   "metadata": {
    "id": "wUY3gKjQQGWh"
   },
   "source": [
    "### v. Monetary: Total amount of money spent\n",
    "\n",
    "The monetary value is calculated by adding together the cost of the customers' purchases.\n"
   ]
  },
  {
   "cell_type": "markdown",
   "metadata": {
    "id": "5_4_QLWtiqbA"
   },
   "source": [
    "1. Calculate sum total cost by customers and named \"Monetary\""
   ]
  },
  {
   "cell_type": "code",
   "execution_count": null,
   "metadata": {
    "id": "bilKBqvIiqbB"
   },
   "outputs": [],
   "source": []
  },
  {
   "cell_type": "markdown",
   "metadata": {
    "id": "dYsaCPRDiqbB"
   },
   "source": [
    "2. Plot RFM distributions"
   ]
  },
  {
   "cell_type": "code",
   "execution_count": null,
   "metadata": {
    "id": "Sd41fD67iqbB"
   },
   "outputs": [],
   "source": []
  },
  {
   "cell_type": "markdown",
   "metadata": {
    "id": "SeaecPkSQGWj"
   },
   "source": [
    "### vi. Create RFM Table\n",
    "Merge the recency, frequency and motetary dataframes"
   ]
  },
  {
   "cell_type": "code",
   "execution_count": null,
   "metadata": {
    "id": "M88KNSbyiqbB"
   },
   "outputs": [],
   "source": []
  },
  {
   "cell_type": "markdown",
   "metadata": {
    "id": "ULWwsxCkQGWl"
   },
   "source": [
    "# 3. Customer Segmentation with RFM Scores"
   ]
  },
  {
   "cell_type": "markdown",
   "metadata": {
    "id": "TZrxUBX4iqbB"
   },
   "source": [
    "Businesses have this ever-lasting urge to understand their customers. The better you understand the customer, the better you serve them, and the higher the financial gain you receive from that customer. Since the dawn of trade, this process of understanding customers for a strategic gain has been there practiced and this task is known majorly as [Customer Segmentation](https://clevertap.com/blog/rfm-analysis/).\n",
    "Well as the name suggests, Customer Segmentation could segment customers according to their precise needs. Some of the common ways of segmenting customers are based on their Recency-Frequency-Monatory values, their demographics like gender, region, country, etc, and some of their business-crafted scores. You will use Recency-Frequency-Monatory values for this case.\n",
    "\n",
    "In this section, you will create an RFM Segmentation Table where you segment your customers by using the RFM table. For example, you can label the best customer as \"Big Spenders\" and the lost customer as \"Lost Customer\"."
   ]
  },
  {
   "cell_type": "markdown",
   "metadata": {
    "id": "anOsOGpfQGWl"
   },
   "source": [
    "## Calculate RFM Scoring\n",
    "\n",
    "The simplest way to create customer segments from an RFM model is by using **Quartiles**. We will assign a score from 1 to 4 to each category (Recency, Frequency, and Monetary) with 4 being the highest/best value. The final RFM score is calculated by combining all RFM values. For Customer Segmentation, you will use the df_rfm data set resulting from the RFM analysis.\n",
    "<br>\n",
    "<br>\n",
    "**Note**: Data can be assigned into more groups for better granularity, but we will use 4 in this case."
   ]
  },
  {
   "cell_type": "markdown",
   "metadata": {
    "id": "WiwXSsP7iqbB"
   },
   "source": [
    "1. Divide the df_rfm into quarters"
   ]
  },
  {
   "cell_type": "code",
   "execution_count": null,
   "metadata": {
    "id": "mFQJGPYHiqbC"
   },
   "outputs": [],
   "source": []
  },
  {
   "cell_type": "markdown",
   "metadata": {
    "id": "KnkzCAf9QGWo"
   },
   "source": [
    "### i. Creating the RFM Segmentation Table\n"
   ]
  },
  {
   "cell_type": "markdown",
   "metadata": {
    "id": "hLIB-z-_iqbC"
   },
   "source": [
    "1. Create two functions, one for Recency and one for Frequency and Monetary. For Recency, customers in the first quarter should be scored as 4, this represents the highest Recency value. Conversely, for Frequency and Monetary, customers in the last quarter should be scored as 4, representing the highest Frequency and Monetary values."
   ]
  },
  {
   "cell_type": "code",
   "execution_count": null,
   "metadata": {
    "id": "SXnW03R8iqbC"
   },
   "outputs": [],
   "source": []
  },
  {
   "cell_type": "markdown",
   "metadata": {
    "id": "tLDK_XeLiqbC"
   },
   "source": [
    "2. Score customers from 1 to 4 by applying the functions you have created. Also create separate score column for each value. "
   ]
  },
  {
   "cell_type": "code",
   "execution_count": null,
   "metadata": {
    "id": "plReZMcQiqbC"
   },
   "outputs": [],
   "source": []
  },
  {
   "cell_type": "markdown",
   "metadata": {
    "id": "JskteCFdQGWq"
   },
   "source": [
    "3. Now that scored each customer, you'll combine the scores for segmentation."
   ]
  },
  {
   "cell_type": "code",
   "execution_count": null,
   "metadata": {
    "id": "ZYfoHF6QiqbC"
   },
   "outputs": [],
   "source": []
  },
  {
   "cell_type": "markdown",
   "metadata": {
    "id": "uWwWeyjPiqbC"
   },
   "source": [
    "4. Define rfm_level function that tags customers by using RFM_Scrores and Create a new variable RFM_Level"
   ]
  },
  {
   "cell_type": "code",
   "execution_count": null,
   "metadata": {
    "id": "mxXk7jFPiqbD"
   },
   "outputs": [],
   "source": []
  },
  {
   "cell_type": "markdown",
   "metadata": {
    "id": "Lq36PiX3iqbD"
   },
   "source": [
    "5. Calculate average values for each RFM_Level, and return a size of each segment "
   ]
  },
  {
   "cell_type": "code",
   "execution_count": null,
   "metadata": {
    "id": "jn5r5P2WiqbD"
   },
   "outputs": [],
   "source": []
  },
  {
   "cell_type": "markdown",
   "metadata": {
    "id": "tuZ5Olo4iqbD"
   },
   "source": [
    "## Plot RFM Segments"
   ]
  },
  {
   "cell_type": "markdown",
   "metadata": {
    "id": "STfELckwiqbD"
   },
   "source": [
    "1. Create your plot and resize it."
   ]
  },
  {
   "cell_type": "code",
   "execution_count": null,
   "metadata": {
    "id": "Oef37q3diqbD"
   },
   "outputs": [],
   "source": []
  },
  {
   "cell_type": "markdown",
   "metadata": {
    "id": "FhOe2bb6QGWu"
   },
   "source": [
    "Using customer segmentation categories found [here](http://www.blastam.com/blog/rfm-analysis-boosts-sales) we can formulate different marketing strategies and approaches for customer engagement for each type of customer.\n",
    "\n",
    "Note: The author in the article scores 1 as the highest and 4 as the lowest"
   ]
  },
  {
   "cell_type": "markdown",
   "metadata": {
    "id": "Te_6gUR5iqbD"
   },
   "source": [
    "2. How many customers do we have in each segment?"
   ]
  },
  {
   "cell_type": "code",
   "execution_count": null,
   "metadata": {
    "id": "Gs4rP-0viqbD"
   },
   "outputs": [],
   "source": []
  },
  {
   "cell_type": "markdown",
   "metadata": {
    "id": "1RwemvLyQGWv"
   },
   "source": [
    "# 3. Applying K-Means Clustering"
   ]
  },
  {
   "cell_type": "markdown",
   "metadata": {
    "id": "h6WZ0PnZQGWv"
   },
   "source": [
    "Now that we have our customers segmented into 6 different categories, we can gain further insight into customer behavior by using predictive models in conjuction with out RFM model.\n",
    "Possible algorithms include **Logistic Regression**, **K-means Clustering**, and **K-nearest Neighbor**. We will go with [K-Means](https://towardsdatascience.com/understanding-k-means-clustering-in-machine-learning-6a6e67336aa1) since we already have our distinct groups determined. K-means has also been widely used for market segmentation and has the advantage of being simple to implement."
   ]
  },
  {
   "cell_type": "markdown",
   "metadata": {
    "id": "IrWIRLkMiqbE"
   },
   "source": [
    "## Data Pre-Processing and Exploring"
   ]
  },
  {
   "cell_type": "code",
   "execution_count": null,
   "metadata": {
    "id": "cLoRGR6NiqbE"
   },
   "outputs": [],
   "source": []
  },
  {
   "cell_type": "markdown",
   "metadata": {
    "id": "-6SGV0xoQGWw"
   },
   "source": [
    "### i. Define and Plot Feature Correlations"
   ]
  },
  {
   "cell_type": "markdown",
   "metadata": {
    "id": "JpMAiWNBiqbE"
   },
   "source": [
    "Create Heatmap and evaluate the results "
   ]
  },
  {
   "cell_type": "code",
   "execution_count": null,
   "metadata": {
    "id": "I6Cv8_EqiqbE"
   },
   "outputs": [],
   "source": []
  },
  {
   "cell_type": "markdown",
   "metadata": {
    "id": "8WhL5MBEQGWy"
   },
   "source": [
    "### ii. Visualize Feature Distributions\n",
    "\n",
    "To get a better understanding of the dataset, you can costruct a scatter matrix of each of the three features in the RFM data."
   ]
  },
  {
   "cell_type": "code",
   "execution_count": null,
   "metadata": {
    "id": "FHE0Vb0KiqbE"
   },
   "outputs": [],
   "source": []
  },
  {
   "cell_type": "markdown",
   "metadata": {
    "id": "Q2RsjzjbQGWz"
   },
   "source": [
    "### iii. Data Normalization"
   ]
  },
  {
   "cell_type": "markdown",
   "metadata": {
    "id": "hXsrPpegiqbF"
   },
   "source": [
    "1. You can use the logarithm method to normalize the values in a column."
   ]
  },
  {
   "cell_type": "code",
   "execution_count": null,
   "metadata": {
    "id": "b-cBU8jxiqbF"
   },
   "outputs": [],
   "source": []
  },
  {
   "cell_type": "markdown",
   "metadata": {
    "id": "fC6dHnqKiqbF"
   },
   "source": [
    "2. Plot normalized data with scatter matrix or pairplot. Also evaluate results."
   ]
  },
  {
   "cell_type": "code",
   "execution_count": null,
   "metadata": {
    "id": "iB9jDUPriqbF"
   },
   "outputs": [],
   "source": []
  },
  {
   "cell_type": "markdown",
   "metadata": {
    "id": "35c0aDixQGW4"
   },
   "source": [
    "## K-Means Implementation\n",
    "\n",
    "For k-means, you have to set k to the number of clusters you want, but figuring out how many clusters is not obvious from the beginning. We will try different cluster numbers and check their [silhouette coefficient](http://scikit-learn.org/stable/auto_examples/cluster/plot_kmeans_silhouette_analysis.html). The silhouette coefficient for a data point measures how similar it is to its assigned cluster from -1 (dissimilar) to 1 (similar). \n",
    "<br>\n",
    "<br>\n",
    "**Note**: K-means is sensitive to initializations because they are critical to qualifty of optima found. Thus, we will use smart initialization called \"Elbow Method\"."
   ]
  },
  {
   "cell_type": "markdown",
   "metadata": {
    "id": "JloMSEeriqbF"
   },
   "source": [
    "### i. Define the Optimal Number of Clusters"
   ]
  },
  {
   "cell_type": "markdown",
   "metadata": {
    "id": "McFq6IWZt5hg"
   },
   "source": [
    "[The Elbow Method](https://en.wikipedia.org/wiki/Elbow_method_(clustering) "
   ]
  },
  {
   "cell_type": "code",
   "execution_count": null,
   "metadata": {
    "id": "2202eo2riqbF"
   },
   "outputs": [],
   "source": []
  },
  {
   "cell_type": "markdown",
   "metadata": {
    "id": "ACT_d0UpwUSC"
   },
   "source": [
    "[Silhouette Coefficient](http://scikit-learn.org/stable/auto_examples/cluster/plot_kmeans_silhouette_analysis.html)"
   ]
  },
  {
   "cell_type": "code",
   "execution_count": null,
   "metadata": {
    "id": "qS4TLbRniqbG"
   },
   "outputs": [],
   "source": []
  },
  {
   "cell_type": "markdown",
   "metadata": {
    "id": "o6dW2MWZiqbG"
   },
   "source": [
    "### ii. Model Fitting"
   ]
  },
  {
   "cell_type": "markdown",
   "metadata": {
    "id": "cXM5ksoPiqbG"
   },
   "source": [
    "Fit the K-Means Algorithm with the optimal number of clusters you decided and save the model to disk."
   ]
  },
  {
   "cell_type": "code",
   "execution_count": null,
   "metadata": {
    "id": "geMuViLniqbG"
   },
   "outputs": [],
   "source": []
  },
  {
   "cell_type": "markdown",
   "metadata": {
    "id": "GqcSwNZTQGW7"
   },
   "source": [
    "### iii. Visualize the Clusters"
   ]
  },
  {
   "cell_type": "markdown",
   "metadata": {
    "id": "Cfx5kzPriqbG"
   },
   "source": [
    "1. Create a scatter plot and select cluster centers"
   ]
  },
  {
   "cell_type": "code",
   "execution_count": null,
   "metadata": {
    "id": "cyrovJB0iqbH"
   },
   "outputs": [],
   "source": []
  },
  {
   "cell_type": "markdown",
   "metadata": {
    "id": "D4sHOvlniqbH"
   },
   "source": [
    "2. Visualize Cluster Id vs Recency, Cluster Id vs Frequency and Cluster Id vs Monetary using Box plot. Also evaluate the results. "
   ]
  },
  {
   "cell_type": "code",
   "execution_count": null,
   "metadata": {
    "id": "lzPl-LXViqbH"
   },
   "outputs": [],
   "source": []
  },
  {
   "cell_type": "markdown",
   "metadata": {
    "id": "yRyku5qJiqbH"
   },
   "source": [
    "### iv. Assign the Label"
   ]
  },
  {
   "cell_type": "code",
   "execution_count": null,
   "metadata": {
    "id": "gVrkisf9iqbH"
   },
   "outputs": [],
   "source": []
  },
  {
   "cell_type": "markdown",
   "metadata": {
    "id": "_DiG6sxS4gWH"
   },
   "source": [
    "**Conclusion**\n",
    "\n",
    "- Cluster 0 : The first cluster belongs to the \"Best Customers\" segment which we saw earlier as they purchase recently (R=4), frequent buyers (F=4), and spent the most (M=4)\n",
    "\n",
    "- Cluster 1 : Second cluster can be interpreted as passer customers as their last purchase is long ago (R<=1),purchased very few (F>=2 & F < 4) and spent little (M>=4 & M < 4).Company has to come up with new strategies to make them permanent members. Low value customers\n",
    "- Cluster 2 : The third cluster is more related to the \"Almost Lost\" segment as they Haven’t purchased for some time(R=1), but used to purchase frequently and spent a lot."
   ]
  },
  {
   "cell_type": "markdown",
   "metadata": {
    "id": "lf4OsPmSQGXA"
   },
   "source": [
    "### v. Conclusion\n",
    "\n",
    "Discuss your final results. Compare your own labels from the Customer Segmentation with the labels found by K-Means."
   ]
  },
  {
   "cell_type": "markdown",
   "metadata": {
    "id": "UFaHgoLoQGXA"
   },
   "source": [
    "How we want to continue this analysis depends on how the business plans to use the results and the level of granularity the business stakeholders want to see in the clusters. We can also ask what range of customer behavior from high to low value customers are the stakeholders interested in exploring. From those answers, various methods of clustering can be used and applied on RFM variable or directly on the transaction data set."
   ]
  },
  {
   "cell_type": "markdown",
   "metadata": {
    "id": "ysCkU1B-iqbI"
   },
   "source": [
    "**Annotation:**\n",
    "\n",
    "Limitations of K-means clustering:\n",
    "\n",
    "1. There is no assurance that it will lead to the global best solution.\n",
    "2. Can't deal with different shapes(not circular) and consider one point's probability of belonging to more than one cluster.\n",
    "\n",
    "These disadvantages of K-means show that for many datasets (especially low-dimensional datasets), it may not perform as well as you might hope."
   ]
  },
  {
   "cell_type": "markdown",
   "metadata": {
    "id": "xiPd_IbnQGVn"
   },
   "source": [
    "# 5. Create Cohort & Conduct Cohort Analysis\n",
    "[Cohort Analysis](https://medium.com/swlh/cohort-analysis-using-python-and-pandas-d2a60f4d0a4d) is specifically useful in analyzing user growth patterns for products. In terms of a product, a cohort can be a group of people with the same sign-up date, the same usage starts month/date, or the same traffic source.\n",
    "Cohort analysis is an analytics method by which these groups can be tracked over time for finding key insights. This analysis can further be used to do customer segmentation and track metrics like retention, churn, and lifetime value.\n",
    "\n",
    "For e-commerce organizations, cohort analysis is a unique opportunity to find out which clients are the most valuable to their business. by performing Cohort analysis you can get the following answers to the following questions:\n",
    "\n",
    "- How much effective was a marketing campaign held in a particular time period?\n",
    "- Did the strategy employ to improve the conversion rates of Customers worked?\n",
    "- Should I focus more on retention rather than acquiring new customers?\n",
    "- Are my customer nurturing strategies effective?\n",
    "- Which marketing channels bring me the best results?\n",
    "- Is there a seasonality pattern in Customer behavior?\n",
    "- Along with various performance measures/metrics for your organization."
   ]
  },
  {
   "cell_type": "markdown",
   "metadata": {
    "id": "xhiYivPrQGVo"
   },
   "source": [
    "Since we will be performing Cohort Analysis based on transaction records of customers, the columns we will be dealing with mainly:\n",
    "- Invoice Data\n",
    "- CustomerID\n",
    "- Price\n",
    "- Quantity\n",
    "\n",
    "The following steps will performed to generate the Cohort Chart of Retention Rate:\n",
    "- Month Extraction from InvioceDate column\n",
    "- Assigning Cohort to Each Transaction\n",
    "- Assigning Cohort Index to each transaction\n",
    "- Calculating number of unique customers in each Group of (ChortDate,Index)\n",
    "- Creating Cohort Table for Retention Rate\n",
    "- Creating the Cohort Chart using the Cohort Table\n",
    "\n",
    "The Detailed information about each step is given below:"
   ]
  },
  {
   "cell_type": "markdown",
   "metadata": {
    "id": "eo0GB_osiqbI"
   },
   "source": [
    "## Future Engineering"
   ]
  },
  {
   "cell_type": "markdown",
   "metadata": {
    "id": "JVwPNjpyQGVo"
   },
   "source": [
    "### i. Extract the Month of the Purchase\n",
    "First we will create a function, which takes any date and returns the formatted date with day value as 1st of the same month and Year."
   ]
  },
  {
   "cell_type": "code",
   "execution_count": null,
   "metadata": {
    "id": "lK1CqlNQiqbI"
   },
   "outputs": [],
   "source": []
  },
  {
   "cell_type": "markdown",
   "metadata": {
    "id": "NQKsM_9IQGVq"
   },
   "source": [
    "Now we will use the function created above to convert all the invoice dates into respective month date format."
   ]
  },
  {
   "cell_type": "code",
   "execution_count": null,
   "metadata": {
    "id": "DL17u0dniqbJ"
   },
   "outputs": [],
   "source": []
  },
  {
   "cell_type": "markdown",
   "metadata": {
    "id": "XPE7kTz2QGVs"
   },
   "source": [
    "### ii. Calculating time offset in Months i.e. Cohort Index:\n",
    "Calculating time offset for each transaction will allows us to report the metrics for each cohort in a comparable fashion.\n",
    "First, you will create 4 variables that capture the integer value of years, months for Invoice and Cohort Date using the get_date_int() function which you'll create it below."
   ]
  },
  {
   "cell_type": "code",
   "execution_count": null,
   "metadata": {
    "id": "1_3aYf4FiqbJ"
   },
   "outputs": [],
   "source": []
  },
  {
   "cell_type": "markdown",
   "metadata": {
    "id": "SGm1eweDQGVu"
   },
   "source": [
    "You will use this function to extract the integer values for Invoice as well as Cohort Date in 3 seperate series for each of the two columns"
   ]
  },
  {
   "cell_type": "code",
   "execution_count": null,
   "metadata": {
    "id": "2wF_ViD_iqbJ"
   },
   "outputs": [],
   "source": []
  },
  {
   "cell_type": "markdown",
   "metadata": {
    "id": "Z9jYVljviqbJ"
   },
   "source": [
    "Use the variables created above to calcualte the difference in days and store them in cohort Index column."
   ]
  },
  {
   "cell_type": "code",
   "execution_count": null,
   "metadata": {
    "id": "wVlAYCbEiqbJ"
   },
   "outputs": [],
   "source": []
  },
  {
   "cell_type": "markdown",
   "metadata": {
    "id": "W-t76CXSQGVw"
   },
   "source": [
    "## Create 1st Cohort: User number & Retention Rate"
   ]
  },
  {
   "cell_type": "markdown",
   "metadata": {
    "id": "bKvUWci9iqbJ"
   },
   "source": [
    "### i. Pivot Cohort and Cohort Retention"
   ]
  },
  {
   "cell_type": "code",
   "execution_count": null,
   "metadata": {
    "id": "U-8HzlZWiqbK"
   },
   "outputs": [],
   "source": []
  },
  {
   "cell_type": "markdown",
   "metadata": {
    "id": "63TIyBY6iqbK"
   },
   "source": [
    "### ii. Visualize analysis of cohort 1 using seaborn and matplotlib modules"
   ]
  },
  {
   "cell_type": "code",
   "execution_count": null,
   "metadata": {
    "id": "SY7mPvCAiqbK"
   },
   "outputs": [],
   "source": []
  },
  {
   "cell_type": "markdown",
   "metadata": {
    "id": "yORYolvqQGV0"
   },
   "source": [
    "## Create the 2nd Cohort: Average Quantity Sold"
   ]
  },
  {
   "cell_type": "markdown",
   "metadata": {
    "id": "Tu1hM3CFiqbK"
   },
   "source": [
    "### i. Pivot Cohort and Cohort Retention"
   ]
  },
  {
   "cell_type": "code",
   "execution_count": null,
   "metadata": {
    "id": "yQ8jlhPEiqbK"
   },
   "outputs": [],
   "source": []
  },
  {
   "cell_type": "markdown",
   "metadata": {
    "id": "F3PJHMS6iqbK"
   },
   "source": [
    "### ii. Visualize analysis of cohort 2 using seaborn and matplotlib modules"
   ]
  },
  {
   "cell_type": "code",
   "execution_count": null,
   "metadata": {
    "id": "9vuHi3wPiqbK"
   },
   "outputs": [],
   "source": []
  },
  {
   "cell_type": "markdown",
   "metadata": {
    "id": "UUoG5yUIQGV3"
   },
   "source": [
    "## Create the 3rd Cohort: Average Sales\n"
   ]
  },
  {
   "cell_type": "markdown",
   "metadata": {
    "id": "EKNS-mO5iqbL"
   },
   "source": [
    "### i. Pivot Cohort and Cohort Retention"
   ]
  },
  {
   "cell_type": "code",
   "execution_count": null,
   "metadata": {
    "id": "t2s-zyWeiqbL"
   },
   "outputs": [],
   "source": []
  },
  {
   "cell_type": "markdown",
   "metadata": {
    "id": "tRGOpeUPiqbL"
   },
   "source": [
    "### ii. Visualize analysis of cohort 3 using seaborn and matplotlib modules"
   ]
  },
  {
   "cell_type": "code",
   "execution_count": null,
   "metadata": {
    "id": "EYkkDncXiqbL"
   },
   "outputs": [],
   "source": []
  },
  {
   "cell_type": "markdown",
   "metadata": {
    "id": "uD9lu1ExQGV5"
   },
   "source": [
    "For e-commerce organisations, cohort analysis is a unique opportunity to find out which clients are the most valuable to their business. by performing Cohort analysis you can get answers to following questions:\n",
    "\n",
    "- How much effective was a marketing campaign held in a particular time period?\n",
    "- Did the strategy employed to improve the conversion rates of Customers worked?\n",
    "- Should I focus more on retention rather than acquiring new customers?\n",
    "- Are my customer nurturing strategies effective?\n",
    "- Which marketing channels bring me the best results?\n",
    "- Is there a seasoanlity pattern in Customer behahiour?"
   ]
  },
  {
   "cell_type": "markdown",
   "metadata": {
    "id": "ZX_Y6S36iqbL"
   },
   "source": [
    "___\n",
    "\n",
    "<p style=\"text-align: center;\"><img src=\"https://docs.google.com/uc?id=1lY0Uj5R04yMY3-ZppPWxqCr5pvBLYPnV\" class=\"img-fluid\" alt=\"CLRSWY\"></p>\n",
    "\n",
    "___"
   ]
  }
 ],
 "metadata": {
  "colab": {
   "collapsed_sections": [
    "lf4OsPmSQGXA"
   ],
   "name": "RFM - Customer Segmentation_Student_V3.ipynb",
   "provenance": [],
   "toc_visible": true
  },
  "kernelspec": {
   "display_name": "Python 3 (ipykernel)",
   "language": "python",
   "name": "python3"
  },
  "language_info": {
   "codemirror_mode": {
    "name": "ipython",
    "version": 3
   },
   "file_extension": ".py",
   "mimetype": "text/x-python",
   "name": "python",
   "nbconvert_exporter": "python",
   "pygments_lexer": "ipython3",
   "version": "3.9.7"
  }
 },
 "nbformat": 4,
 "nbformat_minor": 1
}
